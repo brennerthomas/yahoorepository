{
 "cells": [
  {
   "cell_type": "code",
   "execution_count": 74,
   "metadata": {},
   "outputs": [],
   "source": [
    "import pandas as pd, numpy as np\n",
    "#regular expression\n",
    "import re\n",
    "\n",
    "MAX_NB_WORDS = 200000\n",
    "MAX_SEQUENCE_LENGTH = 150"
   ]
  },
  {
   "cell_type": "code",
   "execution_count": 75,
   "metadata": {},
   "outputs": [],
   "source": [
    "#Load whole yahoo training dataset\n",
    "unprocessed_training_data = pd.read_csv(r'C:\\Users\\maximilian.weber\\OneDrive - Synpulse\\UserRoaming\\Desktop\\TextClassificationDatasets-20181112T073934Z-001\\TextClassificationDatasets\\yahoo_answers_csv\\train.csv', header=None)\n",
    "unprocessed_training_data.columns = ['labels','questions_1','questions_2', 'features']"
   ]
  },
  {
   "cell_type": "code",
   "execution_count": 76,
   "metadata": {},
   "outputs": [],
   "source": [
    "#Load whole yahoo testing dataset\n",
    "unprocessed_testing_data = pd.read_csv(r'C:\\Users\\maximilian.weber\\OneDrive - Synpulse\\UserRoaming\\Desktop\\TextClassificationDatasets-20181112T073934Z-001\\TextClassificationDatasets\\yahoo_answers_csv\\test.csv', header=None)\n",
    "unprocessed_testing_data.columns = ['labels','questions_1','questions_2', 'features']"
   ]
  },
  {
   "cell_type": "code",
   "execution_count": 77,
   "metadata": {},
   "outputs": [
    {
     "data": {
      "text/html": [
       "<div>\n",
       "<style scoped>\n",
       "    .dataframe tbody tr th:only-of-type {\n",
       "        vertical-align: middle;\n",
       "    }\n",
       "\n",
       "    .dataframe tbody tr th {\n",
       "        vertical-align: top;\n",
       "    }\n",
       "\n",
       "    .dataframe thead th {\n",
       "        text-align: right;\n",
       "    }\n",
       "</style>\n",
       "<table border=\"1\" class=\"dataframe\">\n",
       "  <thead>\n",
       "    <tr style=\"text-align: right;\">\n",
       "      <th></th>\n",
       "      <th>labels</th>\n",
       "      <th>questions_1</th>\n",
       "      <th>questions_2</th>\n",
       "      <th>features</th>\n",
       "    </tr>\n",
       "  </thead>\n",
       "  <tbody>\n",
       "    <tr>\n",
       "      <th>0</th>\n",
       "      <td>5</td>\n",
       "      <td>why doesn't an optical mouse work on a glass t...</td>\n",
       "      <td>or even on some surfaces?</td>\n",
       "      <td>Optical mice use an LED and a camera to rapidl...</td>\n",
       "    </tr>\n",
       "    <tr>\n",
       "      <th>1</th>\n",
       "      <td>6</td>\n",
       "      <td>What is the best off-road motorcycle trail ?</td>\n",
       "      <td>long-distance trail throughout CA</td>\n",
       "      <td>i hear that the mojave road is amazing!&lt;br /&gt;\\...</td>\n",
       "    </tr>\n",
       "    <tr>\n",
       "      <th>2</th>\n",
       "      <td>3</td>\n",
       "      <td>What is Trans Fat? How to reduce that?</td>\n",
       "      <td>I heard that tras fat is bad for the body.  Wh...</td>\n",
       "      <td>Trans fats occur in manufactured foods during ...</td>\n",
       "    </tr>\n",
       "    <tr>\n",
       "      <th>3</th>\n",
       "      <td>7</td>\n",
       "      <td>How many planes Fedex has?</td>\n",
       "      <td>I heard that it is the largest airline in the ...</td>\n",
       "      <td>according to the www.fedex.com web site:\\nAir ...</td>\n",
       "    </tr>\n",
       "    <tr>\n",
       "      <th>4</th>\n",
       "      <td>7</td>\n",
       "      <td>In the san francisco bay area, does it make se...</td>\n",
       "      <td>the prices of rent and the price of buying doe...</td>\n",
       "      <td>renting vs buying depends on your goals. &lt;br /...</td>\n",
       "    </tr>\n",
       "  </tbody>\n",
       "</table>\n",
       "</div>"
      ],
      "text/plain": [
       "   labels                                        questions_1  \\\n",
       "0       5  why doesn't an optical mouse work on a glass t...   \n",
       "1       6       What is the best off-road motorcycle trail ?   \n",
       "2       3             What is Trans Fat? How to reduce that?   \n",
       "3       7                         How many planes Fedex has?   \n",
       "4       7  In the san francisco bay area, does it make se...   \n",
       "\n",
       "                                         questions_2  \\\n",
       "0                          or even on some surfaces?   \n",
       "1                  long-distance trail throughout CA   \n",
       "2  I heard that tras fat is bad for the body.  Wh...   \n",
       "3  I heard that it is the largest airline in the ...   \n",
       "4  the prices of rent and the price of buying doe...   \n",
       "\n",
       "                                            features  \n",
       "0  Optical mice use an LED and a camera to rapidl...  \n",
       "1  i hear that the mojave road is amazing!<br />\\...  \n",
       "2  Trans fats occur in manufactured foods during ...  \n",
       "3  according to the www.fedex.com web site:\\nAir ...  \n",
       "4  renting vs buying depends on your goals. <br /...  "
      ]
     },
     "execution_count": 77,
     "metadata": {},
     "output_type": "execute_result"
    }
   ],
   "source": [
    "unprocessed_training_data.head()"
   ]
  },
  {
   "cell_type": "code",
   "execution_count": 78,
   "metadata": {},
   "outputs": [
    {
     "data": {
      "text/html": [
       "<div>\n",
       "<style scoped>\n",
       "    .dataframe tbody tr th:only-of-type {\n",
       "        vertical-align: middle;\n",
       "    }\n",
       "\n",
       "    .dataframe tbody tr th {\n",
       "        vertical-align: top;\n",
       "    }\n",
       "\n",
       "    .dataframe thead th {\n",
       "        text-align: right;\n",
       "    }\n",
       "</style>\n",
       "<table border=\"1\" class=\"dataframe\">\n",
       "  <thead>\n",
       "    <tr style=\"text-align: right;\">\n",
       "      <th></th>\n",
       "      <th>labels</th>\n",
       "      <th>questions_1</th>\n",
       "      <th>questions_2</th>\n",
       "      <th>features</th>\n",
       "    </tr>\n",
       "  </thead>\n",
       "  <tbody>\n",
       "    <tr>\n",
       "      <th>0</th>\n",
       "      <td>9</td>\n",
       "      <td>What makes friendship click?</td>\n",
       "      <td>How does the spark keep going?</td>\n",
       "      <td>good communication is what does it.  Can you m...</td>\n",
       "    </tr>\n",
       "    <tr>\n",
       "      <th>1</th>\n",
       "      <td>2</td>\n",
       "      <td>Why does Zebras have stripes?</td>\n",
       "      <td>What is the purpose or those stripes? Who do t...</td>\n",
       "      <td>this provides camouflage - predator vision is ...</td>\n",
       "    </tr>\n",
       "    <tr>\n",
       "      <th>2</th>\n",
       "      <td>4</td>\n",
       "      <td>What did the itsy bitsy sipder climb up?</td>\n",
       "      <td>NaN</td>\n",
       "      <td>waterspout</td>\n",
       "    </tr>\n",
       "    <tr>\n",
       "      <th>3</th>\n",
       "      <td>4</td>\n",
       "      <td>What is the difference between a Bachelors and...</td>\n",
       "      <td>NaN</td>\n",
       "      <td>One difference between a Bachelors and a Maste...</td>\n",
       "    </tr>\n",
       "    <tr>\n",
       "      <th>4</th>\n",
       "      <td>3</td>\n",
       "      <td>Why do women get PMS?</td>\n",
       "      <td>NaN</td>\n",
       "      <td>Premenstrual syndrome (PMS) is a group of symp...</td>\n",
       "    </tr>\n",
       "  </tbody>\n",
       "</table>\n",
       "</div>"
      ],
      "text/plain": [
       "   labels                                        questions_1  \\\n",
       "0       9                       What makes friendship click?   \n",
       "1       2                      Why does Zebras have stripes?   \n",
       "2       4           What did the itsy bitsy sipder climb up?   \n",
       "3       4  What is the difference between a Bachelors and...   \n",
       "4       3                              Why do women get PMS?   \n",
       "\n",
       "                                         questions_2  \\\n",
       "0                     How does the spark keep going?   \n",
       "1  What is the purpose or those stripes? Who do t...   \n",
       "2                                                NaN   \n",
       "3                                                NaN   \n",
       "4                                                NaN   \n",
       "\n",
       "                                            features  \n",
       "0  good communication is what does it.  Can you m...  \n",
       "1  this provides camouflage - predator vision is ...  \n",
       "2                                         waterspout  \n",
       "3  One difference between a Bachelors and a Maste...  \n",
       "4  Premenstrual syndrome (PMS) is a group of symp...  "
      ]
     },
     "execution_count": 78,
     "metadata": {},
     "output_type": "execute_result"
    }
   ],
   "source": [
    "unprocessed_testing_data.head()"
   ]
  },
  {
   "cell_type": "code",
   "execution_count": 79,
   "metadata": {},
   "outputs": [
    {
     "name": "stdout",
     "output_type": "stream",
     "text": [
      "1400000\n"
     ]
    }
   ],
   "source": [
    "print(len(unprocessed_training_data))"
   ]
  },
  {
   "cell_type": "code",
   "execution_count": 80,
   "metadata": {},
   "outputs": [
    {
     "name": "stdout",
     "output_type": "stream",
     "text": [
      "60000\n"
     ]
    }
   ],
   "source": [
    "print(len(unprocessed_testing_data))"
   ]
  },
  {
   "cell_type": "code",
   "execution_count": 81,
   "metadata": {},
   "outputs": [
    {
     "data": {
      "text/plain": [
       "labels              0\n",
       "questions_1         0\n",
       "questions_2    631675\n",
       "features        24579\n",
       "dtype: int64"
      ]
     },
     "execution_count": 81,
     "metadata": {},
     "output_type": "execute_result"
    }
   ],
   "source": [
    "unprocessed_training_data.isnull().sum()"
   ]
  },
  {
   "cell_type": "code",
   "execution_count": 82,
   "metadata": {},
   "outputs": [
    {
     "data": {
      "text/plain": [
       "labels             0\n",
       "questions_1        0\n",
       "questions_2    27106\n",
       "features        1034\n",
       "dtype: int64"
      ]
     },
     "execution_count": 82,
     "metadata": {},
     "output_type": "execute_result"
    }
   ],
   "source": [
    "unprocessed_testing_data.isnull().sum()"
   ]
  },
  {
   "cell_type": "code",
   "execution_count": 83,
   "metadata": {},
   "outputs": [],
   "source": [
    "del unprocessed_training_data['questions_1']\n",
    "del unprocessed_training_data['questions_2']"
   ]
  },
  {
   "cell_type": "code",
   "execution_count": 84,
   "metadata": {},
   "outputs": [],
   "source": [
    "del unprocessed_testing_data['questions_1']\n",
    "del unprocessed_testing_data['questions_2']"
   ]
  },
  {
   "cell_type": "code",
   "execution_count": 85,
   "metadata": {},
   "outputs": [
    {
     "data": {
      "text/html": [
       "<div>\n",
       "<style scoped>\n",
       "    .dataframe tbody tr th:only-of-type {\n",
       "        vertical-align: middle;\n",
       "    }\n",
       "\n",
       "    .dataframe tbody tr th {\n",
       "        vertical-align: top;\n",
       "    }\n",
       "\n",
       "    .dataframe thead th {\n",
       "        text-align: right;\n",
       "    }\n",
       "</style>\n",
       "<table border=\"1\" class=\"dataframe\">\n",
       "  <thead>\n",
       "    <tr style=\"text-align: right;\">\n",
       "      <th></th>\n",
       "      <th>labels</th>\n",
       "      <th>features</th>\n",
       "    </tr>\n",
       "  </thead>\n",
       "  <tbody>\n",
       "    <tr>\n",
       "      <th>0</th>\n",
       "      <td>5</td>\n",
       "      <td>Optical mice use an LED and a camera to rapidl...</td>\n",
       "    </tr>\n",
       "    <tr>\n",
       "      <th>1</th>\n",
       "      <td>6</td>\n",
       "      <td>i hear that the mojave road is amazing!&lt;br /&gt;\\...</td>\n",
       "    </tr>\n",
       "    <tr>\n",
       "      <th>2</th>\n",
       "      <td>3</td>\n",
       "      <td>Trans fats occur in manufactured foods during ...</td>\n",
       "    </tr>\n",
       "    <tr>\n",
       "      <th>3</th>\n",
       "      <td>7</td>\n",
       "      <td>according to the www.fedex.com web site:\\nAir ...</td>\n",
       "    </tr>\n",
       "    <tr>\n",
       "      <th>4</th>\n",
       "      <td>7</td>\n",
       "      <td>renting vs buying depends on your goals. &lt;br /...</td>\n",
       "    </tr>\n",
       "  </tbody>\n",
       "</table>\n",
       "</div>"
      ],
      "text/plain": [
       "   labels                                           features\n",
       "0       5  Optical mice use an LED and a camera to rapidl...\n",
       "1       6  i hear that the mojave road is amazing!<br />\\...\n",
       "2       3  Trans fats occur in manufactured foods during ...\n",
       "3       7  according to the www.fedex.com web site:\\nAir ...\n",
       "4       7  renting vs buying depends on your goals. <br /..."
      ]
     },
     "execution_count": 85,
     "metadata": {},
     "output_type": "execute_result"
    }
   ],
   "source": [
    "unprocessed_training_data.head()"
   ]
  },
  {
   "cell_type": "code",
   "execution_count": 86,
   "metadata": {},
   "outputs": [
    {
     "data": {
      "text/html": [
       "<div>\n",
       "<style scoped>\n",
       "    .dataframe tbody tr th:only-of-type {\n",
       "        vertical-align: middle;\n",
       "    }\n",
       "\n",
       "    .dataframe tbody tr th {\n",
       "        vertical-align: top;\n",
       "    }\n",
       "\n",
       "    .dataframe thead th {\n",
       "        text-align: right;\n",
       "    }\n",
       "</style>\n",
       "<table border=\"1\" class=\"dataframe\">\n",
       "  <thead>\n",
       "    <tr style=\"text-align: right;\">\n",
       "      <th></th>\n",
       "      <th>labels</th>\n",
       "      <th>features</th>\n",
       "    </tr>\n",
       "  </thead>\n",
       "  <tbody>\n",
       "    <tr>\n",
       "      <th>0</th>\n",
       "      <td>9</td>\n",
       "      <td>good communication is what does it.  Can you m...</td>\n",
       "    </tr>\n",
       "    <tr>\n",
       "      <th>1</th>\n",
       "      <td>2</td>\n",
       "      <td>this provides camouflage - predator vision is ...</td>\n",
       "    </tr>\n",
       "    <tr>\n",
       "      <th>2</th>\n",
       "      <td>4</td>\n",
       "      <td>waterspout</td>\n",
       "    </tr>\n",
       "    <tr>\n",
       "      <th>3</th>\n",
       "      <td>4</td>\n",
       "      <td>One difference between a Bachelors and a Maste...</td>\n",
       "    </tr>\n",
       "    <tr>\n",
       "      <th>4</th>\n",
       "      <td>3</td>\n",
       "      <td>Premenstrual syndrome (PMS) is a group of symp...</td>\n",
       "    </tr>\n",
       "  </tbody>\n",
       "</table>\n",
       "</div>"
      ],
      "text/plain": [
       "   labels                                           features\n",
       "0       9  good communication is what does it.  Can you m...\n",
       "1       2  this provides camouflage - predator vision is ...\n",
       "2       4                                         waterspout\n",
       "3       4  One difference between a Bachelors and a Maste...\n",
       "4       3  Premenstrual syndrome (PMS) is a group of symp..."
      ]
     },
     "execution_count": 86,
     "metadata": {},
     "output_type": "execute_result"
    }
   ],
   "source": [
    "unprocessed_testing_data.head()"
   ]
  },
  {
   "cell_type": "code",
   "execution_count": 87,
   "metadata": {},
   "outputs": [
    {
     "data": {
      "text/plain": [
       "labels      0\n",
       "features    0\n",
       "dtype: int64"
      ]
     },
     "execution_count": 87,
     "metadata": {},
     "output_type": "execute_result"
    }
   ],
   "source": [
    "processed_training_data = unprocessed_training_data.dropna()\n",
    "processed_training_data.isnull().sum()"
   ]
  },
  {
   "cell_type": "code",
   "execution_count": 88,
   "metadata": {},
   "outputs": [
    {
     "data": {
      "text/plain": [
       "labels      0\n",
       "features    0\n",
       "dtype: int64"
      ]
     },
     "execution_count": 88,
     "metadata": {},
     "output_type": "execute_result"
    }
   ],
   "source": [
    "processed_testing_data = unprocessed_testing_data.dropna()\n",
    "processed_testing_data.isnull().sum()"
   ]
  },
  {
   "cell_type": "code",
   "execution_count": 89,
   "metadata": {},
   "outputs": [
    {
     "name": "stdout",
     "output_type": "stream",
     "text": [
      "1375421\n"
     ]
    }
   ],
   "source": [
    "print(len(processed_training_data))"
   ]
  },
  {
   "cell_type": "code",
   "execution_count": 90,
   "metadata": {},
   "outputs": [
    {
     "name": "stdout",
     "output_type": "stream",
     "text": [
      "58966\n"
     ]
    }
   ],
   "source": [
    "print(len(processed_testing_data))"
   ]
  },
  {
   "cell_type": "code",
   "execution_count": 91,
   "metadata": {},
   "outputs": [],
   "source": [
    "#Get data content of training data with label 1-3\n",
    "training_data_label_1 = processed_training_data[processed_training_data[\"labels\"] == 1]\n",
    "training_data_label_2 = processed_training_data[processed_training_data[\"labels\"] == 2]\n",
    "training_data_label_3 = processed_training_data[processed_training_data[\"labels\"] == 3]"
   ]
  },
  {
   "cell_type": "code",
   "execution_count": 92,
   "metadata": {},
   "outputs": [],
   "source": [
    "##Get data content of testing data with label 1-3\n",
    "testing_data_label_1 = processed_testing_data[processed_testing_data['labels'] == 1]\n",
    "testing_data_label_2 = processed_testing_data[processed_testing_data['labels'] == 2]\n",
    "testing_data_label_3 = processed_testing_data[processed_testing_data['labels'] == 3]"
   ]
  },
  {
   "cell_type": "code",
   "execution_count": 93,
   "metadata": {},
   "outputs": [
    {
     "name": "stdout",
     "output_type": "stream",
     "text": [
      "138700\n",
      "139991\n",
      "136996\n"
     ]
    }
   ],
   "source": [
    "print(len(training_data_label_1))\n",
    "print(len(training_data_label_2))\n",
    "print(len(training_data_label_3))"
   ]
  },
  {
   "cell_type": "code",
   "execution_count": 94,
   "metadata": {},
   "outputs": [
    {
     "name": "stdout",
     "output_type": "stream",
     "text": [
      "5936\n",
      "5999\n",
      "5874\n"
     ]
    }
   ],
   "source": [
    "print(len(testing_data_label_1))\n",
    "print(len(testing_data_label_2))\n",
    "print(len(testing_data_label_3))"
   ]
  },
  {
   "cell_type": "code",
   "execution_count": 95,
   "metadata": {},
   "outputs": [],
   "source": [
    "#cut datasets with label 1-3 to size of 10'000\n",
    "training_data_label_1 = training_data_label_1[:50000]\n",
    "training_data_label_2 = training_data_label_2[:50000]\n",
    "training_data_label_3 = training_data_label_3[:50000]"
   ]
  },
  {
   "cell_type": "code",
   "execution_count": 96,
   "metadata": {},
   "outputs": [
    {
     "name": "stdout",
     "output_type": "stream",
     "text": [
      "50000\n",
      "50000\n",
      "50000\n"
     ]
    }
   ],
   "source": [
    "print(len(training_data_label_1))\n",
    "print(len(training_data_label_2))\n",
    "print(len(training_data_label_3))"
   ]
  },
  {
   "cell_type": "code",
   "execution_count": 97,
   "metadata": {},
   "outputs": [
    {
     "data": {
      "text/html": [
       "<div>\n",
       "<style scoped>\n",
       "    .dataframe tbody tr th:only-of-type {\n",
       "        vertical-align: middle;\n",
       "    }\n",
       "\n",
       "    .dataframe tbody tr th {\n",
       "        vertical-align: top;\n",
       "    }\n",
       "\n",
       "    .dataframe thead th {\n",
       "        text-align: right;\n",
       "    }\n",
       "</style>\n",
       "<table border=\"1\" class=\"dataframe\">\n",
       "  <thead>\n",
       "    <tr style=\"text-align: right;\">\n",
       "      <th></th>\n",
       "      <th>labels</th>\n",
       "      <th>features</th>\n",
       "    </tr>\n",
       "  </thead>\n",
       "  <tbody>\n",
       "    <tr>\n",
       "      <th>61</th>\n",
       "      <td>1</td>\n",
       "      <td>He selects it himself.</td>\n",
       "    </tr>\n",
       "    <tr>\n",
       "      <th>64</th>\n",
       "      <td>1</td>\n",
       "      <td>Al - Albert, Alfred, Alan&lt;br /&gt;\\nBob - Robert ...</td>\n",
       "    </tr>\n",
       "    <tr>\n",
       "      <th>66</th>\n",
       "      <td>1</td>\n",
       "      <td>There doesn't seem to be a consensus on this. ...</td>\n",
       "    </tr>\n",
       "    <tr>\n",
       "      <th>82</th>\n",
       "      <td>1</td>\n",
       "      <td>While historically the use of the semicolon an...</td>\n",
       "    </tr>\n",
       "    <tr>\n",
       "      <th>94</th>\n",
       "      <td>1</td>\n",
       "      <td>Fir trees. Their more expensive but it's reall...</td>\n",
       "    </tr>\n",
       "  </tbody>\n",
       "</table>\n",
       "</div>"
      ],
      "text/plain": [
       "    labels                                           features\n",
       "61       1                             He selects it himself.\n",
       "64       1  Al - Albert, Alfred, Alan<br />\\nBob - Robert ...\n",
       "66       1  There doesn't seem to be a consensus on this. ...\n",
       "82       1  While historically the use of the semicolon an...\n",
       "94       1  Fir trees. Their more expensive but it's reall..."
      ]
     },
     "execution_count": 97,
     "metadata": {},
     "output_type": "execute_result"
    }
   ],
   "source": [
    "training_data_label_1.head()"
   ]
  },
  {
   "cell_type": "code",
   "execution_count": 98,
   "metadata": {},
   "outputs": [],
   "source": [
    "#merge training training data label 1 with 2\n",
    "training_data_label_1_2 = training_data_label_1.append(training_data_label_2)"
   ]
  },
  {
   "cell_type": "code",
   "execution_count": 99,
   "metadata": {},
   "outputs": [],
   "source": [
    "#merge training data label 1 & 2 with 3\n",
    "training_data_label_1_2_3 = training_data_label_1_2.append(training_data_label_3)"
   ]
  },
  {
   "cell_type": "code",
   "execution_count": 100,
   "metadata": {},
   "outputs": [
    {
     "name": "stdout",
     "output_type": "stream",
     "text": [
      "150000\n"
     ]
    }
   ],
   "source": [
    "print(len(training_data_label_1_2_3))"
   ]
  },
  {
   "cell_type": "code",
   "execution_count": 101,
   "metadata": {},
   "outputs": [
    {
     "data": {
      "text/html": [
       "<div>\n",
       "<style scoped>\n",
       "    .dataframe tbody tr th:only-of-type {\n",
       "        vertical-align: middle;\n",
       "    }\n",
       "\n",
       "    .dataframe tbody tr th {\n",
       "        vertical-align: top;\n",
       "    }\n",
       "\n",
       "    .dataframe thead th {\n",
       "        text-align: right;\n",
       "    }\n",
       "</style>\n",
       "<table border=\"1\" class=\"dataframe\">\n",
       "  <thead>\n",
       "    <tr style=\"text-align: right;\">\n",
       "      <th></th>\n",
       "      <th>labels</th>\n",
       "      <th>features</th>\n",
       "    </tr>\n",
       "  </thead>\n",
       "  <tbody>\n",
       "    <tr>\n",
       "      <th>20</th>\n",
       "      <td>1</td>\n",
       "      <td>I think it goes back to the fact you have a pl...</td>\n",
       "    </tr>\n",
       "    <tr>\n",
       "      <th>29</th>\n",
       "      <td>1</td>\n",
       "      <td>Saturnalia\\n\\nhttp://en.wikipedia.org/wiki/Sat...</td>\n",
       "    </tr>\n",
       "    <tr>\n",
       "      <th>41</th>\n",
       "      <td>1</td>\n",
       "      <td>No.  there is no penetration and you neither s...</td>\n",
       "    </tr>\n",
       "    <tr>\n",
       "      <th>45</th>\n",
       "      <td>1</td>\n",
       "      <td>Kurds (kûrds, kʊrds) , a non-Arab Middle Easte...</td>\n",
       "    </tr>\n",
       "    <tr>\n",
       "      <th>52</th>\n",
       "      <td>1</td>\n",
       "      <td>As diverse as this country is there must be th...</td>\n",
       "    </tr>\n",
       "  </tbody>\n",
       "</table>\n",
       "</div>"
      ],
      "text/plain": [
       "    labels                                           features\n",
       "20       1  I think it goes back to the fact you have a pl...\n",
       "29       1  Saturnalia\\n\\nhttp://en.wikipedia.org/wiki/Sat...\n",
       "41       1  No.  there is no penetration and you neither s...\n",
       "45       1  Kurds (kûrds, kʊrds) , a non-Arab Middle Easte...\n",
       "52       1  As diverse as this country is there must be th..."
      ]
     },
     "execution_count": 101,
     "metadata": {},
     "output_type": "execute_result"
    }
   ],
   "source": [
    "testing_data_label_1.head()"
   ]
  },
  {
   "cell_type": "code",
   "execution_count": 102,
   "metadata": {},
   "outputs": [],
   "source": [
    "#merge testinig label data\n",
    "testing_data_label_1_2 = testing_data_label_1.append(testing_data_label_2)"
   ]
  },
  {
   "cell_type": "code",
   "execution_count": 103,
   "metadata": {},
   "outputs": [],
   "source": [
    "testing_data_label_1_2_3 = testing_data_label_1_2.append(testing_data_label_3)"
   ]
  },
  {
   "cell_type": "code",
   "execution_count": 104,
   "metadata": {},
   "outputs": [
    {
     "name": "stdout",
     "output_type": "stream",
     "text": [
      "17809\n"
     ]
    }
   ],
   "source": [
    "print(len(testing_data_label_1_2_3))"
   ]
  },
  {
   "cell_type": "code",
   "execution_count": 105,
   "metadata": {},
   "outputs": [],
   "source": [
    "#shuffle training data\n",
    "from sklearn.utils import shuffle\n",
    "shuffled_training_data = shuffle(training_data_label_1_2_3)"
   ]
  },
  {
   "cell_type": "code",
   "execution_count": 106,
   "metadata": {},
   "outputs": [],
   "source": [
    "#shuffle testing data\n",
    "shuffled_testing_data = shuffle(testing_data_label_1_2_3)"
   ]
  },
  {
   "cell_type": "code",
   "execution_count": 107,
   "metadata": {},
   "outputs": [],
   "source": [
    "#fill x_train with training sentences\n",
    "#fill y_train with corresponding labels\n",
    "x_train_unordered = shuffled_training_data['features']\n",
    "y_train_unordered = shuffled_training_data['labels']"
   ]
  },
  {
   "cell_type": "code",
   "execution_count": 108,
   "metadata": {},
   "outputs": [
    {
     "name": "stdout",
     "output_type": "stream",
     "text": [
      "150000\n",
      "150000\n"
     ]
    }
   ],
   "source": [
    "print(len(x_train_unordered))\n",
    "print(len(y_train_unordered))"
   ]
  },
  {
   "cell_type": "code",
   "execution_count": 109,
   "metadata": {},
   "outputs": [],
   "source": [
    "#fill x_test with testing sentences\n",
    "#fill y_test with corresponding labels (validation purpose)\n",
    "x_test_unordered = shuffled_testing_data['features']\n",
    "y_test_unordered = shuffled_testing_data['labels']"
   ]
  },
  {
   "cell_type": "code",
   "execution_count": 110,
   "metadata": {},
   "outputs": [
    {
     "name": "stdout",
     "output_type": "stream",
     "text": [
      "17809\n",
      "17809\n"
     ]
    }
   ],
   "source": [
    "print(len(x_test_unordered))\n",
    "print(len(y_test_unordered))"
   ]
  },
  {
   "cell_type": "code",
   "execution_count": 111,
   "metadata": {},
   "outputs": [],
   "source": [
    "x_train = []\n",
    "y_train = []\n",
    "for i in y_train_unordered:\n",
    "    y_train.append(i)\n",
    "    \n",
    "for i in x_train_unordered:\n",
    "    x_train.append(str(i))\n",
    "\n",
    "y_train = np.array(y_train).reshape(-1,1) #important for keras"
   ]
  },
  {
   "cell_type": "code",
   "execution_count": 112,
   "metadata": {},
   "outputs": [],
   "source": [
    "x_test = []\n",
    "y_test = []\n",
    "for i in y_test_unordered:\n",
    "    y_test.append(i)\n",
    "    \n",
    "for i in x_test_unordered:\n",
    "    x_test.append(i)"
   ]
  },
  {
   "cell_type": "code",
   "execution_count": 113,
   "metadata": {},
   "outputs": [
    {
     "name": "stdout",
     "output_type": "stream",
     "text": [
      "[nltk_data] Downloading package wordnet to\n",
      "[nltk_data]     C:\\Users\\maximilian.weber\\AppData\\Roaming\\nltk_data...\n",
      "[nltk_data]   Package wordnet is already up-to-date!\n"
     ]
    },
    {
     "data": {
      "text/plain": [
       "True"
      ]
     },
     "execution_count": 113,
     "metadata": {},
     "output_type": "execute_result"
    }
   ],
   "source": [
    "import nltk\n",
    "from nltk.stem import WordNetLemmatizer\n",
    "nltk.download('wordnet')"
   ]
  },
  {
   "cell_type": "code",
   "execution_count": 114,
   "metadata": {},
   "outputs": [],
   "source": [
    "from nltk.corpus import stopwords\n",
    "\n",
    "#convert into a list of words\n",
    "#remove unnecessary split into words, no hyphens\n",
    "def sentence_to_wordlist(raw):\n",
    "    \"\"\"\n",
    "    Receives a raw review and clean it using the following steps:\n",
    "    1. Remove all non-words\n",
    "    2. Transform the review in lower case\n",
    "    3. Remove all stop words\n",
    "    4. Perform stemming\n",
    "\n",
    "    Args:\n",
    "        review: the review that iwill be cleaned\n",
    "    Returns:\n",
    "        a clean review using the mentioned steps above.\n",
    "    \"\"\"\n",
    "    \n",
    "    clean = re.sub(\"[^A-Za-z0-9]\", \" \", str(raw))\n",
    "    clean = clean.lower()\n",
    "    review = re.compile(r'\\b(' + r'|'.join(stopwords.words('english')) + r')\\b\\s*')\n",
    "    clean = review.sub('', str(clean))\n",
    "    clean = clean.split()\n",
    "    \n",
    "    lemmatizer = WordNetLemmatizer()\n",
    "    clean = [lemmatizer.lemmatize(i, pos='v') for i in clean]\n",
    "    return clean"
   ]
  },
  {
   "cell_type": "code",
   "execution_count": 43,
   "metadata": {},
   "outputs": [
    {
     "name": "stderr",
     "output_type": "stream",
     "text": [
      "100%|██████████| 150000/150000 [03:08<00:00, 795.35it/s] \n"
     ]
    }
   ],
   "source": [
    "from tqdm import tqdm\n",
    "\n",
    "#split trainig sentences into words\n",
    "split_training_sentences = []\n",
    "for raw_sentence in tqdm(x_train):\n",
    "    split_training_sentences.append(sentence_to_wordlist(raw_sentence))"
   ]
  },
  {
   "cell_type": "code",
   "execution_count": 44,
   "metadata": {},
   "outputs": [
    {
     "name": "stdout",
     "output_type": "stream",
     "text": [
      "['use', 'get', 'dont', 'think', 'little', 'bleed', 'nail', 'due', 'slight', 'traumas']\n"
     ]
    }
   ],
   "source": [
    "print(split_training_sentences[132])"
   ]
  },
  {
   "cell_type": "code",
   "execution_count": 45,
   "metadata": {},
   "outputs": [
    {
     "name": "stderr",
     "output_type": "stream",
     "text": [
      "100%|██████████| 17809/17809 [00:24<00:00, 736.10it/s]\n"
     ]
    }
   ],
   "source": [
    "#split testing sententes into words\n",
    "split_testing_sentences = []\n",
    "for raw in tqdm(x_test):\n",
    "    split_testing_sentences.append(sentence_to_wordlist(raw))"
   ]
  },
  {
   "cell_type": "code",
   "execution_count": 46,
   "metadata": {
    "scrolled": true
   },
   "outputs": [
    {
     "name": "stdout",
     "output_type": "stream",
     "text": [
      "['course', 'different', 'ways', 'define', 'worst', 'could', 'property', 'damage', 'loss', 'life', 'powerful', 'focus', 'actual', 'origin', 'quake', 'powerful', 'epicenter', 'place', 'earth', 'directly', 'focus', 'n', 'nprior', 'recent', 'time', 'one', 'accurate', 'instrument', 'measure', 'energy', 'release', 'earthquake', 'one', 'keep', 'accurate', 'record', 'damage', 'longer', 'ago', 'earthquake', 'occur', 'less', 'develop', 'area', 'occur', 'less', 'know', 'information', 'regard', 'shock', 'duration', 'usually', 'available', 'n', 'ngood', 'source', 'information', 'n', 'nhttp', 'wwwneic', 'cr', 'usgs', 'gov', 'neis', 'eqlists', 'eqsmosde', 'html', 'nhttp', 'www', 'usgs', 'gov', 'click', 'earthquake', 'n', 'naccording', 'u', 'geological', 'survey', 'national', 'earthquake', 'information', 'center', 'n', 'nmost', 'destructive', 'know', 'earthquakes', 'record', 'world', 'n', '50', '000', 'deaths', 'n', 'list', 'order', 'greatest', 'number', 'deaths', 'n', 'n', 'ndate', 'location', 'deaths', 'mag', 'comment', 'n', 'njanuary', '23', '1556', 'china', 'shansi', '830', '000', 'n', 'noctober', '11', '1737', 'india', 'calcutta', '300', '000', 'n', 'njuly', '27', '1976', 'china', 'tangshan', '255', '000', '8', '0', 'n', 'naugust', '9', '1138', 'syria', 'aleppo', '230', '000', 'n', 'nmay', '22', '1927', 'china', 'near', 'xining', '200', '000', '8', '3', 'large', 'fracture', 'n', 'ndecember', '22', '856', 'iran', 'damghan', '200', '000', 'n', 'ndecember', '16', '1920', 'china', 'gansu', '200', '000', '8', '6', 'major', 'fracture', 'n', 'landslides', 'n', 'nmarch', '23', '893', 'iran', 'ardabil', '150', '000', 'n', 'nseptember', '1', '1923', 'japan', 'kwanto', '143', '000', '8', '3', 'great', 'tokyo', 'fire', 'n', 'noctober', '5', '1948', 'ussr', '110', '000', '7', '3', 'n', 'turkmenistan', 'ashgabat', 'n', 'ndecember', '28', '1908', 'italy', 'messina', '70', '000', '7', '5', 'deaths', 'n', '100', '000', 'earthquake', 'n', 'estimate', 'tsunami', 'n', 'nseptember', '1290', 'china', 'chihli', '100', '000', 'n', 'nnovember', '1667', 'caucasia', 'shemakha', '80', '000', 'n', 'nnovember', '18', '1727', 'iran', 'tabriz', '77', '000', 'n', 'nnovember', '1', '1755', 'portugal', 'lisbon', '70', '000', '8', '7', 'great', 'tsunami', 'n', 'ndecember', '25', '1932', 'china', 'gansu', '70', '000', '7', '6', 'n', 'nmay', '31', '1970', 'peru', '66', '000', '7', '8', '530', '000', 'damage', 'n', 'great', 'rock', 'slide', 'n', 'flood', 'n', 'n', '1268', 'asia', 'minor', 'silicia', '60', '000', 'n', 'njanuary', '11', '1693', 'italy', 'sicily', '60', '000', 'n', 'nmay', '30', '1935', 'pakistan', 'quetta', '30', '000', '7', '5', 'quetta', 'almost', 'n', '60', '000', 'completely', 'destroy', 'n', 'nfebruary', '4', '1783', 'italy', 'calabria', '50', '000', 'n', 'njune', '20', '1990', 'iran', '50', '000', '7', '7', 'landslides', 'n', 'n', 'official', 'casualty', 'figure', 'estimate', 'death', 'toll', 'high', '655', '000', 'n', 'note', 'date', 'prior', '1000', 'ad', 'digit', 'miss', 'n', 'later', 'research', 'show', 'typhoon', 'earthquake', 'n', 'source', '1737', 'calcutta', 'earthquake', 'cyclone', 'evaluate', 'nroger', 'bilham', 'bssa', 'vol', '84', '5', 'october', '1994', 'ndata', 'compile', 'several', 'source', 'nunited', 'state', 'geological', 'survey', 'nnational', 'earthquake', 'information', 'center']\n"
     ]
    }
   ],
   "source": [
    "print(split_testing_sentences[4])"
   ]
  },
  {
   "cell_type": "code",
   "execution_count": 72,
   "metadata": {},
   "outputs": [],
   "source": [
    "#text to numbers ordered by most used 1 to less used high number\n",
    "from keras.preprocessing.text import Tokenizer\n",
    "\n",
    "#allows to vectorize a text corpus, by turning each text into either a sequence of integers\n",
    "tokenizer = Tokenizer(num_words=MAX_NB_WORDS)\n",
    "tokenizer.fit_on_texts(split_training_sentences)\n",
    "\n",
    "tokenized_training_set = tokenizer.texts_to_sequences(split_training_sentences)\n",
    "tokenized_testing_set = tokenizer.texts_to_sequences(split_testing_sentences)\n",
    "vocab_size = len(tokenizer.word_index) + 1  # Adding 1 because of reserved 0 index"
   ]
  },
  {
   "cell_type": "code",
   "execution_count": 73,
   "metadata": {},
   "outputs": [],
   "source": [
    "import pickle\n",
    "\n",
    "# saving tokenizer\n",
    "with open('tokenizer.pickle', 'wb') as handle:\n",
    "    pickle.dump(tokenizer, handle, protocol=pickle.HIGHEST_PROTOCOL)"
   ]
  },
  {
   "cell_type": "code",
   "execution_count": 48,
   "metadata": {},
   "outputs": [],
   "source": [
    "#pad every sentence to the same sentence length\n",
    "from keras.preprocessing.sequence import pad_sequences \n",
    "\n",
    "maxlen = MAX_SEQUENCE_LENGTH\n",
    "\n",
    "padded_training_set = pad_sequences(tokenized_training_set, maxlen=maxlen)\n",
    "padded_testing_set = pad_sequences(tokenized_testing_set, maxlen=maxlen)"
   ]
  },
  {
   "cell_type": "code",
   "execution_count": 49,
   "metadata": {},
   "outputs": [
    {
     "name": "stdout",
     "output_type": "stream",
     "text": [
      "[    0     0     0     0     0     0     0     0     0     0     0     0\n",
      "     0     0     0     0     0     0     0     0     0     0     0     0\n",
      "     0     0     0     0     0     0     0     0     0     0     0     0\n",
      "     0     0     0     0     0     0     0     0     0     0     0     0\n",
      "     0     0     0     0     0     0     0     0     0     0     0     0\n",
      "     0     0     0     0     0     0     0     0     0     0     0     0\n",
      "     0     0     0     0     0     0     0     0     0     0     0     0\n",
      "     0     0     0     0     0     0     0     0     0     0     0     0\n",
      "     0     0     0     0     0     0     0     0     0     0     0     0\n",
      "     0     0     0     0     0     0     0     0     0     0     0     0\n",
      "     0     0     0     0     0     0     0     0     0     0     0    86\n",
      "    32    12    61  2104   108   912    24  1850 11937     1    66   234\n",
      "   317   634   348     2    37   910]\n"
     ]
    }
   ],
   "source": [
    "print(padded_training_set[4])"
   ]
  },
  {
   "cell_type": "code",
   "execution_count": 50,
   "metadata": {},
   "outputs": [],
   "source": [
    "def create_embedding_matrix(filepath, word_index, embedding_dim):\n",
    "    vocab_size = len(word_index) + 1  # Adding again 1 because of reserved 0 index\n",
    "    embedding_matrix = np.zeros((vocab_size, embedding_dim))\n",
    "\n",
    "    with open(filepath, encoding=\"utf8\") as f:\n",
    "        for line in f:\n",
    "            word, *vector = line.split()\n",
    "            if word in word_index:\n",
    "                idx = word_index[word] \n",
    "                embedding_matrix[idx] = np.array(\n",
    "                    vector, dtype=np.float32)[:embedding_dim]\n",
    "\n",
    "    return embedding_matrix"
   ]
  },
  {
   "cell_type": "code",
   "execution_count": 51,
   "metadata": {},
   "outputs": [],
   "source": [
    "embedding_dim = 50\n",
    "embedding_matrix = create_embedding_matrix(\n",
    "    r'C:\\Users\\maximilian.weber\\Downloads\\glove.6B\\glove.6B.50d.txt',\n",
    "    tokenizer.word_index, embedding_dim)"
   ]
  },
  {
   "cell_type": "code",
   "execution_count": 52,
   "metadata": {},
   "outputs": [],
   "source": [
    "#necessary if not binary\n",
    "from keras.utils.np_utils import to_categorical\n",
    "\n",
    "categorical_labels = to_categorical(y_train)"
   ]
  },
  {
   "cell_type": "code",
   "execution_count": 53,
   "metadata": {},
   "outputs": [
    {
     "name": "stdout",
     "output_type": "stream",
     "text": [
      "_________________________________________________________________\n",
      "Layer (type)                 Output Shape              Param #   \n",
      "=================================================================\n",
      "embedding_1 (Embedding)      (None, 150, 50)           8699450   \n",
      "_________________________________________________________________\n",
      "spatial_dropout1d_1 (Spatial (None, 150, 50)           0         \n",
      "_________________________________________________________________\n",
      "lstm_1 (LSTM)                (None, 196)               193648    \n",
      "_________________________________________________________________\n",
      "dense_1 (Dense)              (None, 4)                 788       \n",
      "=================================================================\n",
      "Total params: 8,893,886\n",
      "Trainable params: 8,893,886\n",
      "Non-trainable params: 0\n",
      "_________________________________________________________________\n"
     ]
    }
   ],
   "source": [
    "from keras.models import Sequential\n",
    "from keras import layers\n",
    "\n",
    "embedding_dim = 50\n",
    "\n",
    "model = Sequential()\n",
    "model.add(layers.Embedding(input_dim=vocab_size, \n",
    "                           output_dim=embedding_dim,\n",
    "                           weights=[embedding_matrix],\n",
    "                           input_length=maxlen, \n",
    "                           trainable=True))\n",
    "\n",
    "model.add(layers.SpatialDropout1D(0.5))\n",
    "model.add(layers.LSTM(196, dropout=0.2, recurrent_dropout=0.2))\n",
    "model.add(layers.Dense(4, activation='softmax'))\n",
    "model.compile(optimizer='adam',\n",
    "              loss='categorical_crossentropy',\n",
    "              metrics=['accuracy'])\n",
    "model.summary()"
   ]
  },
  {
   "cell_type": "code",
   "execution_count": 54,
   "metadata": {
    "scrolled": true
   },
   "outputs": [
    {
     "name": "stdout",
     "output_type": "stream",
     "text": [
      "Train on 135000 samples, validate on 15000 samples\n",
      "Epoch 1/3\n"
     ]
    },
    {
     "name": "stdout",
     "output_type": "stream",
     "text": [
      " 12928/135000 [=>............................] - ETA: 2:05:03 - loss: 1.3958 - acc: 0.20 - ETA: 1:12:47 - loss: 1.3564 - acc: 0.29 - ETA: 54:56 - loss: 1.3212 - acc: 0.3490 - ETA: 45:47 - loss: 1.3039 - acc: 0.35 - ETA: 40:12 - loss: 1.2778 - acc: 0.38 - ETA: 36:48 - loss: 1.2605 - acc: 0.38 - ETA: 38:41 - loss: 1.2395 - acc: 0.40 - ETA: 39:28 - loss: 1.2327 - acc: 0.40 - ETA: 38:16 - loss: 1.2145 - acc: 0.41 - ETA: 37:10 - loss: 1.1971 - acc: 0.43 - ETA: 36:08 - loss: 1.1859 - acc: 0.43 - ETA: 35:17 - loss: 1.1773 - acc: 0.44 - ETA: 34:43 - loss: 1.1652 - acc: 0.46 - ETA: 33:47 - loss: 1.1529 - acc: 0.46 - ETA: 32:48 - loss: 1.1409 - acc: 0.47 - ETA: 31:58 - loss: 1.1303 - acc: 0.48 - ETA: 31:12 - loss: 1.1234 - acc: 0.48 - ETA: 30:31 - loss: 1.1192 - acc: 0.48 - ETA: 29:55 - loss: 1.1133 - acc: 0.48 - ETA: 29:21 - loss: 1.1061 - acc: 0.48 - ETA: 28:51 - loss: 1.0981 - acc: 0.49 - ETA: 28:26 - loss: 1.0895 - acc: 0.49 - ETA: 28:13 - loss: 1.0842 - acc: 0.49 - ETA: 28:15 - loss: 1.0844 - acc: 0.49 - ETA: 28:01 - loss: 1.0782 - acc: 0.49 - ETA: 27:34 - loss: 1.0752 - acc: 0.50 - ETA: 27:10 - loss: 1.0708 - acc: 0.50 - ETA: 26:46 - loss: 1.0631 - acc: 0.50 - ETA: 26:40 - loss: 1.0594 - acc: 0.50 - ETA: 26:27 - loss: 1.0527 - acc: 0.51 - ETA: 26:17 - loss: 1.0446 - acc: 0.51 - ETA: 26:58 - loss: 1.0381 - acc: 0.51 - ETA: 27:17 - loss: 1.0331 - acc: 0.51 - ETA: 27:16 - loss: 1.0286 - acc: 0.52 - ETA: 27:13 - loss: 1.0275 - acc: 0.52 - ETA: 27:14 - loss: 1.0270 - acc: 0.52 - ETA: 27:32 - loss: 1.0216 - acc: 0.52 - ETA: 27:24 - loss: 1.0175 - acc: 0.52 - ETA: 27:13 - loss: 1.0115 - acc: 0.53 - ETA: 27:01 - loss: 1.0085 - acc: 0.53 - ETA: 26:46 - loss: 1.0026 - acc: 0.53 - ETA: 26:32 - loss: 0.9994 - acc: 0.53 - ETA: 26:18 - loss: 0.9952 - acc: 0.53 - ETA: 26:06 - loss: 0.9923 - acc: 0.54 - ETA: 25:55 - loss: 0.9868 - acc: 0.54 - ETA: 25:48 - loss: 0.9849 - acc: 0.54 - ETA: 25:42 - loss: 0.9816 - acc: 0.54 - ETA: 25:34 - loss: 0.9773 - acc: 0.54 - ETA: 25:22 - loss: 0.9737 - acc: 0.55 - ETA: 25:09 - loss: 0.9726 - acc: 0.55 - ETA: 25:09 - loss: 0.9700 - acc: 0.55 - ETA: 25:07 - loss: 0.9662 - acc: 0.55 - ETA: 24:56 - loss: 0.9668 - acc: 0.55 - ETA: 24:45 - loss: 0.9652 - acc: 0.55 - ETA: 24:36 - loss: 0.9620 - acc: 0.55 - ETA: 24:30 - loss: 0.9613 - acc: 0.55 - ETA: 24:27 - loss: 0.9565 - acc: 0.55 - ETA: 24:17 - loss: 0.9563 - acc: 0.55 - ETA: 24:08 - loss: 0.9544 - acc: 0.56 - ETA: 23:59 - loss: 0.9534 - acc: 0.56 - ETA: 23:50 - loss: 0.9523 - acc: 0.56 - ETA: 23:43 - loss: 0.9503 - acc: 0.56 - ETA: 23:36 - loss: 0.9489 - acc: 0.56 - ETA: 23:33 - loss: 0.9453 - acc: 0.56 - ETA: 23:27 - loss: 0.9418 - acc: 0.56 - ETA: 23:20 - loss: 0.9413 - acc: 0.56 - ETA: 23:13 - loss: 0.9413 - acc: 0.56 - ETA: 23:06 - loss: 0.9408 - acc: 0.56 - ETA: 22:59 - loss: 0.9385 - acc: 0.56 - ETA: 22:54 - loss: 0.9358 - acc: 0.56 - ETA: 22:49 - loss: 0.9361 - acc: 0.56 - ETA: 22:44 - loss: 0.9336 - acc: 0.56 - ETA: 22:39 - loss: 0.9311 - acc: 0.57 - ETA: 22:39 - loss: 0.9286 - acc: 0.57 - ETA: 22:39 - loss: 0.9275 - acc: 0.57 - ETA: 22:34 - loss: 0.9269 - acc: 0.57 - ETA: 22:29 - loss: 0.9260 - acc: 0.57 - ETA: 22:25 - loss: 0.9256 - acc: 0.57 - ETA: 22:29 - loss: 0.9246 - acc: 0.57 - ETA: 22:27 - loss: 0.9236 - acc: 0.57 - ETA: 22:24 - loss: 0.9230 - acc: 0.57 - ETA: 22:20 - loss: 0.9204 - acc: 0.57 - ETA: 22:16 - loss: 0.9185 - acc: 0.57 - ETA: 22:15 - loss: 0.9171 - acc: 0.57 - ETA: 22:12 - loss: 0.9138 - acc: 0.58 - ETA: 22:11 - loss: 0.9131 - acc: 0.58 - ETA: 22:08 - loss: 0.9129 - acc: 0.58 - ETA: 22:04 - loss: 0.9114 - acc: 0.58 - ETA: 22:00 - loss: 0.9121 - acc: 0.58 - ETA: 21:57 - loss: 0.9112 - acc: 0.58 - ETA: 21:53 - loss: 0.9095 - acc: 0.58 - ETA: 21:49 - loss: 0.9082 - acc: 0.58 - ETA: 21:46 - loss: 0.9083 - acc: 0.58 - ETA: 21:43 - loss: 0.9065 - acc: 0.58 - ETA: 21:39 - loss: 0.9063 - acc: 0.58 - ETA: 21:36 - loss: 0.9067 - acc: 0.58 - ETA: 21:32 - loss: 0.9057 - acc: 0.58 - ETA: 21:31 - loss: 0.9058 - acc: 0.58 - ETA: 21:29 - loss: 0.9060 - acc: 0.58 - ETA: 21:26 - loss: 0.9050 - acc: 0.58 - ETA: 21:22 - loss: 0.9035 - acc: 0.58 - ETA: 21:23 - loss: 0.9034 - acc: 0.58 - ETA: 21:24 - loss: 0.9017 - acc: 0.58 - ETA: 21:20 - loss: 0.8998 - acc: 0.58 - ETA: 21:17 - loss: 0.8988 - acc: 0.58 - ETA: 21:13 - loss: 0.8978 - acc: 0.58 - ETA: 21:09 - loss: 0.8986 - acc: 0.58 - ETA: 21:06 - loss: 0.8969 - acc: 0.58 - ETA: 21:02 - loss: 0.8950 - acc: 0.59 - ETA: 20:58 - loss: 0.8939 - acc: 0.59 - ETA: 20:55 - loss: 0.8918 - acc: 0.59 - ETA: 20:51 - loss: 0.8911 - acc: 0.59 - ETA: 20:48 - loss: 0.8914 - acc: 0.59 - ETA: 20:44 - loss: 0.8905 - acc: 0.59 - ETA: 20:41 - loss: 0.8894 - acc: 0.59 - ETA: 20:38 - loss: 0.8879 - acc: 0.59 - ETA: 20:34 - loss: 0.8870 - acc: 0.59 - ETA: 20:32 - loss: 0.8852 - acc: 0.59 - ETA: 20:29 - loss: 0.8835 - acc: 0.59 - ETA: 20:26 - loss: 0.8830 - acc: 0.59 - ETA: 20:22 - loss: 0.8816 - acc: 0.59 - ETA: 20:20 - loss: 0.8816 - acc: 0.59 - ETA: 20:17 - loss: 0.8793 - acc: 0.60 - ETA: 20:15 - loss: 0.8783 - acc: 0.60 - ETA: 20:13 - loss: 0.8779 - acc: 0.60 - ETA: 20:11 - loss: 0.8755 - acc: 0.60 - ETA: 20:08 - loss: 0.8755 - acc: 0.60 - ETA: 20:05 - loss: 0.8749 - acc: 0.60 - ETA: 20:03 - loss: 0.8739 - acc: 0.60 - ETA: 20:00 - loss: 0.8739 - acc: 0.60 - ETA: 19:58 - loss: 0.8722 - acc: 0.60 - ETA: 19:55 - loss: 0.8717 - acc: 0.60 - ETA: 19:52 - loss: 0.8715 - acc: 0.60 - ETA: 19:50 - loss: 0.8713 - acc: 0.60 - ETA: 19:47 - loss: 0.8710 - acc: 0.60 - ETA: 19:45 - loss: 0.8704 - acc: 0.60 - ETA: 19:42 - loss: 0.8697 - acc: 0.60 - ETA: 19:39 - loss: 0.8688 - acc: 0.60 - ETA: 19:37 - loss: 0.8683 - acc: 0.60 - ETA: 19:34 - loss: 0.8674 - acc: 0.60 - ETA: 19:32 - loss: 0.8668 - acc: 0.60 - ETA: 19:30 - loss: 0.8662 - acc: 0.60 - ETA: 19:27 - loss: 0.8666 - acc: 0.60 - ETA: 19:25 - loss: 0.8659 - acc: 0.60 - ETA: 19:23 - loss: 0.8652 - acc: 0.60 - ETA: 19:20 - loss: 0.8642 - acc: 0.60 - ETA: 19:20 - loss: 0.8634 - acc: 0.60 - ETA: 19:23 - loss: 0.8624 - acc: 0.60 - ETA: 19:21 - loss: 0.8621 - acc: 0.60 - ETA: 19:23 - loss: 0.8617 - acc: 0.60 - ETA: 19:22 - loss: 0.8598 - acc: 0.60 - ETA: 19:20 - loss: 0.8591 - acc: 0.61 - ETA: 19:19 - loss: 0.8581 - acc: 0.61 - ETA: 19:17 - loss: 0.8571 - acc: 0.61 - ETA: 19:15 - loss: 0.8565 - acc: 0.61 - ETA: 19:13 - loss: 0.8564 - acc: 0.61 - ETA: 19:14 - loss: 0.8556 - acc: 0.61 - ETA: 19:14 - loss: 0.8556 - acc: 0.61 - ETA: 19:13 - loss: 0.8550 - acc: 0.61 - ETA: 19:13 - loss: 0.8543 - acc: 0.61 - ETA: 19:12 - loss: 0.8533 - acc: 0.61 - ETA: 19:11 - loss: 0.8517 - acc: 0.61 - ETA: 19:09 - loss: 0.8510 - acc: 0.61 - ETA: 19:07 - loss: 0.8498 - acc: 0.61 - ETA: 19:05 - loss: 0.8500 - acc: 0.61 - ETA: 19:03 - loss: 0.8506 - acc: 0.61 - ETA: 19:01 - loss: 0.8502 - acc: 0.61 - ETA: 18:59 - loss: 0.8498 - acc: 0.61 - ETA: 18:57 - loss: 0.8491 - acc: 0.61 - ETA: 18:56 - loss: 0.8489 - acc: 0.61 - ETA: 18:54 - loss: 0.8491 - acc: 0.61 - ETA: 18:52 - loss: 0.8489 - acc: 0.61 - ETA: 18:50 - loss: 0.8481 - acc: 0.61 - ETA: 18:49 - loss: 0.8475 - acc: 0.61 - ETA: 18:51 - loss: 0.8472 - acc: 0.61 - ETA: 18:50 - loss: 0.8465 - acc: 0.61 - ETA: 18:49 - loss: 0.8461 - acc: 0.61 - ETA: 18:48 - loss: 0.8462 - acc: 0.61 - ETA: 18:46 - loss: 0.8458 - acc: 0.61 - ETA: 18:45 - loss: 0.8451 - acc: 0.61 - ETA: 18:44 - loss: 0.8456 - acc: 0.61 - ETA: 18:43 - loss: 0.8451 - acc: 0.61 - ETA: 18:41 - loss: 0.8448 - acc: 0.61 - ETA: 18:40 - loss: 0.8447 - acc: 0.61 - ETA: 18:39 - loss: 0.8440 - acc: 0.62 - ETA: 18:38 - loss: 0.8435 - acc: 0.62 - ETA: 18:37 - loss: 0.8427 - acc: 0.62 - ETA: 18:36 - loss: 0.8418 - acc: 0.62 - ETA: 18:35 - loss: 0.8415 - acc: 0.62 - ETA: 18:34 - loss: 0.8412 - acc: 0.62 - ETA: 18:33 - loss: 0.8419 - acc: 0.62 - ETA: 18:32 - loss: 0.8411 - acc: 0.62 - ETA: 18:31 - loss: 0.8412 - acc: 0.62 - ETA: 18:30 - loss: 0.8399 - acc: 0.62 - ETA: 18:29 - loss: 0.8396 - acc: 0.62 - ETA: 18:28 - loss: 0.8395 - acc: 0.62 - ETA: 18:27 - loss: 0.8396 - acc: 0.62 - ETA: 18:25 - loss: 0.8392 - acc: 0.62 - ETA: 18:24 - loss: 0.8382 - acc: 0.62 - ETA: 18:23 - loss: 0.8378 - acc: 0.62 - ETA: 18:22 - loss: 0.8372 - acc: 0.62 - ETA: 18:21 - loss: 0.8362 - acc: 0.6243\b\b\b\b\b\b\b\b\b\b\b\b\b\b\b\b\b\b\b\b\b\b\b\b\b\b\b\b\b\b\b\b\b\b\b\b\b\b\b\b\b\b\b\b\b\b\b\b\b\b\b\b\b\b\b\b\b\b\b\b\b\b\b\b\b\b\b\b\b\b\b\b\b\b\b\b\b\b\b\b\b\b\b\b\b\b\b\b"
     ]
    },
    {
     "name": "stdout",
     "output_type": "stream",
     "text": [
      " 25984/135000 [====>.........................] - ETA: 18:20 - loss: 0.8355 - acc: 0.62 - ETA: 18:19 - loss: 0.8344 - acc: 0.62 - ETA: 18:18 - loss: 0.8344 - acc: 0.62 - ETA: 18:17 - loss: 0.8345 - acc: 0.62 - ETA: 18:16 - loss: 0.8339 - acc: 0.62 - ETA: 18:15 - loss: 0.8335 - acc: 0.62 - ETA: 18:14 - loss: 0.8336 - acc: 0.62 - ETA: 18:13 - loss: 0.8332 - acc: 0.62 - ETA: 18:12 - loss: 0.8321 - acc: 0.62 - ETA: 18:11 - loss: 0.8317 - acc: 0.62 - ETA: 18:10 - loss: 0.8320 - acc: 0.62 - ETA: 18:09 - loss: 0.8320 - acc: 0.62 - ETA: 18:08 - loss: 0.8313 - acc: 0.62 - ETA: 18:07 - loss: 0.8311 - acc: 0.62 - ETA: 18:06 - loss: 0.8308 - acc: 0.62 - ETA: 18:05 - loss: 0.8305 - acc: 0.62 - ETA: 18:04 - loss: 0.8306 - acc: 0.62 - ETA: 18:03 - loss: 0.8300 - acc: 0.62 - ETA: 18:02 - loss: 0.8304 - acc: 0.62 - ETA: 18:01 - loss: 0.8300 - acc: 0.62 - ETA: 18:00 - loss: 0.8297 - acc: 0.62 - ETA: 17:59 - loss: 0.8293 - acc: 0.62 - ETA: 17:58 - loss: 0.8289 - acc: 0.62 - ETA: 17:57 - loss: 0.8284 - acc: 0.62 - ETA: 17:56 - loss: 0.8288 - acc: 0.62 - ETA: 17:55 - loss: 0.8284 - acc: 0.62 - ETA: 17:54 - loss: 0.8281 - acc: 0.62 - ETA: 17:53 - loss: 0.8274 - acc: 0.63 - ETA: 17:53 - loss: 0.8265 - acc: 0.63 - ETA: 17:52 - loss: 0.8261 - acc: 0.63 - ETA: 17:51 - loss: 0.8268 - acc: 0.63 - ETA: 17:50 - loss: 0.8264 - acc: 0.63 - ETA: 17:49 - loss: 0.8256 - acc: 0.63 - ETA: 17:48 - loss: 0.8250 - acc: 0.63 - ETA: 17:47 - loss: 0.8245 - acc: 0.63 - ETA: 17:46 - loss: 0.8245 - acc: 0.63 - ETA: 17:45 - loss: 0.8243 - acc: 0.63 - ETA: 17:44 - loss: 0.8236 - acc: 0.63 - ETA: 17:43 - loss: 0.8229 - acc: 0.63 - ETA: 17:42 - loss: 0.8229 - acc: 0.63 - ETA: 17:41 - loss: 0.8233 - acc: 0.63 - ETA: 17:40 - loss: 0.8235 - acc: 0.63 - ETA: 17:39 - loss: 0.8235 - acc: 0.63 - ETA: 17:38 - loss: 0.8223 - acc: 0.63 - ETA: 17:38 - loss: 0.8220 - acc: 0.63 - ETA: 17:37 - loss: 0.8227 - acc: 0.63 - ETA: 17:36 - loss: 0.8229 - acc: 0.63 - ETA: 17:35 - loss: 0.8229 - acc: 0.63 - ETA: 17:34 - loss: 0.8226 - acc: 0.63 - ETA: 17:33 - loss: 0.8225 - acc: 0.63 - ETA: 17:32 - loss: 0.8225 - acc: 0.63 - ETA: 17:32 - loss: 0.8219 - acc: 0.63 - ETA: 17:31 - loss: 0.8214 - acc: 0.63 - ETA: 17:30 - loss: 0.8211 - acc: 0.63 - ETA: 17:29 - loss: 0.8211 - acc: 0.63 - ETA: 17:28 - loss: 0.8209 - acc: 0.63 - ETA: 17:27 - loss: 0.8206 - acc: 0.63 - ETA: 17:26 - loss: 0.8202 - acc: 0.63 - ETA: 17:26 - loss: 0.8199 - acc: 0.63 - ETA: 17:25 - loss: 0.8200 - acc: 0.63 - ETA: 17:24 - loss: 0.8193 - acc: 0.63 - ETA: 17:23 - loss: 0.8198 - acc: 0.63 - ETA: 17:22 - loss: 0.8198 - acc: 0.63 - ETA: 17:21 - loss: 0.8199 - acc: 0.63 - ETA: 17:20 - loss: 0.8203 - acc: 0.63 - ETA: 17:19 - loss: 0.8201 - acc: 0.63 - ETA: 17:18 - loss: 0.8197 - acc: 0.63 - ETA: 17:18 - loss: 0.8191 - acc: 0.63 - ETA: 17:17 - loss: 0.8182 - acc: 0.63 - ETA: 17:16 - loss: 0.8178 - acc: 0.63 - ETA: 17:15 - loss: 0.8172 - acc: 0.63 - ETA: 17:15 - loss: 0.8166 - acc: 0.63 - ETA: 17:14 - loss: 0.8165 - acc: 0.63 - ETA: 17:13 - loss: 0.8164 - acc: 0.63 - ETA: 17:12 - loss: 0.8161 - acc: 0.63 - ETA: 17:12 - loss: 0.8161 - acc: 0.63 - ETA: 17:11 - loss: 0.8153 - acc: 0.63 - ETA: 17:10 - loss: 0.8147 - acc: 0.63 - ETA: 17:09 - loss: 0.8148 - acc: 0.63 - ETA: 17:09 - loss: 0.8141 - acc: 0.63 - ETA: 17:08 - loss: 0.8139 - acc: 0.63 - ETA: 17:07 - loss: 0.8132 - acc: 0.63 - ETA: 17:06 - loss: 0.8127 - acc: 0.63 - ETA: 17:06 - loss: 0.8124 - acc: 0.63 - ETA: 17:05 - loss: 0.8123 - acc: 0.63 - ETA: 17:04 - loss: 0.8121 - acc: 0.63 - ETA: 17:03 - loss: 0.8118 - acc: 0.63 - ETA: 17:02 - loss: 0.8116 - acc: 0.63 - ETA: 17:01 - loss: 0.8113 - acc: 0.63 - ETA: 17:00 - loss: 0.8110 - acc: 0.64 - ETA: 16:59 - loss: 0.8113 - acc: 0.63 - ETA: 16:58 - loss: 0.8113 - acc: 0.63 - ETA: 16:57 - loss: 0.8109 - acc: 0.64 - ETA: 16:56 - loss: 0.8108 - acc: 0.64 - ETA: 16:55 - loss: 0.8106 - acc: 0.64 - ETA: 16:55 - loss: 0.8101 - acc: 0.64 - ETA: 16:54 - loss: 0.8099 - acc: 0.64 - ETA: 16:53 - loss: 0.8090 - acc: 0.64 - ETA: 16:55 - loss: 0.8093 - acc: 0.64 - ETA: 16:57 - loss: 0.8087 - acc: 0.64 - ETA: 16:57 - loss: 0.8089 - acc: 0.64 - ETA: 16:58 - loss: 0.8087 - acc: 0.64 - ETA: 16:59 - loss: 0.8081 - acc: 0.64 - ETA: 16:58 - loss: 0.8076 - acc: 0.64 - ETA: 16:58 - loss: 0.8076 - acc: 0.64 - ETA: 16:57 - loss: 0.8072 - acc: 0.64 - ETA: 16:58 - loss: 0.8074 - acc: 0.64 - ETA: 17:01 - loss: 0.8070 - acc: 0.64 - ETA: 17:01 - loss: 0.8067 - acc: 0.64 - ETA: 17:01 - loss: 0.8065 - acc: 0.64 - ETA: 17:02 - loss: 0.8062 - acc: 0.64 - ETA: 17:01 - loss: 0.8054 - acc: 0.64 - ETA: 17:03 - loss: 0.8053 - acc: 0.64 - ETA: 17:04 - loss: 0.8049 - acc: 0.64 - ETA: 17:03 - loss: 0.8046 - acc: 0.64 - ETA: 17:02 - loss: 0.8043 - acc: 0.64 - ETA: 17:01 - loss: 0.8041 - acc: 0.64 - ETA: 17:02 - loss: 0.8041 - acc: 0.64 - ETA: 17:02 - loss: 0.8043 - acc: 0.64 - ETA: 17:02 - loss: 0.8040 - acc: 0.64 - ETA: 17:03 - loss: 0.8037 - acc: 0.64 - ETA: 17:02 - loss: 0.8029 - acc: 0.64 - ETA: 17:02 - loss: 0.8028 - acc: 0.64 - ETA: 17:02 - loss: 0.8019 - acc: 0.64 - ETA: 17:02 - loss: 0.8016 - acc: 0.64 - ETA: 17:01 - loss: 0.8017 - acc: 0.64 - ETA: 17:01 - loss: 0.8014 - acc: 0.64 - ETA: 17:02 - loss: 0.8012 - acc: 0.64 - ETA: 17:02 - loss: 0.8016 - acc: 0.64 - ETA: 17:03 - loss: 0.8011 - acc: 0.64 - ETA: 17:03 - loss: 0.8006 - acc: 0.64 - ETA: 17:04 - loss: 0.8004 - acc: 0.64 - ETA: 17:05 - loss: 0.7999 - acc: 0.64 - ETA: 17:06 - loss: 0.7994 - acc: 0.64 - ETA: 17:10 - loss: 0.7990 - acc: 0.64 - ETA: 17:11 - loss: 0.7985 - acc: 0.64 - ETA: 17:16 - loss: 0.7978 - acc: 0.64 - ETA: 17:19 - loss: 0.7976 - acc: 0.64 - ETA: 17:20 - loss: 0.7974 - acc: 0.64 - ETA: 17:23 - loss: 0.7971 - acc: 0.64 - ETA: 17:25 - loss: 0.7966 - acc: 0.64 - ETA: 17:26 - loss: 0.7971 - acc: 0.64 - ETA: 17:26 - loss: 0.7968 - acc: 0.64 - ETA: 17:28 - loss: 0.7974 - acc: 0.64 - ETA: 17:31 - loss: 0.7973 - acc: 0.64 - ETA: 17:32 - loss: 0.7971 - acc: 0.64 - ETA: 17:34 - loss: 0.7969 - acc: 0.64 - ETA: 17:35 - loss: 0.7967 - acc: 0.64 - ETA: 17:34 - loss: 0.7964 - acc: 0.64 - ETA: 17:35 - loss: 0.7958 - acc: 0.64 - ETA: 17:34 - loss: 0.7958 - acc: 0.64 - ETA: 17:36 - loss: 0.7957 - acc: 0.64 - ETA: 17:37 - loss: 0.7954 - acc: 0.64 - ETA: 17:35 - loss: 0.7952 - acc: 0.64 - ETA: 17:34 - loss: 0.7949 - acc: 0.64 - ETA: 17:33 - loss: 0.7951 - acc: 0.64 - ETA: 17:33 - loss: 0.7949 - acc: 0.64 - ETA: 17:31 - loss: 0.7948 - acc: 0.64 - ETA: 17:30 - loss: 0.7944 - acc: 0.64 - ETA: 17:29 - loss: 0.7942 - acc: 0.65 - ETA: 17:28 - loss: 0.7937 - acc: 0.65 - ETA: 17:27 - loss: 0.7933 - acc: 0.65 - ETA: 17:26 - loss: 0.7930 - acc: 0.65 - ETA: 17:25 - loss: 0.7924 - acc: 0.65 - ETA: 17:25 - loss: 0.7918 - acc: 0.65 - ETA: 17:25 - loss: 0.7917 - acc: 0.65 - ETA: 17:25 - loss: 0.7916 - acc: 0.65 - ETA: 17:25 - loss: 0.7915 - acc: 0.65 - ETA: 17:25 - loss: 0.7912 - acc: 0.65 - ETA: 17:24 - loss: 0.7905 - acc: 0.65 - ETA: 17:26 - loss: 0.7901 - acc: 0.65 - ETA: 17:26 - loss: 0.7898 - acc: 0.65 - ETA: 17:25 - loss: 0.7894 - acc: 0.65 - ETA: 17:26 - loss: 0.7891 - acc: 0.65 - ETA: 17:26 - loss: 0.7893 - acc: 0.65 - ETA: 17:25 - loss: 0.7887 - acc: 0.65 - ETA: 17:24 - loss: 0.7884 - acc: 0.65 - ETA: 17:24 - loss: 0.7884 - acc: 0.65 - ETA: 17:24 - loss: 0.7879 - acc: 0.65 - ETA: 17:23 - loss: 0.7877 - acc: 0.65 - ETA: 17:26 - loss: 0.7874 - acc: 0.65 - ETA: 17:26 - loss: 0.7869 - acc: 0.65 - ETA: 17:26 - loss: 0.7865 - acc: 0.65 - ETA: 17:26 - loss: 0.7865 - acc: 0.65 - ETA: 17:26 - loss: 0.7860 - acc: 0.65 - ETA: 17:25 - loss: 0.7855 - acc: 0.65 - ETA: 17:29 - loss: 0.7856 - acc: 0.65 - ETA: 17:28 - loss: 0.7855 - acc: 0.65 - ETA: 17:27 - loss: 0.7854 - acc: 0.65 - ETA: 17:28 - loss: 0.7855 - acc: 0.65 - ETA: 17:28 - loss: 0.7852 - acc: 0.65 - ETA: 17:27 - loss: 0.7846 - acc: 0.65 - ETA: 17:26 - loss: 0.7845 - acc: 0.65 - ETA: 17:26 - loss: 0.7844 - acc: 0.65 - ETA: 17:25 - loss: 0.7844 - acc: 0.65 - ETA: 17:24 - loss: 0.7838 - acc: 0.65 - ETA: 17:24 - loss: 0.7835 - acc: 0.65 - ETA: 17:23 - loss: 0.7836 - acc: 0.65 - ETA: 17:22 - loss: 0.7832 - acc: 0.65 - ETA: 17:22 - loss: 0.7828 - acc: 0.65 - ETA: 17:21 - loss: 0.7826 - acc: 0.65 - ETA: 17:20 - loss: 0.7824 - acc: 0.65 - ETA: 17:19 - loss: 0.7820 - acc: 0.65 - ETA: 17:19 - loss: 0.7818 - acc: 0.6568"
     ]
    },
    {
     "name": "stdout",
     "output_type": "stream",
     "text": [
      " 39040/135000 [=======>......................] - ETA: 17:18 - loss: 0.7821 - acc: 0.65 - ETA: 17:17 - loss: 0.7815 - acc: 0.65 - ETA: 17:17 - loss: 0.7811 - acc: 0.65 - ETA: 17:16 - loss: 0.7807 - acc: 0.65 - ETA: 17:15 - loss: 0.7806 - acc: 0.65 - ETA: 17:15 - loss: 0.7804 - acc: 0.65 - ETA: 17:14 - loss: 0.7803 - acc: 0.65 - ETA: 17:13 - loss: 0.7799 - acc: 0.65 - ETA: 17:12 - loss: 0.7801 - acc: 0.65 - ETA: 17:12 - loss: 0.7797 - acc: 0.65 - ETA: 17:11 - loss: 0.7795 - acc: 0.65 - ETA: 17:10 - loss: 0.7794 - acc: 0.65 - ETA: 17:09 - loss: 0.7794 - acc: 0.65 - ETA: 17:09 - loss: 0.7790 - acc: 0.65 - ETA: 17:08 - loss: 0.7788 - acc: 0.65 - ETA: 17:07 - loss: 0.7787 - acc: 0.65 - ETA: 17:06 - loss: 0.7784 - acc: 0.65 - ETA: 17:06 - loss: 0.7783 - acc: 0.65 - ETA: 17:05 - loss: 0.7779 - acc: 0.65 - ETA: 17:04 - loss: 0.7778 - acc: 0.65 - ETA: 17:03 - loss: 0.7775 - acc: 0.65 - ETA: 17:03 - loss: 0.7779 - acc: 0.65 - ETA: 17:02 - loss: 0.7779 - acc: 0.65 - ETA: 17:01 - loss: 0.7776 - acc: 0.65 - ETA: 17:00 - loss: 0.7772 - acc: 0.65 - ETA: 17:00 - loss: 0.7768 - acc: 0.65 - ETA: 16:59 - loss: 0.7767 - acc: 0.65 - ETA: 17:00 - loss: 0.7765 - acc: 0.65 - ETA: 17:00 - loss: 0.7762 - acc: 0.65 - ETA: 17:00 - loss: 0.7761 - acc: 0.66 - ETA: 16:59 - loss: 0.7760 - acc: 0.66 - ETA: 16:58 - loss: 0.7756 - acc: 0.66 - ETA: 16:58 - loss: 0.7756 - acc: 0.66 - ETA: 16:57 - loss: 0.7754 - acc: 0.66 - ETA: 16:57 - loss: 0.7753 - acc: 0.66 - ETA: 16:56 - loss: 0.7751 - acc: 0.66 - ETA: 16:56 - loss: 0.7748 - acc: 0.66 - ETA: 16:55 - loss: 0.7747 - acc: 0.66 - ETA: 16:54 - loss: 0.7744 - acc: 0.66 - ETA: 16:53 - loss: 0.7744 - acc: 0.66 - ETA: 16:52 - loss: 0.7742 - acc: 0.66 - ETA: 16:51 - loss: 0.7739 - acc: 0.66 - ETA: 16:49 - loss: 0.7739 - acc: 0.66 - ETA: 16:48 - loss: 0.7735 - acc: 0.66 - ETA: 16:48 - loss: 0.7738 - acc: 0.66 - ETA: 16:47 - loss: 0.7736 - acc: 0.66 - ETA: 16:46 - loss: 0.7739 - acc: 0.66 - ETA: 16:46 - loss: 0.7736 - acc: 0.66 - ETA: 16:45 - loss: 0.7734 - acc: 0.66 - ETA: 16:44 - loss: 0.7733 - acc: 0.66 - ETA: 16:43 - loss: 0.7730 - acc: 0.66 - ETA: 16:42 - loss: 0.7730 - acc: 0.66 - ETA: 16:41 - loss: 0.7728 - acc: 0.66 - ETA: 16:40 - loss: 0.7728 - acc: 0.66 - ETA: 16:39 - loss: 0.7727 - acc: 0.66 - ETA: 16:38 - loss: 0.7727 - acc: 0.66 - ETA: 16:37 - loss: 0.7725 - acc: 0.66 - ETA: 16:36 - loss: 0.7724 - acc: 0.66 - ETA: 16:35 - loss: 0.7721 - acc: 0.66 - ETA: 16:34 - loss: 0.7716 - acc: 0.66 - ETA: 16:33 - loss: 0.7715 - acc: 0.66 - ETA: 16:32 - loss: 0.7710 - acc: 0.66 - ETA: 16:31 - loss: 0.7708 - acc: 0.66 - ETA: 16:31 - loss: 0.7703 - acc: 0.66 - ETA: 16:30 - loss: 0.7698 - acc: 0.66 - ETA: 16:29 - loss: 0.7697 - acc: 0.66 - ETA: 16:28 - loss: 0.7695 - acc: 0.66 - ETA: 16:27 - loss: 0.7691 - acc: 0.66 - ETA: 16:26 - loss: 0.7693 - acc: 0.66 - ETA: 16:25 - loss: 0.7694 - acc: 0.66 - ETA: 16:24 - loss: 0.7692 - acc: 0.66 - ETA: 16:23 - loss: 0.7691 - acc: 0.66 - ETA: 16:22 - loss: 0.7687 - acc: 0.66 - ETA: 16:22 - loss: 0.7682 - acc: 0.66 - ETA: 16:21 - loss: 0.7681 - acc: 0.66 - ETA: 16:20 - loss: 0.7680 - acc: 0.66 - ETA: 16:19 - loss: 0.7678 - acc: 0.66 - ETA: 16:18 - loss: 0.7674 - acc: 0.66 - ETA: 16:17 - loss: 0.7673 - acc: 0.66 - ETA: 16:16 - loss: 0.7673 - acc: 0.66 - ETA: 16:15 - loss: 0.7670 - acc: 0.66 - ETA: 16:14 - loss: 0.7671 - acc: 0.66 - ETA: 16:13 - loss: 0.7670 - acc: 0.66 - ETA: 16:12 - loss: 0.7665 - acc: 0.66 - ETA: 16:12 - loss: 0.7666 - acc: 0.66 - ETA: 16:11 - loss: 0.7666 - acc: 0.66 - ETA: 16:10 - loss: 0.7666 - acc: 0.66 - ETA: 16:09 - loss: 0.7665 - acc: 0.66 - ETA: 16:08 - loss: 0.7663 - acc: 0.66 - ETA: 16:07 - loss: 0.7667 - acc: 0.66 - ETA: 16:06 - loss: 0.7665 - acc: 0.66 - ETA: 16:05 - loss: 0.7661 - acc: 0.66 - ETA: 16:04 - loss: 0.7659 - acc: 0.66 - ETA: 16:04 - loss: 0.7654 - acc: 0.66 - ETA: 16:03 - loss: 0.7651 - acc: 0.66 - ETA: 16:02 - loss: 0.7646 - acc: 0.66 - ETA: 16:01 - loss: 0.7647 - acc: 0.66 - ETA: 16:00 - loss: 0.7644 - acc: 0.66 - ETA: 15:59 - loss: 0.7641 - acc: 0.66 - ETA: 15:58 - loss: 0.7639 - acc: 0.66 - ETA: 15:57 - loss: 0.7638 - acc: 0.66 - ETA: 15:57 - loss: 0.7638 - acc: 0.66 - ETA: 15:56 - loss: 0.7635 - acc: 0.66 - ETA: 15:55 - loss: 0.7630 - acc: 0.66 - ETA: 15:54 - loss: 0.7628 - acc: 0.66 - ETA: 15:53 - loss: 0.7626 - acc: 0.66 - ETA: 15:53 - loss: 0.7624 - acc: 0.66 - ETA: 15:52 - loss: 0.7622 - acc: 0.66 - ETA: 15:51 - loss: 0.7621 - acc: 0.66 - ETA: 15:50 - loss: 0.7621 - acc: 0.66 - ETA: 15:49 - loss: 0.7618 - acc: 0.66 - ETA: 15:48 - loss: 0.7615 - acc: 0.66 - ETA: 15:47 - loss: 0.7616 - acc: 0.66 - ETA: 15:47 - loss: 0.7614 - acc: 0.66 - ETA: 15:46 - loss: 0.7613 - acc: 0.66 - ETA: 15:45 - loss: 0.7612 - acc: 0.66 - ETA: 15:44 - loss: 0.7611 - acc: 0.66 - ETA: 15:43 - loss: 0.7607 - acc: 0.66 - ETA: 15:42 - loss: 0.7607 - acc: 0.66 - ETA: 15:41 - loss: 0.7603 - acc: 0.66 - ETA: 15:40 - loss: 0.7600 - acc: 0.66 - ETA: 15:40 - loss: 0.7604 - acc: 0.66 - ETA: 15:39 - loss: 0.7603 - acc: 0.66 - ETA: 15:38 - loss: 0.7605 - acc: 0.66 - ETA: 15:37 - loss: 0.7606 - acc: 0.66 - ETA: 15:37 - loss: 0.7604 - acc: 0.66 - ETA: 15:36 - loss: 0.7606 - acc: 0.66 - ETA: 15:35 - loss: 0.7604 - acc: 0.66 - ETA: 15:34 - loss: 0.7600 - acc: 0.66 - ETA: 15:33 - loss: 0.7600 - acc: 0.66 - ETA: 15:32 - loss: 0.7599 - acc: 0.66 - ETA: 15:32 - loss: 0.7598 - acc: 0.66 - ETA: 15:31 - loss: 0.7595 - acc: 0.66 - ETA: 15:30 - loss: 0.7595 - acc: 0.66 - ETA: 15:29 - loss: 0.7593 - acc: 0.66 - ETA: 15:28 - loss: 0.7594 - acc: 0.66 - ETA: 15:28 - loss: 0.7591 - acc: 0.66 - ETA: 15:27 - loss: 0.7591 - acc: 0.66 - ETA: 15:26 - loss: 0.7590 - acc: 0.66 - ETA: 15:25 - loss: 0.7587 - acc: 0.66 - ETA: 15:24 - loss: 0.7586 - acc: 0.66 - ETA: 15:24 - loss: 0.7581 - acc: 0.66 - ETA: 15:23 - loss: 0.7581 - acc: 0.66 - ETA: 15:22 - loss: 0.7579 - acc: 0.66 - ETA: 15:21 - loss: 0.7577 - acc: 0.67 - ETA: 15:20 - loss: 0.7575 - acc: 0.67 - ETA: 15:20 - loss: 0.7573 - acc: 0.67 - ETA: 15:19 - loss: 0.7570 - acc: 0.67 - ETA: 15:18 - loss: 0.7565 - acc: 0.67 - ETA: 15:17 - loss: 0.7564 - acc: 0.67 - ETA: 15:16 - loss: 0.7563 - acc: 0.67 - ETA: 15:16 - loss: 0.7564 - acc: 0.67 - ETA: 15:15 - loss: 0.7561 - acc: 0.67 - ETA: 15:14 - loss: 0.7559 - acc: 0.67 - ETA: 15:13 - loss: 0.7556 - acc: 0.67 - ETA: 15:12 - loss: 0.7555 - acc: 0.67 - ETA: 15:12 - loss: 0.7557 - acc: 0.67 - ETA: 15:12 - loss: 0.7554 - acc: 0.67 - ETA: 15:12 - loss: 0.7551 - acc: 0.67 - ETA: 15:11 - loss: 0.7552 - acc: 0.67 - ETA: 15:11 - loss: 0.7548 - acc: 0.67 - ETA: 15:10 - loss: 0.7545 - acc: 0.67 - ETA: 15:09 - loss: 0.7543 - acc: 0.67 - ETA: 15:09 - loss: 0.7541 - acc: 0.67 - ETA: 15:08 - loss: 0.7544 - acc: 0.67 - ETA: 15:08 - loss: 0.7540 - acc: 0.67 - ETA: 15:09 - loss: 0.7541 - acc: 0.67 - ETA: 15:09 - loss: 0.7542 - acc: 0.67 - ETA: 15:10 - loss: 0.7538 - acc: 0.67 - ETA: 15:10 - loss: 0.7538 - acc: 0.67 - ETA: 15:09 - loss: 0.7536 - acc: 0.67 - ETA: 15:08 - loss: 0.7533 - acc: 0.67 - ETA: 15:08 - loss: 0.7532 - acc: 0.67 - ETA: 15:08 - loss: 0.7531 - acc: 0.67 - ETA: 15:07 - loss: 0.7530 - acc: 0.67 - ETA: 15:06 - loss: 0.7530 - acc: 0.67 - ETA: 15:06 - loss: 0.7530 - acc: 0.67 - ETA: 15:05 - loss: 0.7529 - acc: 0.67 - ETA: 15:04 - loss: 0.7527 - acc: 0.67 - ETA: 15:03 - loss: 0.7526 - acc: 0.67 - ETA: 15:03 - loss: 0.7522 - acc: 0.67 - ETA: 15:02 - loss: 0.7520 - acc: 0.67 - ETA: 15:01 - loss: 0.7518 - acc: 0.67 - ETA: 15:00 - loss: 0.7515 - acc: 0.67 - ETA: 14:59 - loss: 0.7515 - acc: 0.67 - ETA: 14:58 - loss: 0.7514 - acc: 0.67 - ETA: 14:58 - loss: 0.7515 - acc: 0.67 - ETA: 14:57 - loss: 0.7513 - acc: 0.67 - ETA: 14:56 - loss: 0.7511 - acc: 0.67 - ETA: 14:56 - loss: 0.7509 - acc: 0.67 - ETA: 14:55 - loss: 0.7504 - acc: 0.67 - ETA: 14:55 - loss: 0.7502 - acc: 0.67 - ETA: 14:55 - loss: 0.7501 - acc: 0.67 - ETA: 14:54 - loss: 0.7499 - acc: 0.67 - ETA: 14:54 - loss: 0.7496 - acc: 0.67 - ETA: 14:53 - loss: 0.7495 - acc: 0.67 - ETA: 14:53 - loss: 0.7495 - acc: 0.67 - ETA: 14:52 - loss: 0.7491 - acc: 0.67 - ETA: 14:51 - loss: 0.7490 - acc: 0.67 - ETA: 14:51 - loss: 0.7488 - acc: 0.67 - ETA: 14:50 - loss: 0.7487 - acc: 0.67 - ETA: 14:49 - loss: 0.7484 - acc: 0.67 - ETA: 14:49 - loss: 0.7481 - acc: 0.67 - ETA: 14:48 - loss: 0.7478 - acc: 0.6750"
     ]
    },
    {
     "name": "stdout",
     "output_type": "stream",
     "text": [
      " 52096/135000 [==========>...................] - ETA: 14:48 - loss: 0.7477 - acc: 0.67 - ETA: 14:48 - loss: 0.7475 - acc: 0.67 - ETA: 14:47 - loss: 0.7472 - acc: 0.67 - ETA: 14:46 - loss: 0.7469 - acc: 0.67 - ETA: 14:46 - loss: 0.7466 - acc: 0.67 - ETA: 14:45 - loss: 0.7465 - acc: 0.67 - ETA: 14:45 - loss: 0.7462 - acc: 0.67 - ETA: 14:44 - loss: 0.7459 - acc: 0.67 - ETA: 14:43 - loss: 0.7460 - acc: 0.67 - ETA: 14:42 - loss: 0.7459 - acc: 0.67 - ETA: 14:42 - loss: 0.7455 - acc: 0.67 - ETA: 14:41 - loss: 0.7454 - acc: 0.67 - ETA: 14:40 - loss: 0.7451 - acc: 0.67 - ETA: 14:39 - loss: 0.7448 - acc: 0.67 - ETA: 14:39 - loss: 0.7449 - acc: 0.67 - ETA: 14:38 - loss: 0.7446 - acc: 0.67 - ETA: 14:38 - loss: 0.7445 - acc: 0.67 - ETA: 14:38 - loss: 0.7445 - acc: 0.67 - ETA: 14:37 - loss: 0.7445 - acc: 0.67 - ETA: 14:37 - loss: 0.7442 - acc: 0.67 - ETA: 14:37 - loss: 0.7440 - acc: 0.67 - ETA: 14:37 - loss: 0.7437 - acc: 0.67 - ETA: 14:37 - loss: 0.7437 - acc: 0.67 - ETA: 14:37 - loss: 0.7436 - acc: 0.67 - ETA: 14:36 - loss: 0.7434 - acc: 0.67 - ETA: 14:35 - loss: 0.7432 - acc: 0.67 - ETA: 14:35 - loss: 0.7434 - acc: 0.67 - ETA: 14:34 - loss: 0.7433 - acc: 0.67 - ETA: 14:33 - loss: 0.7431 - acc: 0.67 - ETA: 14:33 - loss: 0.7427 - acc: 0.67 - ETA: 14:32 - loss: 0.7428 - acc: 0.67 - ETA: 14:31 - loss: 0.7430 - acc: 0.67 - ETA: 14:30 - loss: 0.7429 - acc: 0.67 - ETA: 14:30 - loss: 0.7431 - acc: 0.67 - ETA: 14:29 - loss: 0.7430 - acc: 0.67 - ETA: 14:30 - loss: 0.7427 - acc: 0.67 - ETA: 14:29 - loss: 0.7426 - acc: 0.67 - ETA: 14:29 - loss: 0.7427 - acc: 0.67 - ETA: 14:28 - loss: 0.7428 - acc: 0.67 - ETA: 14:29 - loss: 0.7428 - acc: 0.67 - ETA: 14:29 - loss: 0.7425 - acc: 0.67 - ETA: 14:29 - loss: 0.7422 - acc: 0.67 - ETA: 14:28 - loss: 0.7418 - acc: 0.67 - ETA: 14:27 - loss: 0.7417 - acc: 0.67 - ETA: 14:26 - loss: 0.7415 - acc: 0.67 - ETA: 14:26 - loss: 0.7414 - acc: 0.67 - ETA: 14:25 - loss: 0.7413 - acc: 0.67 - ETA: 14:24 - loss: 0.7412 - acc: 0.67 - ETA: 14:23 - loss: 0.7411 - acc: 0.67 - ETA: 14:23 - loss: 0.7409 - acc: 0.67 - ETA: 14:22 - loss: 0.7408 - acc: 0.67 - ETA: 14:21 - loss: 0.7407 - acc: 0.67 - ETA: 14:21 - loss: 0.7406 - acc: 0.67 - ETA: 14:21 - loss: 0.7407 - acc: 0.67 - ETA: 14:21 - loss: 0.7407 - acc: 0.67 - ETA: 14:21 - loss: 0.7406 - acc: 0.67 - ETA: 14:21 - loss: 0.7405 - acc: 0.67 - ETA: 14:21 - loss: 0.7403 - acc: 0.67 - ETA: 14:20 - loss: 0.7399 - acc: 0.67 - ETA: 14:20 - loss: 0.7398 - acc: 0.67 - ETA: 14:19 - loss: 0.7395 - acc: 0.67 - ETA: 14:19 - loss: 0.7396 - acc: 0.67 - ETA: 14:19 - loss: 0.7393 - acc: 0.67 - ETA: 14:18 - loss: 0.7389 - acc: 0.67 - ETA: 14:17 - loss: 0.7389 - acc: 0.67 - ETA: 14:16 - loss: 0.7388 - acc: 0.67 - ETA: 14:16 - loss: 0.7386 - acc: 0.67 - ETA: 14:15 - loss: 0.7384 - acc: 0.67 - ETA: 14:15 - loss: 0.7384 - acc: 0.67 - ETA: 14:14 - loss: 0.7384 - acc: 0.67 - ETA: 14:14 - loss: 0.7381 - acc: 0.67 - ETA: 14:13 - loss: 0.7382 - acc: 0.67 - ETA: 14:12 - loss: 0.7381 - acc: 0.67 - ETA: 14:12 - loss: 0.7383 - acc: 0.67 - ETA: 14:11 - loss: 0.7382 - acc: 0.67 - ETA: 14:11 - loss: 0.7381 - acc: 0.67 - ETA: 14:10 - loss: 0.7377 - acc: 0.67 - ETA: 14:09 - loss: 0.7376 - acc: 0.67 - ETA: 14:09 - loss: 0.7375 - acc: 0.67 - ETA: 14:09 - loss: 0.7374 - acc: 0.67 - ETA: 14:09 - loss: 0.7372 - acc: 0.67 - ETA: 14:08 - loss: 0.7370 - acc: 0.68 - ETA: 14:09 - loss: 0.7369 - acc: 0.68 - ETA: 14:09 - loss: 0.7366 - acc: 0.68 - ETA: 14:08 - loss: 0.7366 - acc: 0.68 - ETA: 14:09 - loss: 0.7365 - acc: 0.68 - ETA: 14:08 - loss: 0.7364 - acc: 0.68 - ETA: 14:08 - loss: 0.7363 - acc: 0.68 - ETA: 14:07 - loss: 0.7361 - acc: 0.68 - ETA: 14:07 - loss: 0.7361 - acc: 0.68 - ETA: 14:06 - loss: 0.7361 - acc: 0.68 - ETA: 14:06 - loss: 0.7358 - acc: 0.68 - ETA: 14:05 - loss: 0.7355 - acc: 0.68 - ETA: 14:04 - loss: 0.7352 - acc: 0.68 - ETA: 14:04 - loss: 0.7351 - acc: 0.68 - ETA: 14:03 - loss: 0.7349 - acc: 0.68 - ETA: 14:02 - loss: 0.7348 - acc: 0.68 - ETA: 14:02 - loss: 0.7347 - acc: 0.68 - ETA: 14:01 - loss: 0.7346 - acc: 0.68 - ETA: 14:00 - loss: 0.7342 - acc: 0.68 - ETA: 14:00 - loss: 0.7342 - acc: 0.68 - ETA: 13:59 - loss: 0.7343 - acc: 0.68 - ETA: 13:59 - loss: 0.7342 - acc: 0.68 - ETA: 13:58 - loss: 0.7342 - acc: 0.68 - ETA: 13:57 - loss: 0.7342 - acc: 0.68 - ETA: 13:57 - loss: 0.7343 - acc: 0.68 - ETA: 13:56 - loss: 0.7342 - acc: 0.68 - ETA: 13:55 - loss: 0.7339 - acc: 0.68 - ETA: 13:55 - loss: 0.7339 - acc: 0.68 - ETA: 13:54 - loss: 0.7338 - acc: 0.68 - ETA: 13:53 - loss: 0.7339 - acc: 0.68 - ETA: 13:53 - loss: 0.7340 - acc: 0.68 - ETA: 13:52 - loss: 0.7337 - acc: 0.68 - ETA: 13:52 - loss: 0.7335 - acc: 0.68 - ETA: 13:51 - loss: 0.7332 - acc: 0.68 - ETA: 13:51 - loss: 0.7330 - acc: 0.68 - ETA: 13:50 - loss: 0.7329 - acc: 0.68 - ETA: 13:50 - loss: 0.7327 - acc: 0.68 - ETA: 13:49 - loss: 0.7327 - acc: 0.68 - ETA: 13:48 - loss: 0.7326 - acc: 0.68 - ETA: 13:48 - loss: 0.7326 - acc: 0.68 - ETA: 13:47 - loss: 0.7325 - acc: 0.68 - ETA: 13:47 - loss: 0.7326 - acc: 0.68 - ETA: 13:46 - loss: 0.7326 - acc: 0.68 - ETA: 13:45 - loss: 0.7326 - acc: 0.68 - ETA: 13:45 - loss: 0.7324 - acc: 0.68 - ETA: 13:46 - loss: 0.7322 - acc: 0.68 - ETA: 13:47 - loss: 0.7321 - acc: 0.68 - ETA: 13:46 - loss: 0.7322 - acc: 0.68 - ETA: 13:46 - loss: 0.7321 - acc: 0.68 - ETA: 13:45 - loss: 0.7318 - acc: 0.68 - ETA: 13:44 - loss: 0.7317 - acc: 0.68 - ETA: 13:44 - loss: 0.7316 - acc: 0.68 - ETA: 13:43 - loss: 0.7314 - acc: 0.68 - ETA: 13:43 - loss: 0.7313 - acc: 0.68 - ETA: 13:42 - loss: 0.7312 - acc: 0.68 - ETA: 13:41 - loss: 0.7312 - acc: 0.68 - ETA: 13:41 - loss: 0.7311 - acc: 0.68 - ETA: 13:40 - loss: 0.7310 - acc: 0.68 - ETA: 13:39 - loss: 0.7309 - acc: 0.68 - ETA: 13:39 - loss: 0.7310 - acc: 0.68 - ETA: 13:38 - loss: 0.7307 - acc: 0.68 - ETA: 13:38 - loss: 0.7307 - acc: 0.68 - ETA: 13:39 - loss: 0.7305 - acc: 0.68 - ETA: 13:38 - loss: 0.7302 - acc: 0.68 - ETA: 13:38 - loss: 0.7300 - acc: 0.68 - ETA: 13:37 - loss: 0.7297 - acc: 0.68 - ETA: 13:36 - loss: 0.7296 - acc: 0.68 - ETA: 13:35 - loss: 0.7294 - acc: 0.68 - ETA: 13:34 - loss: 0.7293 - acc: 0.68 - ETA: 13:34 - loss: 0.7292 - acc: 0.68 - ETA: 13:33 - loss: 0.7289 - acc: 0.68 - ETA: 13:32 - loss: 0.7287 - acc: 0.68 - ETA: 13:31 - loss: 0.7284 - acc: 0.68 - ETA: 13:31 - loss: 0.7284 - acc: 0.68 - ETA: 13:30 - loss: 0.7285 - acc: 0.68 - ETA: 13:29 - loss: 0.7281 - acc: 0.68 - ETA: 13:29 - loss: 0.7279 - acc: 0.68 - ETA: 13:29 - loss: 0.7280 - acc: 0.68 - ETA: 13:28 - loss: 0.7276 - acc: 0.68 - ETA: 13:27 - loss: 0.7275 - acc: 0.68 - ETA: 13:27 - loss: 0.7274 - acc: 0.68 - ETA: 13:26 - loss: 0.7272 - acc: 0.68 - ETA: 13:26 - loss: 0.7271 - acc: 0.68 - ETA: 13:25 - loss: 0.7271 - acc: 0.68 - ETA: 13:25 - loss: 0.7268 - acc: 0.68 - ETA: 13:24 - loss: 0.7267 - acc: 0.68 - ETA: 13:23 - loss: 0.7266 - acc: 0.68 - ETA: 13:23 - loss: 0.7264 - acc: 0.68 - ETA: 13:22 - loss: 0.7265 - acc: 0.68 - ETA: 13:22 - loss: 0.7265 - acc: 0.68 - ETA: 13:21 - loss: 0.7265 - acc: 0.68 - ETA: 13:21 - loss: 0.7264 - acc: 0.68 - ETA: 13:21 - loss: 0.7262 - acc: 0.68 - ETA: 13:21 - loss: 0.7260 - acc: 0.68 - ETA: 13:22 - loss: 0.7260 - acc: 0.68 - ETA: 13:21 - loss: 0.7257 - acc: 0.68 - ETA: 13:21 - loss: 0.7255 - acc: 0.68 - ETA: 13:20 - loss: 0.7255 - acc: 0.68 - ETA: 13:19 - loss: 0.7254 - acc: 0.68 - ETA: 13:18 - loss: 0.7253 - acc: 0.68 - ETA: 13:17 - loss: 0.7250 - acc: 0.68 - ETA: 13:17 - loss: 0.7248 - acc: 0.68 - ETA: 13:16 - loss: 0.7245 - acc: 0.68 - ETA: 13:15 - loss: 0.7244 - acc: 0.68 - ETA: 13:14 - loss: 0.7242 - acc: 0.68 - ETA: 13:14 - loss: 0.7242 - acc: 0.68 - ETA: 13:14 - loss: 0.7241 - acc: 0.68 - ETA: 13:13 - loss: 0.7240 - acc: 0.68 - ETA: 13:12 - loss: 0.7240 - acc: 0.68 - ETA: 13:11 - loss: 0.7237 - acc: 0.68 - ETA: 13:11 - loss: 0.7237 - acc: 0.68 - ETA: 13:10 - loss: 0.7238 - acc: 0.68 - ETA: 13:09 - loss: 0.7235 - acc: 0.68 - ETA: 13:09 - loss: 0.7233 - acc: 0.68 - ETA: 13:08 - loss: 0.7230 - acc: 0.68 - ETA: 13:07 - loss: 0.7228 - acc: 0.68 - ETA: 13:07 - loss: 0.7227 - acc: 0.68 - ETA: 13:06 - loss: 0.7227 - acc: 0.68 - ETA: 13:05 - loss: 0.7225 - acc: 0.68 - ETA: 13:04 - loss: 0.7226 - acc: 0.68 - ETA: 13:04 - loss: 0.7227 - acc: 0.68 - ETA: 13:04 - loss: 0.7227 - acc: 0.68 - ETA: 13:03 - loss: 0.7225 - acc: 0.6875"
     ]
    },
    {
     "name": "stdout",
     "output_type": "stream",
     "text": [
      " 65152/135000 [=============>................] - ETA: 13:02 - loss: 0.7223 - acc: 0.68 - ETA: 13:02 - loss: 0.7222 - acc: 0.68 - ETA: 13:01 - loss: 0.7220 - acc: 0.68 - ETA: 13:00 - loss: 0.7217 - acc: 0.68 - ETA: 12:59 - loss: 0.7216 - acc: 0.68 - ETA: 12:58 - loss: 0.7214 - acc: 0.68 - ETA: 12:58 - loss: 0.7212 - acc: 0.68 - ETA: 12:57 - loss: 0.7210 - acc: 0.68 - ETA: 12:56 - loss: 0.7207 - acc: 0.68 - ETA: 12:55 - loss: 0.7204 - acc: 0.68 - ETA: 12:55 - loss: 0.7202 - acc: 0.68 - ETA: 12:54 - loss: 0.7201 - acc: 0.68 - ETA: 12:53 - loss: 0.7200 - acc: 0.68 - ETA: 12:52 - loss: 0.7197 - acc: 0.68 - ETA: 12:52 - loss: 0.7195 - acc: 0.68 - ETA: 12:51 - loss: 0.7197 - acc: 0.68 - ETA: 12:50 - loss: 0.7195 - acc: 0.68 - ETA: 12:49 - loss: 0.7193 - acc: 0.68 - ETA: 12:49 - loss: 0.7193 - acc: 0.68 - ETA: 12:48 - loss: 0.7192 - acc: 0.68 - ETA: 12:47 - loss: 0.7192 - acc: 0.68 - ETA: 12:46 - loss: 0.7191 - acc: 0.68 - ETA: 12:45 - loss: 0.7192 - acc: 0.68 - ETA: 12:45 - loss: 0.7193 - acc: 0.68 - ETA: 12:44 - loss: 0.7192 - acc: 0.68 - ETA: 12:43 - loss: 0.7192 - acc: 0.68 - ETA: 12:42 - loss: 0.7190 - acc: 0.68 - ETA: 12:42 - loss: 0.7189 - acc: 0.68 - ETA: 12:41 - loss: 0.7188 - acc: 0.68 - ETA: 12:40 - loss: 0.7186 - acc: 0.68 - ETA: 12:40 - loss: 0.7187 - acc: 0.68 - ETA: 12:39 - loss: 0.7186 - acc: 0.68 - ETA: 12:38 - loss: 0.7183 - acc: 0.68 - ETA: 12:37 - loss: 0.7183 - acc: 0.68 - ETA: 12:37 - loss: 0.7182 - acc: 0.68 - ETA: 12:36 - loss: 0.7181 - acc: 0.68 - ETA: 12:36 - loss: 0.7181 - acc: 0.68 - ETA: 12:35 - loss: 0.7178 - acc: 0.68 - ETA: 12:35 - loss: 0.7176 - acc: 0.68 - ETA: 12:34 - loss: 0.7176 - acc: 0.68 - ETA: 12:33 - loss: 0.7173 - acc: 0.68 - ETA: 12:33 - loss: 0.7173 - acc: 0.68 - ETA: 12:32 - loss: 0.7171 - acc: 0.68 - ETA: 12:31 - loss: 0.7171 - acc: 0.68 - ETA: 12:31 - loss: 0.7171 - acc: 0.68 - ETA: 12:30 - loss: 0.7170 - acc: 0.69 - ETA: 12:30 - loss: 0.7167 - acc: 0.69 - ETA: 12:29 - loss: 0.7165 - acc: 0.69 - ETA: 12:28 - loss: 0.7164 - acc: 0.69 - ETA: 12:27 - loss: 0.7164 - acc: 0.69 - ETA: 12:26 - loss: 0.7162 - acc: 0.69 - ETA: 12:26 - loss: 0.7161 - acc: 0.69 - ETA: 12:25 - loss: 0.7162 - acc: 0.69 - ETA: 12:24 - loss: 0.7160 - acc: 0.69 - ETA: 12:23 - loss: 0.7159 - acc: 0.69 - ETA: 12:22 - loss: 0.7159 - acc: 0.69 - ETA: 12:22 - loss: 0.7159 - acc: 0.69 - ETA: 12:21 - loss: 0.7156 - acc: 0.69 - ETA: 12:20 - loss: 0.7155 - acc: 0.69 - ETA: 12:19 - loss: 0.7155 - acc: 0.69 - ETA: 12:19 - loss: 0.7154 - acc: 0.69 - ETA: 12:18 - loss: 0.7152 - acc: 0.69 - ETA: 12:17 - loss: 0.7151 - acc: 0.69 - ETA: 12:17 - loss: 0.7150 - acc: 0.69 - ETA: 12:16 - loss: 0.7149 - acc: 0.69 - ETA: 12:15 - loss: 0.7150 - acc: 0.69 - ETA: 12:14 - loss: 0.7149 - acc: 0.69 - ETA: 12:14 - loss: 0.7147 - acc: 0.69 - ETA: 12:13 - loss: 0.7144 - acc: 0.69 - ETA: 12:12 - loss: 0.7144 - acc: 0.69 - ETA: 12:11 - loss: 0.7145 - acc: 0.69 - ETA: 12:10 - loss: 0.7144 - acc: 0.69 - ETA: 12:10 - loss: 0.7141 - acc: 0.69 - ETA: 12:09 - loss: 0.7140 - acc: 0.69 - ETA: 12:08 - loss: 0.7139 - acc: 0.69 - ETA: 12:07 - loss: 0.7138 - acc: 0.69 - ETA: 12:07 - loss: 0.7137 - acc: 0.69 - ETA: 12:06 - loss: 0.7135 - acc: 0.69 - ETA: 12:05 - loss: 0.7136 - acc: 0.69 - ETA: 12:04 - loss: 0.7136 - acc: 0.69 - ETA: 12:04 - loss: 0.7135 - acc: 0.69 - ETA: 12:03 - loss: 0.7135 - acc: 0.69 - ETA: 12:02 - loss: 0.7134 - acc: 0.69 - ETA: 12:01 - loss: 0.7133 - acc: 0.69 - ETA: 12:00 - loss: 0.7133 - acc: 0.69 - ETA: 12:00 - loss: 0.7133 - acc: 0.69 - ETA: 11:59 - loss: 0.7133 - acc: 0.69 - ETA: 11:58 - loss: 0.7132 - acc: 0.69 - ETA: 11:57 - loss: 0.7131 - acc: 0.69 - ETA: 11:57 - loss: 0.7128 - acc: 0.69 - ETA: 11:56 - loss: 0.7126 - acc: 0.69 - ETA: 11:55 - loss: 0.7126 - acc: 0.69 - ETA: 11:54 - loss: 0.7125 - acc: 0.69 - ETA: 11:54 - loss: 0.7124 - acc: 0.69 - ETA: 11:53 - loss: 0.7123 - acc: 0.69 - ETA: 11:52 - loss: 0.7124 - acc: 0.69 - ETA: 11:51 - loss: 0.7124 - acc: 0.69 - ETA: 11:51 - loss: 0.7123 - acc: 0.69 - ETA: 11:50 - loss: 0.7121 - acc: 0.69 - ETA: 11:49 - loss: 0.7122 - acc: 0.69 - ETA: 11:48 - loss: 0.7122 - acc: 0.69 - ETA: 11:48 - loss: 0.7121 - acc: 0.69 - ETA: 11:47 - loss: 0.7120 - acc: 0.69 - ETA: 11:46 - loss: 0.7119 - acc: 0.69 - ETA: 11:46 - loss: 0.7119 - acc: 0.69 - ETA: 11:45 - loss: 0.7119 - acc: 0.69 - ETA: 11:45 - loss: 0.7119 - acc: 0.69 - ETA: 11:45 - loss: 0.7116 - acc: 0.69 - ETA: 11:44 - loss: 0.7115 - acc: 0.69 - ETA: 11:43 - loss: 0.7113 - acc: 0.69 - ETA: 11:43 - loss: 0.7112 - acc: 0.69 - ETA: 11:42 - loss: 0.7109 - acc: 0.69 - ETA: 11:42 - loss: 0.7107 - acc: 0.69 - ETA: 11:41 - loss: 0.7107 - acc: 0.69 - ETA: 11:41 - loss: 0.7105 - acc: 0.69 - ETA: 11:41 - loss: 0.7105 - acc: 0.69 - ETA: 11:40 - loss: 0.7103 - acc: 0.69 - ETA: 11:40 - loss: 0.7101 - acc: 0.69 - ETA: 11:39 - loss: 0.7100 - acc: 0.69 - ETA: 11:38 - loss: 0.7100 - acc: 0.69 - ETA: 11:38 - loss: 0.7100 - acc: 0.69 - ETA: 11:37 - loss: 0.7099 - acc: 0.69 - ETA: 11:36 - loss: 0.7098 - acc: 0.69 - ETA: 11:36 - loss: 0.7097 - acc: 0.69 - ETA: 11:35 - loss: 0.7096 - acc: 0.69 - ETA: 11:34 - loss: 0.7095 - acc: 0.69 - ETA: 11:34 - loss: 0.7093 - acc: 0.69 - ETA: 11:34 - loss: 0.7092 - acc: 0.69 - ETA: 11:33 - loss: 0.7091 - acc: 0.69 - ETA: 11:32 - loss: 0.7091 - acc: 0.69 - ETA: 11:32 - loss: 0.7090 - acc: 0.69 - ETA: 11:31 - loss: 0.7089 - acc: 0.69 - ETA: 11:30 - loss: 0.7088 - acc: 0.69 - ETA: 11:29 - loss: 0.7087 - acc: 0.69 - ETA: 11:29 - loss: 0.7087 - acc: 0.69 - ETA: 11:28 - loss: 0.7086 - acc: 0.69 - ETA: 11:27 - loss: 0.7086 - acc: 0.69 - ETA: 11:27 - loss: 0.7085 - acc: 0.69 - ETA: 11:26 - loss: 0.7083 - acc: 0.69 - ETA: 11:26 - loss: 0.7081 - acc: 0.69 - ETA: 11:25 - loss: 0.7080 - acc: 0.69 - ETA: 11:24 - loss: 0.7079 - acc: 0.69 - ETA: 11:24 - loss: 0.7078 - acc: 0.69 - ETA: 11:23 - loss: 0.7076 - acc: 0.69 - ETA: 11:22 - loss: 0.7077 - acc: 0.69 - ETA: 11:21 - loss: 0.7076 - acc: 0.69 - ETA: 11:21 - loss: 0.7077 - acc: 0.69 - ETA: 11:20 - loss: 0.7077 - acc: 0.69 - ETA: 11:19 - loss: 0.7077 - acc: 0.69 - ETA: 11:18 - loss: 0.7076 - acc: 0.69 - ETA: 11:18 - loss: 0.7076 - acc: 0.69 - ETA: 11:17 - loss: 0.7075 - acc: 0.69 - ETA: 11:16 - loss: 0.7074 - acc: 0.69 - ETA: 11:15 - loss: 0.7072 - acc: 0.69 - ETA: 11:15 - loss: 0.7070 - acc: 0.69 - ETA: 11:14 - loss: 0.7070 - acc: 0.69 - ETA: 11:13 - loss: 0.7070 - acc: 0.69 - ETA: 11:13 - loss: 0.7069 - acc: 0.69 - ETA: 11:12 - loss: 0.7068 - acc: 0.69 - ETA: 11:12 - loss: 0.7067 - acc: 0.69 - ETA: 11:11 - loss: 0.7066 - acc: 0.69 - ETA: 11:10 - loss: 0.7066 - acc: 0.69 - ETA: 11:09 - loss: 0.7064 - acc: 0.69 - ETA: 11:09 - loss: 0.7065 - acc: 0.69 - ETA: 11:08 - loss: 0.7063 - acc: 0.69 - ETA: 11:07 - loss: 0.7061 - acc: 0.69 - ETA: 11:06 - loss: 0.7061 - acc: 0.69 - ETA: 11:06 - loss: 0.7061 - acc: 0.69 - ETA: 11:05 - loss: 0.7058 - acc: 0.69 - ETA: 11:04 - loss: 0.7056 - acc: 0.69 - ETA: 11:04 - loss: 0.7054 - acc: 0.69 - ETA: 11:03 - loss: 0.7053 - acc: 0.69 - ETA: 11:02 - loss: 0.7052 - acc: 0.69 - ETA: 11:01 - loss: 0.7051 - acc: 0.69 - ETA: 11:01 - loss: 0.7051 - acc: 0.69 - ETA: 11:00 - loss: 0.7050 - acc: 0.69 - ETA: 10:59 - loss: 0.7049 - acc: 0.69 - ETA: 10:59 - loss: 0.7050 - acc: 0.69 - ETA: 10:58 - loss: 0.7049 - acc: 0.69 - ETA: 10:57 - loss: 0.7046 - acc: 0.69 - ETA: 10:56 - loss: 0.7044 - acc: 0.69 - ETA: 10:56 - loss: 0.7046 - acc: 0.69 - ETA: 10:55 - loss: 0.7044 - acc: 0.69 - ETA: 10:54 - loss: 0.7043 - acc: 0.69 - ETA: 10:54 - loss: 0.7042 - acc: 0.69 - ETA: 10:53 - loss: 0.7041 - acc: 0.69 - ETA: 10:52 - loss: 0.7040 - acc: 0.69 - ETA: 10:51 - loss: 0.7038 - acc: 0.69 - ETA: 10:51 - loss: 0.7037 - acc: 0.69 - ETA: 10:50 - loss: 0.7037 - acc: 0.69 - ETA: 10:49 - loss: 0.7036 - acc: 0.69 - ETA: 10:49 - loss: 0.7034 - acc: 0.69 - ETA: 10:48 - loss: 0.7033 - acc: 0.69 - ETA: 10:47 - loss: 0.7034 - acc: 0.69 - ETA: 10:46 - loss: 0.7035 - acc: 0.69 - ETA: 10:46 - loss: 0.7033 - acc: 0.69 - ETA: 10:45 - loss: 0.7032 - acc: 0.69 - ETA: 10:45 - loss: 0.7031 - acc: 0.69 - ETA: 10:44 - loss: 0.7030 - acc: 0.69 - ETA: 10:43 - loss: 0.7029 - acc: 0.69 - ETA: 10:43 - loss: 0.7028 - acc: 0.69 - ETA: 10:42 - loss: 0.7027 - acc: 0.69 - ETA: 10:42 - loss: 0.7026 - acc: 0.69 - ETA: 10:41 - loss: 0.7024 - acc: 0.6973"
     ]
    },
    {
     "name": "stdout",
     "output_type": "stream",
     "text": [
      " 78208/135000 [================>.............] - ETA: 10:41 - loss: 0.7024 - acc: 0.69 - ETA: 10:40 - loss: 0.7024 - acc: 0.69 - ETA: 10:40 - loss: 0.7024 - acc: 0.69 - ETA: 10:39 - loss: 0.7021 - acc: 0.69 - ETA: 10:38 - loss: 0.7020 - acc: 0.69 - ETA: 10:38 - loss: 0.7018 - acc: 0.69 - ETA: 10:38 - loss: 0.7017 - acc: 0.69 - ETA: 10:37 - loss: 0.7018 - acc: 0.69 - ETA: 10:37 - loss: 0.7018 - acc: 0.69 - ETA: 10:36 - loss: 0.7016 - acc: 0.69 - ETA: 10:36 - loss: 0.7017 - acc: 0.69 - ETA: 10:36 - loss: 0.7014 - acc: 0.69 - ETA: 10:35 - loss: 0.7015 - acc: 0.69 - ETA: 10:35 - loss: 0.7013 - acc: 0.69 - ETA: 10:34 - loss: 0.7012 - acc: 0.69 - ETA: 10:34 - loss: 0.7011 - acc: 0.69 - ETA: 10:33 - loss: 0.7011 - acc: 0.69 - ETA: 10:32 - loss: 0.7010 - acc: 0.69 - ETA: 10:31 - loss: 0.7009 - acc: 0.69 - ETA: 10:31 - loss: 0.7008 - acc: 0.69 - ETA: 10:30 - loss: 0.7007 - acc: 0.69 - ETA: 10:30 - loss: 0.7006 - acc: 0.69 - ETA: 10:29 - loss: 0.7006 - acc: 0.69 - ETA: 10:28 - loss: 0.7006 - acc: 0.69 - ETA: 10:28 - loss: 0.7006 - acc: 0.69 - ETA: 10:27 - loss: 0.7005 - acc: 0.69 - ETA: 10:26 - loss: 0.7005 - acc: 0.69 - ETA: 10:26 - loss: 0.7004 - acc: 0.69 - ETA: 10:25 - loss: 0.7001 - acc: 0.69 - ETA: 10:24 - loss: 0.7001 - acc: 0.69 - ETA: 10:24 - loss: 0.7002 - acc: 0.69 - ETA: 10:23 - loss: 0.7001 - acc: 0.69 - ETA: 10:23 - loss: 0.7000 - acc: 0.69 - ETA: 10:22 - loss: 0.6999 - acc: 0.69 - ETA: 10:21 - loss: 0.6998 - acc: 0.69 - ETA: 10:20 - loss: 0.6999 - acc: 0.69 - ETA: 10:20 - loss: 0.6998 - acc: 0.69 - ETA: 10:19 - loss: 0.6997 - acc: 0.69 - ETA: 10:18 - loss: 0.6998 - acc: 0.69 - ETA: 10:18 - loss: 0.6996 - acc: 0.69 - ETA: 10:17 - loss: 0.6997 - acc: 0.69 - ETA: 10:16 - loss: 0.6996 - acc: 0.69 - ETA: 10:15 - loss: 0.6996 - acc: 0.69 - ETA: 10:15 - loss: 0.6995 - acc: 0.69 - ETA: 10:14 - loss: 0.6993 - acc: 0.69 - ETA: 10:13 - loss: 0.6993 - acc: 0.69 - ETA: 10:13 - loss: 0.6993 - acc: 0.69 - ETA: 10:12 - loss: 0.6992 - acc: 0.69 - ETA: 10:12 - loss: 0.6990 - acc: 0.69 - ETA: 10:11 - loss: 0.6990 - acc: 0.69 - ETA: 10:11 - loss: 0.6989 - acc: 0.69 - ETA: 10:10 - loss: 0.6988 - acc: 0.69 - ETA: 10:09 - loss: 0.6987 - acc: 0.69 - ETA: 10:09 - loss: 0.6985 - acc: 0.70 - ETA: 10:08 - loss: 0.6983 - acc: 0.70 - ETA: 10:07 - loss: 0.6983 - acc: 0.70 - ETA: 10:07 - loss: 0.6980 - acc: 0.70 - ETA: 10:06 - loss: 0.6980 - acc: 0.70 - ETA: 10:06 - loss: 0.6979 - acc: 0.70 - ETA: 10:05 - loss: 0.6978 - acc: 0.70 - ETA: 10:04 - loss: 0.6977 - acc: 0.70 - ETA: 10:04 - loss: 0.6977 - acc: 0.70 - ETA: 10:03 - loss: 0.6977 - acc: 0.70 - ETA: 10:03 - loss: 0.6978 - acc: 0.70 - ETA: 10:02 - loss: 0.6976 - acc: 0.70 - ETA: 10:01 - loss: 0.6975 - acc: 0.70 - ETA: 10:01 - loss: 0.6974 - acc: 0.70 - ETA: 10:00 - loss: 0.6973 - acc: 0.70 - ETA: 10:00 - loss: 0.6971 - acc: 0.70 - ETA: 9:59 - loss: 0.6970 - acc: 0.7007 - ETA: 9:59 - loss: 0.6969 - acc: 0.700 - ETA: 9:58 - loss: 0.6968 - acc: 0.700 - ETA: 9:58 - loss: 0.6968 - acc: 0.700 - ETA: 9:57 - loss: 0.6965 - acc: 0.700 - ETA: 9:57 - loss: 0.6964 - acc: 0.701 - ETA: 9:56 - loss: 0.6963 - acc: 0.701 - ETA: 9:55 - loss: 0.6962 - acc: 0.701 - ETA: 9:55 - loss: 0.6962 - acc: 0.701 - ETA: 9:54 - loss: 0.6960 - acc: 0.701 - ETA: 9:53 - loss: 0.6961 - acc: 0.701 - ETA: 9:53 - loss: 0.6961 - acc: 0.701 - ETA: 9:52 - loss: 0.6962 - acc: 0.701 - ETA: 9:51 - loss: 0.6960 - acc: 0.701 - ETA: 9:51 - loss: 0.6959 - acc: 0.701 - ETA: 9:50 - loss: 0.6957 - acc: 0.701 - ETA: 9:49 - loss: 0.6956 - acc: 0.701 - ETA: 9:49 - loss: 0.6954 - acc: 0.701 - ETA: 9:48 - loss: 0.6953 - acc: 0.701 - ETA: 9:48 - loss: 0.6952 - acc: 0.701 - ETA: 9:47 - loss: 0.6950 - acc: 0.701 - ETA: 9:46 - loss: 0.6950 - acc: 0.701 - ETA: 9:46 - loss: 0.6951 - acc: 0.701 - ETA: 9:45 - loss: 0.6950 - acc: 0.701 - ETA: 9:44 - loss: 0.6949 - acc: 0.701 - ETA: 9:44 - loss: 0.6949 - acc: 0.701 - ETA: 9:43 - loss: 0.6947 - acc: 0.701 - ETA: 9:42 - loss: 0.6946 - acc: 0.701 - ETA: 9:41 - loss: 0.6946 - acc: 0.701 - ETA: 9:41 - loss: 0.6945 - acc: 0.702 - ETA: 9:40 - loss: 0.6945 - acc: 0.702 - ETA: 9:40 - loss: 0.6943 - acc: 0.702 - ETA: 9:39 - loss: 0.6942 - acc: 0.702 - ETA: 9:39 - loss: 0.6941 - acc: 0.702 - ETA: 9:38 - loss: 0.6938 - acc: 0.702 - ETA: 9:37 - loss: 0.6939 - acc: 0.702 - ETA: 9:37 - loss: 0.6937 - acc: 0.702 - ETA: 9:37 - loss: 0.6936 - acc: 0.702 - ETA: 9:36 - loss: 0.6935 - acc: 0.702 - ETA: 9:35 - loss: 0.6934 - acc: 0.702 - ETA: 9:35 - loss: 0.6932 - acc: 0.702 - ETA: 9:34 - loss: 0.6930 - acc: 0.702 - ETA: 9:34 - loss: 0.6929 - acc: 0.702 - ETA: 9:33 - loss: 0.6929 - acc: 0.702 - ETA: 9:32 - loss: 0.6929 - acc: 0.703 - ETA: 9:32 - loss: 0.6930 - acc: 0.702 - ETA: 9:31 - loss: 0.6930 - acc: 0.702 - ETA: 9:30 - loss: 0.6930 - acc: 0.702 - ETA: 9:30 - loss: 0.6928 - acc: 0.703 - ETA: 9:29 - loss: 0.6926 - acc: 0.703 - ETA: 9:29 - loss: 0.6925 - acc: 0.703 - ETA: 9:28 - loss: 0.6925 - acc: 0.703 - ETA: 9:27 - loss: 0.6924 - acc: 0.703 - ETA: 9:27 - loss: 0.6924 - acc: 0.703 - ETA: 9:26 - loss: 0.6923 - acc: 0.703 - ETA: 9:25 - loss: 0.6921 - acc: 0.703 - ETA: 9:25 - loss: 0.6919 - acc: 0.703 - ETA: 9:24 - loss: 0.6918 - acc: 0.703 - ETA: 9:23 - loss: 0.6917 - acc: 0.703 - ETA: 9:23 - loss: 0.6917 - acc: 0.703 - ETA: 9:22 - loss: 0.6916 - acc: 0.703 - ETA: 9:21 - loss: 0.6917 - acc: 0.703 - ETA: 9:21 - loss: 0.6919 - acc: 0.703 - ETA: 9:20 - loss: 0.6919 - acc: 0.703 - ETA: 9:19 - loss: 0.6918 - acc: 0.703 - ETA: 9:19 - loss: 0.6918 - acc: 0.703 - ETA: 9:18 - loss: 0.6918 - acc: 0.703 - ETA: 9:17 - loss: 0.6917 - acc: 0.703 - ETA: 9:17 - loss: 0.6915 - acc: 0.703 - ETA: 9:16 - loss: 0.6914 - acc: 0.703 - ETA: 9:15 - loss: 0.6913 - acc: 0.704 - ETA: 9:15 - loss: 0.6913 - acc: 0.704 - ETA: 9:14 - loss: 0.6912 - acc: 0.704 - ETA: 9:14 - loss: 0.6912 - acc: 0.704 - ETA: 9:13 - loss: 0.6912 - acc: 0.704 - ETA: 9:13 - loss: 0.6912 - acc: 0.704 - ETA: 9:12 - loss: 0.6911 - acc: 0.704 - ETA: 9:11 - loss: 0.6910 - acc: 0.704 - ETA: 9:11 - loss: 0.6910 - acc: 0.704 - ETA: 9:10 - loss: 0.6910 - acc: 0.704 - ETA: 9:10 - loss: 0.6909 - acc: 0.704 - ETA: 9:09 - loss: 0.6909 - acc: 0.704 - ETA: 9:08 - loss: 0.6909 - acc: 0.704 - ETA: 9:08 - loss: 0.6908 - acc: 0.704 - ETA: 9:07 - loss: 0.6908 - acc: 0.704 - ETA: 9:07 - loss: 0.6906 - acc: 0.704 - ETA: 9:06 - loss: 0.6905 - acc: 0.704 - ETA: 9:05 - loss: 0.6906 - acc: 0.704 - ETA: 9:05 - loss: 0.6905 - acc: 0.704 - ETA: 9:04 - loss: 0.6905 - acc: 0.704 - ETA: 9:03 - loss: 0.6904 - acc: 0.704 - ETA: 9:03 - loss: 0.6904 - acc: 0.704 - ETA: 9:02 - loss: 0.6904 - acc: 0.704 - ETA: 9:01 - loss: 0.6903 - acc: 0.704 - ETA: 9:01 - loss: 0.6902 - acc: 0.704 - ETA: 9:00 - loss: 0.6901 - acc: 0.704 - ETA: 8:59 - loss: 0.6899 - acc: 0.704 - ETA: 8:59 - loss: 0.6900 - acc: 0.704 - ETA: 8:58 - loss: 0.6899 - acc: 0.704 - ETA: 8:57 - loss: 0.6898 - acc: 0.704 - ETA: 8:57 - loss: 0.6896 - acc: 0.704 - ETA: 8:56 - loss: 0.6895 - acc: 0.704 - ETA: 8:55 - loss: 0.6894 - acc: 0.705 - ETA: 8:55 - loss: 0.6894 - acc: 0.705 - ETA: 8:54 - loss: 0.6892 - acc: 0.705 - ETA: 8:53 - loss: 0.6890 - acc: 0.705 - ETA: 8:53 - loss: 0.6889 - acc: 0.705 - ETA: 8:52 - loss: 0.6890 - acc: 0.705 - ETA: 8:52 - loss: 0.6889 - acc: 0.705 - ETA: 8:51 - loss: 0.6888 - acc: 0.705 - ETA: 8:50 - loss: 0.6887 - acc: 0.705 - ETA: 8:50 - loss: 0.6886 - acc: 0.705 - ETA: 8:49 - loss: 0.6884 - acc: 0.705 - ETA: 8:49 - loss: 0.6885 - acc: 0.705 - ETA: 8:48 - loss: 0.6883 - acc: 0.705 - ETA: 8:48 - loss: 0.6883 - acc: 0.705 - ETA: 8:47 - loss: 0.6882 - acc: 0.705 - ETA: 8:47 - loss: 0.6880 - acc: 0.705 - ETA: 8:46 - loss: 0.6878 - acc: 0.705 - ETA: 8:46 - loss: 0.6878 - acc: 0.705 - ETA: 8:45 - loss: 0.6876 - acc: 0.705 - ETA: 8:44 - loss: 0.6876 - acc: 0.705 - ETA: 8:44 - loss: 0.6876 - acc: 0.705 - ETA: 8:43 - loss: 0.6876 - acc: 0.705 - ETA: 8:43 - loss: 0.6876 - acc: 0.705 - ETA: 8:42 - loss: 0.6874 - acc: 0.705 - ETA: 8:41 - loss: 0.6873 - acc: 0.706 - ETA: 8:41 - loss: 0.6872 - acc: 0.706 - ETA: 8:40 - loss: 0.6871 - acc: 0.706 - ETA: 8:40 - loss: 0.6870 - acc: 0.706 - ETA: 8:39 - loss: 0.6869 - acc: 0.706 - ETA: 8:39 - loss: 0.6868 - acc: 0.706 - ETA: 8:38 - loss: 0.6866 - acc: 0.706 - ETA: 8:38 - loss: 0.6866 - acc: 0.706 - ETA: 8:37 - loss: 0.6864 - acc: 0.7064"
     ]
    },
    {
     "name": "stdout",
     "output_type": "stream",
     "text": [
      " 91264/135000 [===================>..........] - ETA: 8:37 - loss: 0.6864 - acc: 0.706 - ETA: 8:36 - loss: 0.6864 - acc: 0.706 - ETA: 8:35 - loss: 0.6864 - acc: 0.706 - ETA: 8:35 - loss: 0.6863 - acc: 0.706 - ETA: 8:34 - loss: 0.6862 - acc: 0.706 - ETA: 8:34 - loss: 0.6860 - acc: 0.706 - ETA: 8:33 - loss: 0.6860 - acc: 0.706 - ETA: 8:33 - loss: 0.6859 - acc: 0.706 - ETA: 8:32 - loss: 0.6859 - acc: 0.706 - ETA: 8:31 - loss: 0.6858 - acc: 0.706 - ETA: 8:31 - loss: 0.6856 - acc: 0.706 - ETA: 8:30 - loss: 0.6855 - acc: 0.706 - ETA: 8:30 - loss: 0.6854 - acc: 0.706 - ETA: 8:29 - loss: 0.6853 - acc: 0.706 - ETA: 8:29 - loss: 0.6852 - acc: 0.707 - ETA: 8:28 - loss: 0.6852 - acc: 0.707 - ETA: 8:28 - loss: 0.6850 - acc: 0.707 - ETA: 8:27 - loss: 0.6849 - acc: 0.707 - ETA: 8:27 - loss: 0.6848 - acc: 0.707 - ETA: 8:26 - loss: 0.6847 - acc: 0.707 - ETA: 8:25 - loss: 0.6845 - acc: 0.707 - ETA: 8:25 - loss: 0.6845 - acc: 0.707 - ETA: 8:24 - loss: 0.6845 - acc: 0.707 - ETA: 8:23 - loss: 0.6844 - acc: 0.707 - ETA: 8:23 - loss: 0.6843 - acc: 0.707 - ETA: 8:22 - loss: 0.6843 - acc: 0.707 - ETA: 8:22 - loss: 0.6842 - acc: 0.707 - ETA: 8:21 - loss: 0.6843 - acc: 0.707 - ETA: 8:20 - loss: 0.6843 - acc: 0.707 - ETA: 8:20 - loss: 0.6843 - acc: 0.707 - ETA: 8:19 - loss: 0.6843 - acc: 0.707 - ETA: 8:18 - loss: 0.6841 - acc: 0.707 - ETA: 8:18 - loss: 0.6840 - acc: 0.707 - ETA: 8:17 - loss: 0.6840 - acc: 0.707 - ETA: 8:16 - loss: 0.6839 - acc: 0.707 - ETA: 8:16 - loss: 0.6837 - acc: 0.707 - ETA: 8:15 - loss: 0.6836 - acc: 0.707 - ETA: 8:14 - loss: 0.6836 - acc: 0.707 - ETA: 8:14 - loss: 0.6834 - acc: 0.707 - ETA: 8:14 - loss: 0.6833 - acc: 0.707 - ETA: 8:13 - loss: 0.6833 - acc: 0.707 - ETA: 8:13 - loss: 0.6833 - acc: 0.707 - ETA: 8:12 - loss: 0.6831 - acc: 0.707 - ETA: 8:11 - loss: 0.6831 - acc: 0.707 - ETA: 8:11 - loss: 0.6830 - acc: 0.708 - ETA: 8:10 - loss: 0.6830 - acc: 0.708 - ETA: 8:09 - loss: 0.6830 - acc: 0.708 - ETA: 8:09 - loss: 0.6829 - acc: 0.708 - ETA: 8:08 - loss: 0.6828 - acc: 0.708 - ETA: 8:08 - loss: 0.6826 - acc: 0.708 - ETA: 8:07 - loss: 0.6825 - acc: 0.708 - ETA: 8:06 - loss: 0.6824 - acc: 0.708 - ETA: 8:06 - loss: 0.6823 - acc: 0.708 - ETA: 8:05 - loss: 0.6824 - acc: 0.708 - ETA: 8:04 - loss: 0.6823 - acc: 0.708 - ETA: 8:04 - loss: 0.6823 - acc: 0.708 - ETA: 8:03 - loss: 0.6824 - acc: 0.708 - ETA: 8:02 - loss: 0.6823 - acc: 0.708 - ETA: 8:02 - loss: 0.6821 - acc: 0.708 - ETA: 8:01 - loss: 0.6821 - acc: 0.708 - ETA: 8:01 - loss: 0.6821 - acc: 0.708 - ETA: 8:00 - loss: 0.6820 - acc: 0.708 - ETA: 7:59 - loss: 0.6819 - acc: 0.708 - ETA: 7:59 - loss: 0.6820 - acc: 0.708 - ETA: 7:58 - loss: 0.6820 - acc: 0.708 - ETA: 7:57 - loss: 0.6819 - acc: 0.708 - ETA: 7:57 - loss: 0.6818 - acc: 0.708 - ETA: 7:57 - loss: 0.6817 - acc: 0.708 - ETA: 7:56 - loss: 0.6816 - acc: 0.708 - ETA: 7:55 - loss: 0.6816 - acc: 0.708 - ETA: 7:55 - loss: 0.6815 - acc: 0.708 - ETA: 7:54 - loss: 0.6814 - acc: 0.708 - ETA: 7:53 - loss: 0.6815 - acc: 0.708 - ETA: 7:53 - loss: 0.6813 - acc: 0.709 - ETA: 7:52 - loss: 0.6813 - acc: 0.709 - ETA: 7:52 - loss: 0.6814 - acc: 0.709 - ETA: 7:51 - loss: 0.6814 - acc: 0.708 - ETA: 7:50 - loss: 0.6813 - acc: 0.709 - ETA: 7:50 - loss: 0.6812 - acc: 0.709 - ETA: 7:49 - loss: 0.6811 - acc: 0.709 - ETA: 7:49 - loss: 0.6810 - acc: 0.709 - ETA: 7:48 - loss: 0.6809 - acc: 0.709 - ETA: 7:47 - loss: 0.6809 - acc: 0.709 - ETA: 7:47 - loss: 0.6808 - acc: 0.709 - ETA: 7:46 - loss: 0.6808 - acc: 0.709 - ETA: 7:45 - loss: 0.6808 - acc: 0.709 - ETA: 7:45 - loss: 0.6807 - acc: 0.709 - ETA: 7:44 - loss: 0.6805 - acc: 0.709 - ETA: 7:43 - loss: 0.6805 - acc: 0.709 - ETA: 7:43 - loss: 0.6804 - acc: 0.709 - ETA: 7:42 - loss: 0.6805 - acc: 0.709 - ETA: 7:42 - loss: 0.6805 - acc: 0.709 - ETA: 7:41 - loss: 0.6803 - acc: 0.709 - ETA: 7:41 - loss: 0.6803 - acc: 0.709 - ETA: 7:40 - loss: 0.6802 - acc: 0.709 - ETA: 7:39 - loss: 0.6802 - acc: 0.709 - ETA: 7:39 - loss: 0.6801 - acc: 0.709 - ETA: 7:38 - loss: 0.6800 - acc: 0.709 - ETA: 7:38 - loss: 0.6800 - acc: 0.709 - ETA: 7:37 - loss: 0.6799 - acc: 0.709 - ETA: 7:37 - loss: 0.6799 - acc: 0.709 - ETA: 7:37 - loss: 0.6799 - acc: 0.709 - ETA: 7:36 - loss: 0.6798 - acc: 0.709 - ETA: 7:36 - loss: 0.6797 - acc: 0.709 - ETA: 7:35 - loss: 0.6796 - acc: 0.709 - ETA: 7:35 - loss: 0.6796 - acc: 0.709 - ETA: 7:34 - loss: 0.6795 - acc: 0.710 - ETA: 7:34 - loss: 0.6793 - acc: 0.710 - ETA: 7:33 - loss: 0.6792 - acc: 0.710 - ETA: 7:33 - loss: 0.6792 - acc: 0.710 - ETA: 7:32 - loss: 0.6792 - acc: 0.710 - ETA: 7:32 - loss: 0.6791 - acc: 0.710 - ETA: 7:31 - loss: 0.6791 - acc: 0.710 - ETA: 7:31 - loss: 0.6790 - acc: 0.710 - ETA: 7:30 - loss: 0.6790 - acc: 0.710 - ETA: 7:30 - loss: 0.6788 - acc: 0.710 - ETA: 7:29 - loss: 0.6786 - acc: 0.710 - ETA: 7:29 - loss: 0.6785 - acc: 0.710 - ETA: 7:28 - loss: 0.6785 - acc: 0.710 - ETA: 7:28 - loss: 0.6784 - acc: 0.710 - ETA: 7:27 - loss: 0.6783 - acc: 0.710 - ETA: 7:27 - loss: 0.6783 - acc: 0.710 - ETA: 7:26 - loss: 0.6782 - acc: 0.710 - ETA: 7:25 - loss: 0.6781 - acc: 0.710 - ETA: 7:25 - loss: 0.6782 - acc: 0.710 - ETA: 7:24 - loss: 0.6781 - acc: 0.710 - ETA: 7:24 - loss: 0.6781 - acc: 0.710 - ETA: 7:23 - loss: 0.6781 - acc: 0.710 - ETA: 7:23 - loss: 0.6781 - acc: 0.710 - ETA: 7:22 - loss: 0.6781 - acc: 0.710 - ETA: 7:22 - loss: 0.6780 - acc: 0.710 - ETA: 7:21 - loss: 0.6780 - acc: 0.710 - ETA: 7:21 - loss: 0.6779 - acc: 0.710 - ETA: 7:20 - loss: 0.6779 - acc: 0.710 - ETA: 7:19 - loss: 0.6777 - acc: 0.711 - ETA: 7:19 - loss: 0.6776 - acc: 0.711 - ETA: 7:18 - loss: 0.6776 - acc: 0.711 - ETA: 7:18 - loss: 0.6775 - acc: 0.711 - ETA: 7:17 - loss: 0.6776 - acc: 0.711 - ETA: 7:17 - loss: 0.6775 - acc: 0.711 - ETA: 7:17 - loss: 0.6775 - acc: 0.711 - ETA: 7:16 - loss: 0.6774 - acc: 0.711 - ETA: 7:15 - loss: 0.6774 - acc: 0.711 - ETA: 7:15 - loss: 0.6772 - acc: 0.711 - ETA: 7:14 - loss: 0.6771 - acc: 0.711 - ETA: 7:14 - loss: 0.6771 - acc: 0.711 - ETA: 7:13 - loss: 0.6770 - acc: 0.711 - ETA: 7:12 - loss: 0.6770 - acc: 0.711 - ETA: 7:12 - loss: 0.6769 - acc: 0.711 - ETA: 7:11 - loss: 0.6768 - acc: 0.711 - ETA: 7:10 - loss: 0.6768 - acc: 0.711 - ETA: 7:10 - loss: 0.6768 - acc: 0.711 - ETA: 7:09 - loss: 0.6768 - acc: 0.711 - ETA: 7:08 - loss: 0.6768 - acc: 0.711 - ETA: 7:08 - loss: 0.6767 - acc: 0.711 - ETA: 7:07 - loss: 0.6766 - acc: 0.711 - ETA: 7:07 - loss: 0.6766 - acc: 0.711 - ETA: 7:06 - loss: 0.6766 - acc: 0.711 - ETA: 7:05 - loss: 0.6765 - acc: 0.711 - ETA: 7:05 - loss: 0.6764 - acc: 0.711 - ETA: 7:04 - loss: 0.6764 - acc: 0.711 - ETA: 7:03 - loss: 0.6763 - acc: 0.711 - ETA: 7:03 - loss: 0.6763 - acc: 0.711 - ETA: 7:02 - loss: 0.6762 - acc: 0.711 - ETA: 7:01 - loss: 0.6762 - acc: 0.711 - ETA: 7:01 - loss: 0.6761 - acc: 0.711 - ETA: 7:00 - loss: 0.6760 - acc: 0.711 - ETA: 7:00 - loss: 0.6758 - acc: 0.711 - ETA: 6:59 - loss: 0.6759 - acc: 0.711 - ETA: 6:58 - loss: 0.6757 - acc: 0.711 - ETA: 6:58 - loss: 0.6757 - acc: 0.711 - ETA: 6:57 - loss: 0.6756 - acc: 0.711 - ETA: 6:56 - loss: 0.6758 - acc: 0.711 - ETA: 6:56 - loss: 0.6757 - acc: 0.711 - ETA: 6:55 - loss: 0.6757 - acc: 0.711 - ETA: 6:54 - loss: 0.6755 - acc: 0.711 - ETA: 6:54 - loss: 0.6755 - acc: 0.711 - ETA: 6:53 - loss: 0.6753 - acc: 0.711 - ETA: 6:53 - loss: 0.6752 - acc: 0.711 - ETA: 6:52 - loss: 0.6752 - acc: 0.711 - ETA: 6:51 - loss: 0.6752 - acc: 0.711 - ETA: 6:51 - loss: 0.6751 - acc: 0.711 - ETA: 6:50 - loss: 0.6750 - acc: 0.712 - ETA: 6:49 - loss: 0.6749 - acc: 0.712 - ETA: 6:49 - loss: 0.6749 - acc: 0.712 - ETA: 6:48 - loss: 0.6747 - acc: 0.712 - ETA: 6:48 - loss: 0.6747 - acc: 0.712 - ETA: 6:47 - loss: 0.6746 - acc: 0.712 - ETA: 6:46 - loss: 0.6745 - acc: 0.712 - ETA: 6:46 - loss: 0.6744 - acc: 0.712 - ETA: 6:45 - loss: 0.6744 - acc: 0.712 - ETA: 6:44 - loss: 0.6745 - acc: 0.712 - ETA: 6:44 - loss: 0.6744 - acc: 0.712 - ETA: 6:43 - loss: 0.6744 - acc: 0.712 - ETA: 6:42 - loss: 0.6743 - acc: 0.712 - ETA: 6:42 - loss: 0.6742 - acc: 0.712 - ETA: 6:41 - loss: 0.6743 - acc: 0.712 - ETA: 6:41 - loss: 0.6742 - acc: 0.712 - ETA: 6:40 - loss: 0.6742 - acc: 0.712 - ETA: 6:39 - loss: 0.6740 - acc: 0.712 - ETA: 6:39 - loss: 0.6740 - acc: 0.712 - ETA: 6:38 - loss: 0.6739 - acc: 0.712 - ETA: 6:38 - loss: 0.6739 - acc: 0.712 - ETA: 6:37 - loss: 0.6738 - acc: 0.7125"
     ]
    },
    {
     "name": "stdout",
     "output_type": "stream",
     "text": [
      "104320/135000 [======================>.......] - ETA: 6:37 - loss: 0.6737 - acc: 0.712 - ETA: 6:36 - loss: 0.6736 - acc: 0.712 - ETA: 6:36 - loss: 0.6735 - acc: 0.712 - ETA: 6:35 - loss: 0.6735 - acc: 0.712 - ETA: 6:35 - loss: 0.6735 - acc: 0.712 - ETA: 6:34 - loss: 0.6734 - acc: 0.712 - ETA: 6:33 - loss: 0.6734 - acc: 0.712 - ETA: 6:33 - loss: 0.6733 - acc: 0.712 - ETA: 6:32 - loss: 0.6733 - acc: 0.712 - ETA: 6:32 - loss: 0.6732 - acc: 0.712 - ETA: 6:31 - loss: 0.6731 - acc: 0.712 - ETA: 6:31 - loss: 0.6731 - acc: 0.712 - ETA: 6:30 - loss: 0.6730 - acc: 0.712 - ETA: 6:30 - loss: 0.6730 - acc: 0.712 - ETA: 6:29 - loss: 0.6730 - acc: 0.712 - ETA: 6:29 - loss: 0.6729 - acc: 0.713 - ETA: 6:28 - loss: 0.6729 - acc: 0.712 - ETA: 6:27 - loss: 0.6729 - acc: 0.713 - ETA: 6:27 - loss: 0.6728 - acc: 0.713 - ETA: 6:26 - loss: 0.6727 - acc: 0.713 - ETA: 6:25 - loss: 0.6727 - acc: 0.713 - ETA: 6:25 - loss: 0.6726 - acc: 0.713 - ETA: 6:24 - loss: 0.6727 - acc: 0.713 - ETA: 6:24 - loss: 0.6726 - acc: 0.713 - ETA: 6:23 - loss: 0.6725 - acc: 0.713 - ETA: 6:22 - loss: 0.6724 - acc: 0.713 - ETA: 6:22 - loss: 0.6724 - acc: 0.713 - ETA: 6:21 - loss: 0.6723 - acc: 0.713 - ETA: 6:20 - loss: 0.6722 - acc: 0.713 - ETA: 6:20 - loss: 0.6721 - acc: 0.713 - ETA: 6:19 - loss: 0.6721 - acc: 0.713 - ETA: 6:19 - loss: 0.6720 - acc: 0.713 - ETA: 6:18 - loss: 0.6720 - acc: 0.713 - ETA: 6:17 - loss: 0.6718 - acc: 0.713 - ETA: 6:17 - loss: 0.6718 - acc: 0.713 - ETA: 6:16 - loss: 0.6717 - acc: 0.713 - ETA: 6:15 - loss: 0.6717 - acc: 0.713 - ETA: 6:15 - loss: 0.6716 - acc: 0.713 - ETA: 6:14 - loss: 0.6715 - acc: 0.713 - ETA: 6:14 - loss: 0.6714 - acc: 0.713 - ETA: 6:13 - loss: 0.6713 - acc: 0.713 - ETA: 6:12 - loss: 0.6713 - acc: 0.713 - ETA: 6:12 - loss: 0.6714 - acc: 0.713 - ETA: 6:11 - loss: 0.6713 - acc: 0.713 - ETA: 6:10 - loss: 0.6713 - acc: 0.713 - ETA: 6:10 - loss: 0.6712 - acc: 0.713 - ETA: 6:09 - loss: 0.6712 - acc: 0.713 - ETA: 6:09 - loss: 0.6711 - acc: 0.713 - ETA: 6:09 - loss: 0.6711 - acc: 0.713 - ETA: 6:08 - loss: 0.6710 - acc: 0.713 - ETA: 6:08 - loss: 0.6709 - acc: 0.713 - ETA: 6:07 - loss: 0.6710 - acc: 0.713 - ETA: 6:07 - loss: 0.6709 - acc: 0.713 - ETA: 6:06 - loss: 0.6709 - acc: 0.713 - ETA: 6:05 - loss: 0.6708 - acc: 0.713 - ETA: 6:05 - loss: 0.6708 - acc: 0.713 - ETA: 6:04 - loss: 0.6708 - acc: 0.713 - ETA: 6:04 - loss: 0.6707 - acc: 0.713 - ETA: 6:03 - loss: 0.6706 - acc: 0.713 - ETA: 6:03 - loss: 0.6705 - acc: 0.713 - ETA: 6:02 - loss: 0.6705 - acc: 0.713 - ETA: 6:02 - loss: 0.6704 - acc: 0.714 - ETA: 6:01 - loss: 0.6703 - acc: 0.714 - ETA: 6:01 - loss: 0.6702 - acc: 0.714 - ETA: 6:00 - loss: 0.6702 - acc: 0.714 - ETA: 6:00 - loss: 0.6701 - acc: 0.714 - ETA: 5:59 - loss: 0.6701 - acc: 0.714 - ETA: 5:59 - loss: 0.6701 - acc: 0.714 - ETA: 5:58 - loss: 0.6700 - acc: 0.714 - ETA: 5:57 - loss: 0.6701 - acc: 0.714 - ETA: 5:57 - loss: 0.6701 - acc: 0.714 - ETA: 5:56 - loss: 0.6700 - acc: 0.714 - ETA: 5:56 - loss: 0.6699 - acc: 0.714 - ETA: 5:55 - loss: 0.6698 - acc: 0.714 - ETA: 5:55 - loss: 0.6697 - acc: 0.714 - ETA: 5:54 - loss: 0.6698 - acc: 0.714 - ETA: 5:54 - loss: 0.6697 - acc: 0.714 - ETA: 5:53 - loss: 0.6696 - acc: 0.714 - ETA: 5:52 - loss: 0.6696 - acc: 0.714 - ETA: 5:52 - loss: 0.6696 - acc: 0.714 - ETA: 5:51 - loss: 0.6695 - acc: 0.714 - ETA: 5:51 - loss: 0.6695 - acc: 0.714 - ETA: 5:50 - loss: 0.6694 - acc: 0.714 - ETA: 5:50 - loss: 0.6694 - acc: 0.714 - ETA: 5:49 - loss: 0.6693 - acc: 0.714 - ETA: 5:48 - loss: 0.6692 - acc: 0.714 - ETA: 5:48 - loss: 0.6692 - acc: 0.714 - ETA: 5:47 - loss: 0.6691 - acc: 0.714 - ETA: 5:47 - loss: 0.6690 - acc: 0.714 - ETA: 5:46 - loss: 0.6689 - acc: 0.714 - ETA: 5:46 - loss: 0.6689 - acc: 0.714 - ETA: 5:45 - loss: 0.6688 - acc: 0.714 - ETA: 5:45 - loss: 0.6687 - acc: 0.714 - ETA: 5:44 - loss: 0.6687 - acc: 0.714 - ETA: 5:43 - loss: 0.6686 - acc: 0.714 - ETA: 5:43 - loss: 0.6687 - acc: 0.714 - ETA: 5:42 - loss: 0.6686 - acc: 0.714 - ETA: 5:42 - loss: 0.6685 - acc: 0.714 - ETA: 5:41 - loss: 0.6686 - acc: 0.714 - ETA: 5:40 - loss: 0.6685 - acc: 0.714 - ETA: 5:40 - loss: 0.6683 - acc: 0.714 - ETA: 5:40 - loss: 0.6682 - acc: 0.715 - ETA: 5:39 - loss: 0.6681 - acc: 0.715 - ETA: 5:38 - loss: 0.6681 - acc: 0.715 - ETA: 5:38 - loss: 0.6680 - acc: 0.715 - ETA: 5:37 - loss: 0.6679 - acc: 0.715 - ETA: 5:37 - loss: 0.6678 - acc: 0.715 - ETA: 5:36 - loss: 0.6677 - acc: 0.715 - ETA: 5:35 - loss: 0.6676 - acc: 0.715 - ETA: 5:35 - loss: 0.6675 - acc: 0.715 - ETA: 5:34 - loss: 0.6675 - acc: 0.715 - ETA: 5:34 - loss: 0.6674 - acc: 0.715 - ETA: 5:33 - loss: 0.6674 - acc: 0.715 - ETA: 5:33 - loss: 0.6674 - acc: 0.715 - ETA: 5:32 - loss: 0.6673 - acc: 0.715 - ETA: 5:32 - loss: 0.6673 - acc: 0.715 - ETA: 5:31 - loss: 0.6674 - acc: 0.715 - ETA: 5:30 - loss: 0.6673 - acc: 0.715 - ETA: 5:30 - loss: 0.6673 - acc: 0.715 - ETA: 5:29 - loss: 0.6672 - acc: 0.715 - ETA: 5:29 - loss: 0.6671 - acc: 0.715 - ETA: 5:28 - loss: 0.6671 - acc: 0.715 - ETA: 5:27 - loss: 0.6669 - acc: 0.715 - ETA: 5:27 - loss: 0.6668 - acc: 0.715 - ETA: 5:26 - loss: 0.6669 - acc: 0.715 - ETA: 5:26 - loss: 0.6669 - acc: 0.715 - ETA: 5:25 - loss: 0.6668 - acc: 0.715 - ETA: 5:24 - loss: 0.6667 - acc: 0.715 - ETA: 5:24 - loss: 0.6667 - acc: 0.715 - ETA: 5:23 - loss: 0.6665 - acc: 0.715 - ETA: 5:23 - loss: 0.6665 - acc: 0.715 - ETA: 5:22 - loss: 0.6665 - acc: 0.715 - ETA: 5:21 - loss: 0.6664 - acc: 0.715 - ETA: 5:21 - loss: 0.6665 - acc: 0.715 - ETA: 5:20 - loss: 0.6664 - acc: 0.715 - ETA: 5:20 - loss: 0.6665 - acc: 0.715 - ETA: 5:19 - loss: 0.6664 - acc: 0.715 - ETA: 5:18 - loss: 0.6663 - acc: 0.715 - ETA: 5:18 - loss: 0.6662 - acc: 0.715 - ETA: 5:17 - loss: 0.6661 - acc: 0.715 - ETA: 5:17 - loss: 0.6660 - acc: 0.715 - ETA: 5:16 - loss: 0.6660 - acc: 0.715 - ETA: 5:16 - loss: 0.6659 - acc: 0.715 - ETA: 5:15 - loss: 0.6658 - acc: 0.716 - ETA: 5:14 - loss: 0.6658 - acc: 0.716 - ETA: 5:14 - loss: 0.6658 - acc: 0.716 - ETA: 5:13 - loss: 0.6657 - acc: 0.716 - ETA: 5:13 - loss: 0.6657 - acc: 0.716 - ETA: 5:12 - loss: 0.6656 - acc: 0.716 - ETA: 5:11 - loss: 0.6654 - acc: 0.716 - ETA: 5:11 - loss: 0.6654 - acc: 0.716 - ETA: 5:10 - loss: 0.6655 - acc: 0.716 - ETA: 5:10 - loss: 0.6654 - acc: 0.716 - ETA: 5:09 - loss: 0.6654 - acc: 0.716 - ETA: 5:08 - loss: 0.6654 - acc: 0.716 - ETA: 5:08 - loss: 0.6653 - acc: 0.716 - ETA: 5:07 - loss: 0.6653 - acc: 0.716 - ETA: 5:07 - loss: 0.6653 - acc: 0.716 - ETA: 5:06 - loss: 0.6652 - acc: 0.716 - ETA: 5:06 - loss: 0.6650 - acc: 0.716 - ETA: 5:05 - loss: 0.6649 - acc: 0.716 - ETA: 5:04 - loss: 0.6648 - acc: 0.716 - ETA: 5:04 - loss: 0.6648 - acc: 0.716 - ETA: 5:03 - loss: 0.6648 - acc: 0.716 - ETA: 5:03 - loss: 0.6648 - acc: 0.716 - ETA: 5:02 - loss: 0.6646 - acc: 0.716 - ETA: 5:02 - loss: 0.6645 - acc: 0.716 - ETA: 5:02 - loss: 0.6645 - acc: 0.716 - ETA: 5:01 - loss: 0.6645 - acc: 0.716 - ETA: 5:00 - loss: 0.6644 - acc: 0.716 - ETA: 5:00 - loss: 0.6644 - acc: 0.716 - ETA: 4:59 - loss: 0.6643 - acc: 0.716 - ETA: 4:59 - loss: 0.6643 - acc: 0.716 - ETA: 4:58 - loss: 0.6643 - acc: 0.716 - ETA: 4:57 - loss: 0.6643 - acc: 0.716 - ETA: 4:57 - loss: 0.6643 - acc: 0.716 - ETA: 4:56 - loss: 0.6641 - acc: 0.716 - ETA: 4:56 - loss: 0.6641 - acc: 0.716 - ETA: 4:55 - loss: 0.6640 - acc: 0.716 - ETA: 4:54 - loss: 0.6640 - acc: 0.716 - ETA: 4:54 - loss: 0.6640 - acc: 0.716 - ETA: 4:53 - loss: 0.6639 - acc: 0.717 - ETA: 4:53 - loss: 0.6638 - acc: 0.717 - ETA: 4:52 - loss: 0.6638 - acc: 0.717 - ETA: 4:51 - loss: 0.6637 - acc: 0.717 - ETA: 4:51 - loss: 0.6638 - acc: 0.717 - ETA: 4:50 - loss: 0.6637 - acc: 0.717 - ETA: 4:49 - loss: 0.6635 - acc: 0.717 - ETA: 4:49 - loss: 0.6634 - acc: 0.717 - ETA: 4:48 - loss: 0.6635 - acc: 0.717 - ETA: 4:48 - loss: 0.6634 - acc: 0.717 - ETA: 4:47 - loss: 0.6633 - acc: 0.717 - ETA: 4:46 - loss: 0.6633 - acc: 0.717 - ETA: 4:46 - loss: 0.6633 - acc: 0.717 - ETA: 4:45 - loss: 0.6632 - acc: 0.717 - ETA: 4:45 - loss: 0.6632 - acc: 0.717 - ETA: 4:44 - loss: 0.6631 - acc: 0.717 - ETA: 4:43 - loss: 0.6629 - acc: 0.717 - ETA: 4:43 - loss: 0.6628 - acc: 0.717 - ETA: 4:42 - loss: 0.6628 - acc: 0.717 - ETA: 4:41 - loss: 0.6627 - acc: 0.717 - ETA: 4:41 - loss: 0.6627 - acc: 0.717 - ETA: 4:40 - loss: 0.6626 - acc: 0.717 - ETA: 4:40 - loss: 0.6625 - acc: 0.7177"
     ]
    },
    {
     "name": "stdout",
     "output_type": "stream",
     "text": [
      "117376/135000 [=========================>....] - ETA: 4:39 - loss: 0.6624 - acc: 0.717 - ETA: 4:38 - loss: 0.6623 - acc: 0.717 - ETA: 4:38 - loss: 0.6623 - acc: 0.717 - ETA: 4:37 - loss: 0.6622 - acc: 0.717 - ETA: 4:37 - loss: 0.6622 - acc: 0.717 - ETA: 4:36 - loss: 0.6621 - acc: 0.717 - ETA: 4:35 - loss: 0.6620 - acc: 0.717 - ETA: 4:35 - loss: 0.6620 - acc: 0.717 - ETA: 4:34 - loss: 0.6619 - acc: 0.717 - ETA: 4:34 - loss: 0.6619 - acc: 0.718 - ETA: 4:33 - loss: 0.6618 - acc: 0.718 - ETA: 4:32 - loss: 0.6617 - acc: 0.718 - ETA: 4:32 - loss: 0.6617 - acc: 0.718 - ETA: 4:31 - loss: 0.6616 - acc: 0.718 - ETA: 4:31 - loss: 0.6615 - acc: 0.718 - ETA: 4:30 - loss: 0.6614 - acc: 0.718 - ETA: 4:30 - loss: 0.6614 - acc: 0.718 - ETA: 4:29 - loss: 0.6613 - acc: 0.718 - ETA: 4:28 - loss: 0.6613 - acc: 0.718 - ETA: 4:28 - loss: 0.6612 - acc: 0.718 - ETA: 4:27 - loss: 0.6612 - acc: 0.718 - ETA: 4:27 - loss: 0.6612 - acc: 0.718 - ETA: 4:26 - loss: 0.6611 - acc: 0.718 - ETA: 4:25 - loss: 0.6611 - acc: 0.718 - ETA: 4:25 - loss: 0.6611 - acc: 0.718 - ETA: 4:24 - loss: 0.6611 - acc: 0.718 - ETA: 4:23 - loss: 0.6612 - acc: 0.718 - ETA: 4:23 - loss: 0.6612 - acc: 0.718 - ETA: 4:22 - loss: 0.6611 - acc: 0.718 - ETA: 4:22 - loss: 0.6610 - acc: 0.718 - ETA: 4:21 - loss: 0.6609 - acc: 0.718 - ETA: 4:20 - loss: 0.6609 - acc: 0.718 - ETA: 4:20 - loss: 0.6608 - acc: 0.718 - ETA: 4:19 - loss: 0.6608 - acc: 0.718 - ETA: 4:19 - loss: 0.6608 - acc: 0.718 - ETA: 4:18 - loss: 0.6609 - acc: 0.718 - ETA: 4:17 - loss: 0.6609 - acc: 0.718 - ETA: 4:17 - loss: 0.6609 - acc: 0.718 - ETA: 4:16 - loss: 0.6608 - acc: 0.718 - ETA: 4:16 - loss: 0.6608 - acc: 0.718 - ETA: 4:15 - loss: 0.6608 - acc: 0.718 - ETA: 4:14 - loss: 0.6607 - acc: 0.718 - ETA: 4:14 - loss: 0.6607 - acc: 0.718 - ETA: 4:13 - loss: 0.6606 - acc: 0.718 - ETA: 4:13 - loss: 0.6606 - acc: 0.718 - ETA: 4:12 - loss: 0.6605 - acc: 0.718 - ETA: 4:11 - loss: 0.6604 - acc: 0.718 - ETA: 4:11 - loss: 0.6604 - acc: 0.718 - ETA: 4:10 - loss: 0.6604 - acc: 0.718 - ETA: 4:09 - loss: 0.6604 - acc: 0.718 - ETA: 4:09 - loss: 0.6603 - acc: 0.718 - ETA: 4:08 - loss: 0.6603 - acc: 0.718 - ETA: 4:08 - loss: 0.6602 - acc: 0.718 - ETA: 4:07 - loss: 0.6601 - acc: 0.718 - ETA: 4:06 - loss: 0.6600 - acc: 0.718 - ETA: 4:06 - loss: 0.6600 - acc: 0.718 - ETA: 4:05 - loss: 0.6601 - acc: 0.718 - ETA: 4:05 - loss: 0.6600 - acc: 0.718 - ETA: 4:04 - loss: 0.6600 - acc: 0.718 - ETA: 4:03 - loss: 0.6599 - acc: 0.718 - ETA: 4:03 - loss: 0.6598 - acc: 0.718 - ETA: 4:02 - loss: 0.6598 - acc: 0.718 - ETA: 4:02 - loss: 0.6597 - acc: 0.718 - ETA: 4:01 - loss: 0.6597 - acc: 0.718 - ETA: 4:00 - loss: 0.6597 - acc: 0.718 - ETA: 4:00 - loss: 0.6596 - acc: 0.718 - ETA: 3:59 - loss: 0.6597 - acc: 0.718 - ETA: 3:59 - loss: 0.6596 - acc: 0.718 - ETA: 3:58 - loss: 0.6596 - acc: 0.718 - ETA: 3:57 - loss: 0.6596 - acc: 0.719 - ETA: 3:57 - loss: 0.6594 - acc: 0.719 - ETA: 3:56 - loss: 0.6592 - acc: 0.719 - ETA: 3:56 - loss: 0.6591 - acc: 0.719 - ETA: 3:55 - loss: 0.6591 - acc: 0.719 - ETA: 3:54 - loss: 0.6590 - acc: 0.719 - ETA: 3:54 - loss: 0.6590 - acc: 0.719 - ETA: 3:53 - loss: 0.6590 - acc: 0.719 - ETA: 3:53 - loss: 0.6589 - acc: 0.719 - ETA: 3:52 - loss: 0.6589 - acc: 0.719 - ETA: 3:51 - loss: 0.6589 - acc: 0.719 - ETA: 3:51 - loss: 0.6588 - acc: 0.719 - ETA: 3:50 - loss: 0.6588 - acc: 0.719 - ETA: 3:50 - loss: 0.6587 - acc: 0.719 - ETA: 3:49 - loss: 0.6587 - acc: 0.719 - ETA: 3:48 - loss: 0.6586 - acc: 0.719 - ETA: 3:48 - loss: 0.6586 - acc: 0.719 - ETA: 3:47 - loss: 0.6585 - acc: 0.719 - ETA: 3:47 - loss: 0.6585 - acc: 0.719 - ETA: 3:46 - loss: 0.6585 - acc: 0.719 - ETA: 3:45 - loss: 0.6585 - acc: 0.719 - ETA: 3:45 - loss: 0.6584 - acc: 0.719 - ETA: 3:44 - loss: 0.6584 - acc: 0.719 - ETA: 3:44 - loss: 0.6583 - acc: 0.719 - ETA: 3:43 - loss: 0.6584 - acc: 0.719 - ETA: 3:42 - loss: 0.6584 - acc: 0.719 - ETA: 3:42 - loss: 0.6583 - acc: 0.719 - ETA: 3:41 - loss: 0.6583 - acc: 0.719 - ETA: 3:41 - loss: 0.6582 - acc: 0.719 - ETA: 3:40 - loss: 0.6581 - acc: 0.719 - ETA: 3:39 - loss: 0.6581 - acc: 0.719 - ETA: 3:39 - loss: 0.6581 - acc: 0.719 - ETA: 3:38 - loss: 0.6580 - acc: 0.719 - ETA: 3:38 - loss: 0.6580 - acc: 0.719 - ETA: 3:37 - loss: 0.6579 - acc: 0.719 - ETA: 3:36 - loss: 0.6578 - acc: 0.719 - ETA: 3:36 - loss: 0.6579 - acc: 0.719 - ETA: 3:35 - loss: 0.6579 - acc: 0.719 - ETA: 3:35 - loss: 0.6578 - acc: 0.719 - ETA: 3:34 - loss: 0.6578 - acc: 0.719 - ETA: 3:33 - loss: 0.6578 - acc: 0.719 - ETA: 3:33 - loss: 0.6578 - acc: 0.719 - ETA: 3:32 - loss: 0.6577 - acc: 0.719 - ETA: 3:32 - loss: 0.6577 - acc: 0.719 - ETA: 3:31 - loss: 0.6576 - acc: 0.719 - ETA: 3:31 - loss: 0.6576 - acc: 0.719 - ETA: 3:30 - loss: 0.6575 - acc: 0.719 - ETA: 3:29 - loss: 0.6575 - acc: 0.719 - ETA: 3:29 - loss: 0.6575 - acc: 0.720 - ETA: 3:28 - loss: 0.6574 - acc: 0.720 - ETA: 3:28 - loss: 0.6573 - acc: 0.720 - ETA: 3:27 - loss: 0.6573 - acc: 0.720 - ETA: 3:26 - loss: 0.6572 - acc: 0.720 - ETA: 3:26 - loss: 0.6571 - acc: 0.720 - ETA: 3:25 - loss: 0.6570 - acc: 0.720 - ETA: 3:25 - loss: 0.6570 - acc: 0.720 - ETA: 3:24 - loss: 0.6570 - acc: 0.720 - ETA: 3:23 - loss: 0.6569 - acc: 0.720 - ETA: 3:23 - loss: 0.6568 - acc: 0.720 - ETA: 3:22 - loss: 0.6568 - acc: 0.720 - ETA: 3:22 - loss: 0.6567 - acc: 0.720 - ETA: 3:21 - loss: 0.6567 - acc: 0.720 - ETA: 3:21 - loss: 0.6568 - acc: 0.720 - ETA: 3:20 - loss: 0.6569 - acc: 0.720 - ETA: 3:19 - loss: 0.6568 - acc: 0.720 - ETA: 3:19 - loss: 0.6567 - acc: 0.720 - ETA: 3:18 - loss: 0.6567 - acc: 0.720 - ETA: 3:18 - loss: 0.6566 - acc: 0.720 - ETA: 3:17 - loss: 0.6566 - acc: 0.720 - ETA: 3:16 - loss: 0.6566 - acc: 0.720 - ETA: 3:16 - loss: 0.6566 - acc: 0.720 - ETA: 3:15 - loss: 0.6565 - acc: 0.720 - ETA: 3:15 - loss: 0.6565 - acc: 0.720 - ETA: 3:14 - loss: 0.6564 - acc: 0.720 - ETA: 3:14 - loss: 0.6563 - acc: 0.720 - ETA: 3:13 - loss: 0.6563 - acc: 0.720 - ETA: 3:13 - loss: 0.6563 - acc: 0.720 - ETA: 3:12 - loss: 0.6563 - acc: 0.720 - ETA: 3:11 - loss: 0.6563 - acc: 0.720 - ETA: 3:11 - loss: 0.6563 - acc: 0.720 - ETA: 3:10 - loss: 0.6562 - acc: 0.720 - ETA: 3:10 - loss: 0.6561 - acc: 0.720 - ETA: 3:09 - loss: 0.6562 - acc: 0.720 - ETA: 3:08 - loss: 0.6561 - acc: 0.720 - ETA: 3:08 - loss: 0.6560 - acc: 0.720 - ETA: 3:07 - loss: 0.6559 - acc: 0.720 - ETA: 3:07 - loss: 0.6558 - acc: 0.720 - ETA: 3:06 - loss: 0.6558 - acc: 0.720 - ETA: 3:06 - loss: 0.6557 - acc: 0.720 - ETA: 3:05 - loss: 0.6557 - acc: 0.720 - ETA: 3:04 - loss: 0.6558 - acc: 0.720 - ETA: 3:04 - loss: 0.6557 - acc: 0.720 - ETA: 3:03 - loss: 0.6557 - acc: 0.720 - ETA: 3:03 - loss: 0.6557 - acc: 0.720 - ETA: 3:02 - loss: 0.6556 - acc: 0.720 - ETA: 3:01 - loss: 0.6555 - acc: 0.721 - ETA: 3:01 - loss: 0.6555 - acc: 0.721 - ETA: 3:00 - loss: 0.6554 - acc: 0.721 - ETA: 3:00 - loss: 0.6553 - acc: 0.721 - ETA: 2:59 - loss: 0.6553 - acc: 0.721 - ETA: 2:59 - loss: 0.6553 - acc: 0.721 - ETA: 2:58 - loss: 0.6552 - acc: 0.721 - ETA: 2:57 - loss: 0.6552 - acc: 0.721 - ETA: 2:57 - loss: 0.6551 - acc: 0.721 - ETA: 2:56 - loss: 0.6550 - acc: 0.721 - ETA: 2:56 - loss: 0.6549 - acc: 0.721 - ETA: 2:55 - loss: 0.6549 - acc: 0.721 - ETA: 2:55 - loss: 0.6549 - acc: 0.721 - ETA: 2:54 - loss: 0.6548 - acc: 0.721 - ETA: 2:53 - loss: 0.6547 - acc: 0.721 - ETA: 2:53 - loss: 0.6546 - acc: 0.721 - ETA: 2:52 - loss: 0.6546 - acc: 0.721 - ETA: 2:52 - loss: 0.6546 - acc: 0.721 - ETA: 2:51 - loss: 0.6545 - acc: 0.721 - ETA: 2:50 - loss: 0.6545 - acc: 0.721 - ETA: 2:50 - loss: 0.6545 - acc: 0.721 - ETA: 2:49 - loss: 0.6544 - acc: 0.721 - ETA: 2:49 - loss: 0.6544 - acc: 0.721 - ETA: 2:48 - loss: 0.6543 - acc: 0.721 - ETA: 2:48 - loss: 0.6542 - acc: 0.721 - ETA: 2:47 - loss: 0.6542 - acc: 0.721 - ETA: 2:47 - loss: 0.6543 - acc: 0.721 - ETA: 2:46 - loss: 0.6542 - acc: 0.721 - ETA: 2:45 - loss: 0.6543 - acc: 0.721 - ETA: 2:45 - loss: 0.6542 - acc: 0.721 - ETA: 2:44 - loss: 0.6541 - acc: 0.721 - ETA: 2:44 - loss: 0.6541 - acc: 0.721 - ETA: 2:43 - loss: 0.6541 - acc: 0.721 - ETA: 2:43 - loss: 0.6541 - acc: 0.721 - ETA: 2:42 - loss: 0.6541 - acc: 0.721 - ETA: 2:41 - loss: 0.6540 - acc: 0.721 - ETA: 2:41 - loss: 0.6539 - acc: 0.721 - ETA: 2:40 - loss: 0.6540 - acc: 0.721 - ETA: 2:40 - loss: 0.6540 - acc: 0.721 - ETA: 2:39 - loss: 0.6539 - acc: 0.7218"
     ]
    },
    {
     "name": "stdout",
     "output_type": "stream",
     "text": [
      "130560/135000 [============================>.] - ETA: 2:39 - loss: 0.6539 - acc: 0.721 - ETA: 2:38 - loss: 0.6538 - acc: 0.721 - ETA: 2:38 - loss: 0.6538 - acc: 0.721 - ETA: 2:37 - loss: 0.6537 - acc: 0.721 - ETA: 2:37 - loss: 0.6536 - acc: 0.721 - ETA: 2:36 - loss: 0.6536 - acc: 0.721 - ETA: 2:36 - loss: 0.6536 - acc: 0.721 - ETA: 2:35 - loss: 0.6535 - acc: 0.721 - ETA: 2:34 - loss: 0.6535 - acc: 0.721 - ETA: 2:34 - loss: 0.6534 - acc: 0.722 - ETA: 2:33 - loss: 0.6534 - acc: 0.722 - ETA: 2:33 - loss: 0.6533 - acc: 0.722 - ETA: 2:32 - loss: 0.6533 - acc: 0.722 - ETA: 2:32 - loss: 0.6532 - acc: 0.722 - ETA: 2:31 - loss: 0.6531 - acc: 0.722 - ETA: 2:31 - loss: 0.6531 - acc: 0.722 - ETA: 2:30 - loss: 0.6530 - acc: 0.722 - ETA: 2:29 - loss: 0.6530 - acc: 0.722 - ETA: 2:29 - loss: 0.6529 - acc: 0.722 - ETA: 2:28 - loss: 0.6528 - acc: 0.722 - ETA: 2:28 - loss: 0.6527 - acc: 0.722 - ETA: 2:27 - loss: 0.6526 - acc: 0.722 - ETA: 2:27 - loss: 0.6526 - acc: 0.722 - ETA: 2:26 - loss: 0.6526 - acc: 0.722 - ETA: 2:25 - loss: 0.6525 - acc: 0.722 - ETA: 2:25 - loss: 0.6526 - acc: 0.722 - ETA: 2:24 - loss: 0.6526 - acc: 0.722 - ETA: 2:24 - loss: 0.6526 - acc: 0.722 - ETA: 2:23 - loss: 0.6527 - acc: 0.722 - ETA: 2:23 - loss: 0.6526 - acc: 0.722 - ETA: 2:22 - loss: 0.6526 - acc: 0.722 - ETA: 2:22 - loss: 0.6526 - acc: 0.722 - ETA: 2:21 - loss: 0.6526 - acc: 0.722 - ETA: 2:20 - loss: 0.6525 - acc: 0.722 - ETA: 2:20 - loss: 0.6524 - acc: 0.722 - ETA: 2:19 - loss: 0.6524 - acc: 0.722 - ETA: 2:19 - loss: 0.6523 - acc: 0.722 - ETA: 2:18 - loss: 0.6524 - acc: 0.722 - ETA: 2:18 - loss: 0.6523 - acc: 0.722 - ETA: 2:17 - loss: 0.6522 - acc: 0.722 - ETA: 2:17 - loss: 0.6522 - acc: 0.722 - ETA: 2:16 - loss: 0.6521 - acc: 0.722 - ETA: 2:15 - loss: 0.6521 - acc: 0.722 - ETA: 2:15 - loss: 0.6521 - acc: 0.722 - ETA: 2:14 - loss: 0.6520 - acc: 0.722 - ETA: 2:14 - loss: 0.6520 - acc: 0.723 - ETA: 2:13 - loss: 0.6520 - acc: 0.723 - ETA: 2:12 - loss: 0.6519 - acc: 0.723 - ETA: 2:12 - loss: 0.6518 - acc: 0.723 - ETA: 2:11 - loss: 0.6519 - acc: 0.723 - ETA: 2:11 - loss: 0.6518 - acc: 0.723 - ETA: 2:10 - loss: 0.6518 - acc: 0.723 - ETA: 2:10 - loss: 0.6518 - acc: 0.723 - ETA: 2:09 - loss: 0.6517 - acc: 0.723 - ETA: 2:09 - loss: 0.6517 - acc: 0.723 - ETA: 2:08 - loss: 0.6516 - acc: 0.723 - ETA: 2:07 - loss: 0.6516 - acc: 0.723 - ETA: 2:07 - loss: 0.6515 - acc: 0.723 - ETA: 2:06 - loss: 0.6516 - acc: 0.723 - ETA: 2:06 - loss: 0.6515 - acc: 0.723 - ETA: 2:05 - loss: 0.6514 - acc: 0.723 - ETA: 2:05 - loss: 0.6513 - acc: 0.723 - ETA: 2:04 - loss: 0.6512 - acc: 0.723 - ETA: 2:03 - loss: 0.6512 - acc: 0.723 - ETA: 2:03 - loss: 0.6511 - acc: 0.723 - ETA: 2:02 - loss: 0.6510 - acc: 0.723 - ETA: 2:02 - loss: 0.6509 - acc: 0.723 - ETA: 2:01 - loss: 0.6509 - acc: 0.723 - ETA: 2:01 - loss: 0.6509 - acc: 0.723 - ETA: 2:00 - loss: 0.6509 - acc: 0.723 - ETA: 1:59 - loss: 0.6508 - acc: 0.723 - ETA: 1:59 - loss: 0.6508 - acc: 0.723 - ETA: 1:58 - loss: 0.6507 - acc: 0.723 - ETA: 1:58 - loss: 0.6506 - acc: 0.723 - ETA: 1:57 - loss: 0.6506 - acc: 0.723 - ETA: 1:57 - loss: 0.6506 - acc: 0.723 - ETA: 1:56 - loss: 0.6505 - acc: 0.723 - ETA: 1:56 - loss: 0.6505 - acc: 0.723 - ETA: 1:55 - loss: 0.6505 - acc: 0.723 - ETA: 1:54 - loss: 0.6504 - acc: 0.723 - ETA: 1:54 - loss: 0.6504 - acc: 0.723 - ETA: 1:53 - loss: 0.6504 - acc: 0.723 - ETA: 1:53 - loss: 0.6503 - acc: 0.723 - ETA: 1:52 - loss: 0.6503 - acc: 0.723 - ETA: 1:52 - loss: 0.6503 - acc: 0.723 - ETA: 1:51 - loss: 0.6502 - acc: 0.723 - ETA: 1:50 - loss: 0.6501 - acc: 0.723 - ETA: 1:50 - loss: 0.6502 - acc: 0.723 - ETA: 1:49 - loss: 0.6502 - acc: 0.723 - ETA: 1:49 - loss: 0.6501 - acc: 0.723 - ETA: 1:48 - loss: 0.6500 - acc: 0.723 - ETA: 1:48 - loss: 0.6500 - acc: 0.723 - ETA: 1:47 - loss: 0.6499 - acc: 0.723 - ETA: 1:46 - loss: 0.6498 - acc: 0.723 - ETA: 1:46 - loss: 0.6498 - acc: 0.724 - ETA: 1:45 - loss: 0.6498 - acc: 0.724 - ETA: 1:45 - loss: 0.6498 - acc: 0.724 - ETA: 1:44 - loss: 0.6498 - acc: 0.724 - ETA: 1:43 - loss: 0.6497 - acc: 0.724 - ETA: 1:43 - loss: 0.6496 - acc: 0.724 - ETA: 1:42 - loss: 0.6496 - acc: 0.724 - ETA: 1:42 - loss: 0.6496 - acc: 0.724 - ETA: 1:41 - loss: 0.6495 - acc: 0.724 - ETA: 1:41 - loss: 0.6495 - acc: 0.724 - ETA: 1:40 - loss: 0.6495 - acc: 0.724 - ETA: 1:39 - loss: 0.6494 - acc: 0.724 - ETA: 1:39 - loss: 0.6494 - acc: 0.724 - ETA: 1:38 - loss: 0.6494 - acc: 0.724 - ETA: 1:38 - loss: 0.6495 - acc: 0.724 - ETA: 1:37 - loss: 0.6493 - acc: 0.724 - ETA: 1:36 - loss: 0.6493 - acc: 0.724 - ETA: 1:36 - loss: 0.6493 - acc: 0.724 - ETA: 1:35 - loss: 0.6492 - acc: 0.724 - ETA: 1:35 - loss: 0.6492 - acc: 0.724 - ETA: 1:34 - loss: 0.6491 - acc: 0.724 - ETA: 1:34 - loss: 0.6491 - acc: 0.724 - ETA: 1:33 - loss: 0.6491 - acc: 0.724 - ETA: 1:32 - loss: 0.6490 - acc: 0.724 - ETA: 1:32 - loss: 0.6489 - acc: 0.724 - ETA: 1:31 - loss: 0.6489 - acc: 0.724 - ETA: 1:31 - loss: 0.6489 - acc: 0.724 - ETA: 1:30 - loss: 0.6488 - acc: 0.724 - ETA: 1:29 - loss: 0.6487 - acc: 0.724 - ETA: 1:29 - loss: 0.6486 - acc: 0.724 - ETA: 1:28 - loss: 0.6485 - acc: 0.724 - ETA: 1:28 - loss: 0.6485 - acc: 0.724 - ETA: 1:27 - loss: 0.6484 - acc: 0.724 - ETA: 1:27 - loss: 0.6484 - acc: 0.724 - ETA: 1:26 - loss: 0.6483 - acc: 0.724 - ETA: 1:25 - loss: 0.6483 - acc: 0.724 - ETA: 1:25 - loss: 0.6483 - acc: 0.724 - ETA: 1:24 - loss: 0.6483 - acc: 0.724 - ETA: 1:24 - loss: 0.6482 - acc: 0.724 - ETA: 1:23 - loss: 0.6482 - acc: 0.724 - ETA: 1:22 - loss: 0.6481 - acc: 0.724 - ETA: 1:22 - loss: 0.6480 - acc: 0.724 - ETA: 1:21 - loss: 0.6480 - acc: 0.724 - ETA: 1:21 - loss: 0.6479 - acc: 0.725 - ETA: 1:20 - loss: 0.6478 - acc: 0.725 - ETA: 1:19 - loss: 0.6479 - acc: 0.724 - ETA: 1:19 - loss: 0.6479 - acc: 0.724 - ETA: 1:18 - loss: 0.6478 - acc: 0.725 - ETA: 1:18 - loss: 0.6478 - acc: 0.725 - ETA: 1:17 - loss: 0.6478 - acc: 0.725 - ETA: 1:16 - loss: 0.6477 - acc: 0.725 - ETA: 1:16 - loss: 0.6477 - acc: 0.725 - ETA: 1:15 - loss: 0.6477 - acc: 0.725 - ETA: 1:15 - loss: 0.6477 - acc: 0.725 - ETA: 1:14 - loss: 0.6477 - acc: 0.725 - ETA: 1:14 - loss: 0.6476 - acc: 0.725 - ETA: 1:13 - loss: 0.6476 - acc: 0.725 - ETA: 1:12 - loss: 0.6476 - acc: 0.725 - ETA: 1:12 - loss: 0.6476 - acc: 0.725 - ETA: 1:11 - loss: 0.6476 - acc: 0.725 - ETA: 1:11 - loss: 0.6475 - acc: 0.725 - ETA: 1:10 - loss: 0.6476 - acc: 0.725 - ETA: 1:09 - loss: 0.6476 - acc: 0.725 - ETA: 1:09 - loss: 0.6475 - acc: 0.725 - ETA: 1:08 - loss: 0.6474 - acc: 0.725 - ETA: 1:08 - loss: 0.6473 - acc: 0.725 - ETA: 1:07 - loss: 0.6473 - acc: 0.725 - ETA: 1:07 - loss: 0.6472 - acc: 0.725 - ETA: 1:06 - loss: 0.6471 - acc: 0.725 - ETA: 1:05 - loss: 0.6471 - acc: 0.725 - ETA: 1:05 - loss: 0.6471 - acc: 0.725 - ETA: 1:04 - loss: 0.6471 - acc: 0.725 - ETA: 1:04 - loss: 0.6470 - acc: 0.725 - ETA: 1:03 - loss: 0.6469 - acc: 0.725 - ETA: 1:02 - loss: 0.6469 - acc: 0.725 - ETA: 1:02 - loss: 0.6469 - acc: 0.725 - ETA: 1:01 - loss: 0.6468 - acc: 0.725 - ETA: 1:01 - loss: 0.6468 - acc: 0.725 - ETA: 1:00 - loss: 0.6467 - acc: 0.725 - ETA: 59s - loss: 0.6467 - acc: 0.725 - ETA: 59s - loss: 0.6467 - acc: 0.72 - ETA: 58s - loss: 0.6467 - acc: 0.72 - ETA: 58s - loss: 0.6468 - acc: 0.72 - ETA: 57s - loss: 0.6467 - acc: 0.72 - ETA: 56s - loss: 0.6468 - acc: 0.72 - ETA: 56s - loss: 0.6467 - acc: 0.72 - ETA: 55s - loss: 0.6466 - acc: 0.72 - ETA: 55s - loss: 0.6466 - acc: 0.72 - ETA: 54s - loss: 0.6466 - acc: 0.72 - ETA: 54s - loss: 0.6465 - acc: 0.72 - ETA: 53s - loss: 0.6463 - acc: 0.72 - ETA: 52s - loss: 0.6463 - acc: 0.72 - ETA: 52s - loss: 0.6463 - acc: 0.72 - ETA: 51s - loss: 0.6462 - acc: 0.72 - ETA: 51s - loss: 0.6461 - acc: 0.72 - ETA: 50s - loss: 0.6461 - acc: 0.72 - ETA: 49s - loss: 0.6460 - acc: 0.72 - ETA: 49s - loss: 0.6460 - acc: 0.72 - ETA: 48s - loss: 0.6459 - acc: 0.72 - ETA: 48s - loss: 0.6458 - acc: 0.72 - ETA: 47s - loss: 0.6459 - acc: 0.72 - ETA: 46s - loss: 0.6459 - acc: 0.72 - ETA: 46s - loss: 0.6458 - acc: 0.72 - ETA: 45s - loss: 0.6457 - acc: 0.72 - ETA: 45s - loss: 0.6458 - acc: 0.72 - ETA: 44s - loss: 0.6457 - acc: 0.72 - ETA: 43s - loss: 0.6457 - acc: 0.72 - ETA: 43s - loss: 0.6456 - acc: 0.72 - ETA: 42s - loss: 0.6456 - acc: 0.72 - ETA: 42s - loss: 0.6456 - acc: 0.72 - ETA: 41s - loss: 0.6455 - acc: 0.72 - ETA: 40s - loss: 0.6454 - acc: 0.7263"
     ]
    },
    {
     "name": "stdout",
     "output_type": "stream",
     "text": [
      "135000/135000 [==============================] - ETA: 40s - loss: 0.6454 - acc: 0.72 - ETA: 39s - loss: 0.6454 - acc: 0.72 - ETA: 39s - loss: 0.6453 - acc: 0.72 - ETA: 38s - loss: 0.6452 - acc: 0.72 - ETA: 38s - loss: 0.6452 - acc: 0.72 - ETA: 37s - loss: 0.6451 - acc: 0.72 - ETA: 36s - loss: 0.6450 - acc: 0.72 - ETA: 36s - loss: 0.6450 - acc: 0.72 - ETA: 35s - loss: 0.6449 - acc: 0.72 - ETA: 35s - loss: 0.6449 - acc: 0.72 - ETA: 34s - loss: 0.6450 - acc: 0.72 - ETA: 33s - loss: 0.6448 - acc: 0.72 - ETA: 33s - loss: 0.6449 - acc: 0.72 - ETA: 32s - loss: 0.6449 - acc: 0.72 - ETA: 32s - loss: 0.6448 - acc: 0.72 - ETA: 31s - loss: 0.6447 - acc: 0.72 - ETA: 30s - loss: 0.6448 - acc: 0.72 - ETA: 30s - loss: 0.6448 - acc: 0.72 - ETA: 29s - loss: 0.6447 - acc: 0.72 - ETA: 29s - loss: 0.6447 - acc: 0.72 - ETA: 28s - loss: 0.6447 - acc: 0.72 - ETA: 27s - loss: 0.6447 - acc: 0.72 - ETA: 27s - loss: 0.6447 - acc: 0.72 - ETA: 26s - loss: 0.6446 - acc: 0.72 - ETA: 26s - loss: 0.6445 - acc: 0.72 - ETA: 25s - loss: 0.6445 - acc: 0.72 - ETA: 25s - loss: 0.6444 - acc: 0.72 - ETA: 24s - loss: 0.6444 - acc: 0.72 - ETA: 23s - loss: 0.6443 - acc: 0.72 - ETA: 23s - loss: 0.6443 - acc: 0.72 - ETA: 22s - loss: 0.6443 - acc: 0.72 - ETA: 22s - loss: 0.6442 - acc: 0.72 - ETA: 21s - loss: 0.6443 - acc: 0.72 - ETA: 20s - loss: 0.6443 - acc: 0.72 - ETA: 20s - loss: 0.6442 - acc: 0.72 - ETA: 19s - loss: 0.6442 - acc: 0.72 - ETA: 19s - loss: 0.6441 - acc: 0.72 - ETA: 18s - loss: 0.6441 - acc: 0.72 - ETA: 17s - loss: 0.6441 - acc: 0.72 - ETA: 17s - loss: 0.6441 - acc: 0.72 - ETA: 16s - loss: 0.6440 - acc: 0.72 - ETA: 16s - loss: 0.6440 - acc: 0.72 - ETA: 15s - loss: 0.6440 - acc: 0.72 - ETA: 15s - loss: 0.6439 - acc: 0.72 - ETA: 14s - loss: 0.6440 - acc: 0.72 - ETA: 13s - loss: 0.6439 - acc: 0.72 - ETA: 13s - loss: 0.6439 - acc: 0.72 - ETA: 12s - loss: 0.6438 - acc: 0.72 - ETA: 12s - loss: 0.6438 - acc: 0.72 - ETA: 11s - loss: 0.6437 - acc: 0.72 - ETA: 10s - loss: 0.6437 - acc: 0.72 - ETA: 10s - loss: 0.6436 - acc: 0.72 - ETA: 9s - loss: 0.6435 - acc: 0.7271 - ETA: 9s - loss: 0.6435 - acc: 0.727 - ETA: 8s - loss: 0.6435 - acc: 0.727 - ETA: 7s - loss: 0.6435 - acc: 0.727 - ETA: 7s - loss: 0.6434 - acc: 0.727 - ETA: 6s - loss: 0.6434 - acc: 0.727 - ETA: 6s - loss: 0.6434 - acc: 0.727 - ETA: 5s - loss: 0.6434 - acc: 0.727 - ETA: 4s - loss: 0.6435 - acc: 0.727 - ETA: 4s - loss: 0.6434 - acc: 0.727 - ETA: 3s - loss: 0.6434 - acc: 0.727 - ETA: 3s - loss: 0.6434 - acc: 0.727 - ETA: 2s - loss: 0.6433 - acc: 0.727 - ETA: 2s - loss: 0.6433 - acc: 0.727 - ETA: 1s - loss: 0.6433 - acc: 0.727 - ETA: 0s - loss: 0.6433 - acc: 0.727 - ETA: 0s - loss: 0.6433 - acc: 0.727 - 1283s 10ms/step - loss: 0.6433 - acc: 0.7272 - val_loss: 0.5071 - val_acc: 0.7945\n",
      "Epoch 2/3\n"
     ]
    },
    {
     "name": "stdout",
     "output_type": "stream",
     "text": [
      " 13056/135000 [=>............................] - ETA: 16:40 - loss: 0.5433 - acc: 0.75 - ETA: 16:38 - loss: 0.5010 - acc: 0.77 - ETA: 16:42 - loss: 0.5378 - acc: 0.74 - ETA: 16:48 - loss: 0.5190 - acc: 0.76 - ETA: 17:16 - loss: 0.5408 - acc: 0.75 - ETA: 17:23 - loss: 0.5489 - acc: 0.75 - ETA: 17:39 - loss: 0.5400 - acc: 0.75 - ETA: 17:53 - loss: 0.5486 - acc: 0.75 - ETA: 18:20 - loss: 0.5479 - acc: 0.76 - ETA: 18:16 - loss: 0.5430 - acc: 0.75 - ETA: 18:55 - loss: 0.5636 - acc: 0.75 - ETA: 18:50 - loss: 0.5673 - acc: 0.75 - ETA: 18:44 - loss: 0.5657 - acc: 0.75 - ETA: 18:37 - loss: 0.5712 - acc: 0.74 - ETA: 18:29 - loss: 0.5660 - acc: 0.75 - ETA: 18:45 - loss: 0.5684 - acc: 0.74 - ETA: 18:52 - loss: 0.5689 - acc: 0.74 - ETA: 18:48 - loss: 0.5755 - acc: 0.74 - ETA: 18:42 - loss: 0.5758 - acc: 0.74 - ETA: 18:40 - loss: 0.5692 - acc: 0.74 - ETA: 18:39 - loss: 0.5668 - acc: 0.74 - ETA: 18:35 - loss: 0.5647 - acc: 0.74 - ETA: 18:37 - loss: 0.5616 - acc: 0.75 - ETA: 18:43 - loss: 0.5708 - acc: 0.75 - ETA: 18:38 - loss: 0.5772 - acc: 0.75 - ETA: 18:36 - loss: 0.5750 - acc: 0.75 - ETA: 18:33 - loss: 0.5738 - acc: 0.75 - ETA: 18:30 - loss: 0.5749 - acc: 0.75 - ETA: 18:26 - loss: 0.5719 - acc: 0.75 - ETA: 18:25 - loss: 0.5761 - acc: 0.75 - ETA: 18:32 - loss: 0.5714 - acc: 0.75 - ETA: 18:35 - loss: 0.5692 - acc: 0.75 - ETA: 18:33 - loss: 0.5628 - acc: 0.75 - ETA: 18:37 - loss: 0.5638 - acc: 0.75 - ETA: 18:35 - loss: 0.5632 - acc: 0.75 - ETA: 18:33 - loss: 0.5631 - acc: 0.75 - ETA: 18:30 - loss: 0.5626 - acc: 0.75 - ETA: 18:27 - loss: 0.5632 - acc: 0.75 - ETA: 18:24 - loss: 0.5632 - acc: 0.76 - ETA: 18:21 - loss: 0.5643 - acc: 0.75 - ETA: 18:19 - loss: 0.5655 - acc: 0.75 - ETA: 18:16 - loss: 0.5654 - acc: 0.75 - ETA: 18:14 - loss: 0.5632 - acc: 0.76 - ETA: 18:12 - loss: 0.5613 - acc: 0.76 - ETA: 18:10 - loss: 0.5609 - acc: 0.76 - ETA: 18:09 - loss: 0.5650 - acc: 0.75 - ETA: 18:07 - loss: 0.5632 - acc: 0.76 - ETA: 18:05 - loss: 0.5635 - acc: 0.76 - ETA: 18:03 - loss: 0.5629 - acc: 0.76 - ETA: 18:01 - loss: 0.5625 - acc: 0.76 - ETA: 18:00 - loss: 0.5594 - acc: 0.76 - ETA: 17:57 - loss: 0.5605 - acc: 0.76 - ETA: 17:56 - loss: 0.5628 - acc: 0.76 - ETA: 17:54 - loss: 0.5625 - acc: 0.76 - ETA: 17:53 - loss: 0.5629 - acc: 0.76 - ETA: 17:51 - loss: 0.5664 - acc: 0.76 - ETA: 17:49 - loss: 0.5653 - acc: 0.76 - ETA: 17:48 - loss: 0.5633 - acc: 0.76 - ETA: 17:46 - loss: 0.5640 - acc: 0.76 - ETA: 17:45 - loss: 0.5617 - acc: 0.76 - ETA: 17:43 - loss: 0.5625 - acc: 0.76 - ETA: 17:42 - loss: 0.5647 - acc: 0.76 - ETA: 17:41 - loss: 0.5655 - acc: 0.76 - ETA: 17:39 - loss: 0.5674 - acc: 0.76 - ETA: 17:38 - loss: 0.5661 - acc: 0.76 - ETA: 17:36 - loss: 0.5658 - acc: 0.76 - ETA: 17:35 - loss: 0.5652 - acc: 0.76 - ETA: 17:34 - loss: 0.5647 - acc: 0.76 - ETA: 17:32 - loss: 0.5647 - acc: 0.76 - ETA: 17:32 - loss: 0.5655 - acc: 0.76 - ETA: 17:30 - loss: 0.5652 - acc: 0.76 - ETA: 17:29 - loss: 0.5640 - acc: 0.76 - ETA: 17:28 - loss: 0.5625 - acc: 0.76 - ETA: 17:27 - loss: 0.5647 - acc: 0.76 - ETA: 17:26 - loss: 0.5643 - acc: 0.76 - ETA: 17:25 - loss: 0.5634 - acc: 0.76 - ETA: 17:24 - loss: 0.5648 - acc: 0.76 - ETA: 17:23 - loss: 0.5634 - acc: 0.76 - ETA: 17:22 - loss: 0.5625 - acc: 0.76 - ETA: 17:22 - loss: 0.5620 - acc: 0.76 - ETA: 17:21 - loss: 0.5625 - acc: 0.76 - ETA: 17:20 - loss: 0.5638 - acc: 0.76 - ETA: 17:19 - loss: 0.5628 - acc: 0.76 - ETA: 17:19 - loss: 0.5629 - acc: 0.76 - ETA: 17:18 - loss: 0.5642 - acc: 0.76 - ETA: 17:17 - loss: 0.5632 - acc: 0.76 - ETA: 17:16 - loss: 0.5623 - acc: 0.76 - ETA: 17:21 - loss: 0.5617 - acc: 0.76 - ETA: 17:28 - loss: 0.5611 - acc: 0.76 - ETA: 17:34 - loss: 0.5612 - acc: 0.76 - ETA: 18:00 - loss: 0.5599 - acc: 0.76 - ETA: 18:10 - loss: 0.5587 - acc: 0.76 - ETA: 18:17 - loss: 0.5590 - acc: 0.76 - ETA: 18:30 - loss: 0.5590 - acc: 0.76 - ETA: 18:35 - loss: 0.5621 - acc: 0.76 - ETA: 18:37 - loss: 0.5633 - acc: 0.76 - ETA: 18:43 - loss: 0.5636 - acc: 0.76 - ETA: 18:56 - loss: 0.5628 - acc: 0.76 - ETA: 18:58 - loss: 0.5627 - acc: 0.76 - ETA: 18:59 - loss: 0.5615 - acc: 0.76 - ETA: 19:00 - loss: 0.5617 - acc: 0.76 - ETA: 19:02 - loss: 0.5614 - acc: 0.76 - ETA: 19:03 - loss: 0.5609 - acc: 0.76 - ETA: 19:05 - loss: 0.5598 - acc: 0.76 - ETA: 19:06 - loss: 0.5602 - acc: 0.76 - ETA: 19:07 - loss: 0.5617 - acc: 0.76 - ETA: 19:08 - loss: 0.5624 - acc: 0.76 - ETA: 19:09 - loss: 0.5629 - acc: 0.76 - ETA: 19:10 - loss: 0.5630 - acc: 0.76 - ETA: 19:12 - loss: 0.5623 - acc: 0.76 - ETA: 19:13 - loss: 0.5624 - acc: 0.76 - ETA: 19:24 - loss: 0.5617 - acc: 0.76 - ETA: 19:25 - loss: 0.5616 - acc: 0.76 - ETA: 19:31 - loss: 0.5624 - acc: 0.76 - ETA: 19:43 - loss: 0.5611 - acc: 0.76 - ETA: 19:48 - loss: 0.5597 - acc: 0.76 - ETA: 19:49 - loss: 0.5591 - acc: 0.76 - ETA: 19:49 - loss: 0.5589 - acc: 0.76 - ETA: 19:50 - loss: 0.5589 - acc: 0.76 - ETA: 19:51 - loss: 0.5586 - acc: 0.76 - ETA: 19:51 - loss: 0.5575 - acc: 0.76 - ETA: 19:53 - loss: 0.5566 - acc: 0.76 - ETA: 19:53 - loss: 0.5571 - acc: 0.76 - ETA: 19:53 - loss: 0.5572 - acc: 0.76 - ETA: 19:53 - loss: 0.5572 - acc: 0.76 - ETA: 19:54 - loss: 0.5580 - acc: 0.76 - ETA: 19:53 - loss: 0.5579 - acc: 0.76 - ETA: 19:54 - loss: 0.5586 - acc: 0.76 - ETA: 19:55 - loss: 0.5586 - acc: 0.76 - ETA: 19:55 - loss: 0.5576 - acc: 0.76 - ETA: 19:55 - loss: 0.5578 - acc: 0.76 - ETA: 19:56 - loss: 0.5588 - acc: 0.76 - ETA: 19:56 - loss: 0.5584 - acc: 0.76 - ETA: 19:56 - loss: 0.5588 - acc: 0.76 - ETA: 19:56 - loss: 0.5597 - acc: 0.76 - ETA: 19:56 - loss: 0.5593 - acc: 0.76 - ETA: 19:56 - loss: 0.5586 - acc: 0.76 - ETA: 19:56 - loss: 0.5582 - acc: 0.76 - ETA: 19:56 - loss: 0.5578 - acc: 0.77 - ETA: 19:56 - loss: 0.5568 - acc: 0.77 - ETA: 19:57 - loss: 0.5572 - acc: 0.77 - ETA: 19:56 - loss: 0.5566 - acc: 0.77 - ETA: 19:56 - loss: 0.5574 - acc: 0.77 - ETA: 19:56 - loss: 0.5576 - acc: 0.77 - ETA: 19:56 - loss: 0.5584 - acc: 0.76 - ETA: 19:56 - loss: 0.5603 - acc: 0.76 - ETA: 19:56 - loss: 0.5610 - acc: 0.76 - ETA: 19:56 - loss: 0.5608 - acc: 0.76 - ETA: 19:56 - loss: 0.5610 - acc: 0.76 - ETA: 20:00 - loss: 0.5605 - acc: 0.76 - ETA: 20:07 - loss: 0.5618 - acc: 0.76 - ETA: 20:13 - loss: 0.5615 - acc: 0.76 - ETA: 20:19 - loss: 0.5616 - acc: 0.76 - ETA: 20:25 - loss: 0.5612 - acc: 0.76 - ETA: 20:37 - loss: 0.5611 - acc: 0.76 - ETA: 20:42 - loss: 0.5618 - acc: 0.76 - ETA: 20:44 - loss: 0.5620 - acc: 0.76 - ETA: 20:46 - loss: 0.5621 - acc: 0.76 - ETA: 20:48 - loss: 0.5616 - acc: 0.76 - ETA: 20:50 - loss: 0.5610 - acc: 0.76 - ETA: 20:54 - loss: 0.5605 - acc: 0.77 - ETA: 20:59 - loss: 0.5609 - acc: 0.76 - ETA: 21:01 - loss: 0.5598 - acc: 0.77 - ETA: 21:05 - loss: 0.5603 - acc: 0.77 - ETA: 21:20 - loss: 0.5611 - acc: 0.76 - ETA: 21:22 - loss: 0.5607 - acc: 0.76 - ETA: 21:23 - loss: 0.5605 - acc: 0.76 - ETA: 21:34 - loss: 0.5595 - acc: 0.77 - ETA: 21:37 - loss: 0.5588 - acc: 0.77 - ETA: 21:38 - loss: 0.5595 - acc: 0.77 - ETA: 21:42 - loss: 0.5584 - acc: 0.77 - ETA: 21:52 - loss: 0.5586 - acc: 0.77 - ETA: 22:02 - loss: 0.5583 - acc: 0.77 - ETA: 22:10 - loss: 0.5582 - acc: 0.77 - ETA: 22:13 - loss: 0.5578 - acc: 0.77 - ETA: 22:18 - loss: 0.5578 - acc: 0.77 - ETA: 22:27 - loss: 0.5579 - acc: 0.77 - ETA: 22:30 - loss: 0.5586 - acc: 0.77 - ETA: 22:29 - loss: 0.5589 - acc: 0.77 - ETA: 22:29 - loss: 0.5583 - acc: 0.77 - ETA: 22:28 - loss: 0.5578 - acc: 0.77 - ETA: 22:29 - loss: 0.5569 - acc: 0.77 - ETA: 22:33 - loss: 0.5570 - acc: 0.77 - ETA: 22:32 - loss: 0.5556 - acc: 0.77 - ETA: 22:51 - loss: 0.5547 - acc: 0.77 - ETA: 23:09 - loss: 0.5551 - acc: 0.77 - ETA: 23:11 - loss: 0.5544 - acc: 0.77 - ETA: 23:11 - loss: 0.5543 - acc: 0.77 - ETA: 23:09 - loss: 0.5543 - acc: 0.77 - ETA: 23:08 - loss: 0.5544 - acc: 0.77 - ETA: 23:10 - loss: 0.5533 - acc: 0.77 - ETA: 23:09 - loss: 0.5548 - acc: 0.77 - ETA: 23:08 - loss: 0.5545 - acc: 0.77 - ETA: 23:07 - loss: 0.5542 - acc: 0.77 - ETA: 23:05 - loss: 0.5545 - acc: 0.77 - ETA: 23:04 - loss: 0.5545 - acc: 0.77 - ETA: 23:04 - loss: 0.5548 - acc: 0.77 - ETA: 23:03 - loss: 0.5557 - acc: 0.77 - ETA: 23:02 - loss: 0.5552 - acc: 0.77 - ETA: 23:01 - loss: 0.5562 - acc: 0.77 - ETA: 23:03 - loss: 0.5564 - acc: 0.77 - ETA: 23:03 - loss: 0.5566 - acc: 0.77 - ETA: 23:02 - loss: 0.5564 - acc: 0.77 - ETA: 23:00 - loss: 0.5562 - acc: 0.7727"
     ]
    },
    {
     "name": "stdout",
     "output_type": "stream",
     "text": [
      " 26112/135000 [====>.........................] - ETA: 22:58 - loss: 0.5560 - acc: 0.77 - ETA: 22:57 - loss: 0.5562 - acc: 0.77 - ETA: 22:56 - loss: 0.5561 - acc: 0.77 - ETA: 22:55 - loss: 0.5566 - acc: 0.77 - ETA: 22:56 - loss: 0.5562 - acc: 0.77 - ETA: 22:58 - loss: 0.5566 - acc: 0.77 - ETA: 22:57 - loss: 0.5568 - acc: 0.77 - ETA: 22:55 - loss: 0.5568 - acc: 0.77 - ETA: 22:54 - loss: 0.5566 - acc: 0.77 - ETA: 22:53 - loss: 0.5564 - acc: 0.77 - ETA: 22:50 - loss: 0.5556 - acc: 0.77 - ETA: 22:49 - loss: 0.5551 - acc: 0.77 - ETA: 22:47 - loss: 0.5553 - acc: 0.77 - ETA: 22:46 - loss: 0.5548 - acc: 0.77 - ETA: 22:44 - loss: 0.5541 - acc: 0.77 - ETA: 22:42 - loss: 0.5541 - acc: 0.77 - ETA: 22:40 - loss: 0.5541 - acc: 0.77 - ETA: 22:38 - loss: 0.5544 - acc: 0.77 - ETA: 22:36 - loss: 0.5548 - acc: 0.77 - ETA: 22:34 - loss: 0.5546 - acc: 0.77 - ETA: 22:32 - loss: 0.5546 - acc: 0.77 - ETA: 22:30 - loss: 0.5545 - acc: 0.77 - ETA: 22:28 - loss: 0.5551 - acc: 0.77 - ETA: 22:26 - loss: 0.5550 - acc: 0.77 - ETA: 22:24 - loss: 0.5548 - acc: 0.77 - ETA: 22:22 - loss: 0.5541 - acc: 0.77 - ETA: 22:21 - loss: 0.5545 - acc: 0.77 - ETA: 22:19 - loss: 0.5549 - acc: 0.77 - ETA: 22:17 - loss: 0.5543 - acc: 0.77 - ETA: 22:15 - loss: 0.5540 - acc: 0.77 - ETA: 22:13 - loss: 0.5543 - acc: 0.77 - ETA: 22:12 - loss: 0.5545 - acc: 0.77 - ETA: 22:10 - loss: 0.5547 - acc: 0.77 - ETA: 22:07 - loss: 0.5544 - acc: 0.77 - ETA: 22:05 - loss: 0.5543 - acc: 0.77 - ETA: 22:03 - loss: 0.5550 - acc: 0.77 - ETA: 22:01 - loss: 0.5545 - acc: 0.77 - ETA: 21:59 - loss: 0.5553 - acc: 0.77 - ETA: 21:57 - loss: 0.5558 - acc: 0.77 - ETA: 21:55 - loss: 0.5560 - acc: 0.77 - ETA: 21:53 - loss: 0.5559 - acc: 0.77 - ETA: 21:51 - loss: 0.5561 - acc: 0.77 - ETA: 21:49 - loss: 0.5566 - acc: 0.77 - ETA: 21:48 - loss: 0.5568 - acc: 0.77 - ETA: 21:46 - loss: 0.5568 - acc: 0.77 - ETA: 21:44 - loss: 0.5567 - acc: 0.77 - ETA: 21:42 - loss: 0.5563 - acc: 0.77 - ETA: 21:41 - loss: 0.5562 - acc: 0.77 - ETA: 21:41 - loss: 0.5559 - acc: 0.77 - ETA: 21:40 - loss: 0.5560 - acc: 0.77 - ETA: 21:38 - loss: 0.5558 - acc: 0.77 - ETA: 21:37 - loss: 0.5560 - acc: 0.77 - ETA: 21:35 - loss: 0.5557 - acc: 0.77 - ETA: 21:33 - loss: 0.5561 - acc: 0.77 - ETA: 21:32 - loss: 0.5557 - acc: 0.77 - ETA: 21:30 - loss: 0.5555 - acc: 0.77 - ETA: 21:29 - loss: 0.5547 - acc: 0.77 - ETA: 21:27 - loss: 0.5549 - acc: 0.77 - ETA: 21:25 - loss: 0.5553 - acc: 0.77 - ETA: 21:25 - loss: 0.5556 - acc: 0.77 - ETA: 21:23 - loss: 0.5556 - acc: 0.77 - ETA: 21:22 - loss: 0.5552 - acc: 0.77 - ETA: 21:20 - loss: 0.5552 - acc: 0.77 - ETA: 21:20 - loss: 0.5551 - acc: 0.77 - ETA: 21:18 - loss: 0.5552 - acc: 0.77 - ETA: 21:17 - loss: 0.5550 - acc: 0.77 - ETA: 21:15 - loss: 0.5554 - acc: 0.77 - ETA: 21:14 - loss: 0.5548 - acc: 0.77 - ETA: 21:12 - loss: 0.5552 - acc: 0.77 - ETA: 21:10 - loss: 0.5553 - acc: 0.77 - ETA: 21:09 - loss: 0.5546 - acc: 0.77 - ETA: 21:08 - loss: 0.5544 - acc: 0.77 - ETA: 21:06 - loss: 0.5543 - acc: 0.77 - ETA: 21:04 - loss: 0.5537 - acc: 0.77 - ETA: 21:03 - loss: 0.5542 - acc: 0.77 - ETA: 21:02 - loss: 0.5539 - acc: 0.77 - ETA: 21:01 - loss: 0.5535 - acc: 0.77 - ETA: 21:00 - loss: 0.5526 - acc: 0.77 - ETA: 20:58 - loss: 0.5521 - acc: 0.77 - ETA: 20:57 - loss: 0.5524 - acc: 0.77 - ETA: 20:56 - loss: 0.5526 - acc: 0.77 - ETA: 20:54 - loss: 0.5525 - acc: 0.77 - ETA: 20:53 - loss: 0.5523 - acc: 0.77 - ETA: 20:52 - loss: 0.5521 - acc: 0.77 - ETA: 20:51 - loss: 0.5519 - acc: 0.77 - ETA: 20:51 - loss: 0.5518 - acc: 0.77 - ETA: 20:49 - loss: 0.5517 - acc: 0.77 - ETA: 20:47 - loss: 0.5518 - acc: 0.77 - ETA: 20:46 - loss: 0.5512 - acc: 0.77 - ETA: 20:45 - loss: 0.5510 - acc: 0.77 - ETA: 20:45 - loss: 0.5509 - acc: 0.77 - ETA: 20:45 - loss: 0.5503 - acc: 0.77 - ETA: 20:44 - loss: 0.5508 - acc: 0.77 - ETA: 20:43 - loss: 0.5502 - acc: 0.77 - ETA: 20:41 - loss: 0.5504 - acc: 0.77 - ETA: 20:40 - loss: 0.5506 - acc: 0.77 - ETA: 20:39 - loss: 0.5504 - acc: 0.77 - ETA: 20:37 - loss: 0.5507 - acc: 0.77 - ETA: 20:36 - loss: 0.5504 - acc: 0.77 - ETA: 20:34 - loss: 0.5505 - acc: 0.77 - ETA: 20:33 - loss: 0.5504 - acc: 0.77 - ETA: 20:32 - loss: 0.5504 - acc: 0.77 - ETA: 20:30 - loss: 0.5500 - acc: 0.77 - ETA: 20:29 - loss: 0.5500 - acc: 0.77 - ETA: 20:27 - loss: 0.5500 - acc: 0.77 - ETA: 20:26 - loss: 0.5500 - acc: 0.77 - ETA: 20:25 - loss: 0.5502 - acc: 0.77 - ETA: 20:23 - loss: 0.5505 - acc: 0.77 - ETA: 20:21 - loss: 0.5499 - acc: 0.77 - ETA: 20:20 - loss: 0.5497 - acc: 0.77 - ETA: 20:19 - loss: 0.5497 - acc: 0.77 - ETA: 20:18 - loss: 0.5495 - acc: 0.77 - ETA: 20:17 - loss: 0.5496 - acc: 0.77 - ETA: 20:16 - loss: 0.5495 - acc: 0.77 - ETA: 20:15 - loss: 0.5496 - acc: 0.77 - ETA: 20:13 - loss: 0.5496 - acc: 0.77 - ETA: 20:12 - loss: 0.5493 - acc: 0.77 - ETA: 20:10 - loss: 0.5495 - acc: 0.77 - ETA: 20:09 - loss: 0.5493 - acc: 0.77 - ETA: 20:08 - loss: 0.5497 - acc: 0.77 - ETA: 20:06 - loss: 0.5492 - acc: 0.77 - ETA: 20:04 - loss: 0.5486 - acc: 0.77 - ETA: 20:03 - loss: 0.5482 - acc: 0.77 - ETA: 20:02 - loss: 0.5481 - acc: 0.77 - ETA: 20:00 - loss: 0.5481 - acc: 0.77 - ETA: 20:00 - loss: 0.5479 - acc: 0.77 - ETA: 19:59 - loss: 0.5482 - acc: 0.77 - ETA: 19:58 - loss: 0.5486 - acc: 0.77 - ETA: 19:56 - loss: 0.5487 - acc: 0.77 - ETA: 19:55 - loss: 0.5484 - acc: 0.77 - ETA: 19:54 - loss: 0.5483 - acc: 0.77 - ETA: 19:53 - loss: 0.5483 - acc: 0.77 - ETA: 19:52 - loss: 0.5484 - acc: 0.77 - ETA: 19:51 - loss: 0.5484 - acc: 0.77 - ETA: 19:51 - loss: 0.5482 - acc: 0.77 - ETA: 19:50 - loss: 0.5484 - acc: 0.77 - ETA: 19:49 - loss: 0.5488 - acc: 0.77 - ETA: 19:48 - loss: 0.5489 - acc: 0.77 - ETA: 19:47 - loss: 0.5490 - acc: 0.77 - ETA: 19:46 - loss: 0.5488 - acc: 0.77 - ETA: 19:45 - loss: 0.5486 - acc: 0.77 - ETA: 19:45 - loss: 0.5486 - acc: 0.77 - ETA: 19:44 - loss: 0.5483 - acc: 0.77 - ETA: 19:43 - loss: 0.5484 - acc: 0.77 - ETA: 19:42 - loss: 0.5480 - acc: 0.77 - ETA: 19:42 - loss: 0.5485 - acc: 0.77 - ETA: 19:41 - loss: 0.5483 - acc: 0.77 - ETA: 19:40 - loss: 0.5484 - acc: 0.77 - ETA: 19:39 - loss: 0.5480 - acc: 0.77 - ETA: 19:38 - loss: 0.5476 - acc: 0.77 - ETA: 19:37 - loss: 0.5473 - acc: 0.77 - ETA: 19:36 - loss: 0.5471 - acc: 0.77 - ETA: 19:34 - loss: 0.5474 - acc: 0.77 - ETA: 19:33 - loss: 0.5465 - acc: 0.77 - ETA: 19:32 - loss: 0.5467 - acc: 0.77 - ETA: 19:30 - loss: 0.5468 - acc: 0.77 - ETA: 19:29 - loss: 0.5467 - acc: 0.77 - ETA: 19:27 - loss: 0.5468 - acc: 0.77 - ETA: 19:26 - loss: 0.5467 - acc: 0.77 - ETA: 19:24 - loss: 0.5469 - acc: 0.77 - ETA: 19:23 - loss: 0.5469 - acc: 0.77 - ETA: 19:21 - loss: 0.5465 - acc: 0.77 - ETA: 19:20 - loss: 0.5468 - acc: 0.77 - ETA: 19:19 - loss: 0.5471 - acc: 0.77 - ETA: 19:17 - loss: 0.5473 - acc: 0.77 - ETA: 19:16 - loss: 0.5470 - acc: 0.77 - ETA: 19:14 - loss: 0.5470 - acc: 0.77 - ETA: 19:13 - loss: 0.5470 - acc: 0.77 - ETA: 19:12 - loss: 0.5472 - acc: 0.77 - ETA: 19:10 - loss: 0.5473 - acc: 0.77 - ETA: 19:09 - loss: 0.5475 - acc: 0.77 - ETA: 19:08 - loss: 0.5474 - acc: 0.77 - ETA: 19:06 - loss: 0.5476 - acc: 0.77 - ETA: 19:05 - loss: 0.5477 - acc: 0.77 - ETA: 19:03 - loss: 0.5479 - acc: 0.77 - ETA: 19:02 - loss: 0.5479 - acc: 0.77 - ETA: 19:01 - loss: 0.5479 - acc: 0.77 - ETA: 18:59 - loss: 0.5484 - acc: 0.77 - ETA: 18:58 - loss: 0.5486 - acc: 0.77 - ETA: 18:56 - loss: 0.5483 - acc: 0.77 - ETA: 18:55 - loss: 0.5479 - acc: 0.77 - ETA: 18:54 - loss: 0.5484 - acc: 0.77 - ETA: 18:52 - loss: 0.5485 - acc: 0.77 - ETA: 18:51 - loss: 0.5483 - acc: 0.77 - ETA: 18:50 - loss: 0.5485 - acc: 0.77 - ETA: 18:48 - loss: 0.5484 - acc: 0.77 - ETA: 18:47 - loss: 0.5482 - acc: 0.77 - ETA: 18:46 - loss: 0.5478 - acc: 0.77 - ETA: 18:44 - loss: 0.5482 - acc: 0.77 - ETA: 18:43 - loss: 0.5482 - acc: 0.77 - ETA: 18:42 - loss: 0.5482 - acc: 0.77 - ETA: 18:40 - loss: 0.5483 - acc: 0.77 - ETA: 18:39 - loss: 0.5481 - acc: 0.77 - ETA: 18:38 - loss: 0.5480 - acc: 0.77 - ETA: 18:36 - loss: 0.5478 - acc: 0.77 - ETA: 18:35 - loss: 0.5477 - acc: 0.77 - ETA: 18:34 - loss: 0.5481 - acc: 0.77 - ETA: 18:33 - loss: 0.5484 - acc: 0.77 - ETA: 18:31 - loss: 0.5483 - acc: 0.77 - ETA: 18:30 - loss: 0.5480 - acc: 0.77 - ETA: 18:29 - loss: 0.5477 - acc: 0.77 - ETA: 18:27 - loss: 0.5474 - acc: 0.77 - ETA: 18:26 - loss: 0.5478 - acc: 0.77 - ETA: 18:25 - loss: 0.5479 - acc: 0.7739"
     ]
    },
    {
     "name": "stdout",
     "output_type": "stream",
     "text": [
      " 39168/135000 [=======>......................] - ETA: 18:24 - loss: 0.5484 - acc: 0.77 - ETA: 18:22 - loss: 0.5481 - acc: 0.77 - ETA: 18:21 - loss: 0.5484 - acc: 0.77 - ETA: 18:20 - loss: 0.5489 - acc: 0.77 - ETA: 18:19 - loss: 0.5487 - acc: 0.77 - ETA: 18:17 - loss: 0.5490 - acc: 0.77 - ETA: 18:16 - loss: 0.5490 - acc: 0.77 - ETA: 18:15 - loss: 0.5489 - acc: 0.77 - ETA: 18:13 - loss: 0.5487 - acc: 0.77 - ETA: 18:12 - loss: 0.5488 - acc: 0.77 - ETA: 18:11 - loss: 0.5486 - acc: 0.77 - ETA: 18:10 - loss: 0.5486 - acc: 0.77 - ETA: 18:08 - loss: 0.5487 - acc: 0.77 - ETA: 18:07 - loss: 0.5486 - acc: 0.77 - ETA: 18:06 - loss: 0.5485 - acc: 0.77 - ETA: 18:05 - loss: 0.5485 - acc: 0.77 - ETA: 18:04 - loss: 0.5484 - acc: 0.77 - ETA: 18:02 - loss: 0.5481 - acc: 0.77 - ETA: 18:01 - loss: 0.5479 - acc: 0.77 - ETA: 18:00 - loss: 0.5478 - acc: 0.77 - ETA: 17:59 - loss: 0.5482 - acc: 0.77 - ETA: 17:58 - loss: 0.5479 - acc: 0.77 - ETA: 17:57 - loss: 0.5477 - acc: 0.77 - ETA: 18:00 - loss: 0.5477 - acc: 0.77 - ETA: 18:00 - loss: 0.5479 - acc: 0.77 - ETA: 18:02 - loss: 0.5477 - acc: 0.77 - ETA: 18:02 - loss: 0.5476 - acc: 0.77 - ETA: 18:02 - loss: 0.5474 - acc: 0.77 - ETA: 18:04 - loss: 0.5472 - acc: 0.77 - ETA: 18:03 - loss: 0.5473 - acc: 0.77 - ETA: 18:02 - loss: 0.5474 - acc: 0.77 - ETA: 18:03 - loss: 0.5476 - acc: 0.77 - ETA: 18:04 - loss: 0.5475 - acc: 0.77 - ETA: 18:05 - loss: 0.5478 - acc: 0.77 - ETA: 18:07 - loss: 0.5478 - acc: 0.77 - ETA: 18:07 - loss: 0.5476 - acc: 0.77 - ETA: 18:06 - loss: 0.5475 - acc: 0.77 - ETA: 18:05 - loss: 0.5473 - acc: 0.77 - ETA: 18:04 - loss: 0.5472 - acc: 0.77 - ETA: 18:04 - loss: 0.5473 - acc: 0.77 - ETA: 18:03 - loss: 0.5472 - acc: 0.77 - ETA: 18:02 - loss: 0.5471 - acc: 0.77 - ETA: 18:01 - loss: 0.5468 - acc: 0.77 - ETA: 18:00 - loss: 0.5466 - acc: 0.77 - ETA: 18:01 - loss: 0.5462 - acc: 0.77 - ETA: 18:03 - loss: 0.5465 - acc: 0.77 - ETA: 18:02 - loss: 0.5464 - acc: 0.77 - ETA: 18:01 - loss: 0.5464 - acc: 0.77 - ETA: 18:01 - loss: 0.5464 - acc: 0.77 - ETA: 18:04 - loss: 0.5466 - acc: 0.77 - ETA: 18:04 - loss: 0.5462 - acc: 0.77 - ETA: 18:03 - loss: 0.5464 - acc: 0.77 - ETA: 18:02 - loss: 0.5467 - acc: 0.77 - ETA: 18:01 - loss: 0.5470 - acc: 0.77 - ETA: 18:00 - loss: 0.5466 - acc: 0.77 - ETA: 17:59 - loss: 0.5462 - acc: 0.77 - ETA: 17:57 - loss: 0.5462 - acc: 0.77 - ETA: 17:56 - loss: 0.5461 - acc: 0.77 - ETA: 17:55 - loss: 0.5463 - acc: 0.77 - ETA: 17:54 - loss: 0.5465 - acc: 0.77 - ETA: 17:53 - loss: 0.5468 - acc: 0.77 - ETA: 17:53 - loss: 0.5469 - acc: 0.77 - ETA: 17:53 - loss: 0.5470 - acc: 0.77 - ETA: 17:52 - loss: 0.5470 - acc: 0.77 - ETA: 17:52 - loss: 0.5474 - acc: 0.77 - ETA: 17:51 - loss: 0.5474 - acc: 0.77 - ETA: 17:50 - loss: 0.5471 - acc: 0.77 - ETA: 17:49 - loss: 0.5470 - acc: 0.77 - ETA: 17:48 - loss: 0.5471 - acc: 0.77 - ETA: 17:48 - loss: 0.5468 - acc: 0.77 - ETA: 17:47 - loss: 0.5469 - acc: 0.77 - ETA: 17:46 - loss: 0.5469 - acc: 0.77 - ETA: 17:45 - loss: 0.5465 - acc: 0.77 - ETA: 17:44 - loss: 0.5465 - acc: 0.77 - ETA: 17:44 - loss: 0.5464 - acc: 0.77 - ETA: 17:43 - loss: 0.5462 - acc: 0.77 - ETA: 17:42 - loss: 0.5463 - acc: 0.77 - ETA: 17:44 - loss: 0.5463 - acc: 0.77 - ETA: 17:44 - loss: 0.5462 - acc: 0.77 - ETA: 17:44 - loss: 0.5464 - acc: 0.77 - ETA: 17:44 - loss: 0.5462 - acc: 0.77 - ETA: 17:44 - loss: 0.5462 - acc: 0.77 - ETA: 17:43 - loss: 0.5464 - acc: 0.77 - ETA: 17:43 - loss: 0.5463 - acc: 0.77 - ETA: 17:42 - loss: 0.5460 - acc: 0.77 - ETA: 17:41 - loss: 0.5460 - acc: 0.77 - ETA: 17:40 - loss: 0.5460 - acc: 0.77 - ETA: 17:39 - loss: 0.5461 - acc: 0.77 - ETA: 17:38 - loss: 0.5461 - acc: 0.77 - ETA: 17:37 - loss: 0.5465 - acc: 0.77 - ETA: 17:36 - loss: 0.5466 - acc: 0.77 - ETA: 17:36 - loss: 0.5466 - acc: 0.77 - ETA: 17:36 - loss: 0.5468 - acc: 0.77 - ETA: 17:37 - loss: 0.5469 - acc: 0.77 - ETA: 17:39 - loss: 0.5469 - acc: 0.77 - ETA: 17:38 - loss: 0.5468 - acc: 0.77 - ETA: 17:38 - loss: 0.5469 - acc: 0.77 - ETA: 17:36 - loss: 0.5470 - acc: 0.77 - ETA: 17:35 - loss: 0.5468 - acc: 0.77 - ETA: 17:34 - loss: 0.5467 - acc: 0.77 - ETA: 17:33 - loss: 0.5470 - acc: 0.77 - ETA: 17:32 - loss: 0.5469 - acc: 0.77 - ETA: 17:31 - loss: 0.5470 - acc: 0.77 - ETA: 17:30 - loss: 0.5470 - acc: 0.77 - ETA: 17:29 - loss: 0.5470 - acc: 0.77 - ETA: 17:28 - loss: 0.5471 - acc: 0.77 - ETA: 17:27 - loss: 0.5469 - acc: 0.77 - ETA: 17:26 - loss: 0.5468 - acc: 0.77 - ETA: 17:25 - loss: 0.5467 - acc: 0.77 - ETA: 17:24 - loss: 0.5464 - acc: 0.77 - ETA: 17:24 - loss: 0.5465 - acc: 0.77 - ETA: 17:24 - loss: 0.5465 - acc: 0.77 - ETA: 17:23 - loss: 0.5463 - acc: 0.77 - ETA: 17:22 - loss: 0.5464 - acc: 0.77 - ETA: 17:21 - loss: 0.5464 - acc: 0.77 - ETA: 17:20 - loss: 0.5464 - acc: 0.77 - ETA: 17:19 - loss: 0.5467 - acc: 0.77 - ETA: 17:18 - loss: 0.5465 - acc: 0.77 - ETA: 17:17 - loss: 0.5467 - acc: 0.77 - ETA: 17:16 - loss: 0.5466 - acc: 0.77 - ETA: 17:15 - loss: 0.5465 - acc: 0.77 - ETA: 17:14 - loss: 0.5461 - acc: 0.77 - ETA: 17:13 - loss: 0.5459 - acc: 0.77 - ETA: 17:12 - loss: 0.5460 - acc: 0.77 - ETA: 17:11 - loss: 0.5460 - acc: 0.77 - ETA: 17:11 - loss: 0.5460 - acc: 0.77 - ETA: 17:10 - loss: 0.5459 - acc: 0.77 - ETA: 17:09 - loss: 0.5459 - acc: 0.77 - ETA: 17:09 - loss: 0.5457 - acc: 0.77 - ETA: 17:08 - loss: 0.5457 - acc: 0.77 - ETA: 17:08 - loss: 0.5454 - acc: 0.77 - ETA: 17:08 - loss: 0.5451 - acc: 0.77 - ETA: 17:07 - loss: 0.5453 - acc: 0.77 - ETA: 17:06 - loss: 0.5451 - acc: 0.77 - ETA: 17:05 - loss: 0.5450 - acc: 0.77 - ETA: 17:03 - loss: 0.5450 - acc: 0.77 - ETA: 17:02 - loss: 0.5450 - acc: 0.77 - ETA: 17:01 - loss: 0.5451 - acc: 0.77 - ETA: 17:00 - loss: 0.5451 - acc: 0.77 - ETA: 16:59 - loss: 0.5453 - acc: 0.77 - ETA: 16:58 - loss: 0.5456 - acc: 0.77 - ETA: 16:57 - loss: 0.5454 - acc: 0.77 - ETA: 16:56 - loss: 0.5457 - acc: 0.77 - ETA: 16:55 - loss: 0.5458 - acc: 0.77 - ETA: 16:54 - loss: 0.5457 - acc: 0.77 - ETA: 16:53 - loss: 0.5456 - acc: 0.77 - ETA: 16:52 - loss: 0.5457 - acc: 0.77 - ETA: 16:51 - loss: 0.5458 - acc: 0.77 - ETA: 16:50 - loss: 0.5458 - acc: 0.77 - ETA: 16:49 - loss: 0.5458 - acc: 0.77 - ETA: 16:48 - loss: 0.5455 - acc: 0.77 - ETA: 16:46 - loss: 0.5458 - acc: 0.77 - ETA: 16:45 - loss: 0.5458 - acc: 0.77 - ETA: 16:44 - loss: 0.5457 - acc: 0.77 - ETA: 16:43 - loss: 0.5457 - acc: 0.77 - ETA: 16:42 - loss: 0.5456 - acc: 0.77 - ETA: 16:41 - loss: 0.5454 - acc: 0.77 - ETA: 16:40 - loss: 0.5453 - acc: 0.77 - ETA: 16:39 - loss: 0.5452 - acc: 0.77 - ETA: 16:38 - loss: 0.5454 - acc: 0.77 - ETA: 16:38 - loss: 0.5451 - acc: 0.77 - ETA: 16:37 - loss: 0.5451 - acc: 0.77 - ETA: 16:35 - loss: 0.5450 - acc: 0.77 - ETA: 16:34 - loss: 0.5449 - acc: 0.77 - ETA: 16:33 - loss: 0.5450 - acc: 0.77 - ETA: 16:32 - loss: 0.5452 - acc: 0.77 - ETA: 16:31 - loss: 0.5452 - acc: 0.77 - ETA: 16:30 - loss: 0.5453 - acc: 0.77 - ETA: 16:30 - loss: 0.5452 - acc: 0.77 - ETA: 16:30 - loss: 0.5454 - acc: 0.77 - ETA: 16:29 - loss: 0.5453 - acc: 0.77 - ETA: 16:29 - loss: 0.5455 - acc: 0.77 - ETA: 16:28 - loss: 0.5455 - acc: 0.77 - ETA: 16:28 - loss: 0.5453 - acc: 0.77 - ETA: 16:27 - loss: 0.5452 - acc: 0.77 - ETA: 16:27 - loss: 0.5452 - acc: 0.77 - ETA: 16:30 - loss: 0.5451 - acc: 0.77 - ETA: 16:30 - loss: 0.5450 - acc: 0.77 - ETA: 16:31 - loss: 0.5451 - acc: 0.77 - ETA: 16:31 - loss: 0.5450 - acc: 0.77 - ETA: 16:30 - loss: 0.5448 - acc: 0.77 - ETA: 16:32 - loss: 0.5448 - acc: 0.77 - ETA: 16:31 - loss: 0.5448 - acc: 0.77 - ETA: 16:31 - loss: 0.5447 - acc: 0.77 - ETA: 16:33 - loss: 0.5447 - acc: 0.77 - ETA: 16:33 - loss: 0.5444 - acc: 0.77 - ETA: 16:35 - loss: 0.5447 - acc: 0.77 - ETA: 16:35 - loss: 0.5445 - acc: 0.77 - ETA: 16:36 - loss: 0.5445 - acc: 0.77 - ETA: 16:36 - loss: 0.5446 - acc: 0.77 - ETA: 16:36 - loss: 0.5447 - acc: 0.77 - ETA: 16:36 - loss: 0.5446 - acc: 0.77 - ETA: 16:37 - loss: 0.5446 - acc: 0.77 - ETA: 16:36 - loss: 0.5444 - acc: 0.77 - ETA: 16:36 - loss: 0.5443 - acc: 0.77 - ETA: 16:35 - loss: 0.5440 - acc: 0.77 - ETA: 16:35 - loss: 0.5441 - acc: 0.77 - ETA: 16:35 - loss: 0.5441 - acc: 0.77 - ETA: 16:34 - loss: 0.5443 - acc: 0.77 - ETA: 16:33 - loss: 0.5445 - acc: 0.77 - ETA: 16:32 - loss: 0.5444 - acc: 0.77 - ETA: 16:32 - loss: 0.5442 - acc: 0.77 - ETA: 16:31 - loss: 0.5441 - acc: 0.77 - ETA: 16:30 - loss: 0.5440 - acc: 0.7759"
     ]
    },
    {
     "name": "stdout",
     "output_type": "stream",
     "text": [
      " 52224/135000 [==========>...................] - ETA: 16:30 - loss: 0.5438 - acc: 0.77 - ETA: 16:29 - loss: 0.5442 - acc: 0.77 - ETA: 16:28 - loss: 0.5441 - acc: 0.77 - ETA: 16:28 - loss: 0.5442 - acc: 0.77 - ETA: 16:27 - loss: 0.5441 - acc: 0.77 - ETA: 16:26 - loss: 0.5440 - acc: 0.77 - ETA: 16:25 - loss: 0.5439 - acc: 0.77 - ETA: 16:25 - loss: 0.5439 - acc: 0.77 - ETA: 16:24 - loss: 0.5439 - acc: 0.77 - ETA: 16:23 - loss: 0.5441 - acc: 0.77 - ETA: 16:23 - loss: 0.5439 - acc: 0.77 - ETA: 16:22 - loss: 0.5438 - acc: 0.77 - ETA: 16:21 - loss: 0.5438 - acc: 0.77 - ETA: 16:20 - loss: 0.5437 - acc: 0.77 - ETA: 16:19 - loss: 0.5437 - acc: 0.77 - ETA: 16:18 - loss: 0.5438 - acc: 0.77 - ETA: 16:17 - loss: 0.5438 - acc: 0.77 - ETA: 16:16 - loss: 0.5439 - acc: 0.77 - ETA: 16:15 - loss: 0.5440 - acc: 0.77 - ETA: 16:14 - loss: 0.5441 - acc: 0.77 - ETA: 16:13 - loss: 0.5440 - acc: 0.77 - ETA: 16:12 - loss: 0.5439 - acc: 0.77 - ETA: 16:11 - loss: 0.5440 - acc: 0.77 - ETA: 16:11 - loss: 0.5441 - acc: 0.77 - ETA: 16:10 - loss: 0.5441 - acc: 0.77 - ETA: 16:10 - loss: 0.5440 - acc: 0.77 - ETA: 16:09 - loss: 0.5439 - acc: 0.77 - ETA: 16:08 - loss: 0.5438 - acc: 0.77 - ETA: 16:07 - loss: 0.5438 - acc: 0.77 - ETA: 16:06 - loss: 0.5437 - acc: 0.77 - ETA: 16:06 - loss: 0.5436 - acc: 0.77 - ETA: 16:05 - loss: 0.5438 - acc: 0.77 - ETA: 16:05 - loss: 0.5437 - acc: 0.77 - ETA: 16:04 - loss: 0.5441 - acc: 0.77 - ETA: 16:03 - loss: 0.5441 - acc: 0.77 - ETA: 16:02 - loss: 0.5439 - acc: 0.77 - ETA: 16:01 - loss: 0.5439 - acc: 0.77 - ETA: 16:00 - loss: 0.5439 - acc: 0.77 - ETA: 15:59 - loss: 0.5438 - acc: 0.77 - ETA: 15:59 - loss: 0.5440 - acc: 0.77 - ETA: 15:58 - loss: 0.5438 - acc: 0.77 - ETA: 15:57 - loss: 0.5439 - acc: 0.77 - ETA: 15:56 - loss: 0.5440 - acc: 0.77 - ETA: 15:55 - loss: 0.5438 - acc: 0.77 - ETA: 15:54 - loss: 0.5437 - acc: 0.77 - ETA: 15:53 - loss: 0.5437 - acc: 0.77 - ETA: 15:52 - loss: 0.5434 - acc: 0.77 - ETA: 15:51 - loss: 0.5431 - acc: 0.77 - ETA: 15:50 - loss: 0.5435 - acc: 0.77 - ETA: 15:49 - loss: 0.5434 - acc: 0.77 - ETA: 15:48 - loss: 0.5433 - acc: 0.77 - ETA: 15:47 - loss: 0.5435 - acc: 0.77 - ETA: 15:47 - loss: 0.5437 - acc: 0.77 - ETA: 15:46 - loss: 0.5437 - acc: 0.77 - ETA: 15:45 - loss: 0.5436 - acc: 0.77 - ETA: 15:45 - loss: 0.5436 - acc: 0.77 - ETA: 15:44 - loss: 0.5434 - acc: 0.77 - ETA: 15:43 - loss: 0.5435 - acc: 0.77 - ETA: 15:42 - loss: 0.5435 - acc: 0.77 - ETA: 15:42 - loss: 0.5435 - acc: 0.77 - ETA: 15:41 - loss: 0.5433 - acc: 0.77 - ETA: 15:40 - loss: 0.5431 - acc: 0.77 - ETA: 15:39 - loss: 0.5431 - acc: 0.77 - ETA: 15:38 - loss: 0.5429 - acc: 0.77 - ETA: 15:37 - loss: 0.5431 - acc: 0.77 - ETA: 15:36 - loss: 0.5430 - acc: 0.77 - ETA: 15:35 - loss: 0.5429 - acc: 0.77 - ETA: 15:34 - loss: 0.5428 - acc: 0.77 - ETA: 15:33 - loss: 0.5426 - acc: 0.77 - ETA: 15:32 - loss: 0.5427 - acc: 0.77 - ETA: 15:31 - loss: 0.5431 - acc: 0.77 - ETA: 15:30 - loss: 0.5431 - acc: 0.77 - ETA: 15:29 - loss: 0.5429 - acc: 0.77 - ETA: 15:28 - loss: 0.5428 - acc: 0.77 - ETA: 15:28 - loss: 0.5428 - acc: 0.77 - ETA: 15:27 - loss: 0.5427 - acc: 0.77 - ETA: 15:26 - loss: 0.5424 - acc: 0.77 - ETA: 15:25 - loss: 0.5426 - acc: 0.77 - ETA: 15:25 - loss: 0.5424 - acc: 0.77 - ETA: 15:24 - loss: 0.5424 - acc: 0.77 - ETA: 15:23 - loss: 0.5424 - acc: 0.77 - ETA: 15:23 - loss: 0.5422 - acc: 0.77 - ETA: 15:22 - loss: 0.5420 - acc: 0.77 - ETA: 15:21 - loss: 0.5421 - acc: 0.77 - ETA: 15:20 - loss: 0.5422 - acc: 0.77 - ETA: 15:19 - loss: 0.5422 - acc: 0.77 - ETA: 15:18 - loss: 0.5421 - acc: 0.77 - ETA: 15:17 - loss: 0.5420 - acc: 0.77 - ETA: 15:16 - loss: 0.5419 - acc: 0.77 - ETA: 15:15 - loss: 0.5419 - acc: 0.77 - ETA: 15:14 - loss: 0.5419 - acc: 0.77 - ETA: 15:14 - loss: 0.5421 - acc: 0.77 - ETA: 15:13 - loss: 0.5419 - acc: 0.77 - ETA: 15:12 - loss: 0.5418 - acc: 0.77 - ETA: 15:11 - loss: 0.5418 - acc: 0.77 - ETA: 15:10 - loss: 0.5417 - acc: 0.77 - ETA: 15:10 - loss: 0.5415 - acc: 0.77 - ETA: 15:09 - loss: 0.5415 - acc: 0.77 - ETA: 15:09 - loss: 0.5416 - acc: 0.77 - ETA: 15:08 - loss: 0.5416 - acc: 0.77 - ETA: 15:07 - loss: 0.5416 - acc: 0.77 - ETA: 15:06 - loss: 0.5418 - acc: 0.77 - ETA: 15:06 - loss: 0.5420 - acc: 0.77 - ETA: 15:06 - loss: 0.5419 - acc: 0.77 - ETA: 15:06 - loss: 0.5419 - acc: 0.77 - ETA: 15:06 - loss: 0.5417 - acc: 0.77 - ETA: 15:05 - loss: 0.5417 - acc: 0.77 - ETA: 15:06 - loss: 0.5415 - acc: 0.77 - ETA: 15:05 - loss: 0.5415 - acc: 0.77 - ETA: 15:05 - loss: 0.5414 - acc: 0.77 - ETA: 15:04 - loss: 0.5416 - acc: 0.77 - ETA: 15:04 - loss: 0.5416 - acc: 0.77 - ETA: 15:04 - loss: 0.5415 - acc: 0.77 - ETA: 15:03 - loss: 0.5414 - acc: 0.77 - ETA: 15:02 - loss: 0.5415 - acc: 0.77 - ETA: 15:01 - loss: 0.5415 - acc: 0.77 - ETA: 15:03 - loss: 0.5417 - acc: 0.77 - ETA: 15:08 - loss: 0.5416 - acc: 0.77 - ETA: 15:07 - loss: 0.5414 - acc: 0.77 - ETA: 15:07 - loss: 0.5415 - acc: 0.77 - ETA: 15:07 - loss: 0.5413 - acc: 0.77 - ETA: 15:06 - loss: 0.5411 - acc: 0.77 - ETA: 15:05 - loss: 0.5411 - acc: 0.77 - ETA: 15:05 - loss: 0.5410 - acc: 0.77 - ETA: 15:05 - loss: 0.5410 - acc: 0.77 - ETA: 15:05 - loss: 0.5410 - acc: 0.77 - ETA: 15:04 - loss: 0.5409 - acc: 0.77 - ETA: 15:03 - loss: 0.5408 - acc: 0.77 - ETA: 15:03 - loss: 0.5408 - acc: 0.77 - ETA: 15:02 - loss: 0.5407 - acc: 0.77 - ETA: 15:01 - loss: 0.5406 - acc: 0.77 - ETA: 15:00 - loss: 0.5407 - acc: 0.77 - ETA: 14:59 - loss: 0.5407 - acc: 0.77 - ETA: 14:58 - loss: 0.5411 - acc: 0.77 - ETA: 14:58 - loss: 0.5409 - acc: 0.77 - ETA: 14:57 - loss: 0.5409 - acc: 0.77 - ETA: 14:56 - loss: 0.5410 - acc: 0.77 - ETA: 14:55 - loss: 0.5410 - acc: 0.77 - ETA: 14:54 - loss: 0.5408 - acc: 0.77 - ETA: 14:53 - loss: 0.5407 - acc: 0.77 - ETA: 14:52 - loss: 0.5407 - acc: 0.77 - ETA: 14:51 - loss: 0.5408 - acc: 0.77 - ETA: 14:50 - loss: 0.5407 - acc: 0.77 - ETA: 14:49 - loss: 0.5407 - acc: 0.77 - ETA: 14:48 - loss: 0.5407 - acc: 0.77 - ETA: 14:47 - loss: 0.5408 - acc: 0.77 - ETA: 14:47 - loss: 0.5408 - acc: 0.77 - ETA: 14:49 - loss: 0.5408 - acc: 0.77 - ETA: 14:48 - loss: 0.5408 - acc: 0.77 - ETA: 14:48 - loss: 0.5408 - acc: 0.77 - ETA: 14:47 - loss: 0.5406 - acc: 0.77 - ETA: 14:47 - loss: 0.5406 - acc: 0.77 - ETA: 14:46 - loss: 0.5407 - acc: 0.77 - ETA: 14:46 - loss: 0.5408 - acc: 0.77 - ETA: 14:46 - loss: 0.5407 - acc: 0.77 - ETA: 14:45 - loss: 0.5406 - acc: 0.77 - ETA: 14:44 - loss: 0.5405 - acc: 0.77 - ETA: 14:44 - loss: 0.5404 - acc: 0.77 - ETA: 14:43 - loss: 0.5403 - acc: 0.77 - ETA: 14:42 - loss: 0.5403 - acc: 0.77 - ETA: 14:41 - loss: 0.5404 - acc: 0.77 - ETA: 14:40 - loss: 0.5406 - acc: 0.77 - ETA: 14:39 - loss: 0.5405 - acc: 0.77 - ETA: 14:38 - loss: 0.5404 - acc: 0.77 - ETA: 14:38 - loss: 0.5404 - acc: 0.77 - ETA: 14:37 - loss: 0.5406 - acc: 0.77 - ETA: 14:36 - loss: 0.5407 - acc: 0.77 - ETA: 14:35 - loss: 0.5406 - acc: 0.77 - ETA: 14:34 - loss: 0.5405 - acc: 0.77 - ETA: 14:33 - loss: 0.5404 - acc: 0.77 - ETA: 14:32 - loss: 0.5404 - acc: 0.77 - ETA: 14:31 - loss: 0.5402 - acc: 0.77 - ETA: 14:30 - loss: 0.5402 - acc: 0.77 - ETA: 14:29 - loss: 0.5402 - acc: 0.77 - ETA: 14:28 - loss: 0.5402 - acc: 0.77 - ETA: 14:27 - loss: 0.5399 - acc: 0.77 - ETA: 14:27 - loss: 0.5399 - acc: 0.77 - ETA: 14:26 - loss: 0.5399 - acc: 0.77 - ETA: 14:25 - loss: 0.5400 - acc: 0.77 - ETA: 14:25 - loss: 0.5399 - acc: 0.77 - ETA: 14:24 - loss: 0.5400 - acc: 0.77 - ETA: 14:23 - loss: 0.5400 - acc: 0.77 - ETA: 14:22 - loss: 0.5398 - acc: 0.77 - ETA: 14:22 - loss: 0.5398 - acc: 0.77 - ETA: 14:21 - loss: 0.5398 - acc: 0.77 - ETA: 14:20 - loss: 0.5397 - acc: 0.77 - ETA: 14:19 - loss: 0.5396 - acc: 0.77 - ETA: 14:18 - loss: 0.5395 - acc: 0.77 - ETA: 14:17 - loss: 0.5396 - acc: 0.77 - ETA: 14:16 - loss: 0.5396 - acc: 0.77 - ETA: 14:15 - loss: 0.5395 - acc: 0.77 - ETA: 14:14 - loss: 0.5395 - acc: 0.77 - ETA: 14:13 - loss: 0.5395 - acc: 0.77 - ETA: 14:12 - loss: 0.5396 - acc: 0.77 - ETA: 14:12 - loss: 0.5396 - acc: 0.77 - ETA: 14:11 - loss: 0.5398 - acc: 0.77 - ETA: 14:10 - loss: 0.5398 - acc: 0.77 - ETA: 14:09 - loss: 0.5397 - acc: 0.77 - ETA: 14:08 - loss: 0.5396 - acc: 0.77 - ETA: 14:07 - loss: 0.5394 - acc: 0.77 - ETA: 14:06 - loss: 0.5395 - acc: 0.77 - ETA: 14:05 - loss: 0.5394 - acc: 0.77 - ETA: 14:04 - loss: 0.5395 - acc: 0.77 - ETA: 14:04 - loss: 0.5394 - acc: 0.7785"
     ]
    },
    {
     "name": "stdout",
     "output_type": "stream",
     "text": [
      " 65280/135000 [=============>................] - ETA: 14:03 - loss: 0.5392 - acc: 0.77 - ETA: 14:02 - loss: 0.5393 - acc: 0.77 - ETA: 14:01 - loss: 0.5392 - acc: 0.77 - ETA: 14:00 - loss: 0.5391 - acc: 0.77 - ETA: 13:59 - loss: 0.5392 - acc: 0.77 - ETA: 13:58 - loss: 0.5393 - acc: 0.77 - ETA: 13:57 - loss: 0.5392 - acc: 0.77 - ETA: 13:56 - loss: 0.5392 - acc: 0.77 - ETA: 13:55 - loss: 0.5395 - acc: 0.77 - ETA: 13:55 - loss: 0.5396 - acc: 0.77 - ETA: 13:54 - loss: 0.5395 - acc: 0.77 - ETA: 13:53 - loss: 0.5395 - acc: 0.77 - ETA: 13:52 - loss: 0.5396 - acc: 0.77 - ETA: 13:51 - loss: 0.5398 - acc: 0.77 - ETA: 13:51 - loss: 0.5397 - acc: 0.77 - ETA: 13:50 - loss: 0.5398 - acc: 0.77 - ETA: 13:49 - loss: 0.5397 - acc: 0.77 - ETA: 13:48 - loss: 0.5398 - acc: 0.77 - ETA: 13:48 - loss: 0.5397 - acc: 0.77 - ETA: 13:47 - loss: 0.5397 - acc: 0.77 - ETA: 13:46 - loss: 0.5397 - acc: 0.77 - ETA: 13:45 - loss: 0.5398 - acc: 0.77 - ETA: 13:44 - loss: 0.5398 - acc: 0.77 - ETA: 13:43 - loss: 0.5397 - acc: 0.77 - ETA: 13:42 - loss: 0.5397 - acc: 0.77 - ETA: 13:41 - loss: 0.5398 - acc: 0.77 - ETA: 13:41 - loss: 0.5396 - acc: 0.77 - ETA: 13:40 - loss: 0.5397 - acc: 0.77 - ETA: 13:39 - loss: 0.5398 - acc: 0.77 - ETA: 13:38 - loss: 0.5396 - acc: 0.77 - ETA: 13:37 - loss: 0.5395 - acc: 0.77 - ETA: 13:37 - loss: 0.5396 - acc: 0.77 - ETA: 13:36 - loss: 0.5397 - acc: 0.77 - ETA: 13:35 - loss: 0.5397 - acc: 0.77 - ETA: 13:34 - loss: 0.5397 - acc: 0.77 - ETA: 13:33 - loss: 0.5396 - acc: 0.77 - ETA: 13:32 - loss: 0.5397 - acc: 0.77 - ETA: 13:32 - loss: 0.5395 - acc: 0.77 - ETA: 13:31 - loss: 0.5394 - acc: 0.77 - ETA: 13:30 - loss: 0.5395 - acc: 0.77 - ETA: 13:29 - loss: 0.5394 - acc: 0.77 - ETA: 13:28 - loss: 0.5393 - acc: 0.77 - ETA: 13:28 - loss: 0.5392 - acc: 0.77 - ETA: 13:27 - loss: 0.5391 - acc: 0.77 - ETA: 13:26 - loss: 0.5391 - acc: 0.77 - ETA: 13:25 - loss: 0.5390 - acc: 0.77 - ETA: 13:24 - loss: 0.5390 - acc: 0.77 - ETA: 13:23 - loss: 0.5389 - acc: 0.77 - ETA: 13:22 - loss: 0.5388 - acc: 0.77 - ETA: 13:22 - loss: 0.5387 - acc: 0.77 - ETA: 13:21 - loss: 0.5387 - acc: 0.77 - ETA: 13:20 - loss: 0.5387 - acc: 0.77 - ETA: 13:19 - loss: 0.5387 - acc: 0.77 - ETA: 13:18 - loss: 0.5386 - acc: 0.77 - ETA: 13:17 - loss: 0.5385 - acc: 0.77 - ETA: 13:17 - loss: 0.5385 - acc: 0.77 - ETA: 13:16 - loss: 0.5384 - acc: 0.77 - ETA: 13:16 - loss: 0.5383 - acc: 0.77 - ETA: 13:15 - loss: 0.5384 - acc: 0.77 - ETA: 13:14 - loss: 0.5382 - acc: 0.77 - ETA: 13:13 - loss: 0.5383 - acc: 0.77 - ETA: 13:13 - loss: 0.5383 - acc: 0.77 - ETA: 13:12 - loss: 0.5385 - acc: 0.77 - ETA: 13:11 - loss: 0.5386 - acc: 0.77 - ETA: 13:10 - loss: 0.5386 - acc: 0.77 - ETA: 13:09 - loss: 0.5386 - acc: 0.77 - ETA: 13:08 - loss: 0.5386 - acc: 0.77 - ETA: 13:07 - loss: 0.5386 - acc: 0.77 - ETA: 13:07 - loss: 0.5385 - acc: 0.77 - ETA: 13:06 - loss: 0.5388 - acc: 0.77 - ETA: 13:05 - loss: 0.5388 - acc: 0.77 - ETA: 13:04 - loss: 0.5389 - acc: 0.77 - ETA: 13:03 - loss: 0.5387 - acc: 0.77 - ETA: 13:02 - loss: 0.5385 - acc: 0.77 - ETA: 13:02 - loss: 0.5385 - acc: 0.77 - ETA: 13:01 - loss: 0.5386 - acc: 0.77 - ETA: 13:01 - loss: 0.5387 - acc: 0.77 - ETA: 13:00 - loss: 0.5387 - acc: 0.77 - ETA: 12:59 - loss: 0.5387 - acc: 0.77 - ETA: 12:58 - loss: 0.5387 - acc: 0.77 - ETA: 12:57 - loss: 0.5387 - acc: 0.77 - ETA: 12:56 - loss: 0.5387 - acc: 0.77 - ETA: 12:56 - loss: 0.5385 - acc: 0.77 - ETA: 12:55 - loss: 0.5386 - acc: 0.77 - ETA: 12:54 - loss: 0.5386 - acc: 0.77 - ETA: 12:53 - loss: 0.5388 - acc: 0.77 - ETA: 12:52 - loss: 0.5387 - acc: 0.77 - ETA: 12:51 - loss: 0.5388 - acc: 0.77 - ETA: 12:50 - loss: 0.5387 - acc: 0.77 - ETA: 12:50 - loss: 0.5386 - acc: 0.77 - ETA: 12:50 - loss: 0.5386 - acc: 0.77 - ETA: 12:49 - loss: 0.5387 - acc: 0.77 - ETA: 12:49 - loss: 0.5386 - acc: 0.77 - ETA: 12:48 - loss: 0.5386 - acc: 0.77 - ETA: 12:47 - loss: 0.5387 - acc: 0.77 - ETA: 12:46 - loss: 0.5387 - acc: 0.77 - ETA: 12:45 - loss: 0.5387 - acc: 0.77 - ETA: 12:44 - loss: 0.5385 - acc: 0.77 - ETA: 12:44 - loss: 0.5387 - acc: 0.77 - ETA: 12:43 - loss: 0.5390 - acc: 0.77 - ETA: 12:42 - loss: 0.5390 - acc: 0.77 - ETA: 12:41 - loss: 0.5389 - acc: 0.77 - ETA: 12:40 - loss: 0.5391 - acc: 0.77 - ETA: 12:39 - loss: 0.5390 - acc: 0.77 - ETA: 12:39 - loss: 0.5391 - acc: 0.77 - ETA: 12:38 - loss: 0.5391 - acc: 0.77 - ETA: 12:37 - loss: 0.5391 - acc: 0.77 - ETA: 12:36 - loss: 0.5392 - acc: 0.77 - ETA: 12:35 - loss: 0.5393 - acc: 0.77 - ETA: 12:34 - loss: 0.5393 - acc: 0.77 - ETA: 12:34 - loss: 0.5393 - acc: 0.77 - ETA: 12:33 - loss: 0.5394 - acc: 0.77 - ETA: 12:32 - loss: 0.5393 - acc: 0.77 - ETA: 12:31 - loss: 0.5392 - acc: 0.77 - ETA: 12:30 - loss: 0.5393 - acc: 0.77 - ETA: 12:30 - loss: 0.5394 - acc: 0.77 - ETA: 12:29 - loss: 0.5394 - acc: 0.77 - ETA: 12:28 - loss: 0.5393 - acc: 0.77 - ETA: 12:27 - loss: 0.5394 - acc: 0.77 - ETA: 12:26 - loss: 0.5394 - acc: 0.77 - ETA: 12:26 - loss: 0.5394 - acc: 0.77 - ETA: 12:25 - loss: 0.5395 - acc: 0.77 - ETA: 12:24 - loss: 0.5395 - acc: 0.77 - ETA: 12:23 - loss: 0.5396 - acc: 0.77 - ETA: 12:22 - loss: 0.5396 - acc: 0.77 - ETA: 12:22 - loss: 0.5395 - acc: 0.77 - ETA: 12:21 - loss: 0.5395 - acc: 0.77 - ETA: 12:20 - loss: 0.5395 - acc: 0.77 - ETA: 12:19 - loss: 0.5395 - acc: 0.77 - ETA: 12:18 - loss: 0.5394 - acc: 0.77 - ETA: 12:18 - loss: 0.5394 - acc: 0.77 - ETA: 12:17 - loss: 0.5394 - acc: 0.77 - ETA: 12:16 - loss: 0.5394 - acc: 0.77 - ETA: 12:15 - loss: 0.5394 - acc: 0.77 - ETA: 12:14 - loss: 0.5394 - acc: 0.77 - ETA: 12:14 - loss: 0.5394 - acc: 0.77 - ETA: 12:13 - loss: 0.5394 - acc: 0.77 - ETA: 12:12 - loss: 0.5393 - acc: 0.77 - ETA: 12:11 - loss: 0.5394 - acc: 0.77 - ETA: 12:10 - loss: 0.5393 - acc: 0.77 - ETA: 12:10 - loss: 0.5394 - acc: 0.77 - ETA: 12:09 - loss: 0.5394 - acc: 0.77 - ETA: 12:08 - loss: 0.5394 - acc: 0.77 - ETA: 12:07 - loss: 0.5393 - acc: 0.77 - ETA: 12:06 - loss: 0.5392 - acc: 0.77 - ETA: 12:06 - loss: 0.5392 - acc: 0.77 - ETA: 12:05 - loss: 0.5390 - acc: 0.77 - ETA: 12:04 - loss: 0.5390 - acc: 0.77 - ETA: 12:03 - loss: 0.5390 - acc: 0.77 - ETA: 12:02 - loss: 0.5390 - acc: 0.77 - ETA: 12:02 - loss: 0.5391 - acc: 0.77 - ETA: 12:01 - loss: 0.5391 - acc: 0.77 - ETA: 12:00 - loss: 0.5391 - acc: 0.77 - ETA: 11:59 - loss: 0.5390 - acc: 0.77 - ETA: 11:58 - loss: 0.5389 - acc: 0.77 - ETA: 11:58 - loss: 0.5391 - acc: 0.77 - ETA: 11:58 - loss: 0.5391 - acc: 0.77 - ETA: 11:57 - loss: 0.5392 - acc: 0.77 - ETA: 11:56 - loss: 0.5391 - acc: 0.77 - ETA: 11:55 - loss: 0.5392 - acc: 0.77 - ETA: 11:55 - loss: 0.5392 - acc: 0.77 - ETA: 11:54 - loss: 0.5394 - acc: 0.77 - ETA: 11:53 - loss: 0.5393 - acc: 0.77 - ETA: 11:52 - loss: 0.5394 - acc: 0.77 - ETA: 11:51 - loss: 0.5392 - acc: 0.77 - ETA: 11:51 - loss: 0.5393 - acc: 0.77 - ETA: 11:50 - loss: 0.5393 - acc: 0.77 - ETA: 11:50 - loss: 0.5394 - acc: 0.77 - ETA: 11:49 - loss: 0.5393 - acc: 0.77 - ETA: 11:48 - loss: 0.5394 - acc: 0.77 - ETA: 11:48 - loss: 0.5392 - acc: 0.77 - ETA: 11:47 - loss: 0.5392 - acc: 0.77 - ETA: 11:46 - loss: 0.5392 - acc: 0.77 - ETA: 11:45 - loss: 0.5391 - acc: 0.77 - ETA: 11:45 - loss: 0.5390 - acc: 0.77 - ETA: 11:44 - loss: 0.5389 - acc: 0.77 - ETA: 11:43 - loss: 0.5388 - acc: 0.77 - ETA: 11:42 - loss: 0.5388 - acc: 0.77 - ETA: 11:42 - loss: 0.5389 - acc: 0.77 - ETA: 11:41 - loss: 0.5388 - acc: 0.77 - ETA: 11:40 - loss: 0.5388 - acc: 0.77 - ETA: 11:40 - loss: 0.5387 - acc: 0.77 - ETA: 11:39 - loss: 0.5388 - acc: 0.77 - ETA: 11:38 - loss: 0.5386 - acc: 0.77 - ETA: 11:37 - loss: 0.5385 - acc: 0.77 - ETA: 11:37 - loss: 0.5385 - acc: 0.77 - ETA: 11:36 - loss: 0.5384 - acc: 0.77 - ETA: 11:35 - loss: 0.5385 - acc: 0.77 - ETA: 11:35 - loss: 0.5386 - acc: 0.77 - ETA: 11:34 - loss: 0.5387 - acc: 0.77 - ETA: 11:34 - loss: 0.5388 - acc: 0.77 - ETA: 11:33 - loss: 0.5387 - acc: 0.77 - ETA: 11:32 - loss: 0.5386 - acc: 0.77 - ETA: 11:31 - loss: 0.5385 - acc: 0.77 - ETA: 11:30 - loss: 0.5387 - acc: 0.77 - ETA: 11:30 - loss: 0.5387 - acc: 0.77 - ETA: 11:30 - loss: 0.5387 - acc: 0.77 - ETA: 11:29 - loss: 0.5388 - acc: 0.77 - ETA: 11:28 - loss: 0.5387 - acc: 0.77 - ETA: 11:28 - loss: 0.5386 - acc: 0.77 - ETA: 11:27 - loss: 0.5386 - acc: 0.77 - ETA: 11:26 - loss: 0.5387 - acc: 0.77 - ETA: 11:25 - loss: 0.5387 - acc: 0.77 - ETA: 11:24 - loss: 0.5386 - acc: 0.7790"
     ]
    },
    {
     "name": "stdout",
     "output_type": "stream",
     "text": [
      " 78336/135000 [================>.............] - ETA: 11:24 - loss: 0.5389 - acc: 0.77 - ETA: 11:23 - loss: 0.5390 - acc: 0.77 - ETA: 11:22 - loss: 0.5390 - acc: 0.77 - ETA: 11:21 - loss: 0.5389 - acc: 0.77 - ETA: 11:21 - loss: 0.5389 - acc: 0.77 - ETA: 11:20 - loss: 0.5388 - acc: 0.77 - ETA: 11:19 - loss: 0.5387 - acc: 0.77 - ETA: 11:18 - loss: 0.5386 - acc: 0.77 - ETA: 11:18 - loss: 0.5385 - acc: 0.77 - ETA: 11:17 - loss: 0.5385 - acc: 0.77 - ETA: 11:16 - loss: 0.5385 - acc: 0.77 - ETA: 11:15 - loss: 0.5383 - acc: 0.77 - ETA: 11:15 - loss: 0.5384 - acc: 0.77 - ETA: 11:14 - loss: 0.5383 - acc: 0.77 - ETA: 11:13 - loss: 0.5381 - acc: 0.77 - ETA: 11:12 - loss: 0.5381 - acc: 0.77 - ETA: 11:12 - loss: 0.5379 - acc: 0.77 - ETA: 11:11 - loss: 0.5381 - acc: 0.77 - ETA: 11:10 - loss: 0.5380 - acc: 0.77 - ETA: 11:09 - loss: 0.5380 - acc: 0.77 - ETA: 11:08 - loss: 0.5380 - acc: 0.77 - ETA: 11:08 - loss: 0.5380 - acc: 0.77 - ETA: 11:07 - loss: 0.5380 - acc: 0.77 - ETA: 11:07 - loss: 0.5383 - acc: 0.77 - ETA: 11:06 - loss: 0.5383 - acc: 0.77 - ETA: 11:06 - loss: 0.5382 - acc: 0.77 - ETA: 11:05 - loss: 0.5383 - acc: 0.77 - ETA: 11:05 - loss: 0.5382 - acc: 0.77 - ETA: 11:04 - loss: 0.5381 - acc: 0.77 - ETA: 11:03 - loss: 0.5380 - acc: 0.77 - ETA: 11:02 - loss: 0.5380 - acc: 0.77 - ETA: 11:02 - loss: 0.5379 - acc: 0.77 - ETA: 11:01 - loss: 0.5378 - acc: 0.77 - ETA: 11:00 - loss: 0.5377 - acc: 0.77 - ETA: 10:59 - loss: 0.5379 - acc: 0.77 - ETA: 10:59 - loss: 0.5378 - acc: 0.77 - ETA: 10:58 - loss: 0.5378 - acc: 0.77 - ETA: 10:57 - loss: 0.5379 - acc: 0.77 - ETA: 10:56 - loss: 0.5379 - acc: 0.77 - ETA: 10:56 - loss: 0.5379 - acc: 0.77 - ETA: 10:55 - loss: 0.5379 - acc: 0.77 - ETA: 10:55 - loss: 0.5379 - acc: 0.77 - ETA: 10:54 - loss: 0.5379 - acc: 0.77 - ETA: 10:53 - loss: 0.5378 - acc: 0.77 - ETA: 10:53 - loss: 0.5378 - acc: 0.77 - ETA: 10:52 - loss: 0.5378 - acc: 0.77 - ETA: 10:52 - loss: 0.5378 - acc: 0.77 - ETA: 10:51 - loss: 0.5377 - acc: 0.77 - ETA: 10:50 - loss: 0.5377 - acc: 0.77 - ETA: 10:49 - loss: 0.5377 - acc: 0.77 - ETA: 10:49 - loss: 0.5377 - acc: 0.77 - ETA: 10:48 - loss: 0.5378 - acc: 0.77 - ETA: 10:47 - loss: 0.5377 - acc: 0.77 - ETA: 10:46 - loss: 0.5376 - acc: 0.77 - ETA: 10:46 - loss: 0.5377 - acc: 0.77 - ETA: 10:45 - loss: 0.5377 - acc: 0.77 - ETA: 10:44 - loss: 0.5376 - acc: 0.77 - ETA: 10:44 - loss: 0.5377 - acc: 0.77 - ETA: 10:43 - loss: 0.5376 - acc: 0.77 - ETA: 10:43 - loss: 0.5375 - acc: 0.77 - ETA: 10:42 - loss: 0.5374 - acc: 0.77 - ETA: 10:41 - loss: 0.5376 - acc: 0.77 - ETA: 10:40 - loss: 0.5375 - acc: 0.77 - ETA: 10:40 - loss: 0.5375 - acc: 0.77 - ETA: 10:39 - loss: 0.5376 - acc: 0.77 - ETA: 10:38 - loss: 0.5375 - acc: 0.77 - ETA: 10:37 - loss: 0.5375 - acc: 0.77 - ETA: 10:37 - loss: 0.5377 - acc: 0.77 - ETA: 10:36 - loss: 0.5379 - acc: 0.77 - ETA: 10:35 - loss: 0.5379 - acc: 0.77 - ETA: 10:34 - loss: 0.5377 - acc: 0.77 - ETA: 10:34 - loss: 0.5378 - acc: 0.77 - ETA: 10:33 - loss: 0.5378 - acc: 0.77 - ETA: 10:32 - loss: 0.5378 - acc: 0.77 - ETA: 10:32 - loss: 0.5378 - acc: 0.77 - ETA: 10:31 - loss: 0.5377 - acc: 0.77 - ETA: 10:30 - loss: 0.5378 - acc: 0.77 - ETA: 10:30 - loss: 0.5378 - acc: 0.77 - ETA: 10:29 - loss: 0.5377 - acc: 0.77 - ETA: 10:29 - loss: 0.5377 - acc: 0.77 - ETA: 10:28 - loss: 0.5376 - acc: 0.77 - ETA: 10:27 - loss: 0.5376 - acc: 0.77 - ETA: 10:26 - loss: 0.5377 - acc: 0.77 - ETA: 10:26 - loss: 0.5377 - acc: 0.77 - ETA: 10:25 - loss: 0.5377 - acc: 0.77 - ETA: 10:24 - loss: 0.5378 - acc: 0.77 - ETA: 10:24 - loss: 0.5379 - acc: 0.77 - ETA: 10:23 - loss: 0.5379 - acc: 0.77 - ETA: 10:22 - loss: 0.5379 - acc: 0.77 - ETA: 10:21 - loss: 0.5378 - acc: 0.77 - ETA: 10:21 - loss: 0.5377 - acc: 0.77 - ETA: 10:20 - loss: 0.5377 - acc: 0.77 - ETA: 10:19 - loss: 0.5378 - acc: 0.77 - ETA: 10:18 - loss: 0.5378 - acc: 0.77 - ETA: 10:18 - loss: 0.5377 - acc: 0.77 - ETA: 10:17 - loss: 0.5377 - acc: 0.77 - ETA: 10:17 - loss: 0.5376 - acc: 0.77 - ETA: 10:16 - loss: 0.5376 - acc: 0.77 - ETA: 10:16 - loss: 0.5377 - acc: 0.77 - ETA: 10:15 - loss: 0.5377 - acc: 0.77 - ETA: 10:15 - loss: 0.5377 - acc: 0.77 - ETA: 10:14 - loss: 0.5377 - acc: 0.77 - ETA: 10:14 - loss: 0.5376 - acc: 0.77 - ETA: 10:14 - loss: 0.5376 - acc: 0.77 - ETA: 10:14 - loss: 0.5376 - acc: 0.77 - ETA: 10:13 - loss: 0.5376 - acc: 0.77 - ETA: 10:13 - loss: 0.5376 - acc: 0.77 - ETA: 10:13 - loss: 0.5376 - acc: 0.77 - ETA: 10:12 - loss: 0.5377 - acc: 0.77 - ETA: 10:12 - loss: 0.5378 - acc: 0.77 - ETA: 10:11 - loss: 0.5378 - acc: 0.77 - ETA: 10:10 - loss: 0.5378 - acc: 0.77 - ETA: 10:10 - loss: 0.5379 - acc: 0.77 - ETA: 10:09 - loss: 0.5379 - acc: 0.77 - ETA: 10:08 - loss: 0.5381 - acc: 0.77 - ETA: 10:08 - loss: 0.5381 - acc: 0.77 - ETA: 10:07 - loss: 0.5380 - acc: 0.77 - ETA: 10:06 - loss: 0.5381 - acc: 0.77 - ETA: 10:06 - loss: 0.5380 - acc: 0.77 - ETA: 10:05 - loss: 0.5381 - acc: 0.77 - ETA: 10:04 - loss: 0.5382 - acc: 0.77 - ETA: 10:04 - loss: 0.5382 - acc: 0.77 - ETA: 10:03 - loss: 0.5381 - acc: 0.77 - ETA: 10:02 - loss: 0.5381 - acc: 0.77 - ETA: 10:02 - loss: 0.5381 - acc: 0.77 - ETA: 10:01 - loss: 0.5381 - acc: 0.77 - ETA: 10:00 - loss: 0.5381 - acc: 0.77 - ETA: 10:00 - loss: 0.5380 - acc: 0.77 - ETA: 9:59 - loss: 0.5381 - acc: 0.7797 - ETA: 9:58 - loss: 0.5382 - acc: 0.779 - ETA: 9:58 - loss: 0.5381 - acc: 0.779 - ETA: 9:57 - loss: 0.5381 - acc: 0.779 - ETA: 9:56 - loss: 0.5382 - acc: 0.779 - ETA: 9:56 - loss: 0.5382 - acc: 0.779 - ETA: 9:55 - loss: 0.5382 - acc: 0.779 - ETA: 9:54 - loss: 0.5382 - acc: 0.779 - ETA: 9:53 - loss: 0.5380 - acc: 0.779 - ETA: 9:53 - loss: 0.5380 - acc: 0.779 - ETA: 9:52 - loss: 0.5380 - acc: 0.779 - ETA: 9:51 - loss: 0.5379 - acc: 0.779 - ETA: 9:50 - loss: 0.5379 - acc: 0.779 - ETA: 9:50 - loss: 0.5379 - acc: 0.779 - ETA: 9:49 - loss: 0.5379 - acc: 0.779 - ETA: 9:48 - loss: 0.5380 - acc: 0.779 - ETA: 9:48 - loss: 0.5379 - acc: 0.779 - ETA: 9:47 - loss: 0.5380 - acc: 0.779 - ETA: 9:46 - loss: 0.5380 - acc: 0.779 - ETA: 9:45 - loss: 0.5378 - acc: 0.779 - ETA: 9:45 - loss: 0.5378 - acc: 0.779 - ETA: 9:44 - loss: 0.5377 - acc: 0.779 - ETA: 9:43 - loss: 0.5379 - acc: 0.779 - ETA: 9:42 - loss: 0.5378 - acc: 0.779 - ETA: 9:42 - loss: 0.5377 - acc: 0.779 - ETA: 9:41 - loss: 0.5376 - acc: 0.779 - ETA: 9:40 - loss: 0.5376 - acc: 0.779 - ETA: 9:40 - loss: 0.5376 - acc: 0.779 - ETA: 9:39 - loss: 0.5375 - acc: 0.779 - ETA: 9:38 - loss: 0.5375 - acc: 0.779 - ETA: 9:37 - loss: 0.5374 - acc: 0.779 - ETA: 9:37 - loss: 0.5375 - acc: 0.779 - ETA: 9:36 - loss: 0.5375 - acc: 0.779 - ETA: 9:35 - loss: 0.5375 - acc: 0.779 - ETA: 9:35 - loss: 0.5375 - acc: 0.779 - ETA: 9:34 - loss: 0.5374 - acc: 0.779 - ETA: 9:33 - loss: 0.5374 - acc: 0.780 - ETA: 9:33 - loss: 0.5373 - acc: 0.780 - ETA: 9:32 - loss: 0.5373 - acc: 0.779 - ETA: 9:31 - loss: 0.5373 - acc: 0.779 - ETA: 9:30 - loss: 0.5374 - acc: 0.779 - ETA: 9:30 - loss: 0.5374 - acc: 0.779 - ETA: 9:29 - loss: 0.5374 - acc: 0.779 - ETA: 9:28 - loss: 0.5374 - acc: 0.779 - ETA: 9:28 - loss: 0.5374 - acc: 0.779 - ETA: 9:27 - loss: 0.5373 - acc: 0.779 - ETA: 9:26 - loss: 0.5373 - acc: 0.779 - ETA: 9:26 - loss: 0.5372 - acc: 0.780 - ETA: 9:25 - loss: 0.5374 - acc: 0.779 - ETA: 9:25 - loss: 0.5374 - acc: 0.779 - ETA: 9:24 - loss: 0.5374 - acc: 0.779 - ETA: 9:23 - loss: 0.5373 - acc: 0.779 - ETA: 9:23 - loss: 0.5373 - acc: 0.779 - ETA: 9:22 - loss: 0.5372 - acc: 0.779 - ETA: 9:21 - loss: 0.5374 - acc: 0.779 - ETA: 9:21 - loss: 0.5372 - acc: 0.779 - ETA: 9:20 - loss: 0.5373 - acc: 0.779 - ETA: 9:19 - loss: 0.5373 - acc: 0.779 - ETA: 9:19 - loss: 0.5374 - acc: 0.779 - ETA: 9:18 - loss: 0.5373 - acc: 0.779 - ETA: 9:17 - loss: 0.5374 - acc: 0.779 - ETA: 9:17 - loss: 0.5373 - acc: 0.779 - ETA: 9:16 - loss: 0.5372 - acc: 0.779 - ETA: 9:15 - loss: 0.5372 - acc: 0.779 - ETA: 9:15 - loss: 0.5372 - acc: 0.779 - ETA: 9:14 - loss: 0.5371 - acc: 0.779 - ETA: 9:13 - loss: 0.5371 - acc: 0.779 - ETA: 9:13 - loss: 0.5370 - acc: 0.780 - ETA: 9:12 - loss: 0.5369 - acc: 0.780 - ETA: 9:11 - loss: 0.5369 - acc: 0.780 - ETA: 9:11 - loss: 0.5368 - acc: 0.780 - ETA: 9:10 - loss: 0.5368 - acc: 0.780 - ETA: 9:09 - loss: 0.5368 - acc: 0.780 - ETA: 9:09 - loss: 0.5369 - acc: 0.780 - ETA: 9:08 - loss: 0.5368 - acc: 0.780 - ETA: 9:07 - loss: 0.5368 - acc: 0.7801"
     ]
    },
    {
     "name": "stdout",
     "output_type": "stream",
     "text": [
      " 91392/135000 [===================>..........] - ETA: 9:06 - loss: 0.5368 - acc: 0.780 - ETA: 9:06 - loss: 0.5369 - acc: 0.780 - ETA: 9:05 - loss: 0.5369 - acc: 0.780 - ETA: 9:04 - loss: 0.5368 - acc: 0.780 - ETA: 9:04 - loss: 0.5369 - acc: 0.779 - ETA: 9:03 - loss: 0.5369 - acc: 0.780 - ETA: 9:02 - loss: 0.5369 - acc: 0.780 - ETA: 9:01 - loss: 0.5370 - acc: 0.779 - ETA: 9:01 - loss: 0.5369 - acc: 0.780 - ETA: 9:00 - loss: 0.5369 - acc: 0.780 - ETA: 8:59 - loss: 0.5369 - acc: 0.780 - ETA: 8:59 - loss: 0.5370 - acc: 0.779 - ETA: 8:58 - loss: 0.5371 - acc: 0.779 - ETA: 8:57 - loss: 0.5372 - acc: 0.779 - ETA: 8:57 - loss: 0.5374 - acc: 0.779 - ETA: 8:56 - loss: 0.5375 - acc: 0.779 - ETA: 8:55 - loss: 0.5376 - acc: 0.779 - ETA: 8:54 - loss: 0.5376 - acc: 0.779 - ETA: 8:54 - loss: 0.5376 - acc: 0.779 - ETA: 8:53 - loss: 0.5376 - acc: 0.779 - ETA: 8:52 - loss: 0.5376 - acc: 0.779 - ETA: 8:52 - loss: 0.5376 - acc: 0.779 - ETA: 8:51 - loss: 0.5378 - acc: 0.779 - ETA: 8:50 - loss: 0.5377 - acc: 0.779 - ETA: 8:49 - loss: 0.5376 - acc: 0.779 - ETA: 8:49 - loss: 0.5377 - acc: 0.779 - ETA: 8:48 - loss: 0.5376 - acc: 0.779 - ETA: 8:48 - loss: 0.5378 - acc: 0.779 - ETA: 8:47 - loss: 0.5379 - acc: 0.779 - ETA: 8:46 - loss: 0.5379 - acc: 0.779 - ETA: 8:45 - loss: 0.5379 - acc: 0.779 - ETA: 8:45 - loss: 0.5379 - acc: 0.779 - ETA: 8:44 - loss: 0.5379 - acc: 0.779 - ETA: 8:43 - loss: 0.5379 - acc: 0.779 - ETA: 8:43 - loss: 0.5379 - acc: 0.779 - ETA: 8:42 - loss: 0.5379 - acc: 0.779 - ETA: 8:41 - loss: 0.5377 - acc: 0.779 - ETA: 8:41 - loss: 0.5377 - acc: 0.779 - ETA: 8:40 - loss: 0.5377 - acc: 0.779 - ETA: 8:39 - loss: 0.5376 - acc: 0.779 - ETA: 8:39 - loss: 0.5376 - acc: 0.779 - ETA: 8:38 - loss: 0.5376 - acc: 0.779 - ETA: 8:37 - loss: 0.5375 - acc: 0.779 - ETA: 8:36 - loss: 0.5375 - acc: 0.779 - ETA: 8:36 - loss: 0.5374 - acc: 0.779 - ETA: 8:35 - loss: 0.5375 - acc: 0.779 - ETA: 8:35 - loss: 0.5376 - acc: 0.779 - ETA: 8:34 - loss: 0.5376 - acc: 0.779 - ETA: 8:33 - loss: 0.5376 - acc: 0.779 - ETA: 8:33 - loss: 0.5376 - acc: 0.779 - ETA: 8:32 - loss: 0.5377 - acc: 0.779 - ETA: 8:31 - loss: 0.5377 - acc: 0.779 - ETA: 8:30 - loss: 0.5376 - acc: 0.779 - ETA: 8:30 - loss: 0.5376 - acc: 0.779 - ETA: 8:29 - loss: 0.5376 - acc: 0.779 - ETA: 8:28 - loss: 0.5376 - acc: 0.779 - ETA: 8:28 - loss: 0.5376 - acc: 0.779 - ETA: 8:27 - loss: 0.5376 - acc: 0.779 - ETA: 8:26 - loss: 0.5377 - acc: 0.779 - ETA: 8:26 - loss: 0.5376 - acc: 0.779 - ETA: 8:25 - loss: 0.5377 - acc: 0.779 - ETA: 8:24 - loss: 0.5378 - acc: 0.779 - ETA: 8:24 - loss: 0.5377 - acc: 0.779 - ETA: 8:23 - loss: 0.5376 - acc: 0.779 - ETA: 8:22 - loss: 0.5377 - acc: 0.779 - ETA: 8:21 - loss: 0.5378 - acc: 0.779 - ETA: 8:21 - loss: 0.5378 - acc: 0.779 - ETA: 8:20 - loss: 0.5377 - acc: 0.779 - ETA: 8:19 - loss: 0.5377 - acc: 0.779 - ETA: 8:19 - loss: 0.5377 - acc: 0.779 - ETA: 8:18 - loss: 0.5377 - acc: 0.779 - ETA: 8:18 - loss: 0.5376 - acc: 0.779 - ETA: 8:17 - loss: 0.5377 - acc: 0.779 - ETA: 8:16 - loss: 0.5377 - acc: 0.779 - ETA: 8:16 - loss: 0.5378 - acc: 0.779 - ETA: 8:15 - loss: 0.5378 - acc: 0.779 - ETA: 8:14 - loss: 0.5378 - acc: 0.779 - ETA: 8:13 - loss: 0.5378 - acc: 0.779 - ETA: 8:13 - loss: 0.5378 - acc: 0.779 - ETA: 8:12 - loss: 0.5378 - acc: 0.779 - ETA: 8:11 - loss: 0.5378 - acc: 0.779 - ETA: 8:11 - loss: 0.5377 - acc: 0.779 - ETA: 8:10 - loss: 0.5378 - acc: 0.779 - ETA: 8:09 - loss: 0.5379 - acc: 0.779 - ETA: 8:09 - loss: 0.5379 - acc: 0.779 - ETA: 8:08 - loss: 0.5381 - acc: 0.779 - ETA: 8:07 - loss: 0.5381 - acc: 0.779 - ETA: 8:07 - loss: 0.5379 - acc: 0.779 - ETA: 8:06 - loss: 0.5378 - acc: 0.779 - ETA: 8:05 - loss: 0.5378 - acc: 0.779 - ETA: 8:05 - loss: 0.5378 - acc: 0.779 - ETA: 8:04 - loss: 0.5378 - acc: 0.779 - ETA: 8:03 - loss: 0.5379 - acc: 0.779 - ETA: 8:03 - loss: 0.5379 - acc: 0.779 - ETA: 8:02 - loss: 0.5379 - acc: 0.779 - ETA: 8:02 - loss: 0.5379 - acc: 0.779 - ETA: 8:01 - loss: 0.5377 - acc: 0.779 - ETA: 8:00 - loss: 0.5377 - acc: 0.779 - ETA: 8:00 - loss: 0.5377 - acc: 0.779 - ETA: 7:59 - loss: 0.5376 - acc: 0.779 - ETA: 7:58 - loss: 0.5377 - acc: 0.779 - ETA: 7:58 - loss: 0.5377 - acc: 0.779 - ETA: 7:57 - loss: 0.5375 - acc: 0.779 - ETA: 7:56 - loss: 0.5376 - acc: 0.780 - ETA: 7:56 - loss: 0.5375 - acc: 0.779 - ETA: 7:55 - loss: 0.5375 - acc: 0.779 - ETA: 7:54 - loss: 0.5375 - acc: 0.779 - ETA: 7:54 - loss: 0.5375 - acc: 0.779 - ETA: 7:53 - loss: 0.5374 - acc: 0.779 - ETA: 7:52 - loss: 0.5374 - acc: 0.779 - ETA: 7:51 - loss: 0.5373 - acc: 0.780 - ETA: 7:51 - loss: 0.5373 - acc: 0.780 - ETA: 7:50 - loss: 0.5375 - acc: 0.779 - ETA: 7:49 - loss: 0.5375 - acc: 0.779 - ETA: 7:49 - loss: 0.5373 - acc: 0.779 - ETA: 7:48 - loss: 0.5375 - acc: 0.779 - ETA: 7:47 - loss: 0.5375 - acc: 0.779 - ETA: 7:47 - loss: 0.5376 - acc: 0.779 - ETA: 7:46 - loss: 0.5376 - acc: 0.779 - ETA: 7:45 - loss: 0.5375 - acc: 0.779 - ETA: 7:45 - loss: 0.5375 - acc: 0.779 - ETA: 7:44 - loss: 0.5375 - acc: 0.779 - ETA: 7:43 - loss: 0.5377 - acc: 0.779 - ETA: 7:43 - loss: 0.5377 - acc: 0.779 - ETA: 7:42 - loss: 0.5377 - acc: 0.779 - ETA: 7:42 - loss: 0.5377 - acc: 0.779 - ETA: 7:41 - loss: 0.5377 - acc: 0.779 - ETA: 7:40 - loss: 0.5377 - acc: 0.779 - ETA: 7:40 - loss: 0.5376 - acc: 0.779 - ETA: 7:39 - loss: 0.5377 - acc: 0.779 - ETA: 7:38 - loss: 0.5377 - acc: 0.779 - ETA: 7:38 - loss: 0.5377 - acc: 0.779 - ETA: 7:37 - loss: 0.5377 - acc: 0.779 - ETA: 7:36 - loss: 0.5377 - acc: 0.779 - ETA: 7:36 - loss: 0.5377 - acc: 0.779 - ETA: 7:35 - loss: 0.5376 - acc: 0.779 - ETA: 7:35 - loss: 0.5376 - acc: 0.779 - ETA: 7:34 - loss: 0.5376 - acc: 0.780 - ETA: 7:33 - loss: 0.5377 - acc: 0.779 - ETA: 7:33 - loss: 0.5378 - acc: 0.779 - ETA: 7:32 - loss: 0.5378 - acc: 0.779 - ETA: 7:31 - loss: 0.5378 - acc: 0.779 - ETA: 7:31 - loss: 0.5379 - acc: 0.779 - ETA: 7:30 - loss: 0.5378 - acc: 0.779 - ETA: 7:29 - loss: 0.5379 - acc: 0.779 - ETA: 7:29 - loss: 0.5379 - acc: 0.779 - ETA: 7:28 - loss: 0.5378 - acc: 0.779 - ETA: 7:28 - loss: 0.5378 - acc: 0.779 - ETA: 7:27 - loss: 0.5378 - acc: 0.779 - ETA: 7:27 - loss: 0.5377 - acc: 0.779 - ETA: 7:26 - loss: 0.5378 - acc: 0.779 - ETA: 7:26 - loss: 0.5377 - acc: 0.779 - ETA: 7:25 - loss: 0.5377 - acc: 0.779 - ETA: 7:24 - loss: 0.5377 - acc: 0.779 - ETA: 7:24 - loss: 0.5377 - acc: 0.779 - ETA: 7:23 - loss: 0.5377 - acc: 0.779 - ETA: 7:23 - loss: 0.5376 - acc: 0.779 - ETA: 7:22 - loss: 0.5377 - acc: 0.779 - ETA: 7:21 - loss: 0.5376 - acc: 0.779 - ETA: 7:21 - loss: 0.5377 - acc: 0.779 - ETA: 7:20 - loss: 0.5378 - acc: 0.779 - ETA: 7:19 - loss: 0.5377 - acc: 0.779 - ETA: 7:19 - loss: 0.5377 - acc: 0.779 - ETA: 7:19 - loss: 0.5377 - acc: 0.779 - ETA: 7:18 - loss: 0.5377 - acc: 0.779 - ETA: 7:18 - loss: 0.5377 - acc: 0.779 - ETA: 7:17 - loss: 0.5377 - acc: 0.779 - ETA: 7:17 - loss: 0.5376 - acc: 0.779 - ETA: 7:16 - loss: 0.5375 - acc: 0.779 - ETA: 7:16 - loss: 0.5375 - acc: 0.779 - ETA: 7:16 - loss: 0.5375 - acc: 0.779 - ETA: 7:15 - loss: 0.5374 - acc: 0.780 - ETA: 7:15 - loss: 0.5374 - acc: 0.780 - ETA: 7:14 - loss: 0.5374 - acc: 0.779 - ETA: 7:14 - loss: 0.5375 - acc: 0.779 - ETA: 7:13 - loss: 0.5374 - acc: 0.779 - ETA: 7:12 - loss: 0.5376 - acc: 0.779 - ETA: 7:12 - loss: 0.5376 - acc: 0.779 - ETA: 7:11 - loss: 0.5375 - acc: 0.779 - ETA: 7:10 - loss: 0.5374 - acc: 0.779 - ETA: 7:10 - loss: 0.5374 - acc: 0.779 - ETA: 7:09 - loss: 0.5374 - acc: 0.779 - ETA: 7:08 - loss: 0.5372 - acc: 0.779 - ETA: 7:08 - loss: 0.5372 - acc: 0.779 - ETA: 7:07 - loss: 0.5372 - acc: 0.779 - ETA: 7:06 - loss: 0.5372 - acc: 0.779 - ETA: 7:06 - loss: 0.5373 - acc: 0.779 - ETA: 7:05 - loss: 0.5372 - acc: 0.779 - ETA: 7:04 - loss: 0.5373 - acc: 0.779 - ETA: 7:04 - loss: 0.5374 - acc: 0.779 - ETA: 7:03 - loss: 0.5373 - acc: 0.779 - ETA: 7:03 - loss: 0.5373 - acc: 0.779 - ETA: 7:02 - loss: 0.5373 - acc: 0.779 - ETA: 7:01 - loss: 0.5373 - acc: 0.779 - ETA: 7:01 - loss: 0.5373 - acc: 0.779 - ETA: 7:00 - loss: 0.5373 - acc: 0.779 - ETA: 6:59 - loss: 0.5373 - acc: 0.779 - ETA: 6:59 - loss: 0.5373 - acc: 0.779 - ETA: 6:58 - loss: 0.5373 - acc: 0.779 - ETA: 6:58 - loss: 0.5373 - acc: 0.779 - ETA: 6:57 - loss: 0.5373 - acc: 0.779 - ETA: 6:56 - loss: 0.5372 - acc: 0.779 - ETA: 6:56 - loss: 0.5372 - acc: 0.779 - ETA: 6:55 - loss: 0.5373 - acc: 0.7799"
     ]
    },
    {
     "name": "stdout",
     "output_type": "stream",
     "text": [
      "104448/135000 [======================>.......] - ETA: 6:54 - loss: 0.5373 - acc: 0.779 - ETA: 6:54 - loss: 0.5373 - acc: 0.779 - ETA: 6:53 - loss: 0.5373 - acc: 0.779 - ETA: 6:53 - loss: 0.5372 - acc: 0.780 - ETA: 6:52 - loss: 0.5372 - acc: 0.779 - ETA: 6:51 - loss: 0.5372 - acc: 0.780 - ETA: 6:51 - loss: 0.5372 - acc: 0.780 - ETA: 6:50 - loss: 0.5371 - acc: 0.780 - ETA: 6:49 - loss: 0.5371 - acc: 0.780 - ETA: 6:49 - loss: 0.5371 - acc: 0.780 - ETA: 6:48 - loss: 0.5371 - acc: 0.780 - ETA: 6:47 - loss: 0.5371 - acc: 0.780 - ETA: 6:47 - loss: 0.5371 - acc: 0.780 - ETA: 6:46 - loss: 0.5371 - acc: 0.780 - ETA: 6:45 - loss: 0.5371 - acc: 0.780 - ETA: 6:45 - loss: 0.5371 - acc: 0.780 - ETA: 6:44 - loss: 0.5370 - acc: 0.780 - ETA: 6:43 - loss: 0.5369 - acc: 0.780 - ETA: 6:43 - loss: 0.5369 - acc: 0.780 - ETA: 6:42 - loss: 0.5369 - acc: 0.780 - ETA: 6:41 - loss: 0.5369 - acc: 0.780 - ETA: 6:41 - loss: 0.5370 - acc: 0.780 - ETA: 6:40 - loss: 0.5370 - acc: 0.780 - ETA: 6:39 - loss: 0.5370 - acc: 0.780 - ETA: 6:39 - loss: 0.5370 - acc: 0.780 - ETA: 6:38 - loss: 0.5371 - acc: 0.780 - ETA: 6:37 - loss: 0.5371 - acc: 0.780 - ETA: 6:37 - loss: 0.5370 - acc: 0.780 - ETA: 6:36 - loss: 0.5370 - acc: 0.780 - ETA: 6:35 - loss: 0.5370 - acc: 0.780 - ETA: 6:35 - loss: 0.5370 - acc: 0.780 - ETA: 6:34 - loss: 0.5370 - acc: 0.780 - ETA: 6:33 - loss: 0.5370 - acc: 0.780 - ETA: 6:33 - loss: 0.5370 - acc: 0.780 - ETA: 6:32 - loss: 0.5370 - acc: 0.780 - ETA: 6:32 - loss: 0.5370 - acc: 0.780 - ETA: 6:31 - loss: 0.5370 - acc: 0.780 - ETA: 6:30 - loss: 0.5370 - acc: 0.780 - ETA: 6:30 - loss: 0.5370 - acc: 0.780 - ETA: 6:29 - loss: 0.5369 - acc: 0.780 - ETA: 6:28 - loss: 0.5369 - acc: 0.780 - ETA: 6:28 - loss: 0.5368 - acc: 0.780 - ETA: 6:27 - loss: 0.5368 - acc: 0.780 - ETA: 6:26 - loss: 0.5369 - acc: 0.780 - ETA: 6:26 - loss: 0.5368 - acc: 0.780 - ETA: 6:25 - loss: 0.5369 - acc: 0.780 - ETA: 6:25 - loss: 0.5370 - acc: 0.780 - ETA: 6:24 - loss: 0.5369 - acc: 0.780 - ETA: 6:23 - loss: 0.5369 - acc: 0.780 - ETA: 6:23 - loss: 0.5369 - acc: 0.780 - ETA: 6:22 - loss: 0.5369 - acc: 0.780 - ETA: 6:21 - loss: 0.5369 - acc: 0.780 - ETA: 6:21 - loss: 0.5369 - acc: 0.780 - ETA: 6:20 - loss: 0.5368 - acc: 0.780 - ETA: 6:20 - loss: 0.5368 - acc: 0.780 - ETA: 6:19 - loss: 0.5368 - acc: 0.780 - ETA: 6:19 - loss: 0.5368 - acc: 0.780 - ETA: 6:18 - loss: 0.5368 - acc: 0.780 - ETA: 6:17 - loss: 0.5369 - acc: 0.780 - ETA: 6:17 - loss: 0.5369 - acc: 0.780 - ETA: 6:16 - loss: 0.5370 - acc: 0.780 - ETA: 6:15 - loss: 0.5370 - acc: 0.780 - ETA: 6:15 - loss: 0.5370 - acc: 0.780 - ETA: 6:14 - loss: 0.5370 - acc: 0.780 - ETA: 6:13 - loss: 0.5370 - acc: 0.780 - ETA: 6:13 - loss: 0.5371 - acc: 0.780 - ETA: 6:12 - loss: 0.5371 - acc: 0.780 - ETA: 6:12 - loss: 0.5372 - acc: 0.780 - ETA: 6:11 - loss: 0.5371 - acc: 0.780 - ETA: 6:10 - loss: 0.5371 - acc: 0.780 - ETA: 6:10 - loss: 0.5371 - acc: 0.780 - ETA: 6:09 - loss: 0.5371 - acc: 0.780 - ETA: 6:08 - loss: 0.5370 - acc: 0.780 - ETA: 6:08 - loss: 0.5370 - acc: 0.780 - ETA: 6:07 - loss: 0.5371 - acc: 0.780 - ETA: 6:07 - loss: 0.5371 - acc: 0.780 - ETA: 6:07 - loss: 0.5372 - acc: 0.780 - ETA: 6:07 - loss: 0.5372 - acc: 0.780 - ETA: 6:06 - loss: 0.5371 - acc: 0.780 - ETA: 6:06 - loss: 0.5371 - acc: 0.780 - ETA: 6:05 - loss: 0.5371 - acc: 0.780 - ETA: 6:05 - loss: 0.5371 - acc: 0.780 - ETA: 6:04 - loss: 0.5371 - acc: 0.780 - ETA: 6:04 - loss: 0.5371 - acc: 0.780 - ETA: 6:04 - loss: 0.5372 - acc: 0.780 - ETA: 6:03 - loss: 0.5372 - acc: 0.780 - ETA: 6:03 - loss: 0.5372 - acc: 0.780 - ETA: 6:02 - loss: 0.5372 - acc: 0.780 - ETA: 6:02 - loss: 0.5372 - acc: 0.780 - ETA: 6:01 - loss: 0.5372 - acc: 0.780 - ETA: 6:00 - loss: 0.5372 - acc: 0.780 - ETA: 6:00 - loss: 0.5373 - acc: 0.780 - ETA: 5:59 - loss: 0.5373 - acc: 0.780 - ETA: 5:59 - loss: 0.5373 - acc: 0.780 - ETA: 5:58 - loss: 0.5373 - acc: 0.779 - ETA: 5:57 - loss: 0.5373 - acc: 0.779 - ETA: 5:57 - loss: 0.5372 - acc: 0.780 - ETA: 5:56 - loss: 0.5372 - acc: 0.780 - ETA: 5:56 - loss: 0.5371 - acc: 0.780 - ETA: 5:55 - loss: 0.5370 - acc: 0.780 - ETA: 5:54 - loss: 0.5370 - acc: 0.780 - ETA: 5:54 - loss: 0.5370 - acc: 0.780 - ETA: 5:53 - loss: 0.5370 - acc: 0.780 - ETA: 5:53 - loss: 0.5369 - acc: 0.780 - ETA: 5:52 - loss: 0.5369 - acc: 0.780 - ETA: 5:51 - loss: 0.5369 - acc: 0.780 - ETA: 5:51 - loss: 0.5369 - acc: 0.780 - ETA: 5:50 - loss: 0.5369 - acc: 0.780 - ETA: 5:50 - loss: 0.5368 - acc: 0.780 - ETA: 5:49 - loss: 0.5368 - acc: 0.780 - ETA: 5:48 - loss: 0.5367 - acc: 0.780 - ETA: 5:48 - loss: 0.5366 - acc: 0.780 - ETA: 5:47 - loss: 0.5366 - acc: 0.780 - ETA: 5:47 - loss: 0.5366 - acc: 0.780 - ETA: 5:46 - loss: 0.5365 - acc: 0.780 - ETA: 5:46 - loss: 0.5365 - acc: 0.780 - ETA: 5:45 - loss: 0.5364 - acc: 0.780 - ETA: 5:44 - loss: 0.5365 - acc: 0.780 - ETA: 5:44 - loss: 0.5364 - acc: 0.780 - ETA: 5:43 - loss: 0.5364 - acc: 0.780 - ETA: 5:43 - loss: 0.5365 - acc: 0.780 - ETA: 5:42 - loss: 0.5364 - acc: 0.780 - ETA: 5:41 - loss: 0.5364 - acc: 0.780 - ETA: 5:41 - loss: 0.5364 - acc: 0.780 - ETA: 5:40 - loss: 0.5364 - acc: 0.780 - ETA: 5:40 - loss: 0.5364 - acc: 0.780 - ETA: 5:39 - loss: 0.5363 - acc: 0.780 - ETA: 5:38 - loss: 0.5364 - acc: 0.780 - ETA: 5:38 - loss: 0.5363 - acc: 0.780 - ETA: 5:37 - loss: 0.5363 - acc: 0.780 - ETA: 5:37 - loss: 0.5363 - acc: 0.780 - ETA: 5:36 - loss: 0.5363 - acc: 0.780 - ETA: 5:35 - loss: 0.5364 - acc: 0.780 - ETA: 5:35 - loss: 0.5364 - acc: 0.780 - ETA: 5:34 - loss: 0.5365 - acc: 0.780 - ETA: 5:34 - loss: 0.5364 - acc: 0.780 - ETA: 5:33 - loss: 0.5365 - acc: 0.780 - ETA: 5:32 - loss: 0.5365 - acc: 0.780 - ETA: 5:32 - loss: 0.5364 - acc: 0.780 - ETA: 5:31 - loss: 0.5364 - acc: 0.780 - ETA: 5:31 - loss: 0.5364 - acc: 0.780 - ETA: 5:30 - loss: 0.5365 - acc: 0.780 - ETA: 5:29 - loss: 0.5365 - acc: 0.780 - ETA: 5:29 - loss: 0.5365 - acc: 0.780 - ETA: 5:28 - loss: 0.5365 - acc: 0.780 - ETA: 5:28 - loss: 0.5364 - acc: 0.780 - ETA: 5:27 - loss: 0.5365 - acc: 0.780 - ETA: 5:27 - loss: 0.5363 - acc: 0.780 - ETA: 5:26 - loss: 0.5363 - acc: 0.780 - ETA: 5:25 - loss: 0.5364 - acc: 0.780 - ETA: 5:25 - loss: 0.5364 - acc: 0.780 - ETA: 5:24 - loss: 0.5363 - acc: 0.780 - ETA: 5:24 - loss: 0.5363 - acc: 0.780 - ETA: 5:23 - loss: 0.5363 - acc: 0.780 - ETA: 5:22 - loss: 0.5362 - acc: 0.780 - ETA: 5:22 - loss: 0.5363 - acc: 0.780 - ETA: 5:21 - loss: 0.5364 - acc: 0.780 - ETA: 5:21 - loss: 0.5363 - acc: 0.780 - ETA: 5:20 - loss: 0.5363 - acc: 0.780 - ETA: 5:19 - loss: 0.5363 - acc: 0.780 - ETA: 5:19 - loss: 0.5362 - acc: 0.780 - ETA: 5:18 - loss: 0.5362 - acc: 0.780 - ETA: 5:18 - loss: 0.5363 - acc: 0.780 - ETA: 5:17 - loss: 0.5363 - acc: 0.780 - ETA: 5:16 - loss: 0.5362 - acc: 0.780 - ETA: 5:16 - loss: 0.5362 - acc: 0.780 - ETA: 5:15 - loss: 0.5363 - acc: 0.780 - ETA: 5:15 - loss: 0.5363 - acc: 0.780 - ETA: 5:14 - loss: 0.5362 - acc: 0.780 - ETA: 5:13 - loss: 0.5362 - acc: 0.780 - ETA: 5:13 - loss: 0.5362 - acc: 0.780 - ETA: 5:12 - loss: 0.5362 - acc: 0.780 - ETA: 5:12 - loss: 0.5362 - acc: 0.780 - ETA: 5:11 - loss: 0.5361 - acc: 0.780 - ETA: 5:11 - loss: 0.5360 - acc: 0.780 - ETA: 5:10 - loss: 0.5361 - acc: 0.780 - ETA: 5:10 - loss: 0.5361 - acc: 0.780 - ETA: 5:10 - loss: 0.5360 - acc: 0.780 - ETA: 5:09 - loss: 0.5360 - acc: 0.780 - ETA: 5:09 - loss: 0.5359 - acc: 0.780 - ETA: 5:08 - loss: 0.5360 - acc: 0.780 - ETA: 5:08 - loss: 0.5359 - acc: 0.780 - ETA: 5:07 - loss: 0.5359 - acc: 0.780 - ETA: 5:07 - loss: 0.5359 - acc: 0.780 - ETA: 5:06 - loss: 0.5359 - acc: 0.780 - ETA: 5:06 - loss: 0.5360 - acc: 0.780 - ETA: 5:05 - loss: 0.5360 - acc: 0.780 - ETA: 5:04 - loss: 0.5360 - acc: 0.780 - ETA: 5:04 - loss: 0.5359 - acc: 0.780 - ETA: 5:03 - loss: 0.5359 - acc: 0.780 - ETA: 5:03 - loss: 0.5359 - acc: 0.780 - ETA: 5:02 - loss: 0.5360 - acc: 0.780 - ETA: 5:01 - loss: 0.5360 - acc: 0.780 - ETA: 5:01 - loss: 0.5360 - acc: 0.780 - ETA: 5:00 - loss: 0.5360 - acc: 0.780 - ETA: 5:00 - loss: 0.5360 - acc: 0.780 - ETA: 4:59 - loss: 0.5361 - acc: 0.780 - ETA: 4:58 - loss: 0.5361 - acc: 0.780 - ETA: 4:58 - loss: 0.5360 - acc: 0.780 - ETA: 4:57 - loss: 0.5360 - acc: 0.780 - ETA: 4:57 - loss: 0.5360 - acc: 0.780 - ETA: 4:56 - loss: 0.5361 - acc: 0.780 - ETA: 4:55 - loss: 0.5362 - acc: 0.780 - ETA: 4:55 - loss: 0.5363 - acc: 0.7804"
     ]
    },
    {
     "name": "stdout",
     "output_type": "stream",
     "text": [
      "117504/135000 [=========================>....] - ETA: 4:54 - loss: 0.5363 - acc: 0.780 - ETA: 4:54 - loss: 0.5363 - acc: 0.780 - ETA: 4:53 - loss: 0.5363 - acc: 0.780 - ETA: 4:53 - loss: 0.5363 - acc: 0.780 - ETA: 4:52 - loss: 0.5362 - acc: 0.780 - ETA: 4:52 - loss: 0.5363 - acc: 0.780 - ETA: 4:51 - loss: 0.5363 - acc: 0.780 - ETA: 4:50 - loss: 0.5362 - acc: 0.780 - ETA: 4:50 - loss: 0.5362 - acc: 0.780 - ETA: 4:49 - loss: 0.5362 - acc: 0.780 - ETA: 4:49 - loss: 0.5362 - acc: 0.780 - ETA: 4:48 - loss: 0.5363 - acc: 0.780 - ETA: 4:47 - loss: 0.5363 - acc: 0.780 - ETA: 4:47 - loss: 0.5362 - acc: 0.780 - ETA: 4:46 - loss: 0.5362 - acc: 0.780 - ETA: 4:45 - loss: 0.5362 - acc: 0.780 - ETA: 4:45 - loss: 0.5362 - acc: 0.780 - ETA: 4:44 - loss: 0.5361 - acc: 0.780 - ETA: 4:44 - loss: 0.5360 - acc: 0.780 - ETA: 4:43 - loss: 0.5361 - acc: 0.780 - ETA: 4:42 - loss: 0.5360 - acc: 0.780 - ETA: 4:42 - loss: 0.5362 - acc: 0.780 - ETA: 4:41 - loss: 0.5361 - acc: 0.780 - ETA: 4:40 - loss: 0.5361 - acc: 0.780 - ETA: 4:40 - loss: 0.5360 - acc: 0.780 - ETA: 4:39 - loss: 0.5361 - acc: 0.780 - ETA: 4:38 - loss: 0.5361 - acc: 0.780 - ETA: 4:38 - loss: 0.5360 - acc: 0.780 - ETA: 4:37 - loss: 0.5360 - acc: 0.780 - ETA: 4:37 - loss: 0.5361 - acc: 0.780 - ETA: 4:36 - loss: 0.5361 - acc: 0.780 - ETA: 4:36 - loss: 0.5361 - acc: 0.780 - ETA: 4:35 - loss: 0.5361 - acc: 0.780 - ETA: 4:34 - loss: 0.5360 - acc: 0.780 - ETA: 4:34 - loss: 0.5361 - acc: 0.780 - ETA: 4:33 - loss: 0.5359 - acc: 0.780 - ETA: 4:33 - loss: 0.5360 - acc: 0.780 - ETA: 4:32 - loss: 0.5360 - acc: 0.780 - ETA: 4:32 - loss: 0.5361 - acc: 0.780 - ETA: 4:31 - loss: 0.5361 - acc: 0.780 - ETA: 4:31 - loss: 0.5361 - acc: 0.780 - ETA: 4:30 - loss: 0.5361 - acc: 0.780 - ETA: 4:29 - loss: 0.5360 - acc: 0.780 - ETA: 4:29 - loss: 0.5361 - acc: 0.780 - ETA: 4:28 - loss: 0.5360 - acc: 0.780 - ETA: 4:28 - loss: 0.5361 - acc: 0.780 - ETA: 4:27 - loss: 0.5361 - acc: 0.780 - ETA: 4:26 - loss: 0.5362 - acc: 0.780 - ETA: 4:26 - loss: 0.5363 - acc: 0.780 - ETA: 4:25 - loss: 0.5363 - acc: 0.780 - ETA: 4:24 - loss: 0.5363 - acc: 0.780 - ETA: 4:24 - loss: 0.5363 - acc: 0.780 - ETA: 4:23 - loss: 0.5363 - acc: 0.780 - ETA: 4:23 - loss: 0.5363 - acc: 0.780 - ETA: 4:22 - loss: 0.5364 - acc: 0.780 - ETA: 4:21 - loss: 0.5364 - acc: 0.780 - ETA: 4:21 - loss: 0.5364 - acc: 0.780 - ETA: 4:20 - loss: 0.5363 - acc: 0.780 - ETA: 4:20 - loss: 0.5364 - acc: 0.780 - ETA: 4:19 - loss: 0.5364 - acc: 0.780 - ETA: 4:18 - loss: 0.5364 - acc: 0.780 - ETA: 4:18 - loss: 0.5364 - acc: 0.780 - ETA: 4:17 - loss: 0.5364 - acc: 0.780 - ETA: 4:16 - loss: 0.5364 - acc: 0.780 - ETA: 4:16 - loss: 0.5365 - acc: 0.780 - ETA: 4:15 - loss: 0.5365 - acc: 0.780 - ETA: 4:15 - loss: 0.5365 - acc: 0.780 - ETA: 4:14 - loss: 0.5365 - acc: 0.780 - ETA: 4:13 - loss: 0.5365 - acc: 0.780 - ETA: 4:13 - loss: 0.5366 - acc: 0.780 - ETA: 4:12 - loss: 0.5366 - acc: 0.780 - ETA: 4:11 - loss: 0.5366 - acc: 0.780 - ETA: 4:11 - loss: 0.5367 - acc: 0.780 - ETA: 4:10 - loss: 0.5367 - acc: 0.780 - ETA: 4:10 - loss: 0.5367 - acc: 0.780 - ETA: 4:09 - loss: 0.5366 - acc: 0.780 - ETA: 4:08 - loss: 0.5365 - acc: 0.780 - ETA: 4:08 - loss: 0.5365 - acc: 0.780 - ETA: 4:07 - loss: 0.5365 - acc: 0.780 - ETA: 4:07 - loss: 0.5364 - acc: 0.780 - ETA: 4:06 - loss: 0.5364 - acc: 0.780 - ETA: 4:06 - loss: 0.5364 - acc: 0.780 - ETA: 4:05 - loss: 0.5364 - acc: 0.780 - ETA: 4:04 - loss: 0.5365 - acc: 0.780 - ETA: 4:04 - loss: 0.5364 - acc: 0.780 - ETA: 4:03 - loss: 0.5364 - acc: 0.780 - ETA: 4:02 - loss: 0.5364 - acc: 0.780 - ETA: 4:02 - loss: 0.5365 - acc: 0.780 - ETA: 4:01 - loss: 0.5364 - acc: 0.780 - ETA: 4:00 - loss: 0.5364 - acc: 0.780 - ETA: 4:00 - loss: 0.5363 - acc: 0.780 - ETA: 3:59 - loss: 0.5363 - acc: 0.780 - ETA: 3:58 - loss: 0.5364 - acc: 0.780 - ETA: 3:58 - loss: 0.5364 - acc: 0.780 - ETA: 3:57 - loss: 0.5364 - acc: 0.780 - ETA: 3:57 - loss: 0.5363 - acc: 0.780 - ETA: 3:56 - loss: 0.5363 - acc: 0.780 - ETA: 3:55 - loss: 0.5363 - acc: 0.780 - ETA: 3:55 - loss: 0.5362 - acc: 0.780 - ETA: 3:54 - loss: 0.5361 - acc: 0.780 - ETA: 3:53 - loss: 0.5361 - acc: 0.780 - ETA: 3:53 - loss: 0.5361 - acc: 0.780 - ETA: 3:52 - loss: 0.5361 - acc: 0.780 - ETA: 3:51 - loss: 0.5362 - acc: 0.780 - ETA: 3:51 - loss: 0.5362 - acc: 0.780 - ETA: 3:50 - loss: 0.5361 - acc: 0.780 - ETA: 3:49 - loss: 0.5363 - acc: 0.780 - ETA: 3:49 - loss: 0.5363 - acc: 0.780 - ETA: 3:48 - loss: 0.5363 - acc: 0.780 - ETA: 3:47 - loss: 0.5363 - acc: 0.780 - ETA: 3:47 - loss: 0.5363 - acc: 0.780 - ETA: 3:46 - loss: 0.5362 - acc: 0.780 - ETA: 3:45 - loss: 0.5362 - acc: 0.780 - ETA: 3:45 - loss: 0.5361 - acc: 0.780 - ETA: 3:44 - loss: 0.5362 - acc: 0.780 - ETA: 3:44 - loss: 0.5362 - acc: 0.780 - ETA: 3:43 - loss: 0.5362 - acc: 0.780 - ETA: 3:42 - loss: 0.5362 - acc: 0.780 - ETA: 3:42 - loss: 0.5362 - acc: 0.780 - ETA: 3:41 - loss: 0.5362 - acc: 0.780 - ETA: 3:40 - loss: 0.5362 - acc: 0.780 - ETA: 3:40 - loss: 0.5361 - acc: 0.780 - ETA: 3:39 - loss: 0.5361 - acc: 0.780 - ETA: 3:38 - loss: 0.5361 - acc: 0.780 - ETA: 3:38 - loss: 0.5360 - acc: 0.780 - ETA: 3:37 - loss: 0.5360 - acc: 0.780 - ETA: 3:36 - loss: 0.5360 - acc: 0.780 - ETA: 3:36 - loss: 0.5360 - acc: 0.780 - ETA: 3:35 - loss: 0.5360 - acc: 0.780 - ETA: 3:34 - loss: 0.5360 - acc: 0.780 - ETA: 3:34 - loss: 0.5360 - acc: 0.780 - ETA: 3:33 - loss: 0.5360 - acc: 0.780 - ETA: 3:33 - loss: 0.5360 - acc: 0.780 - ETA: 3:32 - loss: 0.5359 - acc: 0.780 - ETA: 3:31 - loss: 0.5359 - acc: 0.780 - ETA: 3:31 - loss: 0.5360 - acc: 0.780 - ETA: 3:30 - loss: 0.5360 - acc: 0.780 - ETA: 3:29 - loss: 0.5360 - acc: 0.780 - ETA: 3:29 - loss: 0.5360 - acc: 0.780 - ETA: 3:28 - loss: 0.5359 - acc: 0.780 - ETA: 3:28 - loss: 0.5358 - acc: 0.780 - ETA: 3:27 - loss: 0.5358 - acc: 0.780 - ETA: 3:27 - loss: 0.5358 - acc: 0.780 - ETA: 3:26 - loss: 0.5358 - acc: 0.780 - ETA: 3:25 - loss: 0.5359 - acc: 0.780 - ETA: 3:25 - loss: 0.5359 - acc: 0.780 - ETA: 3:24 - loss: 0.5358 - acc: 0.780 - ETA: 3:23 - loss: 0.5358 - acc: 0.780 - ETA: 3:23 - loss: 0.5358 - acc: 0.780 - ETA: 3:22 - loss: 0.5357 - acc: 0.780 - ETA: 3:22 - loss: 0.5356 - acc: 0.780 - ETA: 3:21 - loss: 0.5356 - acc: 0.780 - ETA: 3:21 - loss: 0.5357 - acc: 0.780 - ETA: 3:20 - loss: 0.5356 - acc: 0.780 - ETA: 3:19 - loss: 0.5357 - acc: 0.780 - ETA: 3:19 - loss: 0.5358 - acc: 0.780 - ETA: 3:18 - loss: 0.5357 - acc: 0.780 - ETA: 3:18 - loss: 0.5357 - acc: 0.780 - ETA: 3:17 - loss: 0.5357 - acc: 0.780 - ETA: 3:16 - loss: 0.5357 - acc: 0.780 - ETA: 3:16 - loss: 0.5357 - acc: 0.780 - ETA: 3:15 - loss: 0.5357 - acc: 0.780 - ETA: 3:15 - loss: 0.5357 - acc: 0.780 - ETA: 3:14 - loss: 0.5358 - acc: 0.780 - ETA: 3:13 - loss: 0.5357 - acc: 0.780 - ETA: 3:13 - loss: 0.5358 - acc: 0.780 - ETA: 3:12 - loss: 0.5358 - acc: 0.780 - ETA: 3:12 - loss: 0.5358 - acc: 0.780 - ETA: 3:11 - loss: 0.5358 - acc: 0.780 - ETA: 3:10 - loss: 0.5358 - acc: 0.780 - ETA: 3:10 - loss: 0.5358 - acc: 0.780 - ETA: 3:09 - loss: 0.5358 - acc: 0.780 - ETA: 3:09 - loss: 0.5358 - acc: 0.780 - ETA: 3:08 - loss: 0.5357 - acc: 0.780 - ETA: 3:07 - loss: 0.5357 - acc: 0.780 - ETA: 3:07 - loss: 0.5357 - acc: 0.780 - ETA: 3:06 - loss: 0.5357 - acc: 0.780 - ETA: 3:06 - loss: 0.5357 - acc: 0.780 - ETA: 3:05 - loss: 0.5358 - acc: 0.780 - ETA: 3:05 - loss: 0.5357 - acc: 0.780 - ETA: 3:04 - loss: 0.5356 - acc: 0.780 - ETA: 3:03 - loss: 0.5356 - acc: 0.780 - ETA: 3:03 - loss: 0.5356 - acc: 0.780 - ETA: 3:02 - loss: 0.5356 - acc: 0.780 - ETA: 3:02 - loss: 0.5356 - acc: 0.780 - ETA: 3:01 - loss: 0.5356 - acc: 0.780 - ETA: 3:00 - loss: 0.5357 - acc: 0.780 - ETA: 3:00 - loss: 0.5357 - acc: 0.780 - ETA: 2:59 - loss: 0.5358 - acc: 0.780 - ETA: 2:58 - loss: 0.5358 - acc: 0.780 - ETA: 2:58 - loss: 0.5358 - acc: 0.780 - ETA: 2:57 - loss: 0.5359 - acc: 0.780 - ETA: 2:56 - loss: 0.5359 - acc: 0.780 - ETA: 2:56 - loss: 0.5360 - acc: 0.780 - ETA: 2:55 - loss: 0.5359 - acc: 0.780 - ETA: 2:55 - loss: 0.5359 - acc: 0.780 - ETA: 2:54 - loss: 0.5359 - acc: 0.780 - ETA: 2:53 - loss: 0.5359 - acc: 0.780 - ETA: 2:53 - loss: 0.5358 - acc: 0.780 - ETA: 2:52 - loss: 0.5358 - acc: 0.780 - ETA: 2:51 - loss: 0.5358 - acc: 0.780 - ETA: 2:51 - loss: 0.5359 - acc: 0.780 - ETA: 2:50 - loss: 0.5358 - acc: 0.780 - ETA: 2:50 - loss: 0.5358 - acc: 0.7802"
     ]
    },
    {
     "name": "stdout",
     "output_type": "stream",
     "text": [
      "130624/135000 [============================>.] - ETA: 2:49 - loss: 0.5358 - acc: 0.780 - ETA: 2:48 - loss: 0.5358 - acc: 0.780 - ETA: 2:48 - loss: 0.5358 - acc: 0.780 - ETA: 2:47 - loss: 0.5357 - acc: 0.780 - ETA: 2:46 - loss: 0.5357 - acc: 0.780 - ETA: 2:46 - loss: 0.5356 - acc: 0.780 - ETA: 2:45 - loss: 0.5356 - acc: 0.780 - ETA: 2:45 - loss: 0.5356 - acc: 0.780 - ETA: 2:44 - loss: 0.5356 - acc: 0.780 - ETA: 2:43 - loss: 0.5356 - acc: 0.780 - ETA: 2:43 - loss: 0.5356 - acc: 0.780 - ETA: 2:42 - loss: 0.5356 - acc: 0.780 - ETA: 2:42 - loss: 0.5356 - acc: 0.780 - ETA: 2:41 - loss: 0.5355 - acc: 0.780 - ETA: 2:40 - loss: 0.5354 - acc: 0.780 - ETA: 2:40 - loss: 0.5353 - acc: 0.780 - ETA: 2:39 - loss: 0.5354 - acc: 0.780 - ETA: 2:39 - loss: 0.5354 - acc: 0.780 - ETA: 2:38 - loss: 0.5354 - acc: 0.780 - ETA: 2:37 - loss: 0.5354 - acc: 0.780 - ETA: 2:37 - loss: 0.5354 - acc: 0.780 - ETA: 2:36 - loss: 0.5354 - acc: 0.780 - ETA: 2:36 - loss: 0.5355 - acc: 0.780 - ETA: 2:35 - loss: 0.5355 - acc: 0.780 - ETA: 2:34 - loss: 0.5355 - acc: 0.780 - ETA: 2:34 - loss: 0.5355 - acc: 0.780 - ETA: 2:33 - loss: 0.5354 - acc: 0.780 - ETA: 2:33 - loss: 0.5355 - acc: 0.780 - ETA: 2:32 - loss: 0.5353 - acc: 0.780 - ETA: 2:31 - loss: 0.5353 - acc: 0.780 - ETA: 2:31 - loss: 0.5352 - acc: 0.780 - ETA: 2:30 - loss: 0.5352 - acc: 0.780 - ETA: 2:29 - loss: 0.5351 - acc: 0.780 - ETA: 2:29 - loss: 0.5351 - acc: 0.780 - ETA: 2:28 - loss: 0.5351 - acc: 0.780 - ETA: 2:28 - loss: 0.5352 - acc: 0.780 - ETA: 2:27 - loss: 0.5351 - acc: 0.780 - ETA: 2:26 - loss: 0.5351 - acc: 0.780 - ETA: 2:26 - loss: 0.5351 - acc: 0.780 - ETA: 2:25 - loss: 0.5351 - acc: 0.780 - ETA: 2:25 - loss: 0.5351 - acc: 0.780 - ETA: 2:24 - loss: 0.5350 - acc: 0.780 - ETA: 2:24 - loss: 0.5350 - acc: 0.780 - ETA: 2:23 - loss: 0.5350 - acc: 0.780 - ETA: 2:22 - loss: 0.5351 - acc: 0.780 - ETA: 2:22 - loss: 0.5351 - acc: 0.780 - ETA: 2:21 - loss: 0.5350 - acc: 0.780 - ETA: 2:21 - loss: 0.5350 - acc: 0.780 - ETA: 2:20 - loss: 0.5350 - acc: 0.780 - ETA: 2:19 - loss: 0.5350 - acc: 0.780 - ETA: 2:19 - loss: 0.5350 - acc: 0.780 - ETA: 2:18 - loss: 0.5349 - acc: 0.780 - ETA: 2:18 - loss: 0.5349 - acc: 0.780 - ETA: 2:17 - loss: 0.5348 - acc: 0.780 - ETA: 2:16 - loss: 0.5348 - acc: 0.780 - ETA: 2:16 - loss: 0.5348 - acc: 0.780 - ETA: 2:15 - loss: 0.5349 - acc: 0.780 - ETA: 2:15 - loss: 0.5350 - acc: 0.780 - ETA: 2:14 - loss: 0.5349 - acc: 0.780 - ETA: 2:13 - loss: 0.5349 - acc: 0.780 - ETA: 2:13 - loss: 0.5348 - acc: 0.780 - ETA: 2:12 - loss: 0.5347 - acc: 0.780 - ETA: 2:11 - loss: 0.5347 - acc: 0.780 - ETA: 2:11 - loss: 0.5347 - acc: 0.780 - ETA: 2:10 - loss: 0.5348 - acc: 0.780 - ETA: 2:10 - loss: 0.5347 - acc: 0.780 - ETA: 2:09 - loss: 0.5347 - acc: 0.780 - ETA: 2:08 - loss: 0.5347 - acc: 0.780 - ETA: 2:08 - loss: 0.5347 - acc: 0.780 - ETA: 2:07 - loss: 0.5347 - acc: 0.780 - ETA: 2:06 - loss: 0.5346 - acc: 0.780 - ETA: 2:06 - loss: 0.5346 - acc: 0.780 - ETA: 2:05 - loss: 0.5346 - acc: 0.780 - ETA: 2:04 - loss: 0.5346 - acc: 0.780 - ETA: 2:04 - loss: 0.5345 - acc: 0.780 - ETA: 2:03 - loss: 0.5346 - acc: 0.780 - ETA: 2:03 - loss: 0.5345 - acc: 0.780 - ETA: 2:02 - loss: 0.5345 - acc: 0.780 - ETA: 2:01 - loss: 0.5345 - acc: 0.780 - ETA: 2:01 - loss: 0.5344 - acc: 0.780 - ETA: 2:00 - loss: 0.5344 - acc: 0.780 - ETA: 1:59 - loss: 0.5344 - acc: 0.780 - ETA: 1:59 - loss: 0.5343 - acc: 0.780 - ETA: 1:58 - loss: 0.5344 - acc: 0.780 - ETA: 1:57 - loss: 0.5345 - acc: 0.780 - ETA: 1:57 - loss: 0.5345 - acc: 0.780 - ETA: 1:56 - loss: 0.5345 - acc: 0.780 - ETA: 1:55 - loss: 0.5344 - acc: 0.780 - ETA: 1:55 - loss: 0.5344 - acc: 0.781 - ETA: 1:54 - loss: 0.5345 - acc: 0.780 - ETA: 1:54 - loss: 0.5345 - acc: 0.780 - ETA: 1:53 - loss: 0.5346 - acc: 0.780 - ETA: 1:52 - loss: 0.5346 - acc: 0.780 - ETA: 1:52 - loss: 0.5345 - acc: 0.780 - ETA: 1:51 - loss: 0.5345 - acc: 0.780 - ETA: 1:50 - loss: 0.5345 - acc: 0.780 - ETA: 1:50 - loss: 0.5344 - acc: 0.780 - ETA: 1:49 - loss: 0.5344 - acc: 0.780 - ETA: 1:49 - loss: 0.5344 - acc: 0.780 - ETA: 1:48 - loss: 0.5345 - acc: 0.780 - ETA: 1:47 - loss: 0.5345 - acc: 0.780 - ETA: 1:47 - loss: 0.5344 - acc: 0.780 - ETA: 1:46 - loss: 0.5344 - acc: 0.781 - ETA: 1:46 - loss: 0.5343 - acc: 0.781 - ETA: 1:45 - loss: 0.5343 - acc: 0.781 - ETA: 1:44 - loss: 0.5344 - acc: 0.781 - ETA: 1:44 - loss: 0.5343 - acc: 0.781 - ETA: 1:43 - loss: 0.5343 - acc: 0.781 - ETA: 1:43 - loss: 0.5343 - acc: 0.781 - ETA: 1:42 - loss: 0.5342 - acc: 0.781 - ETA: 1:41 - loss: 0.5342 - acc: 0.781 - ETA: 1:41 - loss: 0.5342 - acc: 0.781 - ETA: 1:40 - loss: 0.5342 - acc: 0.781 - ETA: 1:40 - loss: 0.5342 - acc: 0.781 - ETA: 1:39 - loss: 0.5342 - acc: 0.781 - ETA: 1:38 - loss: 0.5341 - acc: 0.781 - ETA: 1:38 - loss: 0.5341 - acc: 0.781 - ETA: 1:37 - loss: 0.5341 - acc: 0.781 - ETA: 1:36 - loss: 0.5340 - acc: 0.781 - ETA: 1:36 - loss: 0.5340 - acc: 0.781 - ETA: 1:35 - loss: 0.5340 - acc: 0.781 - ETA: 1:34 - loss: 0.5341 - acc: 0.781 - ETA: 1:34 - loss: 0.5341 - acc: 0.781 - ETA: 1:33 - loss: 0.5341 - acc: 0.781 - ETA: 1:33 - loss: 0.5340 - acc: 0.781 - ETA: 1:32 - loss: 0.5340 - acc: 0.781 - ETA: 1:31 - loss: 0.5341 - acc: 0.781 - ETA: 1:31 - loss: 0.5342 - acc: 0.781 - ETA: 1:30 - loss: 0.5342 - acc: 0.781 - ETA: 1:29 - loss: 0.5342 - acc: 0.781 - ETA: 1:29 - loss: 0.5343 - acc: 0.781 - ETA: 1:28 - loss: 0.5341 - acc: 0.781 - ETA: 1:27 - loss: 0.5342 - acc: 0.781 - ETA: 1:27 - loss: 0.5342 - acc: 0.781 - ETA: 1:26 - loss: 0.5341 - acc: 0.781 - ETA: 1:26 - loss: 0.5342 - acc: 0.781 - ETA: 1:25 - loss: 0.5342 - acc: 0.781 - ETA: 1:24 - loss: 0.5342 - acc: 0.781 - ETA: 1:24 - loss: 0.5342 - acc: 0.781 - ETA: 1:23 - loss: 0.5342 - acc: 0.781 - ETA: 1:22 - loss: 0.5342 - acc: 0.781 - ETA: 1:22 - loss: 0.5342 - acc: 0.781 - ETA: 1:21 - loss: 0.5342 - acc: 0.781 - ETA: 1:20 - loss: 0.5343 - acc: 0.781 - ETA: 1:20 - loss: 0.5343 - acc: 0.781 - ETA: 1:19 - loss: 0.5342 - acc: 0.781 - ETA: 1:19 - loss: 0.5342 - acc: 0.781 - ETA: 1:18 - loss: 0.5342 - acc: 0.781 - ETA: 1:17 - loss: 0.5343 - acc: 0.781 - ETA: 1:17 - loss: 0.5343 - acc: 0.781 - ETA: 1:16 - loss: 0.5343 - acc: 0.781 - ETA: 1:15 - loss: 0.5343 - acc: 0.781 - ETA: 1:15 - loss: 0.5343 - acc: 0.781 - ETA: 1:14 - loss: 0.5343 - acc: 0.781 - ETA: 1:14 - loss: 0.5342 - acc: 0.781 - ETA: 1:13 - loss: 0.5343 - acc: 0.781 - ETA: 1:12 - loss: 0.5343 - acc: 0.781 - ETA: 1:12 - loss: 0.5343 - acc: 0.781 - ETA: 1:11 - loss: 0.5344 - acc: 0.781 - ETA: 1:10 - loss: 0.5344 - acc: 0.781 - ETA: 1:10 - loss: 0.5344 - acc: 0.781 - ETA: 1:09 - loss: 0.5344 - acc: 0.781 - ETA: 1:09 - loss: 0.5344 - acc: 0.781 - ETA: 1:08 - loss: 0.5345 - acc: 0.781 - ETA: 1:07 - loss: 0.5345 - acc: 0.781 - ETA: 1:07 - loss: 0.5344 - acc: 0.781 - ETA: 1:06 - loss: 0.5344 - acc: 0.781 - ETA: 1:05 - loss: 0.5344 - acc: 0.781 - ETA: 1:05 - loss: 0.5343 - acc: 0.781 - ETA: 1:04 - loss: 0.5343 - acc: 0.781 - ETA: 1:04 - loss: 0.5344 - acc: 0.781 - ETA: 1:03 - loss: 0.5344 - acc: 0.781 - ETA: 1:02 - loss: 0.5343 - acc: 0.781 - ETA: 1:02 - loss: 0.5344 - acc: 0.781 - ETA: 1:01 - loss: 0.5344 - acc: 0.781 - ETA: 1:00 - loss: 0.5345 - acc: 0.781 - ETA: 1:00 - loss: 0.5345 - acc: 0.781 - ETA: 59s - loss: 0.5345 - acc: 0.781 - ETA: 58s - loss: 0.5346 - acc: 0.78 - ETA: 58s - loss: 0.5345 - acc: 0.78 - ETA: 57s - loss: 0.5346 - acc: 0.78 - ETA: 57s - loss: 0.5346 - acc: 0.78 - ETA: 56s - loss: 0.5345 - acc: 0.78 - ETA: 55s - loss: 0.5346 - acc: 0.78 - ETA: 55s - loss: 0.5346 - acc: 0.78 - ETA: 54s - loss: 0.5346 - acc: 0.78 - ETA: 53s - loss: 0.5346 - acc: 0.78 - ETA: 53s - loss: 0.5345 - acc: 0.78 - ETA: 52s - loss: 0.5345 - acc: 0.78 - ETA: 52s - loss: 0.5345 - acc: 0.78 - ETA: 51s - loss: 0.5345 - acc: 0.78 - ETA: 50s - loss: 0.5345 - acc: 0.78 - ETA: 50s - loss: 0.5346 - acc: 0.78 - ETA: 49s - loss: 0.5346 - acc: 0.78 - ETA: 49s - loss: 0.5345 - acc: 0.78 - ETA: 48s - loss: 0.5346 - acc: 0.78 - ETA: 47s - loss: 0.5346 - acc: 0.78 - ETA: 47s - loss: 0.5345 - acc: 0.78 - ETA: 46s - loss: 0.5345 - acc: 0.78 - ETA: 45s - loss: 0.5345 - acc: 0.78 - ETA: 45s - loss: 0.5345 - acc: 0.78 - ETA: 44s - loss: 0.5345 - acc: 0.78 - ETA: 43s - loss: 0.5345 - acc: 0.78 - ETA: 43s - loss: 0.5345 - acc: 0.78 - ETA: 42s - loss: 0.5345 - acc: 0.7813"
     ]
    },
    {
     "name": "stdout",
     "output_type": "stream",
     "text": [
      "135000/135000 [==============================] - ETA: 42s - loss: 0.5345 - acc: 0.78 - ETA: 41s - loss: 0.5344 - acc: 0.78 - ETA: 40s - loss: 0.5345 - acc: 0.78 - ETA: 40s - loss: 0.5345 - acc: 0.78 - ETA: 39s - loss: 0.5344 - acc: 0.78 - ETA: 38s - loss: 0.5344 - acc: 0.78 - ETA: 38s - loss: 0.5344 - acc: 0.78 - ETA: 37s - loss: 0.5344 - acc: 0.78 - ETA: 37s - loss: 0.5344 - acc: 0.78 - ETA: 36s - loss: 0.5344 - acc: 0.78 - ETA: 35s - loss: 0.5343 - acc: 0.78 - ETA: 35s - loss: 0.5343 - acc: 0.78 - ETA: 34s - loss: 0.5342 - acc: 0.78 - ETA: 33s - loss: 0.5342 - acc: 0.78 - ETA: 33s - loss: 0.5342 - acc: 0.78 - ETA: 32s - loss: 0.5342 - acc: 0.78 - ETA: 32s - loss: 0.5342 - acc: 0.78 - ETA: 31s - loss: 0.5342 - acc: 0.78 - ETA: 30s - loss: 0.5343 - acc: 0.78 - ETA: 30s - loss: 0.5343 - acc: 0.78 - ETA: 29s - loss: 0.5343 - acc: 0.78 - ETA: 28s - loss: 0.5343 - acc: 0.78 - ETA: 28s - loss: 0.5343 - acc: 0.78 - ETA: 27s - loss: 0.5343 - acc: 0.78 - ETA: 27s - loss: 0.5344 - acc: 0.78 - ETA: 26s - loss: 0.5345 - acc: 0.78 - ETA: 25s - loss: 0.5345 - acc: 0.78 - ETA: 25s - loss: 0.5345 - acc: 0.78 - ETA: 24s - loss: 0.5346 - acc: 0.78 - ETA: 23s - loss: 0.5345 - acc: 0.78 - ETA: 23s - loss: 0.5345 - acc: 0.78 - ETA: 22s - loss: 0.5345 - acc: 0.78 - ETA: 22s - loss: 0.5345 - acc: 0.78 - ETA: 21s - loss: 0.5346 - acc: 0.78 - ETA: 20s - loss: 0.5345 - acc: 0.78 - ETA: 20s - loss: 0.5344 - acc: 0.78 - ETA: 19s - loss: 0.5344 - acc: 0.78 - ETA: 18s - loss: 0.5344 - acc: 0.78 - ETA: 18s - loss: 0.5344 - acc: 0.78 - ETA: 17s - loss: 0.5344 - acc: 0.78 - ETA: 17s - loss: 0.5344 - acc: 0.78 - ETA: 16s - loss: 0.5344 - acc: 0.78 - ETA: 15s - loss: 0.5344 - acc: 0.78 - ETA: 15s - loss: 0.5344 - acc: 0.78 - ETA: 14s - loss: 0.5345 - acc: 0.78 - ETA: 13s - loss: 0.5344 - acc: 0.78 - ETA: 13s - loss: 0.5344 - acc: 0.78 - ETA: 12s - loss: 0.5344 - acc: 0.78 - ETA: 12s - loss: 0.5343 - acc: 0.78 - ETA: 11s - loss: 0.5342 - acc: 0.78 - ETA: 10s - loss: 0.5343 - acc: 0.78 - ETA: 10s - loss: 0.5343 - acc: 0.78 - ETA: 9s - loss: 0.5343 - acc: 0.7815 - ETA: 8s - loss: 0.5343 - acc: 0.781 - ETA: 8s - loss: 0.5342 - acc: 0.781 - ETA: 7s - loss: 0.5342 - acc: 0.781 - ETA: 7s - loss: 0.5343 - acc: 0.781 - ETA: 6s - loss: 0.5342 - acc: 0.781 - ETA: 5s - loss: 0.5342 - acc: 0.781 - ETA: 5s - loss: 0.5342 - acc: 0.781 - ETA: 4s - loss: 0.5342 - acc: 0.781 - ETA: 3s - loss: 0.5342 - acc: 0.781 - ETA: 3s - loss: 0.5342 - acc: 0.781 - ETA: 2s - loss: 0.5342 - acc: 0.781 - ETA: 2s - loss: 0.5342 - acc: 0.781 - ETA: 1s - loss: 0.5342 - acc: 0.781 - ETA: 0s - loss: 0.5342 - acc: 0.781 - ETA: 0s - loss: 0.5341 - acc: 0.781 - 1344s 10ms/step - loss: 0.5341 - acc: 0.7815 - val_loss: 0.4859 - val_acc: 0.8066\n",
      "Epoch 3/3\n"
     ]
    },
    {
     "name": "stdout",
     "output_type": "stream",
     "text": [
      " 13056/135000 [=>............................] - ETA: 42:14 - loss: 0.5568 - acc: 0.71 - ETA: 45:42 - loss: 0.5918 - acc: 0.71 - ETA: 38:40 - loss: 0.5409 - acc: 0.73 - ETA: 35:30 - loss: 0.5374 - acc: 0.74 - ETA: 34:54 - loss: 0.5326 - acc: 0.75 - ETA: 35:03 - loss: 0.5479 - acc: 0.74 - ETA: 34:11 - loss: 0.5313 - acc: 0.75 - ETA: 36:38 - loss: 0.5153 - acc: 0.75 - ETA: 38:28 - loss: 0.5045 - acc: 0.76 - ETA: 37:04 - loss: 0.5054 - acc: 0.77 - ETA: 36:27 - loss: 0.5096 - acc: 0.77 - ETA: 35:14 - loss: 0.4940 - acc: 0.78 - ETA: 34:21 - loss: 0.4835 - acc: 0.78 - ETA: 33:28 - loss: 0.4890 - acc: 0.78 - ETA: 33:40 - loss: 0.4920 - acc: 0.78 - ETA: 32:58 - loss: 0.4909 - acc: 0.78 - ETA: 32:01 - loss: 0.4948 - acc: 0.78 - ETA: 31:12 - loss: 0.4882 - acc: 0.78 - ETA: 30:45 - loss: 0.4875 - acc: 0.78 - ETA: 30:34 - loss: 0.4858 - acc: 0.78 - ETA: 30:45 - loss: 0.4876 - acc: 0.78 - ETA: 31:18 - loss: 0.4952 - acc: 0.78 - ETA: 31:29 - loss: 0.4932 - acc: 0.79 - ETA: 31:07 - loss: 0.4948 - acc: 0.79 - ETA: 31:13 - loss: 0.4936 - acc: 0.79 - ETA: 30:58 - loss: 0.4939 - acc: 0.79 - ETA: 31:33 - loss: 0.4957 - acc: 0.79 - ETA: 31:37 - loss: 0.4971 - acc: 0.79 - ETA: 31:17 - loss: 0.4952 - acc: 0.79 - ETA: 31:00 - loss: 0.4952 - acc: 0.79 - ETA: 30:42 - loss: 0.4960 - acc: 0.79 - ETA: 30:24 - loss: 0.4946 - acc: 0.79 - ETA: 30:09 - loss: 0.4951 - acc: 0.79 - ETA: 29:53 - loss: 0.4939 - acc: 0.79 - ETA: 29:41 - loss: 0.4945 - acc: 0.79 - ETA: 29:28 - loss: 0.4984 - acc: 0.79 - ETA: 29:14 - loss: 0.4962 - acc: 0.79 - ETA: 29:03 - loss: 0.5003 - acc: 0.79 - ETA: 28:50 - loss: 0.5019 - acc: 0.79 - ETA: 28:39 - loss: 0.5042 - acc: 0.79 - ETA: 28:30 - loss: 0.5052 - acc: 0.79 - ETA: 28:22 - loss: 0.5052 - acc: 0.79 - ETA: 28:12 - loss: 0.5045 - acc: 0.79 - ETA: 28:04 - loss: 0.5053 - acc: 0.79 - ETA: 27:56 - loss: 0.5075 - acc: 0.79 - ETA: 27:48 - loss: 0.5069 - acc: 0.79 - ETA: 27:39 - loss: 0.5054 - acc: 0.79 - ETA: 27:31 - loss: 0.5074 - acc: 0.79 - ETA: 27:26 - loss: 0.5065 - acc: 0.79 - ETA: 27:20 - loss: 0.5070 - acc: 0.79 - ETA: 27:13 - loss: 0.5054 - acc: 0.79 - ETA: 27:06 - loss: 0.5018 - acc: 0.79 - ETA: 26:59 - loss: 0.5001 - acc: 0.79 - ETA: 26:53 - loss: 0.4975 - acc: 0.79 - ETA: 26:48 - loss: 0.4983 - acc: 0.79 - ETA: 26:40 - loss: 0.4971 - acc: 0.79 - ETA: 26:35 - loss: 0.4986 - acc: 0.79 - ETA: 26:30 - loss: 0.4975 - acc: 0.79 - ETA: 26:24 - loss: 0.4979 - acc: 0.79 - ETA: 26:19 - loss: 0.4976 - acc: 0.79 - ETA: 26:14 - loss: 0.4976 - acc: 0.79 - ETA: 26:16 - loss: 0.4979 - acc: 0.79 - ETA: 26:22 - loss: 0.4965 - acc: 0.79 - ETA: 26:18 - loss: 0.4961 - acc: 0.79 - ETA: 26:08 - loss: 0.4955 - acc: 0.79 - ETA: 25:58 - loss: 0.4954 - acc: 0.79 - ETA: 25:49 - loss: 0.4966 - acc: 0.79 - ETA: 25:39 - loss: 0.4945 - acc: 0.79 - ETA: 25:30 - loss: 0.4950 - acc: 0.79 - ETA: 25:21 - loss: 0.4955 - acc: 0.79 - ETA: 25:13 - loss: 0.4962 - acc: 0.79 - ETA: 25:04 - loss: 0.4961 - acc: 0.79 - ETA: 24:57 - loss: 0.4956 - acc: 0.79 - ETA: 24:49 - loss: 0.4957 - acc: 0.79 - ETA: 24:41 - loss: 0.4967 - acc: 0.79 - ETA: 24:34 - loss: 0.4968 - acc: 0.79 - ETA: 24:26 - loss: 0.4971 - acc: 0.79 - ETA: 24:19 - loss: 0.4962 - acc: 0.79 - ETA: 24:12 - loss: 0.4960 - acc: 0.79 - ETA: 24:05 - loss: 0.4947 - acc: 0.79 - ETA: 23:59 - loss: 0.4948 - acc: 0.79 - ETA: 23:52 - loss: 0.4955 - acc: 0.79 - ETA: 23:46 - loss: 0.4950 - acc: 0.79 - ETA: 23:39 - loss: 0.4946 - acc: 0.79 - ETA: 23:35 - loss: 0.4944 - acc: 0.79 - ETA: 23:30 - loss: 0.4938 - acc: 0.79 - ETA: 23:26 - loss: 0.4944 - acc: 0.79 - ETA: 23:27 - loss: 0.4949 - acc: 0.79 - ETA: 23:40 - loss: 0.4949 - acc: 0.79 - ETA: 23:37 - loss: 0.4947 - acc: 0.79 - ETA: 23:32 - loss: 0.4945 - acc: 0.79 - ETA: 23:26 - loss: 0.4953 - acc: 0.79 - ETA: 23:21 - loss: 0.4954 - acc: 0.79 - ETA: 23:16 - loss: 0.4963 - acc: 0.79 - ETA: 23:14 - loss: 0.4950 - acc: 0.79 - ETA: 23:18 - loss: 0.4953 - acc: 0.79 - ETA: 23:20 - loss: 0.4953 - acc: 0.79 - ETA: 23:15 - loss: 0.4946 - acc: 0.79 - ETA: 23:09 - loss: 0.4949 - acc: 0.79 - ETA: 23:05 - loss: 0.4950 - acc: 0.79 - ETA: 23:00 - loss: 0.4953 - acc: 0.79 - ETA: 22:55 - loss: 0.4938 - acc: 0.79 - ETA: 22:50 - loss: 0.4942 - acc: 0.79 - ETA: 22:45 - loss: 0.4934 - acc: 0.79 - ETA: 22:41 - loss: 0.4924 - acc: 0.79 - ETA: 22:36 - loss: 0.4931 - acc: 0.79 - ETA: 22:37 - loss: 0.4936 - acc: 0.79 - ETA: 22:33 - loss: 0.4928 - acc: 0.79 - ETA: 22:29 - loss: 0.4938 - acc: 0.79 - ETA: 22:25 - loss: 0.4945 - acc: 0.79 - ETA: 22:20 - loss: 0.4954 - acc: 0.79 - ETA: 22:16 - loss: 0.4954 - acc: 0.79 - ETA: 22:12 - loss: 0.4961 - acc: 0.79 - ETA: 22:08 - loss: 0.4958 - acc: 0.79 - ETA: 22:04 - loss: 0.4957 - acc: 0.79 - ETA: 22:04 - loss: 0.4954 - acc: 0.79 - ETA: 22:02 - loss: 0.4977 - acc: 0.79 - ETA: 21:58 - loss: 0.4994 - acc: 0.79 - ETA: 21:54 - loss: 0.4986 - acc: 0.79 - ETA: 21:51 - loss: 0.4981 - acc: 0.79 - ETA: 21:47 - loss: 0.4974 - acc: 0.79 - ETA: 21:44 - loss: 0.4973 - acc: 0.79 - ETA: 21:40 - loss: 0.4976 - acc: 0.79 - ETA: 21:37 - loss: 0.4971 - acc: 0.79 - ETA: 21:33 - loss: 0.4983 - acc: 0.79 - ETA: 21:30 - loss: 0.4975 - acc: 0.79 - ETA: 21:26 - loss: 0.4965 - acc: 0.79 - ETA: 21:23 - loss: 0.4971 - acc: 0.79 - ETA: 21:20 - loss: 0.4959 - acc: 0.79 - ETA: 21:17 - loss: 0.4968 - acc: 0.79 - ETA: 21:13 - loss: 0.4965 - acc: 0.79 - ETA: 21:10 - loss: 0.4964 - acc: 0.79 - ETA: 21:07 - loss: 0.4960 - acc: 0.80 - ETA: 21:04 - loss: 0.4966 - acc: 0.80 - ETA: 21:01 - loss: 0.4960 - acc: 0.80 - ETA: 20:58 - loss: 0.4959 - acc: 0.80 - ETA: 20:55 - loss: 0.4959 - acc: 0.80 - ETA: 20:52 - loss: 0.4958 - acc: 0.80 - ETA: 20:49 - loss: 0.4957 - acc: 0.80 - ETA: 20:47 - loss: 0.4957 - acc: 0.80 - ETA: 20:45 - loss: 0.4957 - acc: 0.80 - ETA: 20:43 - loss: 0.4948 - acc: 0.80 - ETA: 20:40 - loss: 0.4947 - acc: 0.80 - ETA: 20:37 - loss: 0.4955 - acc: 0.80 - ETA: 20:35 - loss: 0.4948 - acc: 0.80 - ETA: 20:32 - loss: 0.4950 - acc: 0.80 - ETA: 20:29 - loss: 0.4949 - acc: 0.80 - ETA: 20:31 - loss: 0.4956 - acc: 0.80 - ETA: 20:32 - loss: 0.4967 - acc: 0.80 - ETA: 20:33 - loss: 0.4967 - acc: 0.80 - ETA: 20:35 - loss: 0.4965 - acc: 0.80 - ETA: 20:36 - loss: 0.4958 - acc: 0.80 - ETA: 20:37 - loss: 0.4946 - acc: 0.80 - ETA: 20:37 - loss: 0.4940 - acc: 0.80 - ETA: 20:38 - loss: 0.4937 - acc: 0.80 - ETA: 20:39 - loss: 0.4946 - acc: 0.80 - ETA: 20:40 - loss: 0.4949 - acc: 0.80 - ETA: 20:42 - loss: 0.4955 - acc: 0.80 - ETA: 20:43 - loss: 0.4959 - acc: 0.79 - ETA: 20:44 - loss: 0.4964 - acc: 0.79 - ETA: 20:45 - loss: 0.4966 - acc: 0.79 - ETA: 20:46 - loss: 0.4970 - acc: 0.79 - ETA: 20:47 - loss: 0.4968 - acc: 0.79 - ETA: 20:47 - loss: 0.4963 - acc: 0.79 - ETA: 20:48 - loss: 0.4961 - acc: 0.79 - ETA: 20:49 - loss: 0.4963 - acc: 0.79 - ETA: 20:50 - loss: 0.4958 - acc: 0.79 - ETA: 20:50 - loss: 0.4955 - acc: 0.79 - ETA: 20:51 - loss: 0.4956 - acc: 0.79 - ETA: 20:52 - loss: 0.4954 - acc: 0.79 - ETA: 20:54 - loss: 0.4950 - acc: 0.79 - ETA: 20:55 - loss: 0.4951 - acc: 0.79 - ETA: 20:55 - loss: 0.4966 - acc: 0.79 - ETA: 20:56 - loss: 0.4963 - acc: 0.79 - ETA: 20:56 - loss: 0.4965 - acc: 0.79 - ETA: 20:57 - loss: 0.4964 - acc: 0.79 - ETA: 20:57 - loss: 0.4956 - acc: 0.79 - ETA: 20:58 - loss: 0.4955 - acc: 0.79 - ETA: 20:59 - loss: 0.4961 - acc: 0.79 - ETA: 20:59 - loss: 0.4955 - acc: 0.79 - ETA: 21:00 - loss: 0.4960 - acc: 0.79 - ETA: 21:00 - loss: 0.4958 - acc: 0.79 - ETA: 21:01 - loss: 0.4951 - acc: 0.79 - ETA: 21:01 - loss: 0.4950 - acc: 0.79 - ETA: 21:02 - loss: 0.4944 - acc: 0.80 - ETA: 21:03 - loss: 0.4950 - acc: 0.79 - ETA: 21:03 - loss: 0.4957 - acc: 0.79 - ETA: 21:04 - loss: 0.4967 - acc: 0.79 - ETA: 21:04 - loss: 0.4969 - acc: 0.79 - ETA: 21:04 - loss: 0.4974 - acc: 0.79 - ETA: 21:04 - loss: 0.4976 - acc: 0.79 - ETA: 21:05 - loss: 0.4971 - acc: 0.79 - ETA: 21:05 - loss: 0.4973 - acc: 0.79 - ETA: 21:05 - loss: 0.4980 - acc: 0.79 - ETA: 21:06 - loss: 0.4979 - acc: 0.79 - ETA: 21:06 - loss: 0.4981 - acc: 0.79 - ETA: 21:07 - loss: 0.4977 - acc: 0.79 - ETA: 21:07 - loss: 0.4975 - acc: 0.79 - ETA: 21:07 - loss: 0.4975 - acc: 0.79 - ETA: 21:08 - loss: 0.4980 - acc: 0.79 - ETA: 21:08 - loss: 0.4978 - acc: 0.79 - ETA: 21:08 - loss: 0.4981 - acc: 0.79 - ETA: 21:08 - loss: 0.4978 - acc: 0.79 - ETA: 21:08 - loss: 0.4981 - acc: 0.7989"
     ]
    },
    {
     "name": "stdout",
     "output_type": "stream",
     "text": [
      " 26112/135000 [====>.........................] - ETA: 21:09 - loss: 0.4982 - acc: 0.79 - ETA: 21:09 - loss: 0.4987 - acc: 0.79 - ETA: 21:09 - loss: 0.4986 - acc: 0.79 - ETA: 21:07 - loss: 0.4983 - acc: 0.79 - ETA: 21:05 - loss: 0.4978 - acc: 0.79 - ETA: 21:02 - loss: 0.4981 - acc: 0.79 - ETA: 21:00 - loss: 0.4987 - acc: 0.79 - ETA: 20:58 - loss: 0.4993 - acc: 0.79 - ETA: 20:56 - loss: 0.4992 - acc: 0.79 - ETA: 20:57 - loss: 0.4994 - acc: 0.79 - ETA: 20:59 - loss: 0.5001 - acc: 0.79 - ETA: 20:59 - loss: 0.5004 - acc: 0.79 - ETA: 21:00 - loss: 0.5002 - acc: 0.79 - ETA: 21:00 - loss: 0.5003 - acc: 0.79 - ETA: 20:58 - loss: 0.4998 - acc: 0.79 - ETA: 20:55 - loss: 0.5000 - acc: 0.79 - ETA: 20:53 - loss: 0.5004 - acc: 0.79 - ETA: 20:51 - loss: 0.5011 - acc: 0.79 - ETA: 20:49 - loss: 0.5014 - acc: 0.79 - ETA: 20:47 - loss: 0.5008 - acc: 0.79 - ETA: 20:44 - loss: 0.5010 - acc: 0.79 - ETA: 20:42 - loss: 0.5015 - acc: 0.79 - ETA: 20:40 - loss: 0.5015 - acc: 0.79 - ETA: 20:38 - loss: 0.5015 - acc: 0.79 - ETA: 20:35 - loss: 0.5021 - acc: 0.79 - ETA: 20:33 - loss: 0.5023 - acc: 0.79 - ETA: 20:31 - loss: 0.5021 - acc: 0.79 - ETA: 20:29 - loss: 0.5018 - acc: 0.79 - ETA: 20:27 - loss: 0.5021 - acc: 0.79 - ETA: 20:25 - loss: 0.5017 - acc: 0.79 - ETA: 20:23 - loss: 0.5013 - acc: 0.79 - ETA: 20:21 - loss: 0.5019 - acc: 0.79 - ETA: 20:19 - loss: 0.5024 - acc: 0.79 - ETA: 20:17 - loss: 0.5030 - acc: 0.79 - ETA: 20:15 - loss: 0.5030 - acc: 0.79 - ETA: 20:13 - loss: 0.5025 - acc: 0.79 - ETA: 20:11 - loss: 0.5027 - acc: 0.79 - ETA: 20:09 - loss: 0.5027 - acc: 0.79 - ETA: 20:07 - loss: 0.5026 - acc: 0.79 - ETA: 20:05 - loss: 0.5027 - acc: 0.79 - ETA: 20:03 - loss: 0.5025 - acc: 0.79 - ETA: 20:01 - loss: 0.5021 - acc: 0.79 - ETA: 19:59 - loss: 0.5021 - acc: 0.79 - ETA: 19:57 - loss: 0.5017 - acc: 0.79 - ETA: 19:57 - loss: 0.5016 - acc: 0.79 - ETA: 19:58 - loss: 0.5017 - acc: 0.79 - ETA: 19:58 - loss: 0.5014 - acc: 0.79 - ETA: 19:57 - loss: 0.5005 - acc: 0.79 - ETA: 19:56 - loss: 0.5004 - acc: 0.79 - ETA: 19:56 - loss: 0.5008 - acc: 0.79 - ETA: 19:55 - loss: 0.5008 - acc: 0.79 - ETA: 19:55 - loss: 0.5008 - acc: 0.79 - ETA: 19:55 - loss: 0.5011 - acc: 0.79 - ETA: 19:56 - loss: 0.5009 - acc: 0.79 - ETA: 19:55 - loss: 0.5013 - acc: 0.79 - ETA: 19:54 - loss: 0.5011 - acc: 0.79 - ETA: 19:52 - loss: 0.5008 - acc: 0.79 - ETA: 19:50 - loss: 0.5007 - acc: 0.79 - ETA: 19:48 - loss: 0.5004 - acc: 0.79 - ETA: 19:46 - loss: 0.5003 - acc: 0.79 - ETA: 19:45 - loss: 0.5005 - acc: 0.79 - ETA: 19:43 - loss: 0.5003 - acc: 0.79 - ETA: 19:41 - loss: 0.5000 - acc: 0.79 - ETA: 19:39 - loss: 0.5004 - acc: 0.79 - ETA: 19:37 - loss: 0.5007 - acc: 0.79 - ETA: 19:36 - loss: 0.5008 - acc: 0.79 - ETA: 19:34 - loss: 0.5007 - acc: 0.79 - ETA: 19:32 - loss: 0.5010 - acc: 0.79 - ETA: 19:31 - loss: 0.5004 - acc: 0.79 - ETA: 19:29 - loss: 0.5001 - acc: 0.79 - ETA: 19:27 - loss: 0.4998 - acc: 0.79 - ETA: 19:25 - loss: 0.4998 - acc: 0.79 - ETA: 19:23 - loss: 0.4993 - acc: 0.79 - ETA: 19:22 - loss: 0.4992 - acc: 0.79 - ETA: 19:20 - loss: 0.4994 - acc: 0.79 - ETA: 19:18 - loss: 0.4997 - acc: 0.79 - ETA: 19:17 - loss: 0.4996 - acc: 0.79 - ETA: 19:15 - loss: 0.4999 - acc: 0.79 - ETA: 19:13 - loss: 0.4998 - acc: 0.79 - ETA: 19:12 - loss: 0.4994 - acc: 0.79 - ETA: 19:11 - loss: 0.4994 - acc: 0.79 - ETA: 19:10 - loss: 0.4997 - acc: 0.79 - ETA: 19:09 - loss: 0.5006 - acc: 0.79 - ETA: 19:07 - loss: 0.5005 - acc: 0.79 - ETA: 19:06 - loss: 0.5002 - acc: 0.79 - ETA: 19:04 - loss: 0.5005 - acc: 0.79 - ETA: 19:03 - loss: 0.5000 - acc: 0.79 - ETA: 19:01 - loss: 0.4999 - acc: 0.79 - ETA: 18:59 - loss: 0.4996 - acc: 0.79 - ETA: 18:58 - loss: 0.4999 - acc: 0.79 - ETA: 18:56 - loss: 0.5004 - acc: 0.79 - ETA: 18:55 - loss: 0.5008 - acc: 0.79 - ETA: 18:53 - loss: 0.5003 - acc: 0.79 - ETA: 18:52 - loss: 0.5003 - acc: 0.79 - ETA: 18:50 - loss: 0.5002 - acc: 0.79 - ETA: 18:48 - loss: 0.5000 - acc: 0.79 - ETA: 18:47 - loss: 0.5002 - acc: 0.79 - ETA: 18:45 - loss: 0.5001 - acc: 0.79 - ETA: 18:44 - loss: 0.5002 - acc: 0.79 - ETA: 18:42 - loss: 0.5005 - acc: 0.79 - ETA: 18:41 - loss: 0.5009 - acc: 0.79 - ETA: 18:39 - loss: 0.5009 - acc: 0.79 - ETA: 18:38 - loss: 0.5011 - acc: 0.79 - ETA: 18:38 - loss: 0.5003 - acc: 0.79 - ETA: 18:38 - loss: 0.5005 - acc: 0.79 - ETA: 18:41 - loss: 0.5008 - acc: 0.79 - ETA: 18:39 - loss: 0.5005 - acc: 0.79 - ETA: 18:38 - loss: 0.5004 - acc: 0.79 - ETA: 18:36 - loss: 0.5004 - acc: 0.79 - ETA: 18:35 - loss: 0.5004 - acc: 0.79 - ETA: 18:33 - loss: 0.5004 - acc: 0.79 - ETA: 18:32 - loss: 0.5000 - acc: 0.79 - ETA: 18:30 - loss: 0.4996 - acc: 0.79 - ETA: 18:30 - loss: 0.5002 - acc: 0.79 - ETA: 18:32 - loss: 0.5003 - acc: 0.79 - ETA: 18:35 - loss: 0.5009 - acc: 0.79 - ETA: 18:37 - loss: 0.5016 - acc: 0.79 - ETA: 18:38 - loss: 0.5018 - acc: 0.79 - ETA: 18:37 - loss: 0.5018 - acc: 0.79 - ETA: 18:35 - loss: 0.5014 - acc: 0.79 - ETA: 18:34 - loss: 0.5012 - acc: 0.79 - ETA: 18:33 - loss: 0.5014 - acc: 0.79 - ETA: 18:31 - loss: 0.5014 - acc: 0.79 - ETA: 18:30 - loss: 0.5011 - acc: 0.79 - ETA: 18:33 - loss: 0.5009 - acc: 0.79 - ETA: 18:36 - loss: 0.5005 - acc: 0.79 - ETA: 18:41 - loss: 0.5008 - acc: 0.79 - ETA: 18:41 - loss: 0.5008 - acc: 0.79 - ETA: 18:41 - loss: 0.5005 - acc: 0.79 - ETA: 18:41 - loss: 0.5010 - acc: 0.79 - ETA: 18:39 - loss: 0.5006 - acc: 0.79 - ETA: 18:39 - loss: 0.5007 - acc: 0.79 - ETA: 18:38 - loss: 0.5007 - acc: 0.79 - ETA: 18:37 - loss: 0.5008 - acc: 0.79 - ETA: 18:38 - loss: 0.5005 - acc: 0.79 - ETA: 18:39 - loss: 0.5004 - acc: 0.79 - ETA: 18:40 - loss: 0.5004 - acc: 0.79 - ETA: 18:42 - loss: 0.5001 - acc: 0.79 - ETA: 18:45 - loss: 0.4998 - acc: 0.79 - ETA: 18:48 - loss: 0.4999 - acc: 0.79 - ETA: 18:50 - loss: 0.4998 - acc: 0.79 - ETA: 18:50 - loss: 0.4997 - acc: 0.79 - ETA: 18:50 - loss: 0.4995 - acc: 0.79 - ETA: 18:50 - loss: 0.4996 - acc: 0.79 - ETA: 18:49 - loss: 0.4995 - acc: 0.79 - ETA: 18:48 - loss: 0.4997 - acc: 0.79 - ETA: 18:48 - loss: 0.4995 - acc: 0.79 - ETA: 18:47 - loss: 0.4996 - acc: 0.79 - ETA: 18:46 - loss: 0.4998 - acc: 0.79 - ETA: 18:46 - loss: 0.4998 - acc: 0.79 - ETA: 18:45 - loss: 0.4998 - acc: 0.79 - ETA: 18:44 - loss: 0.5001 - acc: 0.79 - ETA: 18:44 - loss: 0.5001 - acc: 0.79 - ETA: 18:43 - loss: 0.5002 - acc: 0.79 - ETA: 18:43 - loss: 0.5007 - acc: 0.79 - ETA: 18:42 - loss: 0.5008 - acc: 0.79 - ETA: 18:42 - loss: 0.5011 - acc: 0.79 - ETA: 18:41 - loss: 0.5010 - acc: 0.79 - ETA: 18:40 - loss: 0.5008 - acc: 0.79 - ETA: 18:40 - loss: 0.5006 - acc: 0.79 - ETA: 18:39 - loss: 0.5009 - acc: 0.79 - ETA: 18:39 - loss: 0.5008 - acc: 0.79 - ETA: 18:38 - loss: 0.5009 - acc: 0.79 - ETA: 18:38 - loss: 0.5010 - acc: 0.79 - ETA: 18:37 - loss: 0.5008 - acc: 0.79 - ETA: 18:36 - loss: 0.5008 - acc: 0.79 - ETA: 18:36 - loss: 0.5007 - acc: 0.79 - ETA: 18:35 - loss: 0.5012 - acc: 0.79 - ETA: 18:34 - loss: 0.5009 - acc: 0.79 - ETA: 18:34 - loss: 0.5012 - acc: 0.79 - ETA: 18:33 - loss: 0.5010 - acc: 0.79 - ETA: 18:34 - loss: 0.5013 - acc: 0.79 - ETA: 18:33 - loss: 0.5011 - acc: 0.79 - ETA: 18:34 - loss: 0.5012 - acc: 0.79 - ETA: 18:34 - loss: 0.5011 - acc: 0.79 - ETA: 18:34 - loss: 0.5010 - acc: 0.79 - ETA: 18:33 - loss: 0.5012 - acc: 0.79 - ETA: 18:35 - loss: 0.5013 - acc: 0.79 - ETA: 18:35 - loss: 0.5016 - acc: 0.79 - ETA: 18:36 - loss: 0.5015 - acc: 0.79 - ETA: 18:37 - loss: 0.5013 - acc: 0.79 - ETA: 18:39 - loss: 0.5012 - acc: 0.79 - ETA: 18:38 - loss: 0.5012 - acc: 0.79 - ETA: 18:40 - loss: 0.5012 - acc: 0.79 - ETA: 18:40 - loss: 0.5012 - acc: 0.79 - ETA: 18:40 - loss: 0.5011 - acc: 0.79 - ETA: 18:39 - loss: 0.5014 - acc: 0.79 - ETA: 18:38 - loss: 0.5014 - acc: 0.79 - ETA: 18:37 - loss: 0.5013 - acc: 0.79 - ETA: 18:37 - loss: 0.5012 - acc: 0.79 - ETA: 18:36 - loss: 0.5011 - acc: 0.79 - ETA: 18:35 - loss: 0.5015 - acc: 0.79 - ETA: 18:34 - loss: 0.5014 - acc: 0.79 - ETA: 18:33 - loss: 0.5016 - acc: 0.79 - ETA: 18:32 - loss: 0.5022 - acc: 0.79 - ETA: 18:31 - loss: 0.5020 - acc: 0.79 - ETA: 18:30 - loss: 0.5019 - acc: 0.79 - ETA: 18:29 - loss: 0.5018 - acc: 0.79 - ETA: 18:28 - loss: 0.5017 - acc: 0.79 - ETA: 18:27 - loss: 0.5016 - acc: 0.79 - ETA: 18:26 - loss: 0.5012 - acc: 0.79 - ETA: 18:26 - loss: 0.5016 - acc: 0.79 - ETA: 18:27 - loss: 0.5014 - acc: 0.79 - ETA: 18:27 - loss: 0.5012 - acc: 0.7981"
     ]
    },
    {
     "name": "stdout",
     "output_type": "stream",
     "text": [
      " 39168/135000 [=======>......................] - ETA: 18:26 - loss: 0.5008 - acc: 0.79 - ETA: 18:26 - loss: 0.5008 - acc: 0.79 - ETA: 18:26 - loss: 0.5006 - acc: 0.79 - ETA: 18:25 - loss: 0.5006 - acc: 0.79 - ETA: 18:24 - loss: 0.5010 - acc: 0.79 - ETA: 18:23 - loss: 0.5009 - acc: 0.79 - ETA: 18:22 - loss: 0.5006 - acc: 0.79 - ETA: 18:21 - loss: 0.5004 - acc: 0.79 - ETA: 18:20 - loss: 0.5002 - acc: 0.79 - ETA: 18:19 - loss: 0.5000 - acc: 0.79 - ETA: 18:18 - loss: 0.5006 - acc: 0.79 - ETA: 18:17 - loss: 0.5004 - acc: 0.79 - ETA: 18:16 - loss: 0.5007 - acc: 0.79 - ETA: 18:15 - loss: 0.5008 - acc: 0.79 - ETA: 18:15 - loss: 0.5012 - acc: 0.79 - ETA: 18:14 - loss: 0.5010 - acc: 0.79 - ETA: 18:13 - loss: 0.5015 - acc: 0.79 - ETA: 18:12 - loss: 0.5015 - acc: 0.79 - ETA: 18:11 - loss: 0.5016 - acc: 0.79 - ETA: 18:10 - loss: 0.5018 - acc: 0.79 - ETA: 18:09 - loss: 0.5018 - acc: 0.79 - ETA: 18:08 - loss: 0.5019 - acc: 0.79 - ETA: 18:07 - loss: 0.5021 - acc: 0.79 - ETA: 18:06 - loss: 0.5022 - acc: 0.79 - ETA: 18:05 - loss: 0.5021 - acc: 0.79 - ETA: 18:04 - loss: 0.5024 - acc: 0.79 - ETA: 18:03 - loss: 0.5020 - acc: 0.79 - ETA: 18:02 - loss: 0.5020 - acc: 0.79 - ETA: 18:01 - loss: 0.5020 - acc: 0.79 - ETA: 18:00 - loss: 0.5017 - acc: 0.79 - ETA: 17:59 - loss: 0.5017 - acc: 0.79 - ETA: 17:58 - loss: 0.5017 - acc: 0.79 - ETA: 17:58 - loss: 0.5018 - acc: 0.79 - ETA: 17:58 - loss: 0.5017 - acc: 0.79 - ETA: 17:57 - loss: 0.5020 - acc: 0.79 - ETA: 17:56 - loss: 0.5021 - acc: 0.79 - ETA: 17:56 - loss: 0.5022 - acc: 0.79 - ETA: 17:56 - loss: 0.5023 - acc: 0.79 - ETA: 17:56 - loss: 0.5021 - acc: 0.79 - ETA: 17:54 - loss: 0.5020 - acc: 0.79 - ETA: 17:53 - loss: 0.5023 - acc: 0.79 - ETA: 17:52 - loss: 0.5020 - acc: 0.79 - ETA: 17:51 - loss: 0.5021 - acc: 0.79 - ETA: 17:50 - loss: 0.5020 - acc: 0.79 - ETA: 17:49 - loss: 0.5020 - acc: 0.79 - ETA: 17:48 - loss: 0.5021 - acc: 0.79 - ETA: 17:47 - loss: 0.5020 - acc: 0.79 - ETA: 17:47 - loss: 0.5018 - acc: 0.79 - ETA: 17:49 - loss: 0.5018 - acc: 0.79 - ETA: 17:50 - loss: 0.5018 - acc: 0.79 - ETA: 17:49 - loss: 0.5019 - acc: 0.79 - ETA: 17:50 - loss: 0.5021 - acc: 0.79 - ETA: 17:54 - loss: 0.5022 - acc: 0.79 - ETA: 17:55 - loss: 0.5022 - acc: 0.79 - ETA: 17:55 - loss: 0.5023 - acc: 0.79 - ETA: 17:54 - loss: 0.5022 - acc: 0.79 - ETA: 17:56 - loss: 0.5020 - acc: 0.79 - ETA: 17:57 - loss: 0.5020 - acc: 0.79 - ETA: 17:59 - loss: 0.5019 - acc: 0.79 - ETA: 18:00 - loss: 0.5021 - acc: 0.79 - ETA: 18:00 - loss: 0.5020 - acc: 0.79 - ETA: 17:59 - loss: 0.5016 - acc: 0.79 - ETA: 17:57 - loss: 0.5018 - acc: 0.79 - ETA: 17:56 - loss: 0.5020 - acc: 0.79 - ETA: 17:55 - loss: 0.5020 - acc: 0.79 - ETA: 17:55 - loss: 0.5020 - acc: 0.79 - ETA: 17:54 - loss: 0.5019 - acc: 0.79 - ETA: 17:53 - loss: 0.5021 - acc: 0.79 - ETA: 17:52 - loss: 0.5022 - acc: 0.79 - ETA: 17:51 - loss: 0.5022 - acc: 0.79 - ETA: 17:51 - loss: 0.5023 - acc: 0.79 - ETA: 17:51 - loss: 0.5019 - acc: 0.79 - ETA: 17:50 - loss: 0.5022 - acc: 0.79 - ETA: 17:49 - loss: 0.5022 - acc: 0.79 - ETA: 17:50 - loss: 0.5024 - acc: 0.79 - ETA: 17:50 - loss: 0.5022 - acc: 0.79 - ETA: 17:50 - loss: 0.5025 - acc: 0.79 - ETA: 17:49 - loss: 0.5026 - acc: 0.79 - ETA: 17:48 - loss: 0.5025 - acc: 0.79 - ETA: 17:47 - loss: 0.5025 - acc: 0.79 - ETA: 17:46 - loss: 0.5027 - acc: 0.79 - ETA: 17:45 - loss: 0.5029 - acc: 0.79 - ETA: 17:44 - loss: 0.5029 - acc: 0.79 - ETA: 17:45 - loss: 0.5029 - acc: 0.79 - ETA: 17:45 - loss: 0.5031 - acc: 0.79 - ETA: 17:45 - loss: 0.5033 - acc: 0.79 - ETA: 17:45 - loss: 0.5033 - acc: 0.79 - ETA: 17:44 - loss: 0.5036 - acc: 0.79 - ETA: 17:43 - loss: 0.5041 - acc: 0.79 - ETA: 17:42 - loss: 0.5041 - acc: 0.79 - ETA: 17:41 - loss: 0.5042 - acc: 0.79 - ETA: 17:41 - loss: 0.5045 - acc: 0.79 - ETA: 17:41 - loss: 0.5044 - acc: 0.79 - ETA: 17:40 - loss: 0.5042 - acc: 0.79 - ETA: 17:40 - loss: 0.5041 - acc: 0.79 - ETA: 17:41 - loss: 0.5040 - acc: 0.79 - ETA: 17:40 - loss: 0.5043 - acc: 0.79 - ETA: 17:40 - loss: 0.5043 - acc: 0.79 - ETA: 17:39 - loss: 0.5041 - acc: 0.79 - ETA: 17:38 - loss: 0.5039 - acc: 0.79 - ETA: 17:38 - loss: 0.5038 - acc: 0.79 - ETA: 17:37 - loss: 0.5037 - acc: 0.79 - ETA: 17:36 - loss: 0.5035 - acc: 0.79 - ETA: 17:36 - loss: 0.5035 - acc: 0.79 - ETA: 17:35 - loss: 0.5035 - acc: 0.79 - ETA: 17:35 - loss: 0.5033 - acc: 0.79 - ETA: 17:33 - loss: 0.5032 - acc: 0.79 - ETA: 17:32 - loss: 0.5033 - acc: 0.79 - ETA: 17:31 - loss: 0.5033 - acc: 0.79 - ETA: 17:30 - loss: 0.5037 - acc: 0.79 - ETA: 17:29 - loss: 0.5036 - acc: 0.79 - ETA: 17:28 - loss: 0.5038 - acc: 0.79 - ETA: 17:27 - loss: 0.5037 - acc: 0.79 - ETA: 17:25 - loss: 0.5036 - acc: 0.79 - ETA: 17:24 - loss: 0.5038 - acc: 0.79 - ETA: 17:23 - loss: 0.5041 - acc: 0.79 - ETA: 17:23 - loss: 0.5039 - acc: 0.79 - ETA: 17:22 - loss: 0.5039 - acc: 0.79 - ETA: 17:22 - loss: 0.5040 - acc: 0.79 - ETA: 17:21 - loss: 0.5040 - acc: 0.79 - ETA: 17:21 - loss: 0.5039 - acc: 0.79 - ETA: 17:20 - loss: 0.5041 - acc: 0.79 - ETA: 17:20 - loss: 0.5039 - acc: 0.79 - ETA: 17:19 - loss: 0.5037 - acc: 0.79 - ETA: 17:18 - loss: 0.5037 - acc: 0.79 - ETA: 17:17 - loss: 0.5036 - acc: 0.79 - ETA: 17:16 - loss: 0.5039 - acc: 0.79 - ETA: 17:15 - loss: 0.5037 - acc: 0.79 - ETA: 17:15 - loss: 0.5037 - acc: 0.79 - ETA: 17:14 - loss: 0.5036 - acc: 0.79 - ETA: 17:13 - loss: 0.5039 - acc: 0.79 - ETA: 17:12 - loss: 0.5038 - acc: 0.79 - ETA: 17:11 - loss: 0.5037 - acc: 0.79 - ETA: 17:10 - loss: 0.5039 - acc: 0.79 - ETA: 17:09 - loss: 0.5037 - acc: 0.79 - ETA: 17:08 - loss: 0.5036 - acc: 0.79 - ETA: 17:08 - loss: 0.5038 - acc: 0.79 - ETA: 17:07 - loss: 0.5039 - acc: 0.79 - ETA: 17:06 - loss: 0.5036 - acc: 0.79 - ETA: 17:05 - loss: 0.5033 - acc: 0.79 - ETA: 17:04 - loss: 0.5032 - acc: 0.79 - ETA: 17:03 - loss: 0.5032 - acc: 0.79 - ETA: 17:02 - loss: 0.5033 - acc: 0.79 - ETA: 17:02 - loss: 0.5032 - acc: 0.79 - ETA: 17:01 - loss: 0.5031 - acc: 0.79 - ETA: 17:00 - loss: 0.5033 - acc: 0.79 - ETA: 16:59 - loss: 0.5033 - acc: 0.79 - ETA: 16:59 - loss: 0.5031 - acc: 0.79 - ETA: 16:58 - loss: 0.5029 - acc: 0.79 - ETA: 16:58 - loss: 0.5029 - acc: 0.79 - ETA: 16:58 - loss: 0.5028 - acc: 0.79 - ETA: 16:57 - loss: 0.5026 - acc: 0.79 - ETA: 16:56 - loss: 0.5026 - acc: 0.79 - ETA: 16:56 - loss: 0.5026 - acc: 0.79 - ETA: 16:55 - loss: 0.5025 - acc: 0.79 - ETA: 16:54 - loss: 0.5027 - acc: 0.79 - ETA: 16:53 - loss: 0.5029 - acc: 0.79 - ETA: 16:52 - loss: 0.5026 - acc: 0.79 - ETA: 16:52 - loss: 0.5025 - acc: 0.79 - ETA: 16:51 - loss: 0.5024 - acc: 0.79 - ETA: 16:50 - loss: 0.5026 - acc: 0.79 - ETA: 16:49 - loss: 0.5024 - acc: 0.79 - ETA: 16:48 - loss: 0.5028 - acc: 0.79 - ETA: 16:47 - loss: 0.5028 - acc: 0.79 - ETA: 16:46 - loss: 0.5031 - acc: 0.79 - ETA: 16:45 - loss: 0.5033 - acc: 0.79 - ETA: 16:44 - loss: 0.5035 - acc: 0.79 - ETA: 16:44 - loss: 0.5036 - acc: 0.79 - ETA: 16:44 - loss: 0.5038 - acc: 0.79 - ETA: 16:43 - loss: 0.5038 - acc: 0.79 - ETA: 16:43 - loss: 0.5039 - acc: 0.79 - ETA: 16:42 - loss: 0.5038 - acc: 0.79 - ETA: 16:41 - loss: 0.5038 - acc: 0.79 - ETA: 16:40 - loss: 0.5037 - acc: 0.79 - ETA: 16:39 - loss: 0.5037 - acc: 0.79 - ETA: 16:37 - loss: 0.5034 - acc: 0.79 - ETA: 16:36 - loss: 0.5036 - acc: 0.79 - ETA: 16:35 - loss: 0.5035 - acc: 0.79 - ETA: 16:35 - loss: 0.5039 - acc: 0.79 - ETA: 16:34 - loss: 0.5039 - acc: 0.79 - ETA: 16:33 - loss: 0.5038 - acc: 0.79 - ETA: 16:32 - loss: 0.5036 - acc: 0.79 - ETA: 16:31 - loss: 0.5038 - acc: 0.79 - ETA: 16:30 - loss: 0.5037 - acc: 0.79 - ETA: 16:28 - loss: 0.5038 - acc: 0.79 - ETA: 16:27 - loss: 0.5039 - acc: 0.79 - ETA: 16:26 - loss: 0.5040 - acc: 0.79 - ETA: 16:26 - loss: 0.5043 - acc: 0.79 - ETA: 16:25 - loss: 0.5043 - acc: 0.79 - ETA: 16:25 - loss: 0.5041 - acc: 0.79 - ETA: 16:24 - loss: 0.5040 - acc: 0.79 - ETA: 16:23 - loss: 0.5039 - acc: 0.79 - ETA: 16:23 - loss: 0.5038 - acc: 0.79 - ETA: 16:22 - loss: 0.5041 - acc: 0.79 - ETA: 16:22 - loss: 0.5041 - acc: 0.79 - ETA: 16:21 - loss: 0.5039 - acc: 0.79 - ETA: 16:20 - loss: 0.5037 - acc: 0.79 - ETA: 16:19 - loss: 0.5040 - acc: 0.79 - ETA: 16:18 - loss: 0.5042 - acc: 0.79 - ETA: 16:17 - loss: 0.5042 - acc: 0.79 - ETA: 16:16 - loss: 0.5043 - acc: 0.79 - ETA: 16:15 - loss: 0.5041 - acc: 0.79 - ETA: 16:14 - loss: 0.5042 - acc: 0.79 - ETA: 16:13 - loss: 0.5043 - acc: 0.7957"
     ]
    },
    {
     "name": "stdout",
     "output_type": "stream",
     "text": [
      " 52224/135000 [==========>...................] - ETA: 16:12 - loss: 0.5040 - acc: 0.79 - ETA: 16:11 - loss: 0.5041 - acc: 0.79 - ETA: 16:10 - loss: 0.5040 - acc: 0.79 - ETA: 16:09 - loss: 0.5039 - acc: 0.79 - ETA: 16:08 - loss: 0.5037 - acc: 0.79 - ETA: 16:07 - loss: 0.5038 - acc: 0.79 - ETA: 16:06 - loss: 0.5037 - acc: 0.79 - ETA: 16:05 - loss: 0.5038 - acc: 0.79 - ETA: 16:04 - loss: 0.5034 - acc: 0.79 - ETA: 16:03 - loss: 0.5036 - acc: 0.79 - ETA: 16:02 - loss: 0.5035 - acc: 0.79 - ETA: 16:01 - loss: 0.5034 - acc: 0.79 - ETA: 16:00 - loss: 0.5033 - acc: 0.79 - ETA: 15:59 - loss: 0.5031 - acc: 0.79 - ETA: 15:58 - loss: 0.5033 - acc: 0.79 - ETA: 15:57 - loss: 0.5037 - acc: 0.79 - ETA: 15:56 - loss: 0.5035 - acc: 0.79 - ETA: 15:55 - loss: 0.5034 - acc: 0.79 - ETA: 15:54 - loss: 0.5036 - acc: 0.79 - ETA: 15:53 - loss: 0.5035 - acc: 0.79 - ETA: 15:52 - loss: 0.5034 - acc: 0.79 - ETA: 15:51 - loss: 0.5032 - acc: 0.79 - ETA: 15:50 - loss: 0.5030 - acc: 0.79 - ETA: 15:49 - loss: 0.5029 - acc: 0.79 - ETA: 15:48 - loss: 0.5032 - acc: 0.79 - ETA: 15:47 - loss: 0.5033 - acc: 0.79 - ETA: 15:46 - loss: 0.5033 - acc: 0.79 - ETA: 15:45 - loss: 0.5030 - acc: 0.79 - ETA: 15:44 - loss: 0.5030 - acc: 0.79 - ETA: 15:43 - loss: 0.5031 - acc: 0.79 - ETA: 15:42 - loss: 0.5029 - acc: 0.79 - ETA: 15:41 - loss: 0.5028 - acc: 0.79 - ETA: 15:40 - loss: 0.5028 - acc: 0.79 - ETA: 15:40 - loss: 0.5028 - acc: 0.79 - ETA: 15:39 - loss: 0.5029 - acc: 0.79 - ETA: 15:38 - loss: 0.5029 - acc: 0.79 - ETA: 15:37 - loss: 0.5031 - acc: 0.79 - ETA: 15:36 - loss: 0.5031 - acc: 0.79 - ETA: 15:35 - loss: 0.5033 - acc: 0.79 - ETA: 15:34 - loss: 0.5032 - acc: 0.79 - ETA: 15:33 - loss: 0.5031 - acc: 0.79 - ETA: 15:33 - loss: 0.5033 - acc: 0.79 - ETA: 15:32 - loss: 0.5035 - acc: 0.79 - ETA: 15:31 - loss: 0.5036 - acc: 0.79 - ETA: 15:31 - loss: 0.5038 - acc: 0.79 - ETA: 15:30 - loss: 0.5036 - acc: 0.79 - ETA: 15:29 - loss: 0.5037 - acc: 0.79 - ETA: 15:28 - loss: 0.5035 - acc: 0.79 - ETA: 15:27 - loss: 0.5035 - acc: 0.79 - ETA: 15:26 - loss: 0.5036 - acc: 0.79 - ETA: 15:25 - loss: 0.5036 - acc: 0.79 - ETA: 15:24 - loss: 0.5034 - acc: 0.79 - ETA: 15:24 - loss: 0.5032 - acc: 0.79 - ETA: 15:23 - loss: 0.5029 - acc: 0.79 - ETA: 15:22 - loss: 0.5029 - acc: 0.79 - ETA: 15:21 - loss: 0.5029 - acc: 0.79 - ETA: 15:20 - loss: 0.5031 - acc: 0.79 - ETA: 15:19 - loss: 0.5032 - acc: 0.79 - ETA: 15:18 - loss: 0.5033 - acc: 0.79 - ETA: 15:17 - loss: 0.5032 - acc: 0.79 - ETA: 15:16 - loss: 0.5031 - acc: 0.79 - ETA: 15:15 - loss: 0.5031 - acc: 0.79 - ETA: 15:14 - loss: 0.5033 - acc: 0.79 - ETA: 15:13 - loss: 0.5033 - acc: 0.79 - ETA: 15:12 - loss: 0.5035 - acc: 0.79 - ETA: 15:11 - loss: 0.5035 - acc: 0.79 - ETA: 15:10 - loss: 0.5034 - acc: 0.79 - ETA: 15:09 - loss: 0.5034 - acc: 0.79 - ETA: 15:09 - loss: 0.5035 - acc: 0.79 - ETA: 15:08 - loss: 0.5038 - acc: 0.79 - ETA: 15:07 - loss: 0.5039 - acc: 0.79 - ETA: 15:06 - loss: 0.5038 - acc: 0.79 - ETA: 15:05 - loss: 0.5039 - acc: 0.79 - ETA: 15:04 - loss: 0.5039 - acc: 0.79 - ETA: 15:03 - loss: 0.5038 - acc: 0.79 - ETA: 15:02 - loss: 0.5037 - acc: 0.79 - ETA: 15:01 - loss: 0.5036 - acc: 0.79 - ETA: 15:00 - loss: 0.5036 - acc: 0.79 - ETA: 15:00 - loss: 0.5034 - acc: 0.79 - ETA: 14:59 - loss: 0.5033 - acc: 0.79 - ETA: 14:58 - loss: 0.5034 - acc: 0.79 - ETA: 14:57 - loss: 0.5034 - acc: 0.79 - ETA: 14:56 - loss: 0.5033 - acc: 0.79 - ETA: 14:55 - loss: 0.5031 - acc: 0.79 - ETA: 14:54 - loss: 0.5029 - acc: 0.79 - ETA: 14:53 - loss: 0.5030 - acc: 0.79 - ETA: 14:52 - loss: 0.5031 - acc: 0.79 - ETA: 14:51 - loss: 0.5032 - acc: 0.79 - ETA: 14:50 - loss: 0.5033 - acc: 0.79 - ETA: 14:50 - loss: 0.5030 - acc: 0.79 - ETA: 14:49 - loss: 0.5030 - acc: 0.79 - ETA: 14:48 - loss: 0.5028 - acc: 0.79 - ETA: 14:47 - loss: 0.5027 - acc: 0.79 - ETA: 14:46 - loss: 0.5028 - acc: 0.79 - ETA: 14:45 - loss: 0.5028 - acc: 0.79 - ETA: 14:44 - loss: 0.5030 - acc: 0.79 - ETA: 14:43 - loss: 0.5029 - acc: 0.79 - ETA: 14:42 - loss: 0.5028 - acc: 0.79 - ETA: 14:42 - loss: 0.5027 - acc: 0.79 - ETA: 14:41 - loss: 0.5026 - acc: 0.79 - ETA: 14:40 - loss: 0.5026 - acc: 0.79 - ETA: 14:39 - loss: 0.5027 - acc: 0.79 - ETA: 14:38 - loss: 0.5028 - acc: 0.79 - ETA: 14:37 - loss: 0.5027 - acc: 0.79 - ETA: 14:36 - loss: 0.5027 - acc: 0.79 - ETA: 14:35 - loss: 0.5027 - acc: 0.79 - ETA: 14:34 - loss: 0.5028 - acc: 0.79 - ETA: 14:34 - loss: 0.5029 - acc: 0.79 - ETA: 14:33 - loss: 0.5028 - acc: 0.79 - ETA: 14:32 - loss: 0.5027 - acc: 0.79 - ETA: 14:31 - loss: 0.5026 - acc: 0.79 - ETA: 14:30 - loss: 0.5025 - acc: 0.79 - ETA: 14:29 - loss: 0.5026 - acc: 0.79 - ETA: 14:28 - loss: 0.5027 - acc: 0.79 - ETA: 14:27 - loss: 0.5027 - acc: 0.79 - ETA: 14:26 - loss: 0.5025 - acc: 0.79 - ETA: 14:26 - loss: 0.5025 - acc: 0.79 - ETA: 14:25 - loss: 0.5027 - acc: 0.79 - ETA: 14:24 - loss: 0.5026 - acc: 0.79 - ETA: 14:23 - loss: 0.5026 - acc: 0.79 - ETA: 14:22 - loss: 0.5027 - acc: 0.79 - ETA: 14:22 - loss: 0.5026 - acc: 0.79 - ETA: 14:21 - loss: 0.5027 - acc: 0.79 - ETA: 14:20 - loss: 0.5025 - acc: 0.79 - ETA: 14:19 - loss: 0.5024 - acc: 0.79 - ETA: 14:18 - loss: 0.5025 - acc: 0.79 - ETA: 14:18 - loss: 0.5023 - acc: 0.79 - ETA: 14:17 - loss: 0.5023 - acc: 0.79 - ETA: 14:16 - loss: 0.5024 - acc: 0.79 - ETA: 14:16 - loss: 0.5023 - acc: 0.79 - ETA: 14:15 - loss: 0.5024 - acc: 0.79 - ETA: 14:14 - loss: 0.5024 - acc: 0.79 - ETA: 14:13 - loss: 0.5025 - acc: 0.79 - ETA: 14:12 - loss: 0.5025 - acc: 0.79 - ETA: 14:12 - loss: 0.5024 - acc: 0.79 - ETA: 14:12 - loss: 0.5025 - acc: 0.79 - ETA: 14:11 - loss: 0.5026 - acc: 0.79 - ETA: 14:11 - loss: 0.5028 - acc: 0.79 - ETA: 14:10 - loss: 0.5027 - acc: 0.79 - ETA: 14:09 - loss: 0.5030 - acc: 0.79 - ETA: 14:09 - loss: 0.5032 - acc: 0.79 - ETA: 14:08 - loss: 0.5032 - acc: 0.79 - ETA: 14:07 - loss: 0.5032 - acc: 0.79 - ETA: 14:07 - loss: 0.5034 - acc: 0.79 - ETA: 14:06 - loss: 0.5035 - acc: 0.79 - ETA: 14:05 - loss: 0.5035 - acc: 0.79 - ETA: 14:05 - loss: 0.5038 - acc: 0.79 - ETA: 14:04 - loss: 0.5037 - acc: 0.79 - ETA: 14:03 - loss: 0.5040 - acc: 0.79 - ETA: 14:03 - loss: 0.5039 - acc: 0.79 - ETA: 14:02 - loss: 0.5038 - acc: 0.79 - ETA: 14:01 - loss: 0.5041 - acc: 0.79 - ETA: 14:01 - loss: 0.5043 - acc: 0.79 - ETA: 14:00 - loss: 0.5043 - acc: 0.79 - ETA: 14:00 - loss: 0.5040 - acc: 0.79 - ETA: 13:59 - loss: 0.5041 - acc: 0.79 - ETA: 13:58 - loss: 0.5041 - acc: 0.79 - ETA: 13:57 - loss: 0.5043 - acc: 0.79 - ETA: 13:56 - loss: 0.5045 - acc: 0.79 - ETA: 13:55 - loss: 0.5045 - acc: 0.79 - ETA: 13:55 - loss: 0.5046 - acc: 0.79 - ETA: 13:54 - loss: 0.5045 - acc: 0.79 - ETA: 13:53 - loss: 0.5045 - acc: 0.79 - ETA: 13:52 - loss: 0.5045 - acc: 0.79 - ETA: 13:51 - loss: 0.5046 - acc: 0.79 - ETA: 13:50 - loss: 0.5045 - acc: 0.79 - ETA: 13:49 - loss: 0.5046 - acc: 0.79 - ETA: 13:49 - loss: 0.5045 - acc: 0.79 - ETA: 13:48 - loss: 0.5046 - acc: 0.79 - ETA: 13:47 - loss: 0.5044 - acc: 0.79 - ETA: 13:47 - loss: 0.5045 - acc: 0.79 - ETA: 13:46 - loss: 0.5045 - acc: 0.79 - ETA: 13:45 - loss: 0.5045 - acc: 0.79 - ETA: 13:44 - loss: 0.5044 - acc: 0.79 - ETA: 13:44 - loss: 0.5044 - acc: 0.79 - ETA: 13:43 - loss: 0.5043 - acc: 0.79 - ETA: 13:42 - loss: 0.5044 - acc: 0.79 - ETA: 13:41 - loss: 0.5044 - acc: 0.79 - ETA: 13:41 - loss: 0.5043 - acc: 0.79 - ETA: 13:40 - loss: 0.5045 - acc: 0.79 - ETA: 13:39 - loss: 0.5044 - acc: 0.79 - ETA: 13:38 - loss: 0.5045 - acc: 0.79 - ETA: 13:37 - loss: 0.5045 - acc: 0.79 - ETA: 13:36 - loss: 0.5043 - acc: 0.79 - ETA: 13:35 - loss: 0.5045 - acc: 0.79 - ETA: 13:35 - loss: 0.5046 - acc: 0.79 - ETA: 13:34 - loss: 0.5049 - acc: 0.79 - ETA: 13:33 - loss: 0.5051 - acc: 0.79 - ETA: 13:32 - loss: 0.5051 - acc: 0.79 - ETA: 13:31 - loss: 0.5050 - acc: 0.79 - ETA: 13:31 - loss: 0.5052 - acc: 0.79 - ETA: 13:30 - loss: 0.5051 - acc: 0.79 - ETA: 13:29 - loss: 0.5052 - acc: 0.79 - ETA: 13:28 - loss: 0.5053 - acc: 0.79 - ETA: 13:27 - loss: 0.5052 - acc: 0.79 - ETA: 13:27 - loss: 0.5053 - acc: 0.79 - ETA: 13:26 - loss: 0.5053 - acc: 0.79 - ETA: 13:25 - loss: 0.5054 - acc: 0.79 - ETA: 13:24 - loss: 0.5054 - acc: 0.79 - ETA: 13:23 - loss: 0.5054 - acc: 0.79 - ETA: 13:22 - loss: 0.5057 - acc: 0.79 - ETA: 13:22 - loss: 0.5056 - acc: 0.79 - ETA: 13:21 - loss: 0.5054 - acc: 0.79 - ETA: 13:20 - loss: 0.5053 - acc: 0.7951"
     ]
    },
    {
     "name": "stdout",
     "output_type": "stream",
     "text": [
      " 65280/135000 [=============>................] - ETA: 13:19 - loss: 0.5054 - acc: 0.79 - ETA: 13:18 - loss: 0.5053 - acc: 0.79 - ETA: 13:17 - loss: 0.5055 - acc: 0.79 - ETA: 13:17 - loss: 0.5055 - acc: 0.79 - ETA: 13:16 - loss: 0.5054 - acc: 0.79 - ETA: 13:16 - loss: 0.5053 - acc: 0.79 - ETA: 13:15 - loss: 0.5052 - acc: 0.79 - ETA: 13:15 - loss: 0.5052 - acc: 0.79 - ETA: 13:14 - loss: 0.5052 - acc: 0.79 - ETA: 13:13 - loss: 0.5053 - acc: 0.79 - ETA: 13:12 - loss: 0.5052 - acc: 0.79 - ETA: 13:11 - loss: 0.5052 - acc: 0.79 - ETA: 13:11 - loss: 0.5052 - acc: 0.79 - ETA: 13:10 - loss: 0.5052 - acc: 0.79 - ETA: 13:09 - loss: 0.5052 - acc: 0.79 - ETA: 13:08 - loss: 0.5055 - acc: 0.79 - ETA: 13:08 - loss: 0.5055 - acc: 0.79 - ETA: 13:07 - loss: 0.5055 - acc: 0.79 - ETA: 13:06 - loss: 0.5054 - acc: 0.79 - ETA: 13:06 - loss: 0.5055 - acc: 0.79 - ETA: 13:05 - loss: 0.5054 - acc: 0.79 - ETA: 13:04 - loss: 0.5056 - acc: 0.79 - ETA: 13:04 - loss: 0.5056 - acc: 0.79 - ETA: 13:03 - loss: 0.5057 - acc: 0.79 - ETA: 13:03 - loss: 0.5057 - acc: 0.79 - ETA: 13:02 - loss: 0.5055 - acc: 0.79 - ETA: 13:01 - loss: 0.5055 - acc: 0.79 - ETA: 13:00 - loss: 0.5055 - acc: 0.79 - ETA: 13:00 - loss: 0.5057 - acc: 0.79 - ETA: 12:59 - loss: 0.5056 - acc: 0.79 - ETA: 12:58 - loss: 0.5056 - acc: 0.79 - ETA: 12:58 - loss: 0.5056 - acc: 0.79 - ETA: 12:57 - loss: 0.5056 - acc: 0.79 - ETA: 12:57 - loss: 0.5057 - acc: 0.79 - ETA: 12:56 - loss: 0.5057 - acc: 0.79 - ETA: 12:55 - loss: 0.5056 - acc: 0.79 - ETA: 12:55 - loss: 0.5054 - acc: 0.79 - ETA: 12:54 - loss: 0.5055 - acc: 0.79 - ETA: 12:53 - loss: 0.5056 - acc: 0.79 - ETA: 12:52 - loss: 0.5057 - acc: 0.79 - ETA: 12:51 - loss: 0.5057 - acc: 0.79 - ETA: 12:51 - loss: 0.5057 - acc: 0.79 - ETA: 12:50 - loss: 0.5057 - acc: 0.79 - ETA: 12:49 - loss: 0.5057 - acc: 0.79 - ETA: 12:48 - loss: 0.5055 - acc: 0.79 - ETA: 12:48 - loss: 0.5054 - acc: 0.79 - ETA: 12:47 - loss: 0.5055 - acc: 0.79 - ETA: 12:46 - loss: 0.5054 - acc: 0.79 - ETA: 12:45 - loss: 0.5054 - acc: 0.79 - ETA: 12:44 - loss: 0.5053 - acc: 0.79 - ETA: 12:44 - loss: 0.5052 - acc: 0.79 - ETA: 12:43 - loss: 0.5052 - acc: 0.79 - ETA: 12:42 - loss: 0.5052 - acc: 0.79 - ETA: 12:41 - loss: 0.5052 - acc: 0.79 - ETA: 12:40 - loss: 0.5052 - acc: 0.79 - ETA: 12:40 - loss: 0.5053 - acc: 0.79 - ETA: 12:39 - loss: 0.5054 - acc: 0.79 - ETA: 12:38 - loss: 0.5053 - acc: 0.79 - ETA: 12:37 - loss: 0.5055 - acc: 0.79 - ETA: 12:36 - loss: 0.5056 - acc: 0.79 - ETA: 12:36 - loss: 0.5055 - acc: 0.79 - ETA: 12:35 - loss: 0.5055 - acc: 0.79 - ETA: 12:34 - loss: 0.5055 - acc: 0.79 - ETA: 12:33 - loss: 0.5055 - acc: 0.79 - ETA: 12:33 - loss: 0.5053 - acc: 0.79 - ETA: 12:32 - loss: 0.5054 - acc: 0.79 - ETA: 12:32 - loss: 0.5055 - acc: 0.79 - ETA: 12:31 - loss: 0.5054 - acc: 0.79 - ETA: 12:30 - loss: 0.5053 - acc: 0.79 - ETA: 12:30 - loss: 0.5053 - acc: 0.79 - ETA: 12:29 - loss: 0.5054 - acc: 0.79 - ETA: 12:28 - loss: 0.5055 - acc: 0.79 - ETA: 12:27 - loss: 0.5053 - acc: 0.79 - ETA: 12:26 - loss: 0.5053 - acc: 0.79 - ETA: 12:26 - loss: 0.5052 - acc: 0.79 - ETA: 12:25 - loss: 0.5052 - acc: 0.79 - ETA: 12:24 - loss: 0.5050 - acc: 0.79 - ETA: 12:24 - loss: 0.5049 - acc: 0.79 - ETA: 12:24 - loss: 0.5050 - acc: 0.79 - ETA: 12:23 - loss: 0.5050 - acc: 0.79 - ETA: 12:22 - loss: 0.5052 - acc: 0.79 - ETA: 12:22 - loss: 0.5052 - acc: 0.79 - ETA: 12:22 - loss: 0.5052 - acc: 0.79 - ETA: 12:22 - loss: 0.5052 - acc: 0.79 - ETA: 12:22 - loss: 0.5052 - acc: 0.79 - ETA: 12:22 - loss: 0.5053 - acc: 0.79 - ETA: 12:21 - loss: 0.5052 - acc: 0.79 - ETA: 12:21 - loss: 0.5053 - acc: 0.79 - ETA: 12:20 - loss: 0.5052 - acc: 0.79 - ETA: 12:20 - loss: 0.5051 - acc: 0.79 - ETA: 12:19 - loss: 0.5050 - acc: 0.79 - ETA: 12:18 - loss: 0.5050 - acc: 0.79 - ETA: 12:17 - loss: 0.5049 - acc: 0.79 - ETA: 12:17 - loss: 0.5048 - acc: 0.79 - ETA: 12:16 - loss: 0.5049 - acc: 0.79 - ETA: 12:16 - loss: 0.5049 - acc: 0.79 - ETA: 12:15 - loss: 0.5049 - acc: 0.79 - ETA: 12:14 - loss: 0.5047 - acc: 0.79 - ETA: 12:14 - loss: 0.5048 - acc: 0.79 - ETA: 12:13 - loss: 0.5047 - acc: 0.79 - ETA: 12:12 - loss: 0.5047 - acc: 0.79 - ETA: 12:12 - loss: 0.5047 - acc: 0.79 - ETA: 12:11 - loss: 0.5044 - acc: 0.79 - ETA: 12:10 - loss: 0.5045 - acc: 0.79 - ETA: 12:09 - loss: 0.5046 - acc: 0.79 - ETA: 12:09 - loss: 0.5045 - acc: 0.79 - ETA: 12:08 - loss: 0.5044 - acc: 0.79 - ETA: 12:07 - loss: 0.5044 - acc: 0.79 - ETA: 12:07 - loss: 0.5042 - acc: 0.79 - ETA: 12:06 - loss: 0.5041 - acc: 0.79 - ETA: 12:06 - loss: 0.5041 - acc: 0.79 - ETA: 12:06 - loss: 0.5039 - acc: 0.79 - ETA: 12:05 - loss: 0.5039 - acc: 0.79 - ETA: 12:05 - loss: 0.5039 - acc: 0.79 - ETA: 12:05 - loss: 0.5038 - acc: 0.79 - ETA: 12:04 - loss: 0.5037 - acc: 0.79 - ETA: 12:03 - loss: 0.5037 - acc: 0.79 - ETA: 12:03 - loss: 0.5036 - acc: 0.79 - ETA: 12:02 - loss: 0.5034 - acc: 0.79 - ETA: 12:01 - loss: 0.5032 - acc: 0.79 - ETA: 12:00 - loss: 0.5030 - acc: 0.79 - ETA: 12:00 - loss: 0.5031 - acc: 0.79 - ETA: 11:59 - loss: 0.5033 - acc: 0.79 - ETA: 11:58 - loss: 0.5035 - acc: 0.79 - ETA: 11:57 - loss: 0.5035 - acc: 0.79 - ETA: 11:57 - loss: 0.5037 - acc: 0.79 - ETA: 11:56 - loss: 0.5034 - acc: 0.79 - ETA: 11:55 - loss: 0.5034 - acc: 0.79 - ETA: 11:55 - loss: 0.5031 - acc: 0.79 - ETA: 11:54 - loss: 0.5031 - acc: 0.79 - ETA: 11:54 - loss: 0.5031 - acc: 0.79 - ETA: 11:53 - loss: 0.5030 - acc: 0.79 - ETA: 11:52 - loss: 0.5030 - acc: 0.79 - ETA: 11:51 - loss: 0.5030 - acc: 0.79 - ETA: 11:51 - loss: 0.5029 - acc: 0.79 - ETA: 11:50 - loss: 0.5028 - acc: 0.79 - ETA: 11:49 - loss: 0.5028 - acc: 0.79 - ETA: 11:49 - loss: 0.5028 - acc: 0.79 - ETA: 11:48 - loss: 0.5027 - acc: 0.79 - ETA: 11:48 - loss: 0.5027 - acc: 0.79 - ETA: 11:48 - loss: 0.5028 - acc: 0.79 - ETA: 11:47 - loss: 0.5028 - acc: 0.79 - ETA: 11:47 - loss: 0.5027 - acc: 0.79 - ETA: 11:46 - loss: 0.5028 - acc: 0.79 - ETA: 11:46 - loss: 0.5027 - acc: 0.79 - ETA: 11:45 - loss: 0.5027 - acc: 0.79 - ETA: 11:44 - loss: 0.5026 - acc: 0.79 - ETA: 11:44 - loss: 0.5025 - acc: 0.79 - ETA: 11:43 - loss: 0.5026 - acc: 0.79 - ETA: 11:43 - loss: 0.5025 - acc: 0.79 - ETA: 11:43 - loss: 0.5024 - acc: 0.79 - ETA: 11:43 - loss: 0.5023 - acc: 0.79 - ETA: 11:43 - loss: 0.5024 - acc: 0.79 - ETA: 11:42 - loss: 0.5025 - acc: 0.79 - ETA: 11:42 - loss: 0.5023 - acc: 0.79 - ETA: 11:41 - loss: 0.5022 - acc: 0.79 - ETA: 11:40 - loss: 0.5025 - acc: 0.79 - ETA: 11:39 - loss: 0.5026 - acc: 0.79 - ETA: 11:39 - loss: 0.5025 - acc: 0.79 - ETA: 11:38 - loss: 0.5027 - acc: 0.79 - ETA: 11:37 - loss: 0.5028 - acc: 0.79 - ETA: 11:36 - loss: 0.5028 - acc: 0.79 - ETA: 11:36 - loss: 0.5029 - acc: 0.79 - ETA: 11:35 - loss: 0.5029 - acc: 0.79 - ETA: 11:34 - loss: 0.5029 - acc: 0.79 - ETA: 11:34 - loss: 0.5028 - acc: 0.79 - ETA: 11:33 - loss: 0.5029 - acc: 0.79 - ETA: 11:33 - loss: 0.5028 - acc: 0.79 - ETA: 11:32 - loss: 0.5029 - acc: 0.79 - ETA: 11:32 - loss: 0.5027 - acc: 0.79 - ETA: 11:31 - loss: 0.5027 - acc: 0.79 - ETA: 11:30 - loss: 0.5026 - acc: 0.79 - ETA: 11:29 - loss: 0.5027 - acc: 0.79 - ETA: 11:29 - loss: 0.5026 - acc: 0.79 - ETA: 11:28 - loss: 0.5028 - acc: 0.79 - ETA: 11:27 - loss: 0.5029 - acc: 0.79 - ETA: 11:26 - loss: 0.5029 - acc: 0.79 - ETA: 11:26 - loss: 0.5028 - acc: 0.79 - ETA: 11:25 - loss: 0.5028 - acc: 0.79 - ETA: 11:24 - loss: 0.5028 - acc: 0.79 - ETA: 11:23 - loss: 0.5027 - acc: 0.79 - ETA: 11:23 - loss: 0.5027 - acc: 0.79 - ETA: 11:22 - loss: 0.5028 - acc: 0.79 - ETA: 11:21 - loss: 0.5028 - acc: 0.79 - ETA: 11:20 - loss: 0.5029 - acc: 0.79 - ETA: 11:20 - loss: 0.5028 - acc: 0.79 - ETA: 11:19 - loss: 0.5029 - acc: 0.79 - ETA: 11:18 - loss: 0.5028 - acc: 0.79 - ETA: 11:17 - loss: 0.5028 - acc: 0.79 - ETA: 11:17 - loss: 0.5028 - acc: 0.79 - ETA: 11:16 - loss: 0.5030 - acc: 0.79 - ETA: 11:15 - loss: 0.5031 - acc: 0.79 - ETA: 11:14 - loss: 0.5032 - acc: 0.79 - ETA: 11:14 - loss: 0.5032 - acc: 0.79 - ETA: 11:13 - loss: 0.5031 - acc: 0.79 - ETA: 11:12 - loss: 0.5031 - acc: 0.79 - ETA: 11:11 - loss: 0.5031 - acc: 0.79 - ETA: 11:11 - loss: 0.5030 - acc: 0.79 - ETA: 11:10 - loss: 0.5031 - acc: 0.79 - ETA: 11:09 - loss: 0.5030 - acc: 0.79 - ETA: 11:08 - loss: 0.5030 - acc: 0.79 - ETA: 11:08 - loss: 0.5031 - acc: 0.79 - ETA: 11:07 - loss: 0.5032 - acc: 0.79 - ETA: 11:06 - loss: 0.5032 - acc: 0.7962"
     ]
    },
    {
     "name": "stdout",
     "output_type": "stream",
     "text": [
      " 78336/135000 [================>.............] - ETA: 11:05 - loss: 0.5032 - acc: 0.79 - ETA: 11:05 - loss: 0.5033 - acc: 0.79 - ETA: 11:04 - loss: 0.5033 - acc: 0.79 - ETA: 11:03 - loss: 0.5034 - acc: 0.79 - ETA: 11:02 - loss: 0.5033 - acc: 0.79 - ETA: 11:02 - loss: 0.5033 - acc: 0.79 - ETA: 11:01 - loss: 0.5034 - acc: 0.79 - ETA: 11:00 - loss: 0.5033 - acc: 0.79 - ETA: 11:00 - loss: 0.5033 - acc: 0.79 - ETA: 10:59 - loss: 0.5033 - acc: 0.79 - ETA: 10:58 - loss: 0.5035 - acc: 0.79 - ETA: 10:58 - loss: 0.5035 - acc: 0.79 - ETA: 10:57 - loss: 0.5034 - acc: 0.79 - ETA: 10:57 - loss: 0.5035 - acc: 0.79 - ETA: 10:56 - loss: 0.5035 - acc: 0.79 - ETA: 10:55 - loss: 0.5035 - acc: 0.79 - ETA: 10:54 - loss: 0.5034 - acc: 0.79 - ETA: 10:54 - loss: 0.5034 - acc: 0.79 - ETA: 10:53 - loss: 0.5035 - acc: 0.79 - ETA: 10:52 - loss: 0.5034 - acc: 0.79 - ETA: 10:51 - loss: 0.5034 - acc: 0.79 - ETA: 10:51 - loss: 0.5033 - acc: 0.79 - ETA: 10:50 - loss: 0.5035 - acc: 0.79 - ETA: 10:49 - loss: 0.5035 - acc: 0.79 - ETA: 10:49 - loss: 0.5035 - acc: 0.79 - ETA: 10:48 - loss: 0.5033 - acc: 0.79 - ETA: 10:47 - loss: 0.5034 - acc: 0.79 - ETA: 10:46 - loss: 0.5035 - acc: 0.79 - ETA: 10:46 - loss: 0.5036 - acc: 0.79 - ETA: 10:45 - loss: 0.5036 - acc: 0.79 - ETA: 10:44 - loss: 0.5035 - acc: 0.79 - ETA: 10:43 - loss: 0.5034 - acc: 0.79 - ETA: 10:43 - loss: 0.5034 - acc: 0.79 - ETA: 10:42 - loss: 0.5034 - acc: 0.79 - ETA: 10:41 - loss: 0.5033 - acc: 0.79 - ETA: 10:40 - loss: 0.5034 - acc: 0.79 - ETA: 10:40 - loss: 0.5034 - acc: 0.79 - ETA: 10:39 - loss: 0.5035 - acc: 0.79 - ETA: 10:38 - loss: 0.5034 - acc: 0.79 - ETA: 10:38 - loss: 0.5035 - acc: 0.79 - ETA: 10:37 - loss: 0.5034 - acc: 0.79 - ETA: 10:36 - loss: 0.5033 - acc: 0.79 - ETA: 10:35 - loss: 0.5033 - acc: 0.79 - ETA: 10:35 - loss: 0.5032 - acc: 0.79 - ETA: 10:34 - loss: 0.5032 - acc: 0.79 - ETA: 10:33 - loss: 0.5032 - acc: 0.79 - ETA: 10:32 - loss: 0.5032 - acc: 0.79 - ETA: 10:32 - loss: 0.5034 - acc: 0.79 - ETA: 10:31 - loss: 0.5033 - acc: 0.79 - ETA: 10:30 - loss: 0.5035 - acc: 0.79 - ETA: 10:30 - loss: 0.5034 - acc: 0.79 - ETA: 10:29 - loss: 0.5032 - acc: 0.79 - ETA: 10:28 - loss: 0.5033 - acc: 0.79 - ETA: 10:27 - loss: 0.5034 - acc: 0.79 - ETA: 10:27 - loss: 0.5033 - acc: 0.79 - ETA: 10:26 - loss: 0.5033 - acc: 0.79 - ETA: 10:26 - loss: 0.5032 - acc: 0.79 - ETA: 10:25 - loss: 0.5032 - acc: 0.79 - ETA: 10:25 - loss: 0.5031 - acc: 0.79 - ETA: 10:25 - loss: 0.5032 - acc: 0.79 - ETA: 10:24 - loss: 0.5032 - acc: 0.79 - ETA: 10:24 - loss: 0.5031 - acc: 0.79 - ETA: 10:23 - loss: 0.5031 - acc: 0.79 - ETA: 10:22 - loss: 0.5030 - acc: 0.79 - ETA: 10:22 - loss: 0.5030 - acc: 0.79 - ETA: 10:21 - loss: 0.5030 - acc: 0.79 - ETA: 10:20 - loss: 0.5031 - acc: 0.79 - ETA: 10:20 - loss: 0.5031 - acc: 0.79 - ETA: 10:19 - loss: 0.5033 - acc: 0.79 - ETA: 10:18 - loss: 0.5034 - acc: 0.79 - ETA: 10:18 - loss: 0.5034 - acc: 0.79 - ETA: 10:17 - loss: 0.5034 - acc: 0.79 - ETA: 10:17 - loss: 0.5033 - acc: 0.79 - ETA: 10:16 - loss: 0.5033 - acc: 0.79 - ETA: 10:16 - loss: 0.5034 - acc: 0.79 - ETA: 10:16 - loss: 0.5033 - acc: 0.79 - ETA: 10:17 - loss: 0.5032 - acc: 0.79 - ETA: 10:16 - loss: 0.5032 - acc: 0.79 - ETA: 10:16 - loss: 0.5032 - acc: 0.79 - ETA: 10:15 - loss: 0.5033 - acc: 0.79 - ETA: 10:15 - loss: 0.5033 - acc: 0.79 - ETA: 10:14 - loss: 0.5032 - acc: 0.79 - ETA: 10:14 - loss: 0.5033 - acc: 0.79 - ETA: 10:13 - loss: 0.5033 - acc: 0.79 - ETA: 10:13 - loss: 0.5032 - acc: 0.79 - ETA: 10:12 - loss: 0.5031 - acc: 0.79 - ETA: 10:12 - loss: 0.5032 - acc: 0.79 - ETA: 10:11 - loss: 0.5032 - acc: 0.79 - ETA: 10:11 - loss: 0.5032 - acc: 0.79 - ETA: 10:11 - loss: 0.5031 - acc: 0.79 - ETA: 10:11 - loss: 0.5031 - acc: 0.79 - ETA: 10:11 - loss: 0.5031 - acc: 0.79 - ETA: 10:11 - loss: 0.5030 - acc: 0.79 - ETA: 10:11 - loss: 0.5030 - acc: 0.79 - ETA: 10:10 - loss: 0.5031 - acc: 0.79 - ETA: 10:10 - loss: 0.5030 - acc: 0.79 - ETA: 10:09 - loss: 0.5029 - acc: 0.79 - ETA: 10:08 - loss: 0.5028 - acc: 0.79 - ETA: 10:08 - loss: 0.5027 - acc: 0.79 - ETA: 10:08 - loss: 0.5027 - acc: 0.79 - ETA: 10:08 - loss: 0.5027 - acc: 0.79 - ETA: 10:08 - loss: 0.5027 - acc: 0.79 - ETA: 10:07 - loss: 0.5028 - acc: 0.79 - ETA: 10:07 - loss: 0.5028 - acc: 0.79 - ETA: 10:06 - loss: 0.5028 - acc: 0.79 - ETA: 10:06 - loss: 0.5028 - acc: 0.79 - ETA: 10:06 - loss: 0.5027 - acc: 0.79 - ETA: 10:05 - loss: 0.5026 - acc: 0.79 - ETA: 10:05 - loss: 0.5026 - acc: 0.79 - ETA: 10:04 - loss: 0.5024 - acc: 0.79 - ETA: 10:03 - loss: 0.5023 - acc: 0.79 - ETA: 10:03 - loss: 0.5025 - acc: 0.79 - ETA: 10:02 - loss: 0.5024 - acc: 0.79 - ETA: 10:02 - loss: 0.5023 - acc: 0.79 - ETA: 10:01 - loss: 0.5023 - acc: 0.79 - ETA: 10:01 - loss: 0.5023 - acc: 0.79 - ETA: 10:00 - loss: 0.5022 - acc: 0.79 - ETA: 10:00 - loss: 0.5023 - acc: 0.79 - ETA: 9:59 - loss: 0.5024 - acc: 0.7968 - ETA: 9:58 - loss: 0.5023 - acc: 0.796 - ETA: 9:58 - loss: 0.5023 - acc: 0.796 - ETA: 9:57 - loss: 0.5023 - acc: 0.796 - ETA: 9:58 - loss: 0.5024 - acc: 0.796 - ETA: 9:58 - loss: 0.5023 - acc: 0.796 - ETA: 9:58 - loss: 0.5025 - acc: 0.796 - ETA: 9:58 - loss: 0.5023 - acc: 0.796 - ETA: 9:58 - loss: 0.5024 - acc: 0.796 - ETA: 9:57 - loss: 0.5023 - acc: 0.796 - ETA: 9:57 - loss: 0.5024 - acc: 0.796 - ETA: 9:57 - loss: 0.5024 - acc: 0.796 - ETA: 9:56 - loss: 0.5022 - acc: 0.796 - ETA: 9:56 - loss: 0.5023 - acc: 0.796 - ETA: 9:55 - loss: 0.5022 - acc: 0.796 - ETA: 9:55 - loss: 0.5023 - acc: 0.796 - ETA: 9:54 - loss: 0.5021 - acc: 0.796 - ETA: 9:53 - loss: 0.5023 - acc: 0.796 - ETA: 9:53 - loss: 0.5021 - acc: 0.797 - ETA: 9:52 - loss: 0.5020 - acc: 0.797 - ETA: 9:51 - loss: 0.5020 - acc: 0.797 - ETA: 9:51 - loss: 0.5021 - acc: 0.797 - ETA: 9:50 - loss: 0.5021 - acc: 0.797 - ETA: 9:50 - loss: 0.5022 - acc: 0.797 - ETA: 9:49 - loss: 0.5020 - acc: 0.797 - ETA: 9:48 - loss: 0.5020 - acc: 0.797 - ETA: 9:48 - loss: 0.5019 - acc: 0.797 - ETA: 9:47 - loss: 0.5020 - acc: 0.797 - ETA: 9:46 - loss: 0.5019 - acc: 0.797 - ETA: 9:46 - loss: 0.5019 - acc: 0.797 - ETA: 9:45 - loss: 0.5019 - acc: 0.797 - ETA: 9:45 - loss: 0.5019 - acc: 0.797 - ETA: 9:44 - loss: 0.5019 - acc: 0.797 - ETA: 9:44 - loss: 0.5021 - acc: 0.797 - ETA: 9:43 - loss: 0.5021 - acc: 0.797 - ETA: 9:42 - loss: 0.5022 - acc: 0.797 - ETA: 9:42 - loss: 0.5023 - acc: 0.797 - ETA: 9:41 - loss: 0.5022 - acc: 0.797 - ETA: 9:40 - loss: 0.5021 - acc: 0.797 - ETA: 9:40 - loss: 0.5021 - acc: 0.797 - ETA: 9:39 - loss: 0.5020 - acc: 0.797 - ETA: 9:38 - loss: 0.5019 - acc: 0.797 - ETA: 9:38 - loss: 0.5019 - acc: 0.797 - ETA: 9:37 - loss: 0.5021 - acc: 0.797 - ETA: 9:37 - loss: 0.5022 - acc: 0.797 - ETA: 9:36 - loss: 0.5022 - acc: 0.797 - ETA: 9:35 - loss: 0.5022 - acc: 0.796 - ETA: 9:34 - loss: 0.5023 - acc: 0.796 - ETA: 9:34 - loss: 0.5023 - acc: 0.796 - ETA: 9:33 - loss: 0.5023 - acc: 0.796 - ETA: 9:32 - loss: 0.5024 - acc: 0.796 - ETA: 9:31 - loss: 0.5023 - acc: 0.797 - ETA: 9:31 - loss: 0.5023 - acc: 0.797 - ETA: 9:30 - loss: 0.5022 - acc: 0.797 - ETA: 9:30 - loss: 0.5023 - acc: 0.796 - ETA: 9:30 - loss: 0.5023 - acc: 0.796 - ETA: 9:29 - loss: 0.5024 - acc: 0.796 - ETA: 9:29 - loss: 0.5023 - acc: 0.796 - ETA: 9:28 - loss: 0.5022 - acc: 0.797 - ETA: 9:40 - loss: 0.5022 - acc: 0.797 - ETA: 9:41 - loss: 0.5023 - acc: 0.796 - ETA: 9:47 - loss: 0.5022 - acc: 0.797 - ETA: 9:48 - loss: 0.5023 - acc: 0.796 - ETA: 9:47 - loss: 0.5023 - acc: 0.797 - ETA: 9:47 - loss: 0.5023 - acc: 0.797 - ETA: 9:46 - loss: 0.5024 - acc: 0.796 - ETA: 9:46 - loss: 0.5024 - acc: 0.796 - ETA: 9:46 - loss: 0.5025 - acc: 0.796 - ETA: 9:45 - loss: 0.5025 - acc: 0.796 - ETA: 9:44 - loss: 0.5025 - acc: 0.796 - ETA: 9:44 - loss: 0.5024 - acc: 0.796 - ETA: 9:43 - loss: 0.5024 - acc: 0.796 - ETA: 9:43 - loss: 0.5025 - acc: 0.796 - ETA: 9:43 - loss: 0.5025 - acc: 0.796 - ETA: 9:42 - loss: 0.5024 - acc: 0.796 - ETA: 9:41 - loss: 0.5023 - acc: 0.796 - ETA: 9:40 - loss: 0.5024 - acc: 0.796 - ETA: 9:40 - loss: 0.5024 - acc: 0.796 - ETA: 9:39 - loss: 0.5024 - acc: 0.796 - ETA: 9:39 - loss: 0.5024 - acc: 0.796 - ETA: 9:38 - loss: 0.5024 - acc: 0.796 - ETA: 9:37 - loss: 0.5023 - acc: 0.796 - ETA: 9:37 - loss: 0.5024 - acc: 0.796 - ETA: 9:36 - loss: 0.5024 - acc: 0.796 - ETA: 9:36 - loss: 0.5022 - acc: 0.797 - ETA: 9:35 - loss: 0.5023 - acc: 0.7970"
     ]
    },
    {
     "name": "stdout",
     "output_type": "stream",
     "text": [
      " 91392/135000 [===================>..........] - ETA: 9:34 - loss: 0.5023 - acc: 0.797 - ETA: 9:35 - loss: 0.5022 - acc: 0.797 - ETA: 9:35 - loss: 0.5022 - acc: 0.797 - ETA: 9:34 - loss: 0.5022 - acc: 0.797 - ETA: 9:34 - loss: 0.5022 - acc: 0.797 - ETA: 9:33 - loss: 0.5022 - acc: 0.797 - ETA: 9:32 - loss: 0.5022 - acc: 0.797 - ETA: 9:32 - loss: 0.5022 - acc: 0.797 - ETA: 9:31 - loss: 0.5022 - acc: 0.797 - ETA: 9:30 - loss: 0.5023 - acc: 0.797 - ETA: 9:29 - loss: 0.5022 - acc: 0.797 - ETA: 9:29 - loss: 0.5022 - acc: 0.797 - ETA: 9:28 - loss: 0.5023 - acc: 0.797 - ETA: 9:27 - loss: 0.5022 - acc: 0.797 - ETA: 9:27 - loss: 0.5023 - acc: 0.797 - ETA: 9:26 - loss: 0.5022 - acc: 0.797 - ETA: 9:25 - loss: 0.5022 - acc: 0.797 - ETA: 9:24 - loss: 0.5022 - acc: 0.797 - ETA: 9:24 - loss: 0.5021 - acc: 0.797 - ETA: 9:23 - loss: 0.5021 - acc: 0.797 - ETA: 9:22 - loss: 0.5021 - acc: 0.797 - ETA: 9:22 - loss: 0.5020 - acc: 0.797 - ETA: 9:21 - loss: 0.5020 - acc: 0.797 - ETA: 9:20 - loss: 0.5020 - acc: 0.797 - ETA: 9:19 - loss: 0.5020 - acc: 0.797 - ETA: 9:19 - loss: 0.5020 - acc: 0.797 - ETA: 9:18 - loss: 0.5020 - acc: 0.797 - ETA: 9:17 - loss: 0.5019 - acc: 0.797 - ETA: 9:16 - loss: 0.5019 - acc: 0.797 - ETA: 9:16 - loss: 0.5018 - acc: 0.797 - ETA: 9:15 - loss: 0.5018 - acc: 0.797 - ETA: 9:14 - loss: 0.5018 - acc: 0.797 - ETA: 9:14 - loss: 0.5017 - acc: 0.797 - ETA: 9:13 - loss: 0.5017 - acc: 0.797 - ETA: 9:12 - loss: 0.5019 - acc: 0.797 - ETA: 9:11 - loss: 0.5019 - acc: 0.797 - ETA: 9:11 - loss: 0.5019 - acc: 0.797 - ETA: 9:10 - loss: 0.5020 - acc: 0.797 - ETA: 9:09 - loss: 0.5021 - acc: 0.796 - ETA: 9:08 - loss: 0.5021 - acc: 0.796 - ETA: 9:08 - loss: 0.5020 - acc: 0.796 - ETA: 9:07 - loss: 0.5020 - acc: 0.796 - ETA: 9:06 - loss: 0.5022 - acc: 0.796 - ETA: 9:06 - loss: 0.5021 - acc: 0.796 - ETA: 9:05 - loss: 0.5020 - acc: 0.796 - ETA: 9:04 - loss: 0.5019 - acc: 0.796 - ETA: 9:04 - loss: 0.5020 - acc: 0.796 - ETA: 9:03 - loss: 0.5020 - acc: 0.796 - ETA: 9:02 - loss: 0.5020 - acc: 0.796 - ETA: 9:01 - loss: 0.5020 - acc: 0.796 - ETA: 9:01 - loss: 0.5020 - acc: 0.796 - ETA: 9:00 - loss: 0.5021 - acc: 0.796 - ETA: 8:59 - loss: 0.5021 - acc: 0.796 - ETA: 8:59 - loss: 0.5021 - acc: 0.796 - ETA: 8:58 - loss: 0.5022 - acc: 0.796 - ETA: 8:57 - loss: 0.5024 - acc: 0.796 - ETA: 8:56 - loss: 0.5025 - acc: 0.796 - ETA: 8:56 - loss: 0.5024 - acc: 0.796 - ETA: 8:55 - loss: 0.5024 - acc: 0.796 - ETA: 8:54 - loss: 0.5024 - acc: 0.796 - ETA: 8:53 - loss: 0.5025 - acc: 0.796 - ETA: 8:53 - loss: 0.5024 - acc: 0.796 - ETA: 8:52 - loss: 0.5024 - acc: 0.796 - ETA: 8:51 - loss: 0.5024 - acc: 0.796 - ETA: 8:51 - loss: 0.5023 - acc: 0.796 - ETA: 8:50 - loss: 0.5022 - acc: 0.796 - ETA: 8:49 - loss: 0.5021 - acc: 0.796 - ETA: 8:49 - loss: 0.5021 - acc: 0.796 - ETA: 8:48 - loss: 0.5022 - acc: 0.796 - ETA: 8:47 - loss: 0.5021 - acc: 0.796 - ETA: 8:47 - loss: 0.5021 - acc: 0.796 - ETA: 8:46 - loss: 0.5022 - acc: 0.796 - ETA: 8:45 - loss: 0.5021 - acc: 0.796 - ETA: 8:45 - loss: 0.5021 - acc: 0.796 - ETA: 8:44 - loss: 0.5020 - acc: 0.796 - ETA: 8:44 - loss: 0.5019 - acc: 0.797 - ETA: 8:43 - loss: 0.5018 - acc: 0.797 - ETA: 8:42 - loss: 0.5018 - acc: 0.797 - ETA: 8:42 - loss: 0.5018 - acc: 0.797 - ETA: 8:41 - loss: 0.5019 - acc: 0.797 - ETA: 8:40 - loss: 0.5019 - acc: 0.797 - ETA: 8:40 - loss: 0.5019 - acc: 0.797 - ETA: 8:39 - loss: 0.5019 - acc: 0.797 - ETA: 8:38 - loss: 0.5019 - acc: 0.797 - ETA: 8:38 - loss: 0.5018 - acc: 0.797 - ETA: 8:37 - loss: 0.5019 - acc: 0.797 - ETA: 8:36 - loss: 0.5019 - acc: 0.797 - ETA: 8:36 - loss: 0.5018 - acc: 0.797 - ETA: 8:35 - loss: 0.5017 - acc: 0.797 - ETA: 8:35 - loss: 0.5017 - acc: 0.797 - ETA: 8:34 - loss: 0.5017 - acc: 0.797 - ETA: 8:33 - loss: 0.5017 - acc: 0.797 - ETA: 8:33 - loss: 0.5018 - acc: 0.797 - ETA: 8:32 - loss: 0.5018 - acc: 0.797 - ETA: 8:31 - loss: 0.5018 - acc: 0.797 - ETA: 8:31 - loss: 0.5017 - acc: 0.797 - ETA: 8:31 - loss: 0.5016 - acc: 0.797 - ETA: 8:30 - loss: 0.5015 - acc: 0.797 - ETA: 8:30 - loss: 0.5015 - acc: 0.797 - ETA: 8:30 - loss: 0.5016 - acc: 0.797 - ETA: 8:30 - loss: 0.5016 - acc: 0.797 - ETA: 8:29 - loss: 0.5016 - acc: 0.797 - ETA: 8:29 - loss: 0.5017 - acc: 0.797 - ETA: 8:28 - loss: 0.5018 - acc: 0.797 - ETA: 8:28 - loss: 0.5017 - acc: 0.797 - ETA: 8:27 - loss: 0.5017 - acc: 0.797 - ETA: 8:27 - loss: 0.5017 - acc: 0.797 - ETA: 8:26 - loss: 0.5018 - acc: 0.797 - ETA: 8:26 - loss: 0.5018 - acc: 0.797 - ETA: 8:26 - loss: 0.5019 - acc: 0.797 - ETA: 8:25 - loss: 0.5018 - acc: 0.797 - ETA: 8:25 - loss: 0.5019 - acc: 0.797 - ETA: 8:24 - loss: 0.5019 - acc: 0.797 - ETA: 8:24 - loss: 0.5020 - acc: 0.797 - ETA: 8:23 - loss: 0.5021 - acc: 0.797 - ETA: 8:23 - loss: 0.5021 - acc: 0.797 - ETA: 8:22 - loss: 0.5021 - acc: 0.797 - ETA: 8:22 - loss: 0.5021 - acc: 0.797 - ETA: 8:21 - loss: 0.5021 - acc: 0.797 - ETA: 8:21 - loss: 0.5022 - acc: 0.797 - ETA: 8:20 - loss: 0.5023 - acc: 0.797 - ETA: 8:20 - loss: 0.5022 - acc: 0.797 - ETA: 8:19 - loss: 0.5022 - acc: 0.797 - ETA: 8:19 - loss: 0.5022 - acc: 0.797 - ETA: 8:18 - loss: 0.5023 - acc: 0.797 - ETA: 8:18 - loss: 0.5023 - acc: 0.797 - ETA: 8:17 - loss: 0.5025 - acc: 0.797 - ETA: 8:17 - loss: 0.5024 - acc: 0.797 - ETA: 8:16 - loss: 0.5025 - acc: 0.797 - ETA: 8:16 - loss: 0.5023 - acc: 0.797 - ETA: 8:15 - loss: 0.5024 - acc: 0.797 - ETA: 8:15 - loss: 0.5024 - acc: 0.797 - ETA: 8:15 - loss: 0.5025 - acc: 0.797 - ETA: 8:14 - loss: 0.5024 - acc: 0.797 - ETA: 8:14 - loss: 0.5026 - acc: 0.797 - ETA: 8:13 - loss: 0.5027 - acc: 0.797 - ETA: 8:13 - loss: 0.5026 - acc: 0.797 - ETA: 8:12 - loss: 0.5026 - acc: 0.797 - ETA: 8:12 - loss: 0.5025 - acc: 0.797 - ETA: 8:11 - loss: 0.5025 - acc: 0.797 - ETA: 8:10 - loss: 0.5025 - acc: 0.797 - ETA: 8:10 - loss: 0.5025 - acc: 0.797 - ETA: 8:09 - loss: 0.5025 - acc: 0.797 - ETA: 8:08 - loss: 0.5025 - acc: 0.797 - ETA: 8:08 - loss: 0.5025 - acc: 0.797 - ETA: 8:08 - loss: 0.5024 - acc: 0.797 - ETA: 8:07 - loss: 0.5024 - acc: 0.797 - ETA: 8:07 - loss: 0.5023 - acc: 0.797 - ETA: 8:06 - loss: 0.5023 - acc: 0.797 - ETA: 8:05 - loss: 0.5025 - acc: 0.797 - ETA: 8:05 - loss: 0.5025 - acc: 0.797 - ETA: 8:04 - loss: 0.5024 - acc: 0.797 - ETA: 8:03 - loss: 0.5025 - acc: 0.797 - ETA: 8:03 - loss: 0.5024 - acc: 0.797 - ETA: 8:02 - loss: 0.5025 - acc: 0.797 - ETA: 8:02 - loss: 0.5024 - acc: 0.797 - ETA: 8:01 - loss: 0.5024 - acc: 0.797 - ETA: 8:00 - loss: 0.5025 - acc: 0.797 - ETA: 8:00 - loss: 0.5026 - acc: 0.797 - ETA: 7:59 - loss: 0.5027 - acc: 0.797 - ETA: 7:58 - loss: 0.5026 - acc: 0.797 - ETA: 7:58 - loss: 0.5025 - acc: 0.797 - ETA: 7:57 - loss: 0.5025 - acc: 0.797 - ETA: 7:56 - loss: 0.5025 - acc: 0.797 - ETA: 7:56 - loss: 0.5024 - acc: 0.797 - ETA: 7:55 - loss: 0.5025 - acc: 0.797 - ETA: 7:54 - loss: 0.5024 - acc: 0.797 - ETA: 7:54 - loss: 0.5025 - acc: 0.797 - ETA: 7:53 - loss: 0.5025 - acc: 0.797 - ETA: 7:52 - loss: 0.5025 - acc: 0.797 - ETA: 7:52 - loss: 0.5025 - acc: 0.797 - ETA: 7:51 - loss: 0.5026 - acc: 0.797 - ETA: 7:50 - loss: 0.5026 - acc: 0.797 - ETA: 7:49 - loss: 0.5026 - acc: 0.797 - ETA: 7:49 - loss: 0.5027 - acc: 0.797 - ETA: 7:48 - loss: 0.5026 - acc: 0.797 - ETA: 7:48 - loss: 0.5026 - acc: 0.797 - ETA: 7:47 - loss: 0.5026 - acc: 0.797 - ETA: 7:47 - loss: 0.5026 - acc: 0.797 - ETA: 7:46 - loss: 0.5025 - acc: 0.797 - ETA: 7:46 - loss: 0.5025 - acc: 0.797 - ETA: 7:45 - loss: 0.5025 - acc: 0.797 - ETA: 7:45 - loss: 0.5025 - acc: 0.797 - ETA: 7:44 - loss: 0.5025 - acc: 0.797 - ETA: 7:44 - loss: 0.5024 - acc: 0.797 - ETA: 7:43 - loss: 0.5025 - acc: 0.797 - ETA: 7:43 - loss: 0.5026 - acc: 0.797 - ETA: 7:42 - loss: 0.5026 - acc: 0.797 - ETA: 7:42 - loss: 0.5026 - acc: 0.797 - ETA: 7:41 - loss: 0.5026 - acc: 0.797 - ETA: 7:41 - loss: 0.5025 - acc: 0.797 - ETA: 7:40 - loss: 0.5026 - acc: 0.797 - ETA: 7:40 - loss: 0.5026 - acc: 0.797 - ETA: 7:39 - loss: 0.5027 - acc: 0.797 - ETA: 7:39 - loss: 0.5027 - acc: 0.797 - ETA: 7:38 - loss: 0.5027 - acc: 0.797 - ETA: 7:38 - loss: 0.5027 - acc: 0.797 - ETA: 7:37 - loss: 0.5027 - acc: 0.797 - ETA: 7:36 - loss: 0.5029 - acc: 0.797 - ETA: 7:36 - loss: 0.5029 - acc: 0.797 - ETA: 7:35 - loss: 0.5029 - acc: 0.797 - ETA: 7:35 - loss: 0.5028 - acc: 0.797 - ETA: 7:34 - loss: 0.5028 - acc: 0.797 - ETA: 7:34 - loss: 0.5026 - acc: 0.7973"
     ]
    },
    {
     "name": "stdout",
     "output_type": "stream",
     "text": [
      "104448/135000 [======================>.......] - ETA: 7:33 - loss: 0.5025 - acc: 0.797 - ETA: 7:33 - loss: 0.5026 - acc: 0.797 - ETA: 7:32 - loss: 0.5025 - acc: 0.797 - ETA: 7:32 - loss: 0.5024 - acc: 0.797 - ETA: 7:32 - loss: 0.5025 - acc: 0.797 - ETA: 7:31 - loss: 0.5025 - acc: 0.797 - ETA: 7:31 - loss: 0.5025 - acc: 0.797 - ETA: 7:30 - loss: 0.5024 - acc: 0.797 - ETA: 7:30 - loss: 0.5024 - acc: 0.797 - ETA: 7:29 - loss: 0.5023 - acc: 0.797 - ETA: 7:28 - loss: 0.5022 - acc: 0.797 - ETA: 7:28 - loss: 0.5023 - acc: 0.797 - ETA: 7:27 - loss: 0.5024 - acc: 0.797 - ETA: 7:27 - loss: 0.5023 - acc: 0.797 - ETA: 7:26 - loss: 0.5024 - acc: 0.797 - ETA: 7:26 - loss: 0.5023 - acc: 0.797 - ETA: 7:25 - loss: 0.5023 - acc: 0.797 - ETA: 7:25 - loss: 0.5024 - acc: 0.797 - ETA: 7:24 - loss: 0.5024 - acc: 0.797 - ETA: 7:23 - loss: 0.5024 - acc: 0.797 - ETA: 7:23 - loss: 0.5025 - acc: 0.797 - ETA: 7:22 - loss: 0.5024 - acc: 0.797 - ETA: 7:21 - loss: 0.5025 - acc: 0.797 - ETA: 7:21 - loss: 0.5025 - acc: 0.797 - ETA: 7:20 - loss: 0.5025 - acc: 0.797 - ETA: 7:20 - loss: 0.5025 - acc: 0.797 - ETA: 7:19 - loss: 0.5025 - acc: 0.797 - ETA: 7:19 - loss: 0.5025 - acc: 0.797 - ETA: 7:18 - loss: 0.5025 - acc: 0.797 - ETA: 7:17 - loss: 0.5025 - acc: 0.797 - ETA: 7:17 - loss: 0.5026 - acc: 0.797 - ETA: 7:16 - loss: 0.5026 - acc: 0.797 - ETA: 7:15 - loss: 0.5025 - acc: 0.797 - ETA: 7:15 - loss: 0.5025 - acc: 0.797 - ETA: 7:14 - loss: 0.5024 - acc: 0.797 - ETA: 7:13 - loss: 0.5025 - acc: 0.797 - ETA: 7:12 - loss: 0.5025 - acc: 0.797 - ETA: 7:12 - loss: 0.5025 - acc: 0.797 - ETA: 7:11 - loss: 0.5025 - acc: 0.797 - ETA: 7:11 - loss: 0.5025 - acc: 0.797 - ETA: 7:10 - loss: 0.5026 - acc: 0.797 - ETA: 7:10 - loss: 0.5026 - acc: 0.797 - ETA: 7:09 - loss: 0.5027 - acc: 0.797 - ETA: 7:08 - loss: 0.5027 - acc: 0.797 - ETA: 7:08 - loss: 0.5028 - acc: 0.797 - ETA: 7:07 - loss: 0.5027 - acc: 0.797 - ETA: 7:07 - loss: 0.5028 - acc: 0.797 - ETA: 7:06 - loss: 0.5027 - acc: 0.797 - ETA: 7:06 - loss: 0.5028 - acc: 0.797 - ETA: 7:05 - loss: 0.5028 - acc: 0.797 - ETA: 7:05 - loss: 0.5027 - acc: 0.797 - ETA: 7:04 - loss: 0.5027 - acc: 0.797 - ETA: 7:04 - loss: 0.5027 - acc: 0.797 - ETA: 7:03 - loss: 0.5027 - acc: 0.797 - ETA: 7:02 - loss: 0.5026 - acc: 0.797 - ETA: 7:02 - loss: 0.5025 - acc: 0.797 - ETA: 7:01 - loss: 0.5025 - acc: 0.797 - ETA: 7:01 - loss: 0.5024 - acc: 0.797 - ETA: 7:00 - loss: 0.5024 - acc: 0.797 - ETA: 7:00 - loss: 0.5023 - acc: 0.797 - ETA: 6:59 - loss: 0.5023 - acc: 0.797 - ETA: 6:59 - loss: 0.5023 - acc: 0.797 - ETA: 6:58 - loss: 0.5023 - acc: 0.797 - ETA: 6:57 - loss: 0.5023 - acc: 0.797 - ETA: 6:57 - loss: 0.5022 - acc: 0.797 - ETA: 6:56 - loss: 0.5023 - acc: 0.797 - ETA: 6:55 - loss: 0.5023 - acc: 0.797 - ETA: 6:55 - loss: 0.5023 - acc: 0.797 - ETA: 6:54 - loss: 0.5023 - acc: 0.797 - ETA: 6:53 - loss: 0.5023 - acc: 0.797 - ETA: 6:52 - loss: 0.5022 - acc: 0.797 - ETA: 6:52 - loss: 0.5023 - acc: 0.797 - ETA: 6:51 - loss: 0.5023 - acc: 0.797 - ETA: 6:50 - loss: 0.5023 - acc: 0.797 - ETA: 6:50 - loss: 0.5023 - acc: 0.797 - ETA: 6:50 - loss: 0.5024 - acc: 0.797 - ETA: 6:49 - loss: 0.5024 - acc: 0.797 - ETA: 6:49 - loss: 0.5024 - acc: 0.797 - ETA: 6:48 - loss: 0.5024 - acc: 0.797 - ETA: 6:47 - loss: 0.5024 - acc: 0.797 - ETA: 6:47 - loss: 0.5024 - acc: 0.797 - ETA: 6:46 - loss: 0.5024 - acc: 0.797 - ETA: 6:46 - loss: 0.5025 - acc: 0.797 - ETA: 6:45 - loss: 0.5025 - acc: 0.797 - ETA: 6:44 - loss: 0.5027 - acc: 0.797 - ETA: 6:44 - loss: 0.5027 - acc: 0.797 - ETA: 6:43 - loss: 0.5027 - acc: 0.797 - ETA: 6:42 - loss: 0.5028 - acc: 0.797 - ETA: 6:42 - loss: 0.5029 - acc: 0.797 - ETA: 6:41 - loss: 0.5028 - acc: 0.797 - ETA: 6:41 - loss: 0.5028 - acc: 0.797 - ETA: 6:40 - loss: 0.5028 - acc: 0.797 - ETA: 6:39 - loss: 0.5027 - acc: 0.797 - ETA: 6:38 - loss: 0.5027 - acc: 0.797 - ETA: 6:38 - loss: 0.5027 - acc: 0.797 - ETA: 6:37 - loss: 0.5026 - acc: 0.797 - ETA: 6:36 - loss: 0.5026 - acc: 0.797 - ETA: 6:36 - loss: 0.5026 - acc: 0.797 - ETA: 6:35 - loss: 0.5026 - acc: 0.797 - ETA: 6:34 - loss: 0.5026 - acc: 0.797 - ETA: 6:34 - loss: 0.5024 - acc: 0.797 - ETA: 6:33 - loss: 0.5024 - acc: 0.797 - ETA: 6:33 - loss: 0.5024 - acc: 0.797 - ETA: 6:32 - loss: 0.5023 - acc: 0.797 - ETA: 6:31 - loss: 0.5023 - acc: 0.797 - ETA: 6:31 - loss: 0.5023 - acc: 0.797 - ETA: 6:30 - loss: 0.5022 - acc: 0.797 - ETA: 6:29 - loss: 0.5022 - acc: 0.797 - ETA: 6:29 - loss: 0.5021 - acc: 0.797 - ETA: 6:28 - loss: 0.5021 - acc: 0.797 - ETA: 6:28 - loss: 0.5021 - acc: 0.797 - ETA: 6:27 - loss: 0.5022 - acc: 0.797 - ETA: 6:26 - loss: 0.5021 - acc: 0.797 - ETA: 6:26 - loss: 0.5021 - acc: 0.797 - ETA: 6:25 - loss: 0.5020 - acc: 0.797 - ETA: 6:25 - loss: 0.5019 - acc: 0.797 - ETA: 6:24 - loss: 0.5020 - acc: 0.797 - ETA: 6:23 - loss: 0.5019 - acc: 0.797 - ETA: 6:23 - loss: 0.5019 - acc: 0.797 - ETA: 6:22 - loss: 0.5019 - acc: 0.797 - ETA: 6:21 - loss: 0.5019 - acc: 0.797 - ETA: 6:21 - loss: 0.5019 - acc: 0.797 - ETA: 6:20 - loss: 0.5020 - acc: 0.797 - ETA: 6:20 - loss: 0.5020 - acc: 0.797 - ETA: 6:19 - loss: 0.5019 - acc: 0.797 - ETA: 6:18 - loss: 0.5019 - acc: 0.797 - ETA: 6:18 - loss: 0.5019 - acc: 0.797 - ETA: 6:17 - loss: 0.5018 - acc: 0.797 - ETA: 6:17 - loss: 0.5017 - acc: 0.797 - ETA: 6:16 - loss: 0.5019 - acc: 0.797 - ETA: 6:15 - loss: 0.5018 - acc: 0.797 - ETA: 6:15 - loss: 0.5018 - acc: 0.797 - ETA: 6:14 - loss: 0.5019 - acc: 0.797 - ETA: 6:13 - loss: 0.5018 - acc: 0.797 - ETA: 6:13 - loss: 0.5018 - acc: 0.797 - ETA: 6:12 - loss: 0.5018 - acc: 0.797 - ETA: 6:12 - loss: 0.5018 - acc: 0.797 - ETA: 6:11 - loss: 0.5018 - acc: 0.797 - ETA: 6:11 - loss: 0.5017 - acc: 0.797 - ETA: 6:11 - loss: 0.5018 - acc: 0.797 - ETA: 6:10 - loss: 0.5017 - acc: 0.797 - ETA: 6:09 - loss: 0.5018 - acc: 0.797 - ETA: 6:09 - loss: 0.5017 - acc: 0.797 - ETA: 6:08 - loss: 0.5016 - acc: 0.797 - ETA: 6:08 - loss: 0.5017 - acc: 0.797 - ETA: 6:07 - loss: 0.5016 - acc: 0.797 - ETA: 6:06 - loss: 0.5017 - acc: 0.797 - ETA: 6:06 - loss: 0.5017 - acc: 0.797 - ETA: 6:05 - loss: 0.5016 - acc: 0.797 - ETA: 6:04 - loss: 0.5015 - acc: 0.798 - ETA: 6:04 - loss: 0.5015 - acc: 0.798 - ETA: 6:03 - loss: 0.5015 - acc: 0.798 - ETA: 6:03 - loss: 0.5015 - acc: 0.797 - ETA: 6:02 - loss: 0.5017 - acc: 0.797 - ETA: 6:01 - loss: 0.5017 - acc: 0.797 - ETA: 6:01 - loss: 0.5018 - acc: 0.797 - ETA: 6:00 - loss: 0.5018 - acc: 0.797 - ETA: 6:00 - loss: 0.5018 - acc: 0.797 - ETA: 5:59 - loss: 0.5019 - acc: 0.797 - ETA: 5:58 - loss: 0.5019 - acc: 0.797 - ETA: 5:58 - loss: 0.5019 - acc: 0.797 - ETA: 5:57 - loss: 0.5019 - acc: 0.797 - ETA: 5:57 - loss: 0.5018 - acc: 0.797 - ETA: 5:56 - loss: 0.5019 - acc: 0.797 - ETA: 5:55 - loss: 0.5019 - acc: 0.797 - ETA: 5:55 - loss: 0.5019 - acc: 0.797 - ETA: 5:54 - loss: 0.5018 - acc: 0.797 - ETA: 5:53 - loss: 0.5019 - acc: 0.797 - ETA: 5:53 - loss: 0.5018 - acc: 0.797 - ETA: 5:52 - loss: 0.5019 - acc: 0.797 - ETA: 5:51 - loss: 0.5019 - acc: 0.797 - ETA: 5:51 - loss: 0.5019 - acc: 0.797 - ETA: 5:50 - loss: 0.5019 - acc: 0.797 - ETA: 5:49 - loss: 0.5018 - acc: 0.797 - ETA: 5:49 - loss: 0.5018 - acc: 0.797 - ETA: 5:48 - loss: 0.5018 - acc: 0.797 - ETA: 5:48 - loss: 0.5018 - acc: 0.797 - ETA: 5:48 - loss: 0.5018 - acc: 0.797 - ETA: 5:47 - loss: 0.5016 - acc: 0.797 - ETA: 5:46 - loss: 0.5015 - acc: 0.798 - ETA: 5:46 - loss: 0.5017 - acc: 0.797 - ETA: 5:45 - loss: 0.5016 - acc: 0.798 - ETA: 5:45 - loss: 0.5016 - acc: 0.797 - ETA: 5:44 - loss: 0.5016 - acc: 0.797 - ETA: 5:43 - loss: 0.5017 - acc: 0.797 - ETA: 5:43 - loss: 0.5016 - acc: 0.797 - ETA: 5:42 - loss: 0.5016 - acc: 0.797 - ETA: 5:41 - loss: 0.5016 - acc: 0.797 - ETA: 5:41 - loss: 0.5015 - acc: 0.797 - ETA: 5:40 - loss: 0.5015 - acc: 0.797 - ETA: 5:40 - loss: 0.5015 - acc: 0.797 - ETA: 5:39 - loss: 0.5014 - acc: 0.797 - ETA: 5:38 - loss: 0.5014 - acc: 0.797 - ETA: 5:38 - loss: 0.5014 - acc: 0.797 - ETA: 5:37 - loss: 0.5014 - acc: 0.797 - ETA: 5:37 - loss: 0.5013 - acc: 0.797 - ETA: 5:36 - loss: 0.5013 - acc: 0.797 - ETA: 5:35 - loss: 0.5014 - acc: 0.797 - ETA: 5:35 - loss: 0.5014 - acc: 0.797 - ETA: 5:34 - loss: 0.5014 - acc: 0.797 - ETA: 5:34 - loss: 0.5013 - acc: 0.797 - ETA: 5:33 - loss: 0.5013 - acc: 0.797 - ETA: 5:32 - loss: 0.5013 - acc: 0.797 - ETA: 5:32 - loss: 0.5012 - acc: 0.7979"
     ]
    },
    {
     "name": "stdout",
     "output_type": "stream",
     "text": [
      "117504/135000 [=========================>....] - ETA: 5:31 - loss: 0.5012 - acc: 0.798 - ETA: 5:30 - loss: 0.5011 - acc: 0.798 - ETA: 5:30 - loss: 0.5010 - acc: 0.798 - ETA: 5:29 - loss: 0.5010 - acc: 0.798 - ETA: 5:28 - loss: 0.5010 - acc: 0.798 - ETA: 5:27 - loss: 0.5009 - acc: 0.798 - ETA: 5:27 - loss: 0.5009 - acc: 0.798 - ETA: 5:26 - loss: 0.5009 - acc: 0.798 - ETA: 5:25 - loss: 0.5008 - acc: 0.798 - ETA: 5:25 - loss: 0.5008 - acc: 0.798 - ETA: 5:24 - loss: 0.5007 - acc: 0.798 - ETA: 5:23 - loss: 0.5005 - acc: 0.798 - ETA: 5:22 - loss: 0.5005 - acc: 0.798 - ETA: 5:22 - loss: 0.5005 - acc: 0.798 - ETA: 5:21 - loss: 0.5004 - acc: 0.798 - ETA: 5:20 - loss: 0.5004 - acc: 0.798 - ETA: 5:20 - loss: 0.5005 - acc: 0.798 - ETA: 5:19 - loss: 0.5005 - acc: 0.798 - ETA: 5:18 - loss: 0.5005 - acc: 0.798 - ETA: 5:18 - loss: 0.5004 - acc: 0.798 - ETA: 5:17 - loss: 0.5005 - acc: 0.798 - ETA: 5:16 - loss: 0.5004 - acc: 0.798 - ETA: 5:16 - loss: 0.5003 - acc: 0.798 - ETA: 5:15 - loss: 0.5003 - acc: 0.798 - ETA: 5:14 - loss: 0.5003 - acc: 0.798 - ETA: 5:13 - loss: 0.5002 - acc: 0.798 - ETA: 5:13 - loss: 0.5002 - acc: 0.798 - ETA: 5:12 - loss: 0.5002 - acc: 0.798 - ETA: 5:11 - loss: 0.5003 - acc: 0.798 - ETA: 5:10 - loss: 0.5002 - acc: 0.798 - ETA: 5:10 - loss: 0.5002 - acc: 0.798 - ETA: 5:09 - loss: 0.5003 - acc: 0.798 - ETA: 5:08 - loss: 0.5004 - acc: 0.798 - ETA: 5:08 - loss: 0.5004 - acc: 0.798 - ETA: 5:07 - loss: 0.5005 - acc: 0.798 - ETA: 5:07 - loss: 0.5004 - acc: 0.798 - ETA: 5:06 - loss: 0.5004 - acc: 0.798 - ETA: 5:05 - loss: 0.5005 - acc: 0.798 - ETA: 5:05 - loss: 0.5005 - acc: 0.798 - ETA: 5:04 - loss: 0.5005 - acc: 0.798 - ETA: 5:03 - loss: 0.5007 - acc: 0.798 - ETA: 5:03 - loss: 0.5006 - acc: 0.798 - ETA: 5:02 - loss: 0.5006 - acc: 0.798 - ETA: 5:01 - loss: 0.5007 - acc: 0.798 - ETA: 5:01 - loss: 0.5006 - acc: 0.798 - ETA: 5:00 - loss: 0.5006 - acc: 0.798 - ETA: 4:59 - loss: 0.5006 - acc: 0.798 - ETA: 4:59 - loss: 0.5005 - acc: 0.798 - ETA: 4:58 - loss: 0.5004 - acc: 0.798 - ETA: 4:57 - loss: 0.5004 - acc: 0.798 - ETA: 4:57 - loss: 0.5004 - acc: 0.798 - ETA: 4:56 - loss: 0.5004 - acc: 0.798 - ETA: 4:55 - loss: 0.5004 - acc: 0.798 - ETA: 4:55 - loss: 0.5004 - acc: 0.798 - ETA: 4:54 - loss: 0.5004 - acc: 0.798 - ETA: 4:53 - loss: 0.5005 - acc: 0.798 - ETA: 4:53 - loss: 0.5005 - acc: 0.798 - ETA: 4:52 - loss: 0.5005 - acc: 0.798 - ETA: 4:51 - loss: 0.5005 - acc: 0.798 - ETA: 4:51 - loss: 0.5004 - acc: 0.798 - ETA: 4:50 - loss: 0.5005 - acc: 0.798 - ETA: 4:49 - loss: 0.5005 - acc: 0.798 - ETA: 4:48 - loss: 0.5005 - acc: 0.798 - ETA: 4:48 - loss: 0.5005 - acc: 0.798 - ETA: 4:47 - loss: 0.5006 - acc: 0.798 - ETA: 4:46 - loss: 0.5006 - acc: 0.798 - ETA: 4:46 - loss: 0.5006 - acc: 0.798 - ETA: 4:45 - loss: 0.5006 - acc: 0.798 - ETA: 4:44 - loss: 0.5007 - acc: 0.798 - ETA: 4:44 - loss: 0.5007 - acc: 0.798 - ETA: 4:43 - loss: 0.5007 - acc: 0.798 - ETA: 4:42 - loss: 0.5007 - acc: 0.798 - ETA: 4:42 - loss: 0.5008 - acc: 0.798 - ETA: 4:41 - loss: 0.5008 - acc: 0.798 - ETA: 4:40 - loss: 0.5008 - acc: 0.798 - ETA: 4:40 - loss: 0.5008 - acc: 0.798 - ETA: 4:39 - loss: 0.5008 - acc: 0.798 - ETA: 4:38 - loss: 0.5008 - acc: 0.798 - ETA: 4:38 - loss: 0.5007 - acc: 0.798 - ETA: 4:37 - loss: 0.5008 - acc: 0.798 - ETA: 4:36 - loss: 0.5007 - acc: 0.798 - ETA: 4:36 - loss: 0.5008 - acc: 0.798 - ETA: 4:35 - loss: 0.5008 - acc: 0.798 - ETA: 4:34 - loss: 0.5007 - acc: 0.798 - ETA: 4:34 - loss: 0.5007 - acc: 0.798 - ETA: 4:33 - loss: 0.5008 - acc: 0.798 - ETA: 4:32 - loss: 0.5007 - acc: 0.798 - ETA: 4:32 - loss: 0.5009 - acc: 0.798 - ETA: 4:31 - loss: 0.5008 - acc: 0.798 - ETA: 4:30 - loss: 0.5008 - acc: 0.798 - ETA: 4:29 - loss: 0.5008 - acc: 0.798 - ETA: 4:29 - loss: 0.5008 - acc: 0.798 - ETA: 4:28 - loss: 0.5008 - acc: 0.798 - ETA: 4:27 - loss: 0.5009 - acc: 0.798 - ETA: 4:27 - loss: 0.5008 - acc: 0.798 - ETA: 4:26 - loss: 0.5008 - acc: 0.798 - ETA: 4:25 - loss: 0.5007 - acc: 0.798 - ETA: 4:24 - loss: 0.5007 - acc: 0.798 - ETA: 4:24 - loss: 0.5006 - acc: 0.798 - ETA: 4:23 - loss: 0.5006 - acc: 0.798 - ETA: 4:23 - loss: 0.5006 - acc: 0.798 - ETA: 4:22 - loss: 0.5006 - acc: 0.798 - ETA: 4:21 - loss: 0.5006 - acc: 0.798 - ETA: 4:21 - loss: 0.5006 - acc: 0.798 - ETA: 4:20 - loss: 0.5007 - acc: 0.798 - ETA: 4:19 - loss: 0.5006 - acc: 0.798 - ETA: 4:19 - loss: 0.5005 - acc: 0.798 - ETA: 4:18 - loss: 0.5005 - acc: 0.798 - ETA: 4:17 - loss: 0.5004 - acc: 0.798 - ETA: 4:17 - loss: 0.5005 - acc: 0.798 - ETA: 4:16 - loss: 0.5005 - acc: 0.798 - ETA: 4:15 - loss: 0.5005 - acc: 0.798 - ETA: 4:15 - loss: 0.5004 - acc: 0.798 - ETA: 4:14 - loss: 0.5004 - acc: 0.798 - ETA: 4:13 - loss: 0.5003 - acc: 0.798 - ETA: 4:13 - loss: 0.5002 - acc: 0.798 - ETA: 4:12 - loss: 0.5003 - acc: 0.798 - ETA: 4:11 - loss: 0.5003 - acc: 0.798 - ETA: 4:11 - loss: 0.5003 - acc: 0.798 - ETA: 4:10 - loss: 0.5002 - acc: 0.798 - ETA: 4:09 - loss: 0.5002 - acc: 0.798 - ETA: 4:09 - loss: 0.5002 - acc: 0.798 - ETA: 4:08 - loss: 0.5001 - acc: 0.798 - ETA: 4:07 - loss: 0.5001 - acc: 0.798 - ETA: 4:07 - loss: 0.5001 - acc: 0.798 - ETA: 4:06 - loss: 0.5002 - acc: 0.798 - ETA: 4:05 - loss: 0.5002 - acc: 0.798 - ETA: 4:05 - loss: 0.5002 - acc: 0.798 - ETA: 4:04 - loss: 0.5001 - acc: 0.798 - ETA: 4:03 - loss: 0.5001 - acc: 0.798 - ETA: 4:02 - loss: 0.5001 - acc: 0.798 - ETA: 4:02 - loss: 0.5001 - acc: 0.798 - ETA: 4:01 - loss: 0.5001 - acc: 0.798 - ETA: 4:00 - loss: 0.5002 - acc: 0.798 - ETA: 4:00 - loss: 0.5002 - acc: 0.798 - ETA: 3:59 - loss: 0.5003 - acc: 0.798 - ETA: 3:58 - loss: 0.5002 - acc: 0.798 - ETA: 3:58 - loss: 0.5002 - acc: 0.798 - ETA: 3:57 - loss: 0.5002 - acc: 0.798 - ETA: 3:56 - loss: 0.5001 - acc: 0.798 - ETA: 3:56 - loss: 0.5001 - acc: 0.798 - ETA: 3:55 - loss: 0.5002 - acc: 0.798 - ETA: 3:54 - loss: 0.5001 - acc: 0.798 - ETA: 3:54 - loss: 0.5001 - acc: 0.798 - ETA: 3:53 - loss: 0.5001 - acc: 0.798 - ETA: 3:52 - loss: 0.5002 - acc: 0.798 - ETA: 3:52 - loss: 0.5002 - acc: 0.798 - ETA: 3:51 - loss: 0.5003 - acc: 0.798 - ETA: 3:50 - loss: 0.5003 - acc: 0.798 - ETA: 3:50 - loss: 0.5002 - acc: 0.798 - ETA: 3:49 - loss: 0.5004 - acc: 0.798 - ETA: 3:48 - loss: 0.5004 - acc: 0.798 - ETA: 3:47 - loss: 0.5004 - acc: 0.798 - ETA: 3:47 - loss: 0.5004 - acc: 0.798 - ETA: 3:46 - loss: 0.5003 - acc: 0.798 - ETA: 3:45 - loss: 0.5004 - acc: 0.798 - ETA: 3:45 - loss: 0.5003 - acc: 0.798 - ETA: 3:44 - loss: 0.5002 - acc: 0.798 - ETA: 3:43 - loss: 0.5003 - acc: 0.798 - ETA: 3:42 - loss: 0.5003 - acc: 0.798 - ETA: 3:42 - loss: 0.5002 - acc: 0.798 - ETA: 3:41 - loss: 0.5002 - acc: 0.798 - ETA: 3:40 - loss: 0.5002 - acc: 0.798 - ETA: 3:39 - loss: 0.5002 - acc: 0.798 - ETA: 3:39 - loss: 0.5001 - acc: 0.798 - ETA: 3:38 - loss: 0.5002 - acc: 0.798 - ETA: 3:37 - loss: 0.5002 - acc: 0.798 - ETA: 3:37 - loss: 0.5002 - acc: 0.798 - ETA: 3:36 - loss: 0.5003 - acc: 0.798 - ETA: 3:35 - loss: 0.5002 - acc: 0.798 - ETA: 3:35 - loss: 0.5002 - acc: 0.798 - ETA: 3:34 - loss: 0.5002 - acc: 0.798 - ETA: 3:33 - loss: 0.5002 - acc: 0.798 - ETA: 3:32 - loss: 0.5002 - acc: 0.798 - ETA: 3:32 - loss: 0.5002 - acc: 0.798 - ETA: 3:31 - loss: 0.5001 - acc: 0.798 - ETA: 3:30 - loss: 0.5002 - acc: 0.798 - ETA: 3:30 - loss: 0.5002 - acc: 0.798 - ETA: 3:29 - loss: 0.5003 - acc: 0.798 - ETA: 3:28 - loss: 0.5002 - acc: 0.798 - ETA: 3:28 - loss: 0.5002 - acc: 0.798 - ETA: 3:27 - loss: 0.5001 - acc: 0.798 - ETA: 3:26 - loss: 0.5001 - acc: 0.798 - ETA: 3:26 - loss: 0.5002 - acc: 0.798 - ETA: 3:25 - loss: 0.5001 - acc: 0.798 - ETA: 3:24 - loss: 0.5000 - acc: 0.798 - ETA: 3:23 - loss: 0.5000 - acc: 0.798 - ETA: 3:23 - loss: 0.5000 - acc: 0.798 - ETA: 3:22 - loss: 0.5000 - acc: 0.798 - ETA: 3:21 - loss: 0.5000 - acc: 0.798 - ETA: 3:21 - loss: 0.5000 - acc: 0.798 - ETA: 3:20 - loss: 0.5000 - acc: 0.798 - ETA: 3:20 - loss: 0.5000 - acc: 0.798 - ETA: 3:19 - loss: 0.5001 - acc: 0.798 - ETA: 3:18 - loss: 0.5001 - acc: 0.798 - ETA: 3:18 - loss: 0.5001 - acc: 0.798 - ETA: 3:17 - loss: 0.5001 - acc: 0.798 - ETA: 3:16 - loss: 0.5001 - acc: 0.798 - ETA: 3:16 - loss: 0.5000 - acc: 0.798 - ETA: 3:15 - loss: 0.4999 - acc: 0.798 - ETA: 3:14 - loss: 0.4999 - acc: 0.798 - ETA: 3:14 - loss: 0.4999 - acc: 0.798 - ETA: 3:13 - loss: 0.4999 - acc: 0.798 - ETA: 3:12 - loss: 0.4999 - acc: 0.7984"
     ]
    },
    {
     "name": "stdout",
     "output_type": "stream",
     "text": [
      "130624/135000 [============================>.] - ETA: 3:12 - loss: 0.4999 - acc: 0.798 - ETA: 3:11 - loss: 0.4999 - acc: 0.798 - ETA: 3:10 - loss: 0.4999 - acc: 0.798 - ETA: 3:09 - loss: 0.4998 - acc: 0.798 - ETA: 3:09 - loss: 0.4998 - acc: 0.798 - ETA: 3:08 - loss: 0.4998 - acc: 0.798 - ETA: 3:08 - loss: 0.4997 - acc: 0.798 - ETA: 3:07 - loss: 0.4997 - acc: 0.798 - ETA: 3:06 - loss: 0.4996 - acc: 0.798 - ETA: 3:06 - loss: 0.4996 - acc: 0.798 - ETA: 3:05 - loss: 0.4996 - acc: 0.798 - ETA: 3:04 - loss: 0.4995 - acc: 0.798 - ETA: 3:04 - loss: 0.4995 - acc: 0.798 - ETA: 3:03 - loss: 0.4995 - acc: 0.798 - ETA: 3:02 - loss: 0.4995 - acc: 0.798 - ETA: 3:02 - loss: 0.4995 - acc: 0.798 - ETA: 3:01 - loss: 0.4995 - acc: 0.798 - ETA: 3:00 - loss: 0.4995 - acc: 0.798 - ETA: 3:00 - loss: 0.4995 - acc: 0.798 - ETA: 2:59 - loss: 0.4995 - acc: 0.798 - ETA: 2:58 - loss: 0.4995 - acc: 0.798 - ETA: 2:58 - loss: 0.4995 - acc: 0.798 - ETA: 2:57 - loss: 0.4994 - acc: 0.798 - ETA: 2:56 - loss: 0.4994 - acc: 0.798 - ETA: 2:55 - loss: 0.4994 - acc: 0.798 - ETA: 2:55 - loss: 0.4994 - acc: 0.798 - ETA: 2:54 - loss: 0.4995 - acc: 0.798 - ETA: 2:53 - loss: 0.4997 - acc: 0.798 - ETA: 2:53 - loss: 0.4996 - acc: 0.798 - ETA: 2:52 - loss: 0.4997 - acc: 0.798 - ETA: 2:51 - loss: 0.4997 - acc: 0.798 - ETA: 2:51 - loss: 0.4996 - acc: 0.798 - ETA: 2:50 - loss: 0.4995 - acc: 0.798 - ETA: 2:49 - loss: 0.4995 - acc: 0.798 - ETA: 2:48 - loss: 0.4996 - acc: 0.798 - ETA: 2:48 - loss: 0.4997 - acc: 0.798 - ETA: 2:47 - loss: 0.4997 - acc: 0.798 - ETA: 2:46 - loss: 0.4997 - acc: 0.798 - ETA: 2:46 - loss: 0.4997 - acc: 0.798 - ETA: 2:45 - loss: 0.4997 - acc: 0.798 - ETA: 2:44 - loss: 0.4997 - acc: 0.798 - ETA: 2:44 - loss: 0.4997 - acc: 0.798 - ETA: 2:43 - loss: 0.4997 - acc: 0.798 - ETA: 2:42 - loss: 0.4997 - acc: 0.798 - ETA: 2:42 - loss: 0.4997 - acc: 0.798 - ETA: 2:41 - loss: 0.4997 - acc: 0.798 - ETA: 2:40 - loss: 0.4997 - acc: 0.798 - ETA: 2:39 - loss: 0.4998 - acc: 0.798 - ETA: 2:39 - loss: 0.4998 - acc: 0.798 - ETA: 2:38 - loss: 0.4997 - acc: 0.798 - ETA: 2:37 - loss: 0.4998 - acc: 0.798 - ETA: 2:37 - loss: 0.4997 - acc: 0.798 - ETA: 2:36 - loss: 0.4998 - acc: 0.798 - ETA: 2:35 - loss: 0.4998 - acc: 0.798 - ETA: 2:35 - loss: 0.4998 - acc: 0.798 - ETA: 2:34 - loss: 0.4998 - acc: 0.798 - ETA: 2:33 - loss: 0.4998 - acc: 0.798 - ETA: 2:33 - loss: 0.4998 - acc: 0.798 - ETA: 2:32 - loss: 0.4998 - acc: 0.798 - ETA: 2:31 - loss: 0.4998 - acc: 0.798 - ETA: 2:30 - loss: 0.4997 - acc: 0.798 - ETA: 2:30 - loss: 0.4997 - acc: 0.798 - ETA: 2:29 - loss: 0.4997 - acc: 0.798 - ETA: 2:28 - loss: 0.4996 - acc: 0.798 - ETA: 2:28 - loss: 0.4998 - acc: 0.798 - ETA: 2:27 - loss: 0.4998 - acc: 0.798 - ETA: 2:26 - loss: 0.4998 - acc: 0.798 - ETA: 2:26 - loss: 0.4998 - acc: 0.798 - ETA: 2:25 - loss: 0.4998 - acc: 0.798 - ETA: 2:24 - loss: 0.4998 - acc: 0.798 - ETA: 2:23 - loss: 0.4998 - acc: 0.798 - ETA: 2:23 - loss: 0.4998 - acc: 0.798 - ETA: 2:22 - loss: 0.4998 - acc: 0.798 - ETA: 2:21 - loss: 0.4998 - acc: 0.798 - ETA: 2:21 - loss: 0.4999 - acc: 0.798 - ETA: 2:20 - loss: 0.4999 - acc: 0.798 - ETA: 2:19 - loss: 0.4999 - acc: 0.798 - ETA: 2:18 - loss: 0.4999 - acc: 0.798 - ETA: 2:18 - loss: 0.4999 - acc: 0.798 - ETA: 2:17 - loss: 0.4999 - acc: 0.798 - ETA: 2:16 - loss: 0.4999 - acc: 0.798 - ETA: 2:16 - loss: 0.4998 - acc: 0.798 - ETA: 2:15 - loss: 0.4998 - acc: 0.798 - ETA: 2:14 - loss: 0.4997 - acc: 0.798 - ETA: 2:14 - loss: 0.4997 - acc: 0.798 - ETA: 2:13 - loss: 0.4997 - acc: 0.798 - ETA: 2:12 - loss: 0.4997 - acc: 0.798 - ETA: 2:11 - loss: 0.4997 - acc: 0.798 - ETA: 2:11 - loss: 0.4997 - acc: 0.798 - ETA: 2:10 - loss: 0.4997 - acc: 0.798 - ETA: 2:09 - loss: 0.4996 - acc: 0.798 - ETA: 2:09 - loss: 0.4996 - acc: 0.798 - ETA: 2:08 - loss: 0.4996 - acc: 0.798 - ETA: 2:07 - loss: 0.4995 - acc: 0.798 - ETA: 2:07 - loss: 0.4995 - acc: 0.798 - ETA: 2:06 - loss: 0.4996 - acc: 0.798 - ETA: 2:05 - loss: 0.4995 - acc: 0.798 - ETA: 2:04 - loss: 0.4994 - acc: 0.798 - ETA: 2:04 - loss: 0.4995 - acc: 0.798 - ETA: 2:03 - loss: 0.4995 - acc: 0.798 - ETA: 2:02 - loss: 0.4995 - acc: 0.798 - ETA: 2:02 - loss: 0.4995 - acc: 0.798 - ETA: 2:01 - loss: 0.4994 - acc: 0.798 - ETA: 2:00 - loss: 0.4994 - acc: 0.798 - ETA: 1:59 - loss: 0.4994 - acc: 0.798 - ETA: 1:59 - loss: 0.4994 - acc: 0.798 - ETA: 1:58 - loss: 0.4993 - acc: 0.798 - ETA: 1:57 - loss: 0.4994 - acc: 0.798 - ETA: 1:57 - loss: 0.4995 - acc: 0.798 - ETA: 1:56 - loss: 0.4995 - acc: 0.798 - ETA: 1:55 - loss: 0.4995 - acc: 0.798 - ETA: 1:55 - loss: 0.4995 - acc: 0.798 - ETA: 1:54 - loss: 0.4995 - acc: 0.798 - ETA: 1:53 - loss: 0.4994 - acc: 0.798 - ETA: 1:52 - loss: 0.4994 - acc: 0.798 - ETA: 1:52 - loss: 0.4995 - acc: 0.798 - ETA: 1:51 - loss: 0.4995 - acc: 0.798 - ETA: 1:50 - loss: 0.4995 - acc: 0.798 - ETA: 1:50 - loss: 0.4996 - acc: 0.798 - ETA: 1:49 - loss: 0.4996 - acc: 0.798 - ETA: 1:48 - loss: 0.4996 - acc: 0.798 - ETA: 1:47 - loss: 0.4995 - acc: 0.798 - ETA: 1:47 - loss: 0.4995 - acc: 0.798 - ETA: 1:46 - loss: 0.4996 - acc: 0.798 - ETA: 1:45 - loss: 0.4996 - acc: 0.798 - ETA: 1:45 - loss: 0.4995 - acc: 0.798 - ETA: 1:44 - loss: 0.4996 - acc: 0.798 - ETA: 1:43 - loss: 0.4996 - acc: 0.798 - ETA: 1:43 - loss: 0.4996 - acc: 0.798 - ETA: 1:42 - loss: 0.4996 - acc: 0.798 - ETA: 1:41 - loss: 0.4996 - acc: 0.798 - ETA: 1:40 - loss: 0.4995 - acc: 0.798 - ETA: 1:40 - loss: 0.4995 - acc: 0.798 - ETA: 1:39 - loss: 0.4995 - acc: 0.798 - ETA: 1:38 - loss: 0.4995 - acc: 0.798 - ETA: 1:38 - loss: 0.4994 - acc: 0.798 - ETA: 1:37 - loss: 0.4995 - acc: 0.798 - ETA: 1:36 - loss: 0.4994 - acc: 0.798 - ETA: 1:35 - loss: 0.4994 - acc: 0.798 - ETA: 1:35 - loss: 0.4994 - acc: 0.798 - ETA: 1:34 - loss: 0.4993 - acc: 0.798 - ETA: 1:33 - loss: 0.4992 - acc: 0.798 - ETA: 1:33 - loss: 0.4993 - acc: 0.798 - ETA: 1:32 - loss: 0.4993 - acc: 0.798 - ETA: 1:31 - loss: 0.4993 - acc: 0.798 - ETA: 1:30 - loss: 0.4993 - acc: 0.798 - ETA: 1:30 - loss: 0.4993 - acc: 0.798 - ETA: 1:29 - loss: 0.4993 - acc: 0.798 - ETA: 1:28 - loss: 0.4992 - acc: 0.798 - ETA: 1:28 - loss: 0.4992 - acc: 0.798 - ETA: 1:27 - loss: 0.4992 - acc: 0.798 - ETA: 1:26 - loss: 0.4992 - acc: 0.798 - ETA: 1:26 - loss: 0.4992 - acc: 0.798 - ETA: 1:25 - loss: 0.4992 - acc: 0.798 - ETA: 1:24 - loss: 0.4992 - acc: 0.798 - ETA: 1:23 - loss: 0.4993 - acc: 0.798 - ETA: 1:23 - loss: 0.4993 - acc: 0.798 - ETA: 1:22 - loss: 0.4992 - acc: 0.798 - ETA: 1:21 - loss: 0.4993 - acc: 0.798 - ETA: 1:21 - loss: 0.4992 - acc: 0.798 - ETA: 1:20 - loss: 0.4992 - acc: 0.798 - ETA: 1:19 - loss: 0.4992 - acc: 0.798 - ETA: 1:18 - loss: 0.4992 - acc: 0.798 - ETA: 1:18 - loss: 0.4991 - acc: 0.798 - ETA: 1:17 - loss: 0.4991 - acc: 0.798 - ETA: 1:16 - loss: 0.4991 - acc: 0.798 - ETA: 1:16 - loss: 0.4991 - acc: 0.798 - ETA: 1:15 - loss: 0.4991 - acc: 0.798 - ETA: 1:14 - loss: 0.4991 - acc: 0.798 - ETA: 1:13 - loss: 0.4992 - acc: 0.798 - ETA: 1:13 - loss: 0.4991 - acc: 0.798 - ETA: 1:12 - loss: 0.4990 - acc: 0.798 - ETA: 1:11 - loss: 0.4991 - acc: 0.798 - ETA: 1:11 - loss: 0.4991 - acc: 0.798 - ETA: 1:10 - loss: 0.4991 - acc: 0.798 - ETA: 1:09 - loss: 0.4991 - acc: 0.798 - ETA: 1:08 - loss: 0.4991 - acc: 0.798 - ETA: 1:08 - loss: 0.4991 - acc: 0.798 - ETA: 1:07 - loss: 0.4991 - acc: 0.798 - ETA: 1:06 - loss: 0.4992 - acc: 0.798 - ETA: 1:06 - loss: 0.4992 - acc: 0.798 - ETA: 1:05 - loss: 0.4993 - acc: 0.798 - ETA: 1:04 - loss: 0.4992 - acc: 0.798 - ETA: 1:03 - loss: 0.4993 - acc: 0.798 - ETA: 1:03 - loss: 0.4993 - acc: 0.798 - ETA: 1:02 - loss: 0.4993 - acc: 0.798 - ETA: 1:01 - loss: 0.4993 - acc: 0.798 - ETA: 1:01 - loss: 0.4993 - acc: 0.798 - ETA: 1:00 - loss: 0.4993 - acc: 0.798 - ETA: 59s - loss: 0.4993 - acc: 0.798 - ETA: 58s - loss: 0.4993 - acc: 0.79 - ETA: 58s - loss: 0.4992 - acc: 0.79 - ETA: 57s - loss: 0.4992 - acc: 0.79 - ETA: 56s - loss: 0.4992 - acc: 0.79 - ETA: 56s - loss: 0.4993 - acc: 0.79 - ETA: 55s - loss: 0.4993 - acc: 0.79 - ETA: 54s - loss: 0.4993 - acc: 0.79 - ETA: 53s - loss: 0.4993 - acc: 0.79 - ETA: 53s - loss: 0.4994 - acc: 0.79 - ETA: 52s - loss: 0.4994 - acc: 0.79 - ETA: 51s - loss: 0.4994 - acc: 0.79 - ETA: 51s - loss: 0.4994 - acc: 0.79 - ETA: 50s - loss: 0.4994 - acc: 0.79 - ETA: 49s - loss: 0.4994 - acc: 0.79 - ETA: 48s - loss: 0.4994 - acc: 0.7988"
     ]
    },
    {
     "name": "stdout",
     "output_type": "stream",
     "text": [
      "135000/135000 [==============================] - ETA: 48s - loss: 0.4994 - acc: 0.79 - ETA: 47s - loss: 0.4994 - acc: 0.79 - ETA: 46s - loss: 0.4993 - acc: 0.79 - ETA: 46s - loss: 0.4993 - acc: 0.79 - ETA: 45s - loss: 0.4994 - acc: 0.79 - ETA: 44s - loss: 0.4993 - acc: 0.79 - ETA: 43s - loss: 0.4992 - acc: 0.79 - ETA: 43s - loss: 0.4993 - acc: 0.79 - ETA: 42s - loss: 0.4993 - acc: 0.79 - ETA: 41s - loss: 0.4993 - acc: 0.79 - ETA: 41s - loss: 0.4993 - acc: 0.79 - ETA: 40s - loss: 0.4993 - acc: 0.79 - ETA: 39s - loss: 0.4992 - acc: 0.79 - ETA: 38s - loss: 0.4992 - acc: 0.79 - ETA: 38s - loss: 0.4991 - acc: 0.79 - ETA: 37s - loss: 0.4991 - acc: 0.79 - ETA: 36s - loss: 0.4991 - acc: 0.79 - ETA: 36s - loss: 0.4991 - acc: 0.79 - ETA: 35s - loss: 0.4991 - acc: 0.79 - ETA: 34s - loss: 0.4991 - acc: 0.79 - ETA: 33s - loss: 0.4991 - acc: 0.79 - ETA: 33s - loss: 0.4990 - acc: 0.79 - ETA: 32s - loss: 0.4990 - acc: 0.79 - ETA: 31s - loss: 0.4990 - acc: 0.79 - ETA: 31s - loss: 0.4990 - acc: 0.79 - ETA: 30s - loss: 0.4990 - acc: 0.79 - ETA: 29s - loss: 0.4990 - acc: 0.79 - ETA: 28s - loss: 0.4990 - acc: 0.79 - ETA: 28s - loss: 0.4990 - acc: 0.79 - ETA: 27s - loss: 0.4989 - acc: 0.79 - ETA: 26s - loss: 0.4990 - acc: 0.79 - ETA: 26s - loss: 0.4990 - acc: 0.79 - ETA: 25s - loss: 0.4991 - acc: 0.79 - ETA: 24s - loss: 0.4991 - acc: 0.79 - ETA: 23s - loss: 0.4991 - acc: 0.79 - ETA: 23s - loss: 0.4991 - acc: 0.79 - ETA: 22s - loss: 0.4992 - acc: 0.79 - ETA: 21s - loss: 0.4992 - acc: 0.79 - ETA: 21s - loss: 0.4992 - acc: 0.79 - ETA: 20s - loss: 0.4992 - acc: 0.79 - ETA: 19s - loss: 0.4991 - acc: 0.79 - ETA: 18s - loss: 0.4991 - acc: 0.79 - ETA: 18s - loss: 0.4991 - acc: 0.79 - ETA: 17s - loss: 0.4991 - acc: 0.79 - ETA: 16s - loss: 0.4992 - acc: 0.79 - ETA: 16s - loss: 0.4992 - acc: 0.79 - ETA: 15s - loss: 0.4992 - acc: 0.79 - ETA: 14s - loss: 0.4991 - acc: 0.79 - ETA: 13s - loss: 0.4992 - acc: 0.79 - ETA: 13s - loss: 0.4991 - acc: 0.79 - ETA: 12s - loss: 0.4991 - acc: 0.79 - ETA: 11s - loss: 0.4991 - acc: 0.79 - ETA: 11s - loss: 0.4990 - acc: 0.79 - ETA: 10s - loss: 0.4990 - acc: 0.79 - ETA: 9s - loss: 0.4990 - acc: 0.7989 - ETA: 8s - loss: 0.4989 - acc: 0.798 - ETA: 8s - loss: 0.4989 - acc: 0.799 - ETA: 7s - loss: 0.4989 - acc: 0.798 - ETA: 6s - loss: 0.4989 - acc: 0.798 - ETA: 6s - loss: 0.4989 - acc: 0.798 - ETA: 5s - loss: 0.4990 - acc: 0.798 - ETA: 4s - loss: 0.4989 - acc: 0.799 - ETA: 3s - loss: 0.4989 - acc: 0.799 - ETA: 3s - loss: 0.4989 - acc: 0.799 - ETA: 2s - loss: 0.4988 - acc: 0.799 - ETA: 1s - loss: 0.4988 - acc: 0.799 - ETA: 0s - loss: 0.4987 - acc: 0.799 - ETA: 0s - loss: 0.4987 - acc: 0.799 - 1567s 12ms/step - loss: 0.4987 - acc: 0.7990 - val_loss: 0.4767 - val_acc: 0.8101\n"
     ]
    }
   ],
   "source": [
    "history = model.fit(padded_training_set, categorical_labels, batch_size=64, epochs=3, validation_split=0.1)"
   ]
  },
  {
   "cell_type": "code",
   "execution_count": 59,
   "metadata": {},
   "outputs": [],
   "source": [
    "results = model.predict(padded_testing_set)"
   ]
  },
  {
   "cell_type": "code",
   "execution_count": 69,
   "metadata": {},
   "outputs": [],
   "source": [
    "# Save the weights\n",
    "model.save_weights('model_weights.h5')\n",
    "\n",
    "# Save the model architecture\n",
    "with open('model_architecture.json', 'w') as f:\n",
    "    f.write(model.to_json())"
   ]
  },
  {
   "cell_type": "code",
   "execution_count": 67,
   "metadata": {},
   "outputs": [
    {
     "name": "stdout",
     "output_type": "stream",
     "text": [
      "I'm 95.0% sure about my prediction!\n",
      "____________________________________________________________________________________________________\n",
      "predicted: Health\n",
      "____________________________________________________________________________________________________\n",
      "True Category: Health\n",
      "____________________________________________________________________________________________________\n",
      "['aspirin', 'blood', 'thinner', 'gastro', 'intestinal', 'problems', 'hemmorhoids', 'could']\n",
      "____________________________________________________________________________________________________\n",
      "Not by itself.  Aspirin is a blood thinner, so if you have other gastro-intestinal problems or hemmorhoids, it could.\n"
     ]
    }
   ],
   "source": [
    "number = 501\n",
    "\n",
    "probability = max(results[number])\n",
    "predicted_category = np.argmax(results[number])\n",
    "true_category = y_test[number]\n",
    "text_sequence = split_testing_sentences[number]\n",
    "\n",
    "print('I\\'m ' + str(round(probability * 100)) + '% sure about my prediction!')\n",
    "print(100*'_')\n",
    "if predicted_category == 1:\n",
    "    print('predicted: Society & Culture')\n",
    "elif predicted_category == 2:\n",
    "    print('predicted: Science & Math')\n",
    "elif predicted_category == 3:\n",
    "    print('predicted: Health')\n",
    "print(100*'_')\n",
    "if true_category == 1:\n",
    "    print('True Category: Society & Culture')\n",
    "elif true_category == 2:\n",
    "    print('True Category: Science & Math')\n",
    "elif true_category == 3:\n",
    "    print('True Category: Health')\n",
    "print(100*'_')\n",
    "print(text_sequence)\n",
    "print(100*'_')\n",
    "print(x_test[number])"
   ]
  },
  {
   "cell_type": "code",
   "execution_count": 57,
   "metadata": {},
   "outputs": [],
   "source": [
    "#gets all maximum numbers of 3 predictions per array\n",
    "new_list = []\n",
    "for i in results:\n",
    "    new_list.append(max(i))"
   ]
  },
  {
   "cell_type": "code",
   "execution_count": 58,
   "metadata": {},
   "outputs": [],
   "source": [
    "#gets all categories corresponding to each array\n",
    "categories_list = []\n",
    "for i in results:\n",
    "    categories_list.append(np.argmax(i))"
   ]
  },
  {
   "cell_type": "code",
   "execution_count": 115,
   "metadata": {},
   "outputs": [],
   "source": [
    "#amount of overconfident predictions\n",
    "overconfident_amount = 0\n",
    "for i, j, k in zip(new_list, y_test, categories_list):\n",
    "    if i >= 0.9 and j != k:\n",
    "        overconfident_amount = overconfident_amount + 1\n",
    "    else:\n",
    "        pass"
   ]
  },
  {
   "cell_type": "code",
   "execution_count": 116,
   "metadata": {},
   "outputs": [],
   "source": [
    "#go through all overconfident predicted ones and give back index in list\n",
    "lookagain = []\n",
    "for i, j, k in zip(new_list, y_test, categories_list):\n",
    "    if i >= 0.9 and j != k:\n",
    "        lookagain.append(new_list.index(i))\n",
    "    else:\n",
    "        pass"
   ]
  },
  {
   "cell_type": "code",
   "execution_count": 117,
   "metadata": {},
   "outputs": [
    {
     "name": "stdout",
     "output_type": "stream",
     "text": [
      "17791\n"
     ]
    }
   ],
   "source": [
    "print(lookagain[449])"
   ]
  },
  {
   "cell_type": "code",
   "execution_count": 109,
   "metadata": {},
   "outputs": [],
   "source": [
    "##NOTWORKING FOR NOW!!!!\n",
    "listofallwrong = []\n",
    "number = 0\n",
    "for i in split_testing_sentences:\n",
    "    if split_testing_sentences.index(i) == lookagain[number]:\n",
    "        listofallwrong.append(i)\n",
    "        number = number + 1\n",
    "    else:\n",
    "        pass"
   ]
  },
  {
   "cell_type": "code",
   "execution_count": 118,
   "metadata": {},
   "outputs": [
    {
     "name": "stdout",
     "output_type": "stream",
     "text": [
      "2.53%\n",
      "450\n",
      "17809\n"
     ]
    }
   ],
   "source": [
    "percent = round(overconfident_amount/len(results) * 100,2)\n",
    "print(str(percent)+'%')\n",
    "print(overconfident_amount)\n",
    "print(len(results))\n",
    "\n",
    "#vorher 3% jetzt 1.56% mit glove trainable = false"
   ]
  },
  {
   "cell_type": "code",
   "execution_count": 375,
   "metadata": {},
   "outputs": [],
   "source": [
    "good = 0\n",
    "bad = 0\n",
    "for x, y in zip(results, y_test):\n",
    "    true_category = y\n",
    "    probability = max(x)\n",
    "    predicted_category = np.argmax(x)\n",
    "\n",
    "    if predicted_category == true_category:\n",
    "        good = good + 1\n",
    "    else:\n",
    "        bad = bad + 1"
   ]
  },
  {
   "cell_type": "code",
   "execution_count": 376,
   "metadata": {},
   "outputs": [
    {
     "name": "stdout",
     "output_type": "stream",
     "text": [
      "14199\n",
      "3610\n",
      "80%\n"
     ]
    }
   ],
   "source": [
    "print(good)\n",
    "print(bad)\n",
    "ow = bad + good\n",
    "print(str(round(good/ow*100))+'%')"
   ]
  },
  {
   "cell_type": "code",
   "execution_count": 61,
   "metadata": {},
   "outputs": [
    {
     "name": "stdout",
     "output_type": "stream",
     "text": [
      "Test: Ongoing climate change is thought to disrupt trophic relationships, with consequences for complex interspecific interactions, yet the effects of climate change on species interactions are poorly understood, and such effects have not been documented at a global scale. Using a single database of 38,191 nests from 237 populations, we found that shorebirds have experienced a worldwide increase in nest predation over the past 70 years. Historically, there existed a latitudinal gradient in nest predation, with the highest rates in the tropics; however, this pattern has been recently reversed in the Northern Hemisphere, most notably in the Arctic. This increased nest predation is consistent with climate-induced shifts in predator-prey relationships.\n",
      "0.98292774\n",
      "Science & Math\n"
     ]
    }
   ],
   "source": [
    "example = input('Test: ')\n",
    "example = sentence_to_wordlist(example)\n",
    "example = tokenizer.texts_to_sequences([example])\n",
    "example = pad_sequences(example, maxlen=maxlen)\n",
    "\n",
    "category_probability = model.predict(example)\n",
    "\n",
    "print(max(category_probability[0]))\n",
    "\n",
    "number = np.argmax(category_probability)\n",
    "if number == 1:\n",
    "    print('Society & Culture')\n",
    "elif number == 2:\n",
    "    print('Science & Math')\n",
    "elif number == 3:\n",
    "    print('Health')"
   ]
  }
 ],
 "metadata": {
  "kernelspec": {
   "display_name": "Python 3",
   "language": "python",
   "name": "python3"
  },
  "language_info": {
   "codemirror_mode": {
    "name": "ipython",
    "version": 3
   },
   "file_extension": ".py",
   "mimetype": "text/x-python",
   "name": "python",
   "nbconvert_exporter": "python",
   "pygments_lexer": "ipython3",
   "version": "3.6.6"
  }
 },
 "nbformat": 4,
 "nbformat_minor": 2
}
