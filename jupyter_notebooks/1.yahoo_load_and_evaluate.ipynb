{
 "cells": [
  {
   "cell_type": "code",
   "execution_count": 1,
   "metadata": {},
   "outputs": [],
   "source": [
    "#regular expression\n",
    "import re\n",
    "import nltk\n",
    "\n",
    "MAX_NB_WORDS = 200000\n",
    "MAX_SEQUENCE_LENGTH = 150"
   ]
  },
  {
   "cell_type": "code",
   "execution_count": 2,
   "metadata": {},
   "outputs": [
    {
     "name": "stdout",
     "output_type": "stream",
     "text": [
      "[nltk_data] Downloading package wordnet to\n",
      "[nltk_data]     C:\\Users\\maximilian.weber\\AppData\\Roaming\\nltk_data...\n",
      "[nltk_data]   Package wordnet is already up-to-date!\n"
     ]
    }
   ],
   "source": [
    "from nltk.stem import WordNetLemmatizer\n",
    "nltk.download('wordnet')\n",
    "from nltk.corpus import stopwords\n",
    "\n",
    "#convert into a list of words\n",
    "#remove unnecessary split into words, no hyphens\n",
    "def sentence_to_wordlist(raw):\n",
    "    \"\"\"\n",
    "    Receives a raw review and clean it using the following steps:\n",
    "    1. Remove all non-words\n",
    "    2. Transform the review in lower case\n",
    "    3. Remove all stop words\n",
    "    4. Perform stemming\n",
    "\n",
    "    Args:\n",
    "        review: the review that iwill be cleaned\n",
    "    Returns:\n",
    "        a clean review using the mentioned steps above.\n",
    "    \"\"\"\n",
    "    \n",
    "    clean = re.sub(\"[^A-Za-z0-9]\", \" \", str(raw))\n",
    "    clean = clean.lower()\n",
    "    review = re.compile(r'\\b(' + r'|'.join(stopwords.words('english')) + r')\\b\\s*')\n",
    "    clean = review.sub('', str(clean))\n",
    "    clean = clean.split()\n",
    "    \n",
    "    lemmatizer = WordNetLemmatizer()\n",
    "    clean = [lemmatizer.lemmatize(i, pos='v') for i in clean]\n",
    "    return clean"
   ]
  },
  {
   "cell_type": "code",
   "execution_count": 3,
   "metadata": {},
   "outputs": [
    {
     "name": "stderr",
     "output_type": "stream",
     "text": [
      "Using TensorFlow backend.\n"
     ]
    }
   ],
   "source": [
    "#pad every sentence to the same sentence length\n",
    "from keras.preprocessing.sequence import pad_sequences \n",
    "maxlen = MAX_SEQUENCE_LENGTH"
   ]
  },
  {
   "cell_type": "code",
   "execution_count": 4,
   "metadata": {},
   "outputs": [],
   "source": [
    "from keras.models import model_from_json\n",
    "\n",
    "# Model reconstruction from JSON file\n",
    "with open('model_architecture.json', 'r') as f:\n",
    "    model = model_from_json(f.read())\n",
    "\n",
    "# Load weights into the new model\n",
    "model.load_weights('model_weights.h5')"
   ]
  },
  {
   "cell_type": "code",
   "execution_count": 5,
   "metadata": {},
   "outputs": [],
   "source": [
    "import pickle\n",
    "\n",
    "# loading tokenizer\n",
    "with open('tokenizer.pickle', 'rb') as handle:\n",
    "    tokenizer = pickle.load(handle)"
   ]
  },
  {
   "cell_type": "code",
   "execution_count": 7,
   "metadata": {},
   "outputs": [
    {
     "name": "stdout",
     "output_type": "stream",
     "text": [
      "____________________________________________________________________________________________________\n",
      "Start categorizing or type \"quit\" to close the program!\n",
      "Text can be categorized into 3 categories!\n",
      "- Society & Culture\n",
      "- Science & Math\n",
      "- Health\n",
      "____________________________________________________________________________________________________\n",
      "Text: hey\n",
      "Probability: 0.52506393\n",
      "Predicted category: Society & Culture\n",
      "____________________________________________________________________________________________________\n",
      "Text: quit\n",
      "Program successfully closed!\n"
     ]
    }
   ],
   "source": [
    "import numpy as np\n",
    "\n",
    "example = 'dont_stop'\n",
    "\n",
    "print(100*'_')\n",
    "print('Start categorizing or type \"quit\" to close the program!')\n",
    "print('Text can be categorized into 3 categories!')\n",
    "print('- Society & Culture')\n",
    "print('- Science & Math')\n",
    "print('- Health')\n",
    "print(100*'_')\n",
    "\n",
    "while example != 'quit':\n",
    "    example = input('Text: ')\n",
    "    \n",
    "    if example == 'quit':\n",
    "        print('Program successfully closed!')\n",
    "        break\n",
    "\n",
    "    processed_example = sentence_to_wordlist(example)\n",
    "    processed_example = tokenizer.texts_to_sequences([processed_example])\n",
    "    processed_example = pad_sequences(processed_example, maxlen=maxlen)\n",
    "\n",
    "    category_probability = model.predict(processed_example)\n",
    "    \n",
    "    probability = max(category_probability[0])\n",
    "    print('Probability: ' + str(probability))\n",
    "\n",
    "    number = np.argmax(category_probability[0])\n",
    "    if number == 1:\n",
    "        print('Predicted category: Society & Culture')\n",
    "    elif number == 2:\n",
    "        print('Predicted category: Science & Math')\n",
    "    elif number == 3:\n",
    "        print('Predicted category: Health')\n",
    "    print(100*'_')"
   ]
  },
  {
   "cell_type": "code",
   "execution_count": null,
   "metadata": {},
   "outputs": [],
   "source": []
  }
 ],
 "metadata": {
  "kernelspec": {
   "display_name": "Python 3",
   "language": "python",
   "name": "python3"
  },
  "language_info": {
   "codemirror_mode": {
    "name": "ipython",
    "version": 3
   },
   "file_extension": ".py",
   "mimetype": "text/x-python",
   "name": "python",
   "nbconvert_exporter": "python",
   "pygments_lexer": "ipython3",
   "version": "3.6.6"
  }
 },
 "nbformat": 4,
 "nbformat_minor": 2
}
